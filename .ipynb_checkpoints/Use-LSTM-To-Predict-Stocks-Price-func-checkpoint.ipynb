{
 "cells": [
  {
   "cell_type": "code",
   "execution_count": 1,
   "id": "295bae7f",
   "metadata": {},
   "outputs": [],
   "source": [
    "import pandas_datareader.data as web\n",
    "import datetime\n",
    "from tqdm import *\n",
    "\n",
    "start =datetime.datetime(2000,1,1)\n",
    "end = datetime.datetime(2023,9,30)\n",
    "\n",
    "# Get data\n",
    "df = web.DataReader('GOOGL','stooq',start,end)"
   ]
  },
  {
   "cell_type": "code",
   "execution_count": 2,
   "id": "944a314e",
   "metadata": {},
   "outputs": [],
   "source": [
    "# predict in 10 days\n",
    "pre_days =10\n",
    "# memory days\n",
    "mem_his_days = 15"
   ]
  },
  {
   "cell_type": "code",
   "execution_count": 3,
   "id": "2bf58db6",
   "metadata": {},
   "outputs": [],
   "source": [
    "def Stock_Price_LSTM_Data_Precessing(df,pre_days,mem_his_days):\n",
    "    \n",
    "    from sklearn.preprocessing import StandardScaler\n",
    "    from collections import deque\n",
    "    import numpy as np\n",
    "    \n",
    "    df.dropna(inplace=True)\n",
    "    df.sort_index(inplace=True)\n",
    "\n",
    "    df['label'] = df['Close'].shift(-pre_days)\n",
    "\n",
    "    # data standardization\n",
    "    scaler = StandardScaler()\n",
    "    sca_X = scaler.fit_transform(df.iloc[:,:-1])\n",
    "\n",
    "    # building featutres\n",
    "    deq = deque(maxlen=mem_his_days)\n",
    "\n",
    "    X = []\n",
    "    for i in sca_X:\n",
    "        deq.append(list(i))\n",
    "        if len(deq)==mem_his_days:\n",
    "            X.append(list(deq))\n",
    "        \n",
    "    X_lately = X[-pre_days:]\n",
    "    X=X[:-pre_days]\n",
    "    y = df['label'].values[mem_his_days-1:-pre_days]\n",
    "    X = np.array(X)\n",
    "    y = np.array(y)\n",
    "    return X,y,X_lately"
   ]
  },
  {
   "cell_type": "code",
   "execution_count": 4,
   "id": "fb6232bd",
   "metadata": {
    "scrolled": true
   },
   "outputs": [
    {
     "name": "stderr",
     "output_type": "stream",
     "text": [
      "D:\\anaconda3\\lib\\site-packages\\scipy\\__init__.py:146: UserWarning: A NumPy version >=1.16.5 and <1.23.0 is required for this version of SciPy (detected version 1.26.1\n",
      "  warnings.warn(f\"A NumPy version >={np_minversion} and <{np_maxversion}\"\n"
     ]
    },
    {
     "name": "stdout",
     "output_type": "stream",
     "text": [
      "Epoch 1/50\n",
      "128/135 [===========================>..] - ETA: 0s - loss: 1356.0938 - mape: 76.5176INFO:tensorflow:Assets written to: ./models\\6.59_01men_5_lstm_1_dense_1_unit_8\\assets\n"
     ]
    },
    {
     "name": "stderr",
     "output_type": "stream",
     "text": [
      "INFO:tensorflow:Assets written to: ./models\\6.59_01men_5_lstm_1_dense_1_unit_8\\assets\n"
     ]
    },
    {
     "name": "stdout",
     "output_type": "stream",
     "text": [
      "135/135 [==============================] - 7s 29ms/step - loss: 1295.8136 - mape: 74.0515 - val_loss: 85.5681 - val_mape: 6.5941\n",
      "Epoch 2/50\n",
      "135/135 [==============================] - 1s 6ms/step - loss: 144.1994 - mape: 26.2252 - val_loss: 75.1709 - val_mape: 6.1697\n",
      "Epoch 3/50\n",
      "135/135 [==============================] - 1s 6ms/step - loss: 121.8839 - mape: 23.6762 - val_loss: 85.3253 - val_mape: 6.4642\n",
      "Epoch 4/50\n",
      "129/135 [===========================>..] - ETA: 0s - loss: 93.2537 - mape: 21.8792INFO:tensorflow:Assets written to: ./models\\10.34_04men_5_lstm_1_dense_1_unit_8\\assets\n"
     ]
    },
    {
     "name": "stderr",
     "output_type": "stream",
     "text": [
      "INFO:tensorflow:Assets written to: ./models\\10.34_04men_5_lstm_1_dense_1_unit_8\\assets\n"
     ]
    },
    {
     "name": "stdout",
     "output_type": "stream",
     "text": [
      "135/135 [==============================] - 4s 28ms/step - loss: 94.0332 - mape: 21.9553 - val_loss: 200.9509 - val_mape: 10.3392\n",
      "Epoch 5/50\n",
      "135/135 [==============================] - 1s 6ms/step - loss: 80.0034 - mape: 20.7513 - val_loss: 151.5679 - val_mape: 8.8034\n",
      "Epoch 6/50\n",
      "133/135 [============================>.] - ETA: 0s - loss: 72.9644 - mape: 20.0652INFO:tensorflow:Assets written to: ./models\\12.41_06men_5_lstm_1_dense_1_unit_8\\assets\n"
     ]
    },
    {
     "name": "stderr",
     "output_type": "stream",
     "text": [
      "INFO:tensorflow:Assets written to: ./models\\12.41_06men_5_lstm_1_dense_1_unit_8\\assets\n"
     ]
    },
    {
     "name": "stdout",
     "output_type": "stream",
     "text": [
      "135/135 [==============================] - 4s 27ms/step - loss: 72.9761 - mape: 20.0587 - val_loss: 276.9352 - val_mape: 12.4130\n",
      "Epoch 7/50\n",
      "135/135 [==============================] - 1s 6ms/step - loss: 72.1161 - mape: 18.8164 - val_loss: 262.8552 - val_mape: 12.2064\n",
      "Epoch 8/50\n",
      "135/135 [==============================] - 1s 6ms/step - loss: 66.4961 - mape: 18.3062 - val_loss: 82.5922 - val_mape: 6.3802\n",
      "Epoch 9/50\n",
      "135/135 [==============================] - 1s 6ms/step - loss: 59.8438 - mape: 17.8547 - val_loss: 244.4912 - val_mape: 11.5964\n",
      "Epoch 10/50\n",
      "135/135 [==============================] - 1s 6ms/step - loss: 69.9625 - mape: 17.4250 - val_loss: 81.3934 - val_mape: 6.2991\n",
      "Epoch 11/50\n",
      "135/135 [==============================] - 1s 6ms/step - loss: 54.1196 - mape: 17.2359 - val_loss: 105.9540 - val_mape: 7.1695\n",
      "Epoch 12/50\n",
      "135/135 [==============================] - 1s 6ms/step - loss: 64.6773 - mape: 17.1784 - val_loss: 84.1598 - val_mape: 6.3887\n",
      "Epoch 13/50\n",
      "135/135 [==============================] - 1s 6ms/step - loss: 58.7597 - mape: 16.3616 - val_loss: 92.2567 - val_mape: 6.8002\n",
      "Epoch 14/50\n",
      "135/135 [==============================] - 1s 6ms/step - loss: 60.0429 - mape: 15.9796 - val_loss: 132.0308 - val_mape: 8.1996\n",
      "Epoch 15/50\n",
      "135/135 [==============================] - 1s 6ms/step - loss: 60.3702 - mape: 15.7654 - val_loss: 130.9799 - val_mape: 8.0636\n",
      "Epoch 16/50\n",
      "135/135 [==============================] - 1s 6ms/step - loss: 57.7791 - mape: 15.6508 - val_loss: 149.7788 - val_mape: 8.8160\n",
      "Epoch 17/50\n",
      "135/135 [==============================] - 1s 6ms/step - loss: 62.5914 - mape: 15.5174 - val_loss: 104.1431 - val_mape: 7.2481\n",
      "Epoch 18/50\n",
      "135/135 [==============================] - 1s 6ms/step - loss: 61.8173 - mape: 15.6476 - val_loss: 128.8990 - val_mape: 8.1374\n",
      "Epoch 19/50\n",
      "135/135 [==============================] - 1s 6ms/step - loss: 56.3330 - mape: 14.8411 - val_loss: 121.3649 - val_mape: 7.8773\n",
      "Epoch 20/50\n",
      "135/135 [==============================] - 1s 6ms/step - loss: 50.4599 - mape: 14.7530 - val_loss: 51.7026 - val_mape: 5.0957\n",
      "Epoch 21/50\n",
      "135/135 [==============================] - 1s 6ms/step - loss: 56.5207 - mape: 15.1871 - val_loss: 59.5302 - val_mape: 5.4525\n",
      "Epoch 22/50\n",
      "135/135 [==============================] - 1s 6ms/step - loss: 60.4296 - mape: 14.7234 - val_loss: 71.0065 - val_mape: 5.9681\n",
      "Epoch 23/50\n",
      "135/135 [==============================] - 1s 6ms/step - loss: 58.1354 - mape: 15.3686 - val_loss: 124.6922 - val_mape: 8.0196\n",
      "Epoch 24/50\n",
      "135/135 [==============================] - 1s 6ms/step - loss: 57.2681 - mape: 15.2920 - val_loss: 60.4678 - val_mape: 5.4674\n",
      "Epoch 25/50\n",
      "135/135 [==============================] - 1s 6ms/step - loss: 45.9732 - mape: 14.2360 - val_loss: 109.5061 - val_mape: 7.3637\n",
      "Epoch 26/50\n",
      "135/135 [==============================] - 1s 6ms/step - loss: 54.8715 - mape: 14.6769 - val_loss: 97.2808 - val_mape: 6.9812\n",
      "Epoch 27/50\n",
      "135/135 [==============================] - 1s 6ms/step - loss: 53.2966 - mape: 14.2189 - val_loss: 173.7348 - val_mape: 9.5575\n",
      "Epoch 28/50\n",
      "135/135 [==============================] - 1s 6ms/step - loss: 48.7415 - mape: 13.9327 - val_loss: 195.5031 - val_mape: 10.1990\n",
      "Epoch 29/50\n",
      "135/135 [==============================] - 1s 6ms/step - loss: 58.5700 - mape: 14.4804 - val_loss: 105.9045 - val_mape: 7.3259\n",
      "Epoch 30/50\n",
      "135/135 [==============================] - 1s 6ms/step - loss: 56.4814 - mape: 14.7824 - val_loss: 58.8506 - val_mape: 5.4072\n",
      "Epoch 31/50\n",
      "135/135 [==============================] - 1s 6ms/step - loss: 57.7658 - mape: 14.6828 - val_loss: 64.1056 - val_mape: 5.6485\n",
      "Epoch 32/50\n",
      "135/135 [==============================] - 1s 6ms/step - loss: 52.8440 - mape: 14.2526 - val_loss: 67.9060 - val_mape: 5.8222\n",
      "Epoch 33/50\n",
      "132/135 [============================>.] - ETA: 0s - loss: 55.1205 - mape: 14.1148INFO:tensorflow:Assets written to: ./models\\13.05_33men_5_lstm_1_dense_1_unit_8\\assets\n"
     ]
    },
    {
     "name": "stderr",
     "output_type": "stream",
     "text": [
      "INFO:tensorflow:Assets written to: ./models\\13.05_33men_5_lstm_1_dense_1_unit_8\\assets\n"
     ]
    },
    {
     "name": "stdout",
     "output_type": "stream",
     "text": [
      "135/135 [==============================] - 4s 26ms/step - loss: 56.1788 - mape: 14.1218 - val_loss: 293.1673 - val_mape: 13.0550\n",
      "Epoch 34/50\n",
      "135/135 [==============================] - 1s 6ms/step - loss: 50.3596 - mape: 14.4342 - val_loss: 87.0905 - val_mape: 6.6402\n",
      "Epoch 35/50\n",
      "135/135 [==============================] - 1s 6ms/step - loss: 51.6418 - mape: 14.1067 - val_loss: 138.8969 - val_mape: 8.4401\n",
      "Epoch 36/50\n",
      "135/135 [==============================] - 1s 6ms/step - loss: 55.0340 - mape: 14.2954 - val_loss: 74.9630 - val_mape: 6.1491\n",
      "Epoch 37/50\n",
      "135/135 [==============================] - 1s 6ms/step - loss: 49.7168 - mape: 13.8444 - val_loss: 53.6039 - val_mape: 5.1878\n",
      "Epoch 38/50\n",
      "135/135 [==============================] - 1s 6ms/step - loss: 55.6531 - mape: 13.7962 - val_loss: 79.3618 - val_mape: 6.2536\n",
      "Epoch 39/50\n",
      "135/135 [==============================] - 1s 6ms/step - loss: 48.1687 - mape: 13.8567 - val_loss: 82.0493 - val_mape: 6.4346\n",
      "Epoch 40/50\n",
      "135/135 [==============================] - 1s 6ms/step - loss: 47.3353 - mape: 13.8528 - val_loss: 78.8662 - val_mape: 6.3017\n",
      "Epoch 41/50\n",
      "129/135 [===========================>..] - ETA: 0s - loss: 51.3363 - mape: 13.7748INFO:tensorflow:Assets written to: ./models\\18.36_41men_5_lstm_1_dense_1_unit_8\\assets\n"
     ]
    },
    {
     "name": "stderr",
     "output_type": "stream",
     "text": [
      "INFO:tensorflow:Assets written to: ./models\\18.36_41men_5_lstm_1_dense_1_unit_8\\assets\n"
     ]
    },
    {
     "name": "stdout",
     "output_type": "stream",
     "text": [
      "135/135 [==============================] - 3s 25ms/step - loss: 51.0105 - mape: 13.7346 - val_loss: 533.4969 - val_mape: 18.3633\n",
      "Epoch 42/50\n",
      "135/135 [==============================] - 1s 6ms/step - loss: 56.6001 - mape: 14.0009 - val_loss: 92.7603 - val_mape: 6.8374\n",
      "Epoch 43/50\n",
      "135/135 [==============================] - 1s 6ms/step - loss: 43.9599 - mape: 13.0503 - val_loss: 137.1848 - val_mape: 8.4439\n",
      "Epoch 44/50\n",
      "135/135 [==============================] - 1s 6ms/step - loss: 48.5321 - mape: 13.4640 - val_loss: 304.5680 - val_mape: 13.2503\n",
      "Epoch 45/50\n",
      "135/135 [==============================] - 1s 6ms/step - loss: 47.5208 - mape: 13.9263 - val_loss: 78.8619 - val_mape: 6.2807\n",
      "Epoch 46/50\n",
      "135/135 [==============================] - 1s 6ms/step - loss: 46.9155 - mape: 13.3723 - val_loss: 235.5560 - val_mape: 11.4779\n",
      "Epoch 47/50\n",
      "135/135 [==============================] - 1s 6ms/step - loss: 49.3309 - mape: 13.0400 - val_loss: 204.2300 - val_mape: 10.5670\n",
      "Epoch 48/50\n",
      "135/135 [==============================] - 1s 6ms/step - loss: 46.3732 - mape: 13.4282 - val_loss: 67.1493 - val_mape: 5.7738\n",
      "Epoch 49/50\n",
      "135/135 [==============================] - 1s 6ms/step - loss: 47.5475 - mape: 13.2141 - val_loss: 57.8479 - val_mape: 5.3496\n",
      "Epoch 50/50\n",
      "135/135 [==============================] - 1s 6ms/step - loss: 48.9776 - mape: 13.6255 - val_loss: 51.9122 - val_mape: 5.1142\n",
      "Epoch 1/50\n",
      "127/135 [===========================>..] - ETA: 0s - loss: 1145.4745 - mape: 77.4964INFO:tensorflow:Assets written to: ./models\\6.96_01men_5_lstm_1_dense_1_unit_16\\assets\n"
     ]
    },
    {
     "name": "stderr",
     "output_type": "stream",
     "text": [
      "INFO:tensorflow:Assets written to: ./models\\6.96_01men_5_lstm_1_dense_1_unit_16\\assets\n"
     ]
    },
    {
     "name": "stdout",
     "output_type": "stream",
     "text": [
      "135/135 [==============================] - 6s 29ms/step - loss: 1087.5768 - mape: 74.6238 - val_loss: 97.5480 - val_mape: 6.9572\n",
      "Epoch 2/50\n",
      "127/135 [===========================>..] - ETA: 0s - loss: 122.8399 - mape: 26.6408INFO:tensorflow:Assets written to: ./models\\10.47_02men_5_lstm_1_dense_1_unit_16\\assets\n"
     ]
    },
    {
     "name": "stderr",
     "output_type": "stream",
     "text": [
      "INFO:tensorflow:Assets written to: ./models\\10.47_02men_5_lstm_1_dense_1_unit_16\\assets\n"
     ]
    },
    {
     "name": "stdout",
     "output_type": "stream",
     "text": [
      "135/135 [==============================] - 3s 24ms/step - loss: 121.9460 - mape: 26.4589 - val_loss: 203.2811 - val_mape: 10.4732\n",
      "Epoch 3/50\n",
      "135/135 [==============================] - 1s 6ms/step - loss: 101.3263 - mape: 24.1862 - val_loss: 180.0617 - val_mape: 10.2116\n",
      "Epoch 4/50\n",
      "135/135 [==============================] - 1s 6ms/step - loss: 93.6950 - mape: 23.0045 - val_loss: 199.3938 - val_mape: 10.1243\n",
      "Epoch 5/50\n",
      "135/135 [==============================] - 1s 6ms/step - loss: 88.2782 - mape: 21.6744 - val_loss: 84.0656 - val_mape: 6.4294\n",
      "Epoch 6/50\n",
      "135/135 [==============================] - 1s 6ms/step - loss: 82.9341 - mape: 20.4018 - val_loss: 98.9537 - val_mape: 6.9179\n",
      "Epoch 7/50\n",
      "135/135 [==============================] - 1s 6ms/step - loss: 79.1792 - mape: 19.6392 - val_loss: 135.5855 - val_mape: 8.3194\n",
      "Epoch 8/50\n",
      "135/135 [==============================] - 1s 6ms/step - loss: 73.2831 - mape: 19.1016 - val_loss: 98.6624 - val_mape: 6.9709\n",
      "Epoch 9/50\n",
      "135/135 [==============================] - 1s 6ms/step - loss: 68.5455 - mape: 18.0667 - val_loss: 127.3646 - val_mape: 7.9032\n",
      "Epoch 10/50\n",
      "135/135 [==============================] - 1s 6ms/step - loss: 69.2461 - mape: 18.1397 - val_loss: 115.4545 - val_mape: 7.6578\n",
      "Epoch 11/50\n",
      "135/135 [==============================] - 1s 6ms/step - loss: 61.3596 - mape: 17.4210 - val_loss: 81.7167 - val_mape: 6.3519\n",
      "Epoch 12/50\n",
      "135/135 [==============================] - 1s 6ms/step - loss: 60.3285 - mape: 16.7811 - val_loss: 113.1166 - val_mape: 7.4860\n",
      "Epoch 13/50\n",
      "135/135 [==============================] - 1s 6ms/step - loss: 58.4850 - mape: 16.2514 - val_loss: 54.7523 - val_mape: 5.2153\n",
      "Epoch 14/50\n",
      "135/135 [==============================] - 1s 7ms/step - loss: 64.6717 - mape: 16.6992 - val_loss: 129.9441 - val_mape: 8.1128\n",
      "Epoch 15/50\n",
      "135/135 [==============================] - 1s 6ms/step - loss: 66.8088 - mape: 16.4021 - val_loss: 112.8776 - val_mape: 7.4392\n",
      "Epoch 16/50\n",
      "135/135 [==============================] - 1s 6ms/step - loss: 55.8270 - mape: 16.3925 - val_loss: 140.7369 - val_mape: 8.2627\n",
      "Epoch 17/50\n",
      "135/135 [==============================] - 1s 6ms/step - loss: 56.8565 - mape: 15.7092 - val_loss: 52.8382 - val_mape: 5.1595\n",
      "Epoch 18/50\n",
      "135/135 [==============================] - 1s 6ms/step - loss: 55.7758 - mape: 15.6135 - val_loss: 85.5123 - val_mape: 6.4712\n",
      "Epoch 19/50\n",
      "135/135 [==============================] - 1s 6ms/step - loss: 55.8402 - mape: 15.4705 - val_loss: 201.4193 - val_mape: 10.0649\n",
      "Epoch 20/50\n",
      "135/135 [==============================] - 1s 6ms/step - loss: 59.2107 - mape: 14.9980 - val_loss: 51.6010 - val_mape: 5.2678\n",
      "Epoch 21/50\n",
      "135/135 [==============================] - 1s 6ms/step - loss: 52.6657 - mape: 15.1486 - val_loss: 154.2670 - val_mape: 8.4431\n",
      "Epoch 22/50\n",
      "135/135 [==============================] - 1s 6ms/step - loss: 53.2511 - mape: 15.1213 - val_loss: 205.3130 - val_mape: 10.4400\n",
      "Epoch 23/50\n",
      "135/135 [==============================] - 1s 6ms/step - loss: 49.6773 - mape: 14.6864 - val_loss: 70.3934 - val_mape: 5.9394\n",
      "Epoch 24/50\n",
      "135/135 [==============================] - 1s 6ms/step - loss: 48.2565 - mape: 14.4818 - val_loss: 164.6504 - val_mape: 9.0550\n",
      "Epoch 25/50\n",
      "135/135 [==============================] - 1s 6ms/step - loss: 45.8065 - mape: 14.0953 - val_loss: 125.2924 - val_mape: 7.9300\n",
      "Epoch 26/50\n",
      "135/135 [==============================] - 1s 6ms/step - loss: 47.3388 - mape: 14.3538 - val_loss: 85.9863 - val_mape: 6.5046\n",
      "Epoch 27/50\n",
      "135/135 [==============================] - ETA: 0s - loss: 44.1055 - mape: 13.7564INFO:tensorflow:Assets written to: ./models\\16.72_27men_5_lstm_1_dense_1_unit_16\\assets\n"
     ]
    },
    {
     "name": "stderr",
     "output_type": "stream",
     "text": [
      "INFO:tensorflow:Assets written to: ./models\\16.72_27men_5_lstm_1_dense_1_unit_16\\assets\n"
     ]
    },
    {
     "name": "stdout",
     "output_type": "stream",
     "text": [
      "135/135 [==============================] - 4s 27ms/step - loss: 44.1055 - mape: 13.7564 - val_loss: 460.1885 - val_mape: 16.7182\n",
      "Epoch 28/50\n",
      "135/135 [==============================] - ETA: 0s - loss: 45.2049 - mape: 14.0355INFO:tensorflow:Assets written to: ./models\\16.91_28men_5_lstm_1_dense_1_unit_16\\assets\n"
     ]
    },
    {
     "name": "stderr",
     "output_type": "stream",
     "text": [
      "INFO:tensorflow:Assets written to: ./models\\16.91_28men_5_lstm_1_dense_1_unit_16\\assets\n"
     ]
    },
    {
     "name": "stdout",
     "output_type": "stream",
     "text": [
      "135/135 [==============================] - 3s 24ms/step - loss: 45.2049 - mape: 14.0355 - val_loss: 470.8285 - val_mape: 16.9073\n",
      "Epoch 29/50\n",
      "135/135 [==============================] - 1s 6ms/step - loss: 46.6520 - mape: 13.7959 - val_loss: 116.4977 - val_mape: 7.5688\n",
      "Epoch 30/50\n",
      "135/135 [==============================] - 1s 6ms/step - loss: 49.3540 - mape: 13.8997 - val_loss: 169.4636 - val_mape: 9.4299\n",
      "Epoch 31/50\n",
      "135/135 [==============================] - 1s 6ms/step - loss: 46.3062 - mape: 14.1984 - val_loss: 369.8371 - val_mape: 15.0167\n",
      "Epoch 32/50\n",
      "135/135 [==============================] - 1s 6ms/step - loss: 47.4871 - mape: 14.0304 - val_loss: 219.5909 - val_mape: 10.8367\n",
      "Epoch 33/50\n",
      "135/135 [==============================] - 1s 6ms/step - loss: 42.4103 - mape: 13.2013 - val_loss: 181.2122 - val_mape: 9.6261\n",
      "Epoch 34/50\n",
      "135/135 [==============================] - 1s 7ms/step - loss: 44.1484 - mape: 13.5672 - val_loss: 70.0453 - val_mape: 5.8925\n",
      "Epoch 35/50\n",
      "135/135 [==============================] - 1s 7ms/step - loss: 43.5472 - mape: 13.0315 - val_loss: 256.0471 - val_mape: 11.8215\n",
      "Epoch 36/50\n",
      "135/135 [==============================] - 1s 6ms/step - loss: 40.8099 - mape: 12.8013 - val_loss: 352.2513 - val_mape: 14.4601\n",
      "Epoch 37/50\n",
      "135/135 [==============================] - 1s 6ms/step - loss: 38.8637 - mape: 12.9672 - val_loss: 126.7621 - val_mape: 7.9827\n",
      "Epoch 38/50\n",
      "135/135 [==============================] - 1s 6ms/step - loss: 40.9363 - mape: 12.8073 - val_loss: 307.4167 - val_mape: 13.3016\n",
      "Epoch 39/50\n",
      "135/135 [==============================] - 1s 6ms/step - loss: 43.4904 - mape: 13.3977 - val_loss: 268.2248 - val_mape: 12.3992\n",
      "Epoch 40/50\n",
      "135/135 [==============================] - 1s 6ms/step - loss: 41.7289 - mape: 13.1989 - val_loss: 291.1192 - val_mape: 12.9375\n",
      "Epoch 41/50\n",
      "135/135 [==============================] - 1s 6ms/step - loss: 41.9539 - mape: 12.9748 - val_loss: 342.3641 - val_mape: 14.2077\n",
      "Epoch 42/50\n",
      "135/135 [==============================] - 1s 6ms/step - loss: 42.9773 - mape: 12.6792 - val_loss: 342.9321 - val_mape: 14.0672\n",
      "Epoch 43/50\n",
      "135/135 [==============================] - 1s 6ms/step - loss: 39.1820 - mape: 12.0171 - val_loss: 68.0936 - val_mape: 5.7881\n",
      "Epoch 44/50\n",
      "135/135 [==============================] - 1s 6ms/step - loss: 42.7490 - mape: 12.8654 - val_loss: 213.7805 - val_mape: 10.9694\n",
      "Epoch 45/50\n",
      "135/135 [==============================] - 1s 6ms/step - loss: 38.0844 - mape: 12.6366 - val_loss: 131.4625 - val_mape: 8.1599\n",
      "Epoch 46/50\n",
      "135/135 [==============================] - 1s 6ms/step - loss: 39.1829 - mape: 11.6345 - val_loss: 116.9632 - val_mape: 7.5463\n",
      "Epoch 47/50\n",
      "135/135 [==============================] - 1s 6ms/step - loss: 40.0572 - mape: 11.9351 - val_loss: 97.6191 - val_mape: 6.8470\n",
      "Epoch 48/50\n",
      "135/135 [==============================] - 1s 6ms/step - loss: 38.0518 - mape: 12.0084 - val_loss: 184.5473 - val_mape: 9.9201\n",
      "Epoch 49/50\n",
      "135/135 [==============================] - 1s 6ms/step - loss: 39.0495 - mape: 12.0665 - val_loss: 116.8119 - val_mape: 7.5305\n",
      "Epoch 50/50\n",
      "135/135 [==============================] - 1s 7ms/step - loss: 42.5075 - mape: 11.7129 - val_loss: 85.1328 - val_mape: 6.3796\n",
      "Epoch 1/50\n",
      "133/135 [============================>.] - ETA: 0s - loss: 638.3325 - mape: 53.6598INFO:tensorflow:Assets written to: ./models\\9.65_01men_5_lstm_1_dense_1_unit_32\\assets\n"
     ]
    },
    {
     "name": "stderr",
     "output_type": "stream",
     "text": [
      "INFO:tensorflow:Assets written to: ./models\\9.65_01men_5_lstm_1_dense_1_unit_32\\assets\n"
     ]
    },
    {
     "name": "stdout",
     "output_type": "stream",
     "text": [
      "135/135 [==============================] - 7s 29ms/step - loss: 632.2632 - mape: 53.3444 - val_loss: 185.7165 - val_mape: 9.6523\n",
      "Epoch 2/50\n",
      "135/135 [==============================] - 1s 7ms/step - loss: 65.6346 - mape: 23.8797 - val_loss: 185.1260 - val_mape: 9.4792\n",
      "Epoch 3/50\n",
      "135/135 [==============================] - 1s 8ms/step - loss: 54.1225 - mape: 20.3858 - val_loss: 93.2672 - val_mape: 6.6331\n",
      "Epoch 4/50\n",
      "135/135 [==============================] - 1s 8ms/step - loss: 42.4360 - mape: 16.9382 - val_loss: 138.0939 - val_mape: 8.2713\n",
      "Epoch 5/50\n",
      "135/135 [==============================] - 1s 7ms/step - loss: 40.8853 - mape: 15.6336 - val_loss: 54.6572 - val_mape: 5.2833\n",
      "Epoch 6/50\n",
      "135/135 [==============================] - 1s 7ms/step - loss: 39.2374 - mape: 14.9673 - val_loss: 81.2970 - val_mape: 6.3267\n",
      "Epoch 7/50\n",
      "135/135 [==============================] - 1s 8ms/step - loss: 38.1395 - mape: 14.8139 - val_loss: 108.9319 - val_mape: 7.1903\n",
      "Epoch 8/50\n",
      "135/135 [==============================] - 1s 7ms/step - loss: 38.2013 - mape: 15.4630 - val_loss: 151.3020 - val_mape: 8.6468\n",
      "Epoch 9/50\n",
      "133/135 [============================>.] - ETA: 0s - loss: 29.8005 - mape: 13.3329INFO:tensorflow:Assets written to: ./models\\11.40_09men_5_lstm_1_dense_1_unit_32\\assets\n"
     ]
    },
    {
     "name": "stderr",
     "output_type": "stream",
     "text": [
      "INFO:tensorflow:Assets written to: ./models\\11.40_09men_5_lstm_1_dense_1_unit_32\\assets\n"
     ]
    },
    {
     "name": "stdout",
     "output_type": "stream",
     "text": [
      "135/135 [==============================] - 4s 31ms/step - loss: 29.6730 - mape: 13.3392 - val_loss: 246.1286 - val_mape: 11.3994\n",
      "Epoch 10/50\n",
      "135/135 [==============================] - 1s 8ms/step - loss: 34.3328 - mape: 13.7280 - val_loss: 187.0025 - val_mape: 9.6242\n",
      "Epoch 11/50\n",
      "135/135 [==============================] - 1s 8ms/step - loss: 30.4474 - mape: 13.6061 - val_loss: 84.6630 - val_mape: 6.3500\n",
      "Epoch 12/50\n",
      "135/135 [==============================] - 1s 8ms/step - loss: 33.7290 - mape: 13.5400 - val_loss: 56.4561 - val_mape: 5.3253\n",
      "Epoch 13/50\n",
      "135/135 [==============================] - 1s 8ms/step - loss: 30.5512 - mape: 12.8181 - val_loss: 206.4769 - val_mape: 10.3790\n",
      "Epoch 14/50\n",
      "135/135 [==============================] - 1s 8ms/step - loss: 29.2018 - mape: 11.8222 - val_loss: 106.5804 - val_mape: 7.1650\n",
      "Epoch 15/50\n",
      "135/135 [==============================] - 1s 8ms/step - loss: 29.0790 - mape: 11.9715 - val_loss: 162.9178 - val_mape: 8.9027\n",
      "Epoch 16/50\n",
      "135/135 [==============================] - 1s 8ms/step - loss: 29.8981 - mape: 11.6979 - val_loss: 92.1322 - val_mape: 6.5924\n",
      "Epoch 17/50\n",
      "135/135 [==============================] - 1s 7ms/step - loss: 31.3703 - mape: 13.1697 - val_loss: 237.7569 - val_mape: 11.2718\n",
      "Epoch 18/50\n",
      "135/135 [==============================] - 1s 8ms/step - loss: 27.7368 - mape: 12.0074 - val_loss: 137.4996 - val_mape: 8.2880\n",
      "Epoch 19/50\n",
      "135/135 [==============================] - 1s 8ms/step - loss: 27.3952 - mape: 11.3827 - val_loss: 49.9900 - val_mape: 5.0881\n",
      "Epoch 20/50\n",
      "135/135 [==============================] - 1s 7ms/step - loss: 32.4659 - mape: 11.7701 - val_loss: 164.6803 - val_mape: 8.9723\n",
      "Epoch 21/50\n",
      "129/135 [===========================>..] - ETA: 0s - loss: 27.5504 - mape: 11.1829INFO:tensorflow:Assets written to: ./models\\12.75_21men_5_lstm_1_dense_1_unit_32\\assets\n"
     ]
    },
    {
     "name": "stderr",
     "output_type": "stream",
     "text": [
      "INFO:tensorflow:Assets written to: ./models\\12.75_21men_5_lstm_1_dense_1_unit_32\\assets\n"
     ]
    },
    {
     "name": "stdout",
     "output_type": "stream",
     "text": [
      "135/135 [==============================] - 4s 27ms/step - loss: 27.7283 - mape: 11.2795 - val_loss: 289.7384 - val_mape: 12.7454\n",
      "Epoch 22/50\n",
      "135/135 [==============================] - 1s 8ms/step - loss: 26.4755 - mape: 11.3982 - val_loss: 267.7265 - val_mape: 11.9900\n",
      "Epoch 23/50\n",
      "135/135 [==============================] - 1s 8ms/step - loss: 22.8917 - mape: 11.2645 - val_loss: 82.9180 - val_mape: 6.3356\n",
      "Epoch 24/50\n",
      "135/135 [==============================] - 1s 8ms/step - loss: 23.8406 - mape: 10.8671 - val_loss: 255.6621 - val_mape: 11.4993\n",
      "Epoch 25/50\n",
      "135/135 [==============================] - 1s 8ms/step - loss: 24.4998 - mape: 10.8769 - val_loss: 208.4904 - val_mape: 10.6158\n",
      "Epoch 26/50\n",
      "135/135 [==============================] - 1s 8ms/step - loss: 28.4554 - mape: 11.7694 - val_loss: 126.7955 - val_mape: 7.8947\n",
      "Epoch 27/50\n",
      "135/135 [==============================] - 1s 8ms/step - loss: 24.3285 - mape: 10.3189 - val_loss: 51.2682 - val_mape: 5.0893\n",
      "Epoch 28/50\n",
      "135/135 [==============================] - 1s 8ms/step - loss: 22.8046 - mape: 10.4171 - val_loss: 123.4788 - val_mape: 7.9153\n",
      "Epoch 29/50\n",
      "135/135 [==============================] - 1s 8ms/step - loss: 27.3017 - mape: 10.7304 - val_loss: 54.6827 - val_mape: 5.3613\n",
      "Epoch 30/50\n",
      "135/135 [==============================] - 1s 8ms/step - loss: 24.0704 - mape: 11.2570 - val_loss: 160.2912 - val_mape: 9.0049\n",
      "Epoch 31/50\n",
      "135/135 [==============================] - 1s 8ms/step - loss: 23.0481 - mape: 10.3518 - val_loss: 143.3210 - val_mape: 8.4094\n",
      "Epoch 32/50\n",
      "135/135 [==============================] - 1s 8ms/step - loss: 24.0062 - mape: 10.4479 - val_loss: 138.9037 - val_mape: 8.3564\n",
      "Epoch 33/50\n",
      "135/135 [==============================] - 1s 8ms/step - loss: 20.9625 - mape: 10.0484 - val_loss: 62.6516 - val_mape: 5.5563\n",
      "Epoch 34/50\n",
      "135/135 [==============================] - 1s 8ms/step - loss: 22.8710 - mape: 10.4318 - val_loss: 196.8304 - val_mape: 10.0781\n",
      "Epoch 35/50\n",
      "135/135 [==============================] - 1s 8ms/step - loss: 24.8601 - mape: 10.4639 - val_loss: 103.0684 - val_mape: 7.2088\n",
      "Epoch 36/50\n",
      "130/135 [===========================>..] - ETA: 0s - loss: 22.3824 - mape: 10.2916INFO:tensorflow:Assets written to: ./models\\14.01_36men_5_lstm_1_dense_1_unit_32\\assets\n"
     ]
    },
    {
     "name": "stderr",
     "output_type": "stream",
     "text": [
      "INFO:tensorflow:Assets written to: ./models\\14.01_36men_5_lstm_1_dense_1_unit_32\\assets\n"
     ]
    },
    {
     "name": "stdout",
     "output_type": "stream",
     "text": [
      "135/135 [==============================] - 4s 30ms/step - loss: 22.8260 - mape: 10.2948 - val_loss: 343.4341 - val_mape: 14.0118\n",
      "Epoch 37/50\n",
      "133/135 [============================>.] - ETA: 0s - loss: 21.8650 - mape: 9.8212INFO:tensorflow:Assets written to: ./models\\14.81_37men_5_lstm_1_dense_1_unit_32\\assets\n"
     ]
    },
    {
     "name": "stderr",
     "output_type": "stream",
     "text": [
      "INFO:tensorflow:Assets written to: ./models\\14.81_37men_5_lstm_1_dense_1_unit_32\\assets\n"
     ]
    },
    {
     "name": "stdout",
     "output_type": "stream",
     "text": [
      "135/135 [==============================] - 4s 27ms/step - loss: 21.7760 - mape: 9.8297 - val_loss: 376.2522 - val_mape: 14.8068\n",
      "Epoch 38/50\n",
      "135/135 [==============================] - 1s 8ms/step - loss: 21.4450 - mape: 10.1520 - val_loss: 230.6548 - val_mape: 11.3744\n",
      "Epoch 39/50\n",
      "135/135 [==============================] - 1s 8ms/step - loss: 23.0522 - mape: 10.1281 - val_loss: 220.5816 - val_mape: 10.7361\n",
      "Epoch 40/50\n",
      "135/135 [==============================] - 1s 8ms/step - loss: 22.1900 - mape: 9.9679 - val_loss: 272.8893 - val_mape: 12.5015\n",
      "Epoch 41/50\n",
      "135/135 [==============================] - 1s 7ms/step - loss: 20.8560 - mape: 9.5436 - val_loss: 154.7919 - val_mape: 8.9966\n",
      "Epoch 42/50\n",
      "135/135 [==============================] - 1s 7ms/step - loss: 23.0478 - mape: 9.9517 - val_loss: 261.0394 - val_mape: 12.2133\n",
      "Epoch 43/50\n",
      "135/135 [==============================] - 1s 7ms/step - loss: 21.9055 - mape: 9.6097 - val_loss: 179.5934 - val_mape: 9.5088\n",
      "Epoch 44/50\n",
      "135/135 [==============================] - 1s 7ms/step - loss: 23.8907 - mape: 10.2039 - val_loss: 92.2352 - val_mape: 6.7737\n",
      "Epoch 45/50\n",
      "135/135 [==============================] - 1s 7ms/step - loss: 24.1566 - mape: 10.3155 - val_loss: 61.5476 - val_mape: 5.4971\n",
      "Epoch 46/50\n",
      "135/135 [==============================] - 1s 7ms/step - loss: 22.6076 - mape: 10.1838 - val_loss: 80.1776 - val_mape: 6.3096\n",
      "Epoch 47/50\n",
      "135/135 [==============================] - 1s 7ms/step - loss: 21.0782 - mape: 10.3010 - val_loss: 141.1103 - val_mape: 8.4459\n",
      "Epoch 48/50\n",
      "135/135 [==============================] - 1s 7ms/step - loss: 22.4482 - mape: 9.9832 - val_loss: 119.2214 - val_mape: 7.6064\n",
      "Epoch 49/50\n",
      "135/135 [==============================] - 1s 8ms/step - loss: 24.8109 - mape: 10.8339 - val_loss: 215.2858 - val_mape: 10.4887\n",
      "Epoch 50/50\n",
      "135/135 [==============================] - 1s 7ms/step - loss: 19.9759 - mape: 9.2486 - val_loss: 311.5399 - val_mape: 13.3993\n",
      "Epoch 1/50\n",
      "134/135 [============================>.] - ETA: 0s - loss: 1118.8268 - mape: 70.1448INFO:tensorflow:Assets written to: ./models\\16.89_01men_5_lstm_1_dense_2_unit_8\\assets\n"
     ]
    },
    {
     "name": "stderr",
     "output_type": "stream",
     "text": [
      "INFO:tensorflow:Assets written to: ./models\\16.89_01men_5_lstm_1_dense_2_unit_8\\assets\n"
     ]
    },
    {
     "name": "stdout",
     "output_type": "stream",
     "text": [
      "135/135 [==============================] - 7s 30ms/step - loss: 1115.4244 - mape: 70.0797 - val_loss: 530.5503 - val_mape: 16.8852\n",
      "Epoch 2/50\n",
      "135/135 [==============================] - 1s 6ms/step - loss: 174.4234 - mape: 30.6410 - val_loss: 303.1836 - val_mape: 11.5869\n",
      "Epoch 3/50\n",
      "135/135 [==============================] - 1s 6ms/step - loss: 160.8551 - mape: 27.5787 - val_loss: 404.3837 - val_mape: 14.9777\n",
      "Epoch 4/50\n",
      "135/135 [==============================] - 1s 6ms/step - loss: 143.6105 - mape: 26.0703 - val_loss: 250.1704 - val_mape: 11.0657\n",
      "Epoch 5/50\n",
      "135/135 [==============================] - 1s 5ms/step - loss: 125.2791 - mape: 23.3283 - val_loss: 233.7850 - val_mape: 11.4066\n",
      "Epoch 6/50\n",
      "132/135 [============================>.] - ETA: 0s - loss: 112.0689 - mape: 22.2410INFO:tensorflow:Assets written to: ./models\\18.31_06men_5_lstm_1_dense_2_unit_8\\assets\n"
     ]
    },
    {
     "name": "stderr",
     "output_type": "stream",
     "text": [
      "INFO:tensorflow:Assets written to: ./models\\18.31_06men_5_lstm_1_dense_2_unit_8\\assets\n"
     ]
    },
    {
     "name": "stdout",
     "output_type": "stream",
     "text": [
      "135/135 [==============================] - 4s 28ms/step - loss: 111.4343 - mape: 22.1865 - val_loss: 556.8539 - val_mape: 18.3098\n",
      "Epoch 7/50\n",
      "135/135 [==============================] - 1s 6ms/step - loss: 108.2991 - mape: 22.3430 - val_loss: 450.2271 - val_mape: 16.5879\n",
      "Epoch 8/50\n",
      "132/135 [============================>.] - ETA: 0s - loss: 97.3673 - mape: 21.7084INFO:tensorflow:Assets written to: ./models\\18.87_08men_5_lstm_1_dense_2_unit_8\\assets\n"
     ]
    },
    {
     "name": "stderr",
     "output_type": "stream",
     "text": [
      "INFO:tensorflow:Assets written to: ./models\\18.87_08men_5_lstm_1_dense_2_unit_8\\assets\n"
     ]
    },
    {
     "name": "stdout",
     "output_type": "stream",
     "text": [
      "135/135 [==============================] - 3s 25ms/step - loss: 97.0545 - mape: 21.6862 - val_loss: 583.8436 - val_mape: 18.8665\n",
      "Epoch 9/50\n",
      "131/135 [============================>.] - ETA: 0s - loss: 90.3961 - mape: 20.9140INFO:tensorflow:Assets written to: ./models\\20.38_09men_5_lstm_1_dense_2_unit_8\\assets\n"
     ]
    },
    {
     "name": "stderr",
     "output_type": "stream",
     "text": [
      "INFO:tensorflow:Assets written to: ./models\\20.38_09men_5_lstm_1_dense_2_unit_8\\assets\n"
     ]
    },
    {
     "name": "stdout",
     "output_type": "stream",
     "text": [
      "135/135 [==============================] - 4s 29ms/step - loss: 91.5682 - mape: 20.9120 - val_loss: 656.9648 - val_mape: 20.3778\n",
      "Epoch 10/50\n",
      "135/135 [==============================] - 1s 6ms/step - loss: 97.4666 - mape: 20.9575 - val_loss: 310.2732 - val_mape: 13.3151\n",
      "Epoch 11/50\n",
      "135/135 [==============================] - 1s 6ms/step - loss: 75.9798 - mape: 18.7301 - val_loss: 490.9405 - val_mape: 17.8265\n",
      "Epoch 12/50\n",
      "135/135 [==============================] - 1s 6ms/step - loss: 78.0025 - mape: 18.6632 - val_loss: 410.6533 - val_mape: 16.0083\n",
      "Epoch 13/50\n",
      "135/135 [==============================] - 1s 6ms/step - loss: 80.4645 - mape: 18.4278 - val_loss: 623.8380 - val_mape: 19.6979\n",
      "Epoch 14/50\n",
      "126/135 [===========================>..] - ETA: 0s - loss: 82.2769 - mape: 19.6938INFO:tensorflow:Assets written to: ./models\\22.71_14men_5_lstm_1_dense_2_unit_8\\assets\n"
     ]
    },
    {
     "name": "stderr",
     "output_type": "stream",
     "text": [
      "INFO:tensorflow:Assets written to: ./models\\22.71_14men_5_lstm_1_dense_2_unit_8\\assets\n"
     ]
    },
    {
     "name": "stdout",
     "output_type": "stream",
     "text": [
      "135/135 [==============================] - 3s 25ms/step - loss: 81.8966 - mape: 19.4705 - val_loss: 820.2390 - val_mape: 22.7131\n",
      "Epoch 15/50\n",
      "135/135 [==============================] - 1s 6ms/step - loss: 74.1262 - mape: 18.4810 - val_loss: 632.3922 - val_mape: 19.9689\n",
      "Epoch 16/50\n",
      "135/135 [==============================] - 1s 6ms/step - loss: 73.3037 - mape: 18.0485 - val_loss: 712.8055 - val_mape: 21.1211\n",
      "Epoch 17/50\n",
      "135/135 [==============================] - 1s 7ms/step - loss: 75.4496 - mape: 17.4718 - val_loss: 638.8116 - val_mape: 20.1389\n",
      "Epoch 18/50\n",
      "135/135 [==============================] - 1s 6ms/step - loss: 63.4027 - mape: 17.0724 - val_loss: 649.6959 - val_mape: 20.2910\n",
      "Epoch 19/50\n",
      "134/135 [============================>.] - ETA: 0s - loss: 67.2334 - mape: 16.9539INFO:tensorflow:Assets written to: ./models\\24.15_19men_5_lstm_1_dense_2_unit_8\\assets\n"
     ]
    },
    {
     "name": "stderr",
     "output_type": "stream",
     "text": [
      "INFO:tensorflow:Assets written to: ./models\\24.15_19men_5_lstm_1_dense_2_unit_8\\assets\n"
     ]
    },
    {
     "name": "stdout",
     "output_type": "stream",
     "text": [
      "135/135 [==============================] - 4s 29ms/step - loss: 67.0545 - mape: 16.9287 - val_loss: 895.2130 - val_mape: 24.1536\n",
      "Epoch 20/50\n",
      "127/135 [===========================>..] - ETA: 0s - loss: 67.2627 - mape: 18.0668INFO:tensorflow:Assets written to: ./models\\26.79_20men_5_lstm_1_dense_2_unit_8\\assets\n"
     ]
    },
    {
     "name": "stderr",
     "output_type": "stream",
     "text": [
      "INFO:tensorflow:Assets written to: ./models\\26.79_20men_5_lstm_1_dense_2_unit_8\\assets\n"
     ]
    },
    {
     "name": "stdout",
     "output_type": "stream",
     "text": [
      "135/135 [==============================] - 3s 26ms/step - loss: 67.2209 - mape: 17.9790 - val_loss: 1060.8379 - val_mape: 26.7930\n",
      "Epoch 21/50\n",
      "135/135 [==============================] - 1s 6ms/step - loss: 70.1550 - mape: 17.5228 - val_loss: 908.4584 - val_mape: 23.8643\n",
      "Epoch 22/50\n",
      "135/135 [==============================] - 1s 7ms/step - loss: 74.1597 - mape: 16.6518 - val_loss: 962.6124 - val_mape: 25.0859\n",
      "Epoch 23/50\n",
      "135/135 [==============================] - 1s 6ms/step - loss: 68.4717 - mape: 16.9503 - val_loss: 851.6182 - val_mape: 23.1433\n",
      "Epoch 24/50\n",
      "135/135 [==============================] - 1s 6ms/step - loss: 61.4665 - mape: 16.2387 - val_loss: 719.3400 - val_mape: 21.5063\n",
      "Epoch 25/50\n",
      "135/135 [==============================] - 1s 6ms/step - loss: 64.8680 - mape: 16.5806 - val_loss: 975.2929 - val_mape: 25.1283\n",
      "Epoch 26/50\n",
      "134/135 [============================>.] - ETA: 0s - loss: 62.4721 - mape: 16.3340INFO:tensorflow:Assets written to: ./models\\28.46_26men_5_lstm_1_dense_2_unit_8\\assets\n"
     ]
    },
    {
     "name": "stderr",
     "output_type": "stream",
     "text": [
      "INFO:tensorflow:Assets written to: ./models\\28.46_26men_5_lstm_1_dense_2_unit_8\\assets\n"
     ]
    },
    {
     "name": "stdout",
     "output_type": "stream",
     "text": [
      "135/135 [==============================] - 4s 28ms/step - loss: 62.3676 - mape: 16.3367 - val_loss: 1222.5404 - val_mape: 28.4608\n",
      "Epoch 27/50\n",
      "135/135 [==============================] - 1s 6ms/step - loss: 57.6745 - mape: 16.3618 - val_loss: 594.5768 - val_mape: 19.2929\n",
      "Epoch 28/50\n",
      "135/135 [==============================] - 1s 7ms/step - loss: 67.9878 - mape: 15.7146 - val_loss: 724.0806 - val_mape: 21.5951\n",
      "Epoch 29/50\n",
      "135/135 [==============================] - 1s 6ms/step - loss: 62.8462 - mape: 15.5726 - val_loss: 771.4319 - val_mape: 22.7031\n",
      "Epoch 30/50\n",
      "135/135 [==============================] - 1s 6ms/step - loss: 60.4408 - mape: 15.9140 - val_loss: 835.9069 - val_mape: 23.5076\n",
      "Epoch 31/50\n",
      "135/135 [==============================] - 1s 6ms/step - loss: 60.3938 - mape: 16.2912 - val_loss: 1014.5120 - val_mape: 25.9254\n",
      "Epoch 32/50\n",
      "135/135 [==============================] - 1s 6ms/step - loss: 56.9162 - mape: 15.9705 - val_loss: 812.1475 - val_mape: 22.7108\n",
      "Epoch 33/50\n",
      "135/135 [==============================] - 1s 6ms/step - loss: 57.9577 - mape: 15.2534 - val_loss: 1091.1996 - val_mape: 26.8955\n",
      "Epoch 34/50\n",
      "135/135 [==============================] - 1s 6ms/step - loss: 62.7668 - mape: 15.1997 - val_loss: 730.0390 - val_mape: 21.8448\n",
      "Epoch 35/50\n",
      "135/135 [==============================] - 1s 6ms/step - loss: 58.3489 - mape: 16.0171 - val_loss: 561.1678 - val_mape: 19.0959\n",
      "Epoch 36/50\n",
      "135/135 [==============================] - 1s 6ms/step - loss: 58.1881 - mape: 15.2972 - val_loss: 859.3839 - val_mape: 23.9734\n",
      "Epoch 37/50\n",
      "135/135 [==============================] - 1s 6ms/step - loss: 50.9015 - mape: 14.7294 - val_loss: 932.4737 - val_mape: 24.9706\n",
      "Epoch 38/50\n",
      "135/135 [==============================] - 1s 6ms/step - loss: 59.8992 - mape: 14.6626 - val_loss: 709.9365 - val_mape: 21.3041\n",
      "Epoch 39/50\n",
      "135/135 [==============================] - 1s 6ms/step - loss: 57.1444 - mape: 14.2164 - val_loss: 1051.1826 - val_mape: 26.5832\n",
      "Epoch 40/50\n",
      "135/135 [==============================] - 1s 6ms/step - loss: 51.8431 - mape: 14.2819 - val_loss: 602.8705 - val_mape: 19.6602\n",
      "Epoch 41/50\n",
      "135/135 [==============================] - 1s 6ms/step - loss: 54.7052 - mape: 14.3485 - val_loss: 1145.8920 - val_mape: 27.6762\n",
      "Epoch 42/50\n",
      "135/135 [==============================] - 1s 6ms/step - loss: 54.8505 - mape: 14.8024 - val_loss: 1002.7971 - val_mape: 26.1090\n",
      "Epoch 43/50\n",
      "135/135 [==============================] - 1s 6ms/step - loss: 55.0208 - mape: 14.8581 - val_loss: 664.0009 - val_mape: 21.1875\n",
      "Epoch 44/50\n",
      "135/135 [==============================] - 1s 6ms/step - loss: 50.5204 - mape: 15.1410 - val_loss: 1010.0827 - val_mape: 25.6517\n",
      "Epoch 45/50\n",
      "135/135 [==============================] - 1s 6ms/step - loss: 55.1399 - mape: 14.3550 - val_loss: 585.1306 - val_mape: 19.7017\n",
      "Epoch 46/50\n",
      "135/135 [==============================] - 1s 6ms/step - loss: 46.7925 - mape: 14.1482 - val_loss: 984.0368 - val_mape: 25.7759\n",
      "Epoch 47/50\n",
      "135/135 [==============================] - 1s 6ms/step - loss: 51.0432 - mape: 14.1194 - val_loss: 995.2775 - val_mape: 25.9178\n",
      "Epoch 48/50\n",
      "135/135 [==============================] - 1s 6ms/step - loss: 49.9748 - mape: 13.8815 - val_loss: 997.1648 - val_mape: 25.5555\n",
      "Epoch 49/50\n",
      "135/135 [==============================] - 1s 6ms/step - loss: 52.5412 - mape: 13.7824 - val_loss: 668.7203 - val_mape: 20.6629\n",
      "Epoch 50/50\n",
      "135/135 [==============================] - 1s 6ms/step - loss: 46.3812 - mape: 13.7264 - val_loss: 889.1779 - val_mape: 24.6604\n",
      "Epoch 1/50\n",
      "133/135 [============================>.] - ETA: 0s - loss: 1385.3507 - mape: 83.9216INFO:tensorflow:Assets written to: ./models\\19.16_01men_5_lstm_1_dense_2_unit_16\\assets\n"
     ]
    },
    {
     "name": "stderr",
     "output_type": "stream",
     "text": [
      "INFO:tensorflow:Assets written to: ./models\\19.16_01men_5_lstm_1_dense_2_unit_16\\assets\n"
     ]
    },
    {
     "name": "stdout",
     "output_type": "stream",
     "text": [
      "135/135 [==============================] - 7s 30ms/step - loss: 1372.8687 - mape: 83.3756 - val_loss: 623.3578 - val_mape: 19.1553\n",
      "Epoch 2/50\n",
      "135/135 [==============================] - 1s 7ms/step - loss: 165.8997 - mape: 30.7724 - val_loss: 132.4349 - val_mape: 8.0541\n",
      "Epoch 3/50\n",
      "135/135 [==============================] - 1s 7ms/step - loss: 135.6989 - mape: 26.8684 - val_loss: 211.3667 - val_mape: 10.2388\n",
      "Epoch 4/50\n",
      "135/135 [==============================] - 1s 7ms/step - loss: 106.1654 - mape: 23.9926 - val_loss: 129.8367 - val_mape: 8.1517\n",
      "Epoch 5/50\n",
      "135/135 [==============================] - 1s 7ms/step - loss: 105.6129 - mape: 21.9628 - val_loss: 177.8102 - val_mape: 9.5658\n",
      "Epoch 6/50\n",
      "135/135 [==============================] - 1s 6ms/step - loss: 81.9238 - mape: 19.6077 - val_loss: 245.5449 - val_mape: 11.6594\n",
      "Epoch 7/50\n",
      "135/135 [==============================] - 1s 7ms/step - loss: 78.6454 - mape: 19.3723 - val_loss: 446.3533 - val_mape: 16.3813\n",
      "Epoch 8/50\n",
      "135/135 [==============================] - 1s 6ms/step - loss: 81.2559 - mape: 20.4853 - val_loss: 383.2802 - val_mape: 15.3446\n",
      "Epoch 9/50\n",
      "135/135 [==============================] - 1s 7ms/step - loss: 63.4459 - mape: 17.6130 - val_loss: 307.2125 - val_mape: 13.5355\n",
      "Epoch 10/50\n",
      "135/135 [==============================] - 1s 7ms/step - loss: 64.1659 - mape: 17.3652 - val_loss: 257.8935 - val_mape: 12.0815\n",
      "Epoch 11/50\n",
      "135/135 [==============================] - 1s 7ms/step - loss: 60.9614 - mape: 16.5235 - val_loss: 248.5120 - val_mape: 11.5060\n",
      "Epoch 12/50\n",
      "135/135 [==============================] - 1s 7ms/step - loss: 63.5243 - mape: 15.6210 - val_loss: 510.0743 - val_mape: 18.0042\n",
      "Epoch 13/50\n",
      "135/135 [==============================] - 1s 7ms/step - loss: 57.1756 - mape: 15.2529 - val_loss: 388.1913 - val_mape: 15.3604\n",
      "Epoch 14/50\n",
      "135/135 [==============================] - 1s 7ms/step - loss: 55.4710 - mape: 15.5102 - val_loss: 302.1160 - val_mape: 13.2670\n",
      "Epoch 15/50\n",
      "135/135 [==============================] - 1s 7ms/step - loss: 57.0910 - mape: 15.8400 - val_loss: 83.6413 - val_mape: 6.4941\n",
      "Epoch 16/50\n",
      "135/135 [==============================] - 1s 7ms/step - loss: 55.0774 - mape: 14.5637 - val_loss: 282.2951 - val_mape: 12.6552\n",
      "Epoch 17/50\n",
      "135/135 [==============================] - 1s 7ms/step - loss: 53.5796 - mape: 14.2433 - val_loss: 381.9578 - val_mape: 15.1917\n",
      "Epoch 18/50\n",
      "135/135 [==============================] - 1s 7ms/step - loss: 52.3516 - mape: 14.6687 - val_loss: 424.9254 - val_mape: 16.2263\n",
      "Epoch 19/50\n",
      "135/135 [==============================] - 1s 7ms/step - loss: 57.5729 - mape: 14.7909 - val_loss: 320.0867 - val_mape: 13.6157\n",
      "Epoch 20/50\n",
      "135/135 [==============================] - 1s 7ms/step - loss: 47.2881 - mape: 13.9775 - val_loss: 348.1512 - val_mape: 14.2301\n",
      "Epoch 21/50\n",
      "135/135 [==============================] - 1s 7ms/step - loss: 43.0536 - mape: 13.3246 - val_loss: 316.2771 - val_mape: 13.4308\n",
      "Epoch 22/50\n",
      "135/135 [==============================] - 1s 7ms/step - loss: 48.4167 - mape: 13.6232 - val_loss: 182.9336 - val_mape: 9.8456\n",
      "Epoch 23/50\n",
      "132/135 [============================>.] - ETA: 0s - loss: 48.2843 - mape: 13.4501INFO:tensorflow:Assets written to: ./models\\19.38_23men_5_lstm_1_dense_2_unit_16\\assets\n"
     ]
    },
    {
     "name": "stderr",
     "output_type": "stream",
     "text": [
      "INFO:tensorflow:Assets written to: ./models\\19.38_23men_5_lstm_1_dense_2_unit_16\\assets\n"
     ]
    },
    {
     "name": "stdout",
     "output_type": "stream",
     "text": [
      "135/135 [==============================] - 4s 27ms/step - loss: 48.1342 - mape: 13.4671 - val_loss: 593.8137 - val_mape: 19.3786\n",
      "Epoch 24/50\n",
      "133/135 [============================>.] - ETA: 0s - loss: 43.5519 - mape: 13.5484INFO:tensorflow:Assets written to: ./models\\23.69_24men_5_lstm_1_dense_2_unit_16\\assets\n"
     ]
    },
    {
     "name": "stderr",
     "output_type": "stream",
     "text": [
      "INFO:tensorflow:Assets written to: ./models\\23.69_24men_5_lstm_1_dense_2_unit_16\\assets\n"
     ]
    },
    {
     "name": "stdout",
     "output_type": "stream",
     "text": [
      "135/135 [==============================] - 4s 30ms/step - loss: 43.3627 - mape: 13.5474 - val_loss: 868.0239 - val_mape: 23.6899\n",
      "Epoch 25/50\n",
      "135/135 [==============================] - 1s 7ms/step - loss: 50.3169 - mape: 14.2823 - val_loss: 590.8726 - val_mape: 19.2763\n",
      "Epoch 26/50\n",
      "135/135 [==============================] - 1s 7ms/step - loss: 41.0385 - mape: 12.8390 - val_loss: 411.4932 - val_mape: 15.6898\n",
      "Epoch 27/50\n",
      "131/135 [============================>.] - ETA: 0s - loss: 41.8177 - mape: 12.6512INFO:tensorflow:Assets written to: ./models\\24.02_27men_5_lstm_1_dense_2_unit_16\\assets\n"
     ]
    },
    {
     "name": "stderr",
     "output_type": "stream",
     "text": [
      "INFO:tensorflow:Assets written to: ./models\\24.02_27men_5_lstm_1_dense_2_unit_16\\assets\n"
     ]
    },
    {
     "name": "stdout",
     "output_type": "stream",
     "text": [
      "135/135 [==============================] - 4s 27ms/step - loss: 41.6461 - mape: 12.6220 - val_loss: 891.6814 - val_mape: 24.0221\n",
      "Epoch 28/50\n",
      "135/135 [==============================] - 1s 7ms/step - loss: 40.8540 - mape: 12.6206 - val_loss: 310.6815 - val_mape: 13.2351\n",
      "Epoch 29/50\n",
      "135/135 [==============================] - 1s 7ms/step - loss: 38.5428 - mape: 12.3256 - val_loss: 210.2446 - val_mape: 10.7186\n",
      "Epoch 30/50\n",
      "135/135 [==============================] - 1s 7ms/step - loss: 39.6284 - mape: 12.0818 - val_loss: 447.1953 - val_mape: 16.4353\n",
      "Epoch 31/50\n",
      "135/135 [==============================] - 1s 7ms/step - loss: 38.4653 - mape: 11.8500 - val_loss: 771.3342 - val_mape: 22.4367\n",
      "Epoch 32/50\n",
      "135/135 [==============================] - 1s 7ms/step - loss: 34.7923 - mape: 11.9522 - val_loss: 432.9294 - val_mape: 16.2254\n",
      "Epoch 33/50\n",
      "135/135 [==============================] - 1s 6ms/step - loss: 40.2158 - mape: 12.4538 - val_loss: 353.0211 - val_mape: 14.2634\n",
      "Epoch 34/50\n",
      "135/135 [==============================] - 1s 7ms/step - loss: 45.4470 - mape: 12.2879 - val_loss: 564.1113 - val_mape: 19.2307\n",
      "Epoch 35/50\n",
      "135/135 [==============================] - 1s 6ms/step - loss: 37.9547 - mape: 11.9363 - val_loss: 442.0217 - val_mape: 16.4054\n",
      "Epoch 36/50\n",
      "135/135 [==============================] - 1s 6ms/step - loss: 41.6117 - mape: 12.3835 - val_loss: 466.2097 - val_mape: 17.1055\n",
      "Epoch 37/50\n",
      "135/135 [==============================] - 1s 6ms/step - loss: 35.6673 - mape: 11.8837 - val_loss: 260.1873 - val_mape: 12.1060\n",
      "Epoch 38/50\n",
      "135/135 [==============================] - 1s 6ms/step - loss: 38.0086 - mape: 11.8153 - val_loss: 440.3064 - val_mape: 16.2585\n",
      "Epoch 39/50\n",
      "135/135 [==============================] - 1s 6ms/step - loss: 35.4615 - mape: 11.6603 - val_loss: 303.4169 - val_mape: 13.1269\n",
      "Epoch 40/50\n",
      "135/135 [==============================] - 1s 7ms/step - loss: 35.9381 - mape: 11.6626 - val_loss: 254.3145 - val_mape: 11.8860\n",
      "Epoch 41/50\n",
      "135/135 [==============================] - 1s 6ms/step - loss: 37.2593 - mape: 11.8078 - val_loss: 272.9088 - val_mape: 12.6396\n",
      "Epoch 42/50\n",
      "135/135 [==============================] - 1s 6ms/step - loss: 34.1289 - mape: 12.1841 - val_loss: 329.5415 - val_mape: 13.7174\n",
      "Epoch 43/50\n",
      "135/135 [==============================] - 1s 6ms/step - loss: 34.7883 - mape: 11.7893 - val_loss: 469.4159 - val_mape: 16.9561\n",
      "Epoch 44/50\n",
      "135/135 [==============================] - 1s 6ms/step - loss: 33.7419 - mape: 11.9200 - val_loss: 539.0781 - val_mape: 18.2219\n",
      "Epoch 45/50\n",
      "135/135 [==============================] - 1s 6ms/step - loss: 40.9053 - mape: 11.7495 - val_loss: 501.7425 - val_mape: 17.5937\n",
      "Epoch 46/50\n",
      "135/135 [==============================] - 1s 6ms/step - loss: 34.4373 - mape: 11.9444 - val_loss: 573.2676 - val_mape: 18.8908\n",
      "Epoch 47/50\n",
      "135/135 [==============================] - 1s 6ms/step - loss: 36.2742 - mape: 12.0596 - val_loss: 793.1749 - val_mape: 22.8860\n",
      "Epoch 48/50\n",
      "135/135 [==============================] - 1s 7ms/step - loss: 38.9068 - mape: 12.1056 - val_loss: 336.2602 - val_mape: 14.0380\n",
      "Epoch 49/50\n",
      "135/135 [==============================] - 1s 7ms/step - loss: 33.5328 - mape: 11.6483 - val_loss: 599.7285 - val_mape: 19.4767\n",
      "Epoch 50/50\n",
      "129/135 [===========================>..] - ETA: 0s - loss: 30.7524 - mape: 11.6160INFO:tensorflow:Assets written to: ./models\\24.96_50men_5_lstm_1_dense_2_unit_16\\assets\n"
     ]
    },
    {
     "name": "stderr",
     "output_type": "stream",
     "text": [
      "INFO:tensorflow:Assets written to: ./models\\24.96_50men_5_lstm_1_dense_2_unit_16\\assets\n"
     ]
    },
    {
     "name": "stdout",
     "output_type": "stream",
     "text": [
      "135/135 [==============================] - 4s 30ms/step - loss: 30.4660 - mape: 11.6262 - val_loss: 956.7439 - val_mape: 24.9612\n",
      "Epoch 1/50\n",
      "128/135 [===========================>..] - ETA: 0s - loss: 680.3488 - mape: 54.6750INFO:tensorflow:Assets written to: ./models\\5.48_01men_5_lstm_1_dense_2_unit_32\\assets\n"
     ]
    },
    {
     "name": "stderr",
     "output_type": "stream",
     "text": [
      "INFO:tensorflow:Assets written to: ./models\\5.48_01men_5_lstm_1_dense_2_unit_32\\assets\n"
     ]
    },
    {
     "name": "stdout",
     "output_type": "stream",
     "text": [
      "135/135 [==============================] - 7s 31ms/step - loss: 653.1395 - mape: 53.1817 - val_loss: 57.5626 - val_mape: 5.4828\n",
      "Epoch 2/50\n",
      "135/135 [==============================] - ETA: 0s - loss: 72.2069 - mape: 22.9846INFO:tensorflow:Assets written to: ./models\\5.74_02men_5_lstm_1_dense_2_unit_32\\assets\n"
     ]
    },
    {
     "name": "stderr",
     "output_type": "stream",
     "text": [
      "INFO:tensorflow:Assets written to: ./models\\5.74_02men_5_lstm_1_dense_2_unit_32\\assets\n"
     ]
    },
    {
     "name": "stdout",
     "output_type": "stream",
     "text": [
      "135/135 [==============================] - 4s 28ms/step - loss: 72.2069 - mape: 22.9846 - val_loss: 60.6911 - val_mape: 5.7391\n",
      "Epoch 3/50\n",
      "133/135 [============================>.] - ETA: 0s - loss: 64.6178 - mape: 19.7344INFO:tensorflow:Assets written to: ./models\\7.48_03men_5_lstm_1_dense_2_unit_32\\assets\n"
     ]
    },
    {
     "name": "stderr",
     "output_type": "stream",
     "text": [
      "INFO:tensorflow:Assets written to: ./models\\7.48_03men_5_lstm_1_dense_2_unit_32\\assets\n"
     ]
    },
    {
     "name": "stdout",
     "output_type": "stream",
     "text": [
      "135/135 [==============================] - 4s 31ms/step - loss: 64.4555 - mape: 19.7473 - val_loss: 114.2469 - val_mape: 7.4756\n",
      "Epoch 4/50\n",
      "135/135 [==============================] - 1s 8ms/step - loss: 49.3602 - mape: 18.4996 - val_loss: 103.4633 - val_mape: 7.2048\n",
      "Epoch 5/50\n",
      "133/135 [============================>.] - ETA: 0s - loss: 46.2213 - mape: 17.1889INFO:tensorflow:Assets written to: ./models\\7.93_05men_5_lstm_1_dense_2_unit_32\\assets\n"
     ]
    },
    {
     "name": "stderr",
     "output_type": "stream",
     "text": [
      "INFO:tensorflow:Assets written to: ./models\\7.93_05men_5_lstm_1_dense_2_unit_32\\assets\n"
     ]
    },
    {
     "name": "stdout",
     "output_type": "stream",
     "text": [
      "135/135 [==============================] - 4s 27ms/step - loss: 46.6496 - mape: 17.2326 - val_loss: 124.3612 - val_mape: 7.9262\n",
      "Epoch 6/50\n",
      "135/135 [==============================] - 1s 8ms/step - loss: 45.4050 - mape: 16.6722 - val_loss: 66.1241 - val_mape: 5.6843\n",
      "Epoch 7/50\n",
      "135/135 [==============================] - 1s 8ms/step - loss: 37.0701 - mape: 15.4246 - val_loss: 56.1263 - val_mape: 5.2630\n",
      "Epoch 8/50\n",
      "135/135 [==============================] - 1s 8ms/step - loss: 39.7180 - mape: 15.4179 - val_loss: 116.1712 - val_mape: 7.3985\n",
      "Epoch 9/50\n",
      "135/135 [==============================] - 1s 8ms/step - loss: 38.2806 - mape: 14.9105 - val_loss: 51.8687 - val_mape: 5.0958\n",
      "Epoch 10/50\n",
      "130/135 [===========================>..] - ETA: 0s - loss: 37.6448 - mape: 15.1451INFO:tensorflow:Assets written to: ./models\\10.15_10men_5_lstm_1_dense_2_unit_32\\assets\n"
     ]
    },
    {
     "name": "stderr",
     "output_type": "stream",
     "text": [
      "INFO:tensorflow:Assets written to: ./models\\10.15_10men_5_lstm_1_dense_2_unit_32\\assets\n"
     ]
    },
    {
     "name": "stdout",
     "output_type": "stream",
     "text": [
      "135/135 [==============================] - 4s 27ms/step - loss: 37.2444 - mape: 15.1227 - val_loss: 188.5362 - val_mape: 10.1497\n",
      "Epoch 11/50\n",
      "135/135 [==============================] - 1s 8ms/step - loss: 36.2253 - mape: 14.6131 - val_loss: 107.8191 - val_mape: 7.3369\n",
      "Epoch 12/50\n",
      "135/135 [==============================] - 1s 8ms/step - loss: 32.6565 - mape: 13.7099 - val_loss: 119.4241 - val_mape: 7.8444\n",
      "Epoch 13/50\n",
      "129/135 [===========================>..] - ETA: 0s - loss: 32.0320 - mape: 13.7226INFO:tensorflow:Assets written to: ./models\\13.47_13men_5_lstm_1_dense_2_unit_32\\assets\n"
     ]
    },
    {
     "name": "stderr",
     "output_type": "stream",
     "text": [
      "INFO:tensorflow:Assets written to: ./models\\13.47_13men_5_lstm_1_dense_2_unit_32\\assets\n"
     ]
    },
    {
     "name": "stdout",
     "output_type": "stream",
     "text": [
      "135/135 [==============================] - 4s 31ms/step - loss: 31.6631 - mape: 13.7378 - val_loss: 316.0312 - val_mape: 13.4743\n",
      "Epoch 14/50\n",
      "135/135 [==============================] - 1s 8ms/step - loss: 35.9937 - mape: 13.4059 - val_loss: 49.5012 - val_mape: 5.0226\n",
      "Epoch 15/50\n",
      "135/135 [==============================] - 1s 8ms/step - loss: 37.6544 - mape: 13.7007 - val_loss: 100.3359 - val_mape: 7.0457\n",
      "Epoch 16/50\n",
      "135/135 [==============================] - 1s 8ms/step - loss: 35.4940 - mape: 13.2611 - val_loss: 262.3461 - val_mape: 11.9502\n",
      "Epoch 17/50\n",
      "135/135 [==============================] - 1s 8ms/step - loss: 35.0549 - mape: 13.1131 - val_loss: 130.6018 - val_mape: 8.3412\n",
      "Epoch 18/50\n",
      "135/135 [==============================] - 1s 8ms/step - loss: 32.6877 - mape: 12.9060 - val_loss: 201.1832 - val_mape: 10.2646\n",
      "Epoch 19/50\n",
      "133/135 [============================>.] - ETA: 0s - loss: 31.7573 - mape: 11.9913INFO:tensorflow:Assets written to: ./models\\14.53_19men_5_lstm_1_dense_2_unit_32\\assets\n"
     ]
    },
    {
     "name": "stderr",
     "output_type": "stream",
     "text": [
      "INFO:tensorflow:Assets written to: ./models\\14.53_19men_5_lstm_1_dense_2_unit_32\\assets\n"
     ]
    },
    {
     "name": "stdout",
     "output_type": "stream",
     "text": [
      "135/135 [==============================] - 4s 29ms/step - loss: 31.9122 - mape: 11.9987 - val_loss: 355.0645 - val_mape: 14.5321\n",
      "Epoch 20/50\n",
      "135/135 [==============================] - 1s 9ms/step - loss: 33.9141 - mape: 12.2156 - val_loss: 80.4006 - val_mape: 6.3151\n",
      "Epoch 21/50\n",
      "135/135 [==============================] - 1s 8ms/step - loss: 28.9986 - mape: 11.5357 - val_loss: 236.3694 - val_mape: 11.0972\n",
      "Epoch 22/50\n",
      "135/135 [==============================] - 1s 8ms/step - loss: 27.6948 - mape: 11.4307 - val_loss: 78.2301 - val_mape: 6.1757\n",
      "Epoch 23/50\n",
      "135/135 [==============================] - 1s 8ms/step - loss: 28.1057 - mape: 11.1218 - val_loss: 222.5523 - val_mape: 10.9735\n",
      "Epoch 24/50\n",
      "135/135 [==============================] - 1s 8ms/step - loss: 27.6920 - mape: 11.0371 - val_loss: 114.5432 - val_mape: 7.4829\n",
      "Epoch 25/50\n",
      "135/135 [==============================] - 1s 7ms/step - loss: 35.7049 - mape: 12.3454 - val_loss: 363.4192 - val_mape: 14.5236\n",
      "Epoch 26/50\n",
      "135/135 [==============================] - 1s 8ms/step - loss: 28.8810 - mape: 10.7928 - val_loss: 55.9193 - val_mape: 5.2645\n",
      "Epoch 27/50\n",
      "135/135 [==============================] - 1s 7ms/step - loss: 26.6371 - mape: 10.9229 - val_loss: 176.6504 - val_mape: 9.5780\n",
      "Epoch 28/50\n",
      "135/135 [==============================] - 1s 8ms/step - loss: 26.1277 - mape: 10.9468 - val_loss: 131.0246 - val_mape: 8.2124\n",
      "Epoch 29/50\n",
      "135/135 [==============================] - 1s 8ms/step - loss: 29.3587 - mape: 11.0312 - val_loss: 46.4501 - val_mape: 4.8450\n",
      "Epoch 30/50\n",
      "135/135 [==============================] - 1s 8ms/step - loss: 26.7868 - mape: 10.7714 - val_loss: 116.9577 - val_mape: 7.6048\n",
      "Epoch 31/50\n",
      "135/135 [==============================] - 1s 8ms/step - loss: 26.6064 - mape: 10.5524 - val_loss: 72.1453 - val_mape: 5.9062\n",
      "Epoch 32/50\n",
      "135/135 [==============================] - 1s 8ms/step - loss: 28.6174 - mape: 10.7803 - val_loss: 177.8034 - val_mape: 9.5307\n",
      "Epoch 33/50\n",
      "135/135 [==============================] - 1s 7ms/step - loss: 25.8737 - mape: 10.3617 - val_loss: 120.1012 - val_mape: 7.5729\n",
      "Epoch 34/50\n",
      "133/135 [============================>.] - ETA: 0s - loss: 26.0506 - mape: 10.3103INFO:tensorflow:Assets written to: ./models\\15.54_34men_5_lstm_1_dense_2_unit_32\\assets\n"
     ]
    },
    {
     "name": "stderr",
     "output_type": "stream",
     "text": [
      "INFO:tensorflow:Assets written to: ./models\\15.54_34men_5_lstm_1_dense_2_unit_32\\assets\n"
     ]
    },
    {
     "name": "stdout",
     "output_type": "stream",
     "text": [
      "135/135 [==============================] - 4s 31ms/step - loss: 26.1027 - mape: 10.3177 - val_loss: 403.7959 - val_mape: 15.5422\n",
      "Epoch 35/50\n",
      "135/135 [==============================] - 1s 8ms/step - loss: 27.0927 - mape: 10.5408 - val_loss: 91.5375 - val_mape: 6.6832\n",
      "Epoch 36/50\n",
      "135/135 [==============================] - 1s 9ms/step - loss: 29.1992 - mape: 10.9035 - val_loss: 91.2169 - val_mape: 6.7138\n",
      "Epoch 37/50\n",
      "135/135 [==============================] - 1s 9ms/step - loss: 27.8647 - mape: 10.3695 - val_loss: 280.4424 - val_mape: 12.7041\n",
      "Epoch 38/50\n",
      "135/135 [==============================] - 1s 8ms/step - loss: 26.5866 - mape: 10.2056 - val_loss: 173.5361 - val_mape: 9.5813\n",
      "Epoch 39/50\n",
      "135/135 [==============================] - 1s 9ms/step - loss: 26.8073 - mape: 10.4420 - val_loss: 304.6512 - val_mape: 13.3114\n",
      "Epoch 40/50\n",
      "135/135 [==============================] - 1s 8ms/step - loss: 28.0964 - mape: 10.2814 - val_loss: 118.1271 - val_mape: 7.5741\n",
      "Epoch 41/50\n",
      "135/135 [==============================] - 1s 8ms/step - loss: 23.3032 - mape: 9.8653 - val_loss: 219.0857 - val_mape: 11.0212\n",
      "Epoch 42/50\n",
      "135/135 [==============================] - 1s 9ms/step - loss: 24.4712 - mape: 9.8885 - val_loss: 83.8472 - val_mape: 6.5056\n",
      "Epoch 43/50\n",
      "135/135 [==============================] - 1s 8ms/step - loss: 23.9569 - mape: 9.6289 - val_loss: 184.6830 - val_mape: 9.9604\n",
      "Epoch 44/50\n",
      "135/135 [==============================] - 1s 8ms/step - loss: 25.3022 - mape: 9.7368 - val_loss: 328.4679 - val_mape: 14.1331\n",
      "Epoch 45/50\n",
      "135/135 [==============================] - 1s 8ms/step - loss: 24.5919 - mape: 9.8149 - val_loss: 334.2532 - val_mape: 13.9694\n",
      "Epoch 46/50\n",
      "135/135 [==============================] - 1s 8ms/step - loss: 25.8931 - mape: 10.0211 - val_loss: 154.8973 - val_mape: 9.0122\n",
      "Epoch 47/50\n",
      "135/135 [==============================] - 1s 8ms/step - loss: 25.1322 - mape: 10.0142 - val_loss: 213.0083 - val_mape: 10.8442\n",
      "Epoch 48/50\n",
      "135/135 [==============================] - 1s 8ms/step - loss: 24.5819 - mape: 9.6584 - val_loss: 292.9642 - val_mape: 13.2305\n",
      "Epoch 49/50\n",
      "135/135 [==============================] - 1s 8ms/step - loss: 23.3184 - mape: 9.7252 - val_loss: 175.8917 - val_mape: 9.6524\n",
      "Epoch 50/50\n",
      "135/135 [==============================] - 1s 8ms/step - loss: 22.2329 - mape: 9.5059 - val_loss: 136.1298 - val_mape: 8.2623\n",
      "Epoch 1/50\n",
      "132/135 [============================>.] - ETA: 0s - loss: 1687.4784 - mape: 95.6050INFO:tensorflow:Assets written to: ./models\\68.38_01men_5_lstm_1_dense_3_unit_8\\assets\n"
     ]
    },
    {
     "name": "stderr",
     "output_type": "stream",
     "text": [
      "INFO:tensorflow:Assets written to: ./models\\68.38_01men_5_lstm_1_dense_3_unit_8\\assets\n"
     ]
    },
    {
     "name": "stdout",
     "output_type": "stream",
     "text": [
      "135/135 [==============================] - 7s 29ms/step - loss: 1683.1084 - mape: 95.2916 - val_loss: 6349.4297 - val_mape: 68.3817\n",
      "Epoch 2/50\n",
      "135/135 [==============================] - 1s 6ms/step - loss: 427.7182 - mape: 46.7872 - val_loss: 202.6886 - val_mape: 10.2074\n",
      "Epoch 3/50\n",
      "135/135 [==============================] - 1s 6ms/step - loss: 204.1224 - mape: 30.9018 - val_loss: 436.5526 - val_mape: 15.7448\n",
      "Epoch 4/50\n",
      "135/135 [==============================] - 1s 7ms/step - loss: 164.3940 - mape: 27.1670 - val_loss: 434.6488 - val_mape: 16.1449\n",
      "Epoch 5/50\n",
      "135/135 [==============================] - 1s 6ms/step - loss: 154.8441 - mape: 26.2129 - val_loss: 307.2017 - val_mape: 12.8001\n",
      "Epoch 6/50\n",
      "135/135 [==============================] - 1s 6ms/step - loss: 124.8186 - mape: 23.8805 - val_loss: 816.1496 - val_mape: 22.7146\n",
      "Epoch 7/50\n",
      "135/135 [==============================] - 1s 6ms/step - loss: 125.4784 - mape: 22.8802 - val_loss: 712.1841 - val_mape: 21.3127\n",
      "Epoch 8/50\n",
      "135/135 [==============================] - 1s 6ms/step - loss: 107.2004 - mape: 22.6394 - val_loss: 689.8802 - val_mape: 20.7598\n",
      "Epoch 9/50\n",
      "135/135 [==============================] - 1s 6ms/step - loss: 110.4690 - mape: 21.9110 - val_loss: 1190.2534 - val_mape: 27.9593\n",
      "Epoch 10/50\n",
      "135/135 [==============================] - 1s 6ms/step - loss: 112.6432 - mape: 22.2809 - val_loss: 841.2792 - val_mape: 23.2713\n",
      "Epoch 11/50\n",
      "135/135 [==============================] - 1s 6ms/step - loss: 105.0766 - mape: 21.8773 - val_loss: 564.0825 - val_mape: 18.8006\n",
      "Epoch 12/50\n",
      "135/135 [==============================] - 1s 6ms/step - loss: 113.7807 - mape: 22.4124 - val_loss: 711.4683 - val_mape: 21.1896\n",
      "Epoch 13/50\n",
      "135/135 [==============================] - 1s 6ms/step - loss: 102.9574 - mape: 21.4843 - val_loss: 590.7200 - val_mape: 19.0332\n",
      "Epoch 14/50\n",
      "135/135 [==============================] - 1s 6ms/step - loss: 97.8948 - mape: 21.5946 - val_loss: 694.6012 - val_mape: 21.2802\n",
      "Epoch 15/50\n",
      "135/135 [==============================] - 1s 6ms/step - loss: 96.5242 - mape: 21.6413 - val_loss: 421.5512 - val_mape: 15.9763\n",
      "Epoch 16/50\n",
      "135/135 [==============================] - 1s 6ms/step - loss: 110.8421 - mape: 21.7151 - val_loss: 1118.8107 - val_mape: 27.2029\n",
      "Epoch 17/50\n",
      "135/135 [==============================] - 1s 6ms/step - loss: 110.3235 - mape: 22.0306 - val_loss: 602.8799 - val_mape: 19.4907\n",
      "Epoch 18/50\n",
      "135/135 [==============================] - 1s 6ms/step - loss: 93.2985 - mape: 21.5042 - val_loss: 874.2880 - val_mape: 23.7934\n",
      "Epoch 19/50\n",
      "135/135 [==============================] - 1s 6ms/step - loss: 101.3852 - mape: 21.9859 - val_loss: 155.0195 - val_mape: 8.7697\n",
      "Epoch 20/50\n",
      "135/135 [==============================] - 1s 6ms/step - loss: 103.5336 - mape: 22.2828 - val_loss: 834.3378 - val_mape: 23.1414\n",
      "Epoch 21/50\n",
      "135/135 [==============================] - 1s 6ms/step - loss: 96.6618 - mape: 21.5114 - val_loss: 854.5870 - val_mape: 23.6229\n",
      "Epoch 22/50\n",
      "135/135 [==============================] - 1s 6ms/step - loss: 100.1854 - mape: 21.9440 - val_loss: 1027.8820 - val_mape: 26.1110\n",
      "Epoch 23/50\n",
      "135/135 [==============================] - 1s 7ms/step - loss: 109.2051 - mape: 22.1563 - val_loss: 1096.5546 - val_mape: 27.0172\n",
      "Epoch 24/50\n",
      "135/135 [==============================] - 1s 6ms/step - loss: 99.9059 - mape: 21.9826 - val_loss: 676.5221 - val_mape: 20.9232\n",
      "Epoch 25/50\n",
      "135/135 [==============================] - 1s 6ms/step - loss: 97.0608 - mape: 21.8734 - val_loss: 771.5725 - val_mape: 22.5184\n",
      "Epoch 26/50\n",
      "135/135 [==============================] - 1s 6ms/step - loss: 93.9224 - mape: 21.6854 - val_loss: 700.8134 - val_mape: 21.4354\n",
      "Epoch 27/50\n",
      "135/135 [==============================] - 1s 6ms/step - loss: 88.1180 - mape: 21.6216 - val_loss: 698.0839 - val_mape: 21.3535\n",
      "Epoch 28/50\n",
      "135/135 [==============================] - 1s 6ms/step - loss: 92.7421 - mape: 21.4492 - val_loss: 527.8422 - val_mape: 18.1037\n",
      "Epoch 29/50\n",
      "135/135 [==============================] - 1s 7ms/step - loss: 95.9731 - mape: 21.6114 - val_loss: 868.9421 - val_mape: 23.8640\n",
      "Epoch 30/50\n",
      "135/135 [==============================] - 1s 6ms/step - loss: 89.7671 - mape: 21.5182 - val_loss: 723.1509 - val_mape: 21.7461\n",
      "Epoch 31/50\n",
      "135/135 [==============================] - 1s 6ms/step - loss: 91.7511 - mape: 21.3888 - val_loss: 470.0176 - val_mape: 17.2324\n",
      "Epoch 32/50\n",
      "135/135 [==============================] - 1s 6ms/step - loss: 86.9384 - mape: 21.5121 - val_loss: 898.0071 - val_mape: 24.3862\n",
      "Epoch 33/50\n",
      "135/135 [==============================] - 1s 6ms/step - loss: 83.0455 - mape: 21.1276 - val_loss: 608.5096 - val_mape: 19.7029\n",
      "Epoch 34/50\n",
      "135/135 [==============================] - 1s 6ms/step - loss: 81.7400 - mape: 21.3156 - val_loss: 948.1529 - val_mape: 24.8182\n",
      "Epoch 35/50\n",
      "135/135 [==============================] - 1s 6ms/step - loss: 89.2753 - mape: 21.3742 - val_loss: 520.1541 - val_mape: 18.0755\n",
      "Epoch 36/50\n",
      "135/135 [==============================] - 1s 6ms/step - loss: 93.5754 - mape: 21.3838 - val_loss: 521.3266 - val_mape: 18.4145\n",
      "Epoch 37/50\n",
      "135/135 [==============================] - 1s 6ms/step - loss: 84.0865 - mape: 21.0435 - val_loss: 937.6212 - val_mape: 25.0124\n",
      "Epoch 38/50\n",
      "135/135 [==============================] - 1s 6ms/step - loss: 83.8580 - mape: 20.8225 - val_loss: 1003.2455 - val_mape: 25.6896\n",
      "Epoch 39/50\n",
      "135/135 [==============================] - 1s 6ms/step - loss: 86.4169 - mape: 20.9515 - val_loss: 687.0145 - val_mape: 21.0748\n",
      "Epoch 40/50\n",
      "135/135 [==============================] - 1s 6ms/step - loss: 87.8120 - mape: 21.0882 - val_loss: 488.1072 - val_mape: 17.3727\n",
      "Epoch 41/50\n",
      "135/135 [==============================] - 1s 6ms/step - loss: 83.9399 - mape: 21.0559 - val_loss: 797.5499 - val_mape: 23.0273\n",
      "Epoch 42/50\n",
      "135/135 [==============================] - 1s 6ms/step - loss: 84.8177 - mape: 21.3709 - val_loss: 825.6162 - val_mape: 23.2784\n",
      "Epoch 43/50\n",
      "135/135 [==============================] - 1s 6ms/step - loss: 86.8833 - mape: 21.1269 - val_loss: 716.7418 - val_mape: 21.7448\n",
      "Epoch 44/50\n",
      "135/135 [==============================] - 1s 6ms/step - loss: 91.5483 - mape: 21.5367 - val_loss: 274.2268 - val_mape: 12.5695\n",
      "Epoch 45/50\n",
      "135/135 [==============================] - 1s 5ms/step - loss: 97.9591 - mape: 21.3084 - val_loss: 580.3758 - val_mape: 19.2577\n",
      "Epoch 46/50\n",
      "135/135 [==============================] - 1s 6ms/step - loss: 80.5393 - mape: 20.7863 - val_loss: 885.0333 - val_mape: 24.2229\n",
      "Epoch 47/50\n",
      "135/135 [==============================] - 1s 5ms/step - loss: 86.9534 - mape: 20.9209 - val_loss: 686.8697 - val_mape: 21.0982\n",
      "Epoch 48/50\n",
      "135/135 [==============================] - 1s 6ms/step - loss: 88.1966 - mape: 21.1488 - val_loss: 796.2093 - val_mape: 22.7293\n",
      "Epoch 49/50\n",
      "135/135 [==============================] - 1s 6ms/step - loss: 76.3251 - mape: 20.7857 - val_loss: 560.1457 - val_mape: 18.7510\n",
      "Epoch 50/50\n",
      "135/135 [==============================] - 1s 6ms/step - loss: 86.5761 - mape: 21.0333 - val_loss: 664.2056 - val_mape: 20.7590\n",
      "Epoch 1/50\n",
      "134/134 [==============================] - ETA: 0s - loss: 1089.7201 - mape: 74.4205INFO:tensorflow:Assets written to: ./models\\21.66_01men_5_lstm_1_dense_3_unit_16\\assets\n"
     ]
    },
    {
     "name": "stderr",
     "output_type": "stream",
     "text": [
      "INFO:tensorflow:Assets written to: ./models\\21.66_01men_5_lstm_1_dense_3_unit_16\\assets\n"
     ]
    },
    {
     "name": "stdout",
     "output_type": "stream",
     "text": [
      "134/134 [==============================] - 6s 28ms/step - loss: 1089.7201 - mape: 74.4205 - val_loss: 692.0071 - val_mape: 21.6598\n",
      "Epoch 2/50\n",
      "127/134 [===========================>..] - ETA: 0s - loss: 173.4621 - mape: 31.1573INFO:tensorflow:Assets written to: ./models\\24.80_02men_5_lstm_1_dense_3_unit_16\\assets\n"
     ]
    },
    {
     "name": "stderr",
     "output_type": "stream",
     "text": [
      "INFO:tensorflow:Assets written to: ./models\\24.80_02men_5_lstm_1_dense_3_unit_16\\assets\n"
     ]
    },
    {
     "name": "stdout",
     "output_type": "stream",
     "text": [
      "134/134 [==============================] - 4s 29ms/step - loss: 171.5964 - mape: 31.2385 - val_loss: 925.7362 - val_mape: 24.7961\n",
      "Epoch 3/50\n",
      "134/134 [==============================] - 1s 7ms/step - loss: 127.9727 - mape: 26.6183 - val_loss: 184.7877 - val_mape: 9.3038\n",
      "Epoch 4/50\n",
      "134/134 [==============================] - 1s 7ms/step - loss: 104.0406 - mape: 23.1422 - val_loss: 774.6992 - val_mape: 22.2575\n",
      "Epoch 5/50\n",
      "134/134 [==============================] - 1s 7ms/step - loss: 85.0236 - mape: 20.5500 - val_loss: 123.1989 - val_mape: 7.7146\n",
      "Epoch 6/50\n",
      "134/134 [==============================] - 1s 7ms/step - loss: 81.9489 - mape: 19.3913 - val_loss: 169.1460 - val_mape: 9.3751\n",
      "Epoch 7/50\n",
      "134/134 [==============================] - 1s 6ms/step - loss: 74.5843 - mape: 18.2736 - val_loss: 592.5020 - val_mape: 19.2937\n",
      "Epoch 8/50\n",
      "134/134 [==============================] - 1s 6ms/step - loss: 82.0406 - mape: 18.6413 - val_loss: 682.8517 - val_mape: 21.4988\n",
      "Epoch 9/50\n",
      "134/134 [==============================] - 1s 6ms/step - loss: 73.8418 - mape: 19.1874 - val_loss: 174.2138 - val_mape: 9.6347\n",
      "Epoch 10/50\n",
      "134/134 [==============================] - 1s 6ms/step - loss: 68.8824 - mape: 18.2230 - val_loss: 458.4115 - val_mape: 16.6104\n",
      "Epoch 11/50\n",
      "134/134 [==============================] - 1s 6ms/step - loss: 79.2768 - mape: 17.4266 - val_loss: 780.4435 - val_mape: 22.6314\n",
      "Epoch 12/50\n",
      "134/134 [==============================] - 1s 6ms/step - loss: 65.3595 - mape: 16.5348 - val_loss: 607.4105 - val_mape: 19.4820\n",
      "Epoch 13/50\n",
      "134/134 [==============================] - 1s 6ms/step - loss: 66.4185 - mape: 16.3673 - val_loss: 488.9435 - val_mape: 17.2665\n",
      "Epoch 14/50\n",
      "134/134 [==============================] - 1s 6ms/step - loss: 62.5072 - mape: 16.1104 - val_loss: 373.9345 - val_mape: 15.0044\n",
      "Epoch 15/50\n",
      "134/134 [==============================] - 1s 6ms/step - loss: 62.0633 - mape: 15.8857 - val_loss: 654.4046 - val_mape: 20.2907\n",
      "Epoch 16/50\n",
      "134/134 [==============================] - 1s 6ms/step - loss: 63.4268 - mape: 16.1111 - val_loss: 375.1884 - val_mape: 14.9960\n",
      "Epoch 17/50\n",
      "133/134 [============================>.] - ETA: 0s - loss: 58.5168 - mape: 15.6738INFO:tensorflow:Assets written to: ./models\\25.24_17men_5_lstm_1_dense_3_unit_16\\assets\n"
     ]
    },
    {
     "name": "stderr",
     "output_type": "stream",
     "text": [
      "INFO:tensorflow:Assets written to: ./models\\25.24_17men_5_lstm_1_dense_3_unit_16\\assets\n"
     ]
    },
    {
     "name": "stdout",
     "output_type": "stream",
     "text": [
      "134/134 [==============================] - 3s 25ms/step - loss: 58.6415 - mape: 15.7191 - val_loss: 970.3177 - val_mape: 25.2435\n",
      "Epoch 18/50\n",
      "134/134 [==============================] - 1s 6ms/step - loss: 60.8055 - mape: 15.9958 - val_loss: 566.1534 - val_mape: 19.3088\n",
      "Epoch 19/50\n",
      "134/134 [==============================] - 1s 6ms/step - loss: 57.7705 - mape: 15.9609 - val_loss: 855.8275 - val_mape: 23.3426\n",
      "Epoch 20/50\n",
      "134/134 [==============================] - 1s 6ms/step - loss: 58.3488 - mape: 15.8501 - val_loss: 674.2873 - val_mape: 20.7512\n",
      "Epoch 21/50\n",
      "131/134 [============================>.] - ETA: 0s - loss: 62.0823 - mape: 16.3268INFO:tensorflow:Assets written to: ./models\\25.53_21men_5_lstm_1_dense_3_unit_16\\assets\n"
     ]
    },
    {
     "name": "stderr",
     "output_type": "stream",
     "text": [
      "INFO:tensorflow:Assets written to: ./models\\25.53_21men_5_lstm_1_dense_3_unit_16\\assets\n"
     ]
    },
    {
     "name": "stdout",
     "output_type": "stream",
     "text": [
      "134/134 [==============================] - 4s 29ms/step - loss: 61.6093 - mape: 16.3112 - val_loss: 962.5561 - val_mape: 25.5332\n",
      "Epoch 22/50\n",
      "134/134 [==============================] - 1s 6ms/step - loss: 55.2358 - mape: 15.9639 - val_loss: 961.4833 - val_mape: 25.3032\n",
      "Epoch 23/50\n",
      "134/134 [==============================] - 1s 7ms/step - loss: 55.6479 - mape: 16.3469 - val_loss: 219.6342 - val_mape: 10.6156\n",
      "Epoch 24/50\n",
      "134/134 [==============================] - 1s 7ms/step - loss: 56.4052 - mape: 16.2337 - val_loss: 545.4387 - val_mape: 18.2731\n",
      "Epoch 25/50\n",
      "134/134 [==============================] - 1s 6ms/step - loss: 54.2055 - mape: 15.8021 - val_loss: 657.8357 - val_mape: 20.4172\n",
      "Epoch 26/50\n",
      "134/134 [==============================] - 1s 6ms/step - loss: 52.8224 - mape: 15.9817 - val_loss: 460.6647 - val_mape: 16.9310\n",
      "Epoch 27/50\n",
      "134/134 [==============================] - 1s 6ms/step - loss: 52.6904 - mape: 16.2706 - val_loss: 484.3170 - val_mape: 17.2562\n",
      "Epoch 28/50\n",
      "134/134 [==============================] - 1s 6ms/step - loss: 48.6028 - mape: 15.8186 - val_loss: 482.7357 - val_mape: 17.5734\n",
      "Epoch 29/50\n",
      "134/134 [==============================] - 1s 6ms/step - loss: 54.0509 - mape: 16.3415 - val_loss: 879.5074 - val_mape: 23.8247\n",
      "Epoch 30/50\n",
      "133/134 [============================>.] - ETA: 0s - loss: 52.0477 - mape: 15.9008INFO:tensorflow:Assets written to: ./models\\25.90_30men_5_lstm_1_dense_3_unit_16\\assets\n"
     ]
    },
    {
     "name": "stderr",
     "output_type": "stream",
     "text": [
      "INFO:tensorflow:Assets written to: ./models\\25.90_30men_5_lstm_1_dense_3_unit_16\\assets\n"
     ]
    },
    {
     "name": "stdout",
     "output_type": "stream",
     "text": [
      "134/134 [==============================] - 3s 25ms/step - loss: 51.8459 - mape: 15.9436 - val_loss: 1005.4462 - val_mape: 25.9034\n",
      "Epoch 31/50\n",
      "134/134 [==============================] - 1s 6ms/step - loss: 51.7361 - mape: 15.8147 - val_loss: 119.1423 - val_mape: 7.6913\n",
      "Epoch 32/50\n",
      "134/134 [==============================] - 1s 6ms/step - loss: 50.9489 - mape: 16.4805 - val_loss: 619.4241 - val_mape: 19.8570\n",
      "Epoch 33/50\n",
      "134/134 [==============================] - 1s 6ms/step - loss: 48.4930 - mape: 16.2501 - val_loss: 647.6074 - val_mape: 20.2541\n",
      "Epoch 34/50\n",
      "134/134 [==============================] - 1s 6ms/step - loss: 51.1438 - mape: 15.7994 - val_loss: 500.8590 - val_mape: 17.5946\n",
      "Epoch 35/50\n",
      "134/134 [==============================] - 1s 7ms/step - loss: 45.2595 - mape: 15.7109 - val_loss: 875.0950 - val_mape: 23.7941\n",
      "Epoch 36/50\n",
      "134/134 [==============================] - 1s 6ms/step - loss: 46.2011 - mape: 15.7943 - val_loss: 979.2617 - val_mape: 25.0903\n",
      "Epoch 37/50\n",
      "134/134 [==============================] - 1s 6ms/step - loss: 50.7166 - mape: 15.9228 - val_loss: 985.9020 - val_mape: 25.3004\n",
      "Epoch 38/50\n",
      "134/134 [==============================] - 1s 6ms/step - loss: 50.5342 - mape: 16.0658 - val_loss: 736.6821 - val_mape: 21.7823\n",
      "Epoch 39/50\n",
      "134/134 [==============================] - 1s 6ms/step - loss: 47.4339 - mape: 16.1912 - val_loss: 1010.1713 - val_mape: 25.8062\n",
      "Epoch 40/50\n",
      "134/134 [==============================] - 1s 6ms/step - loss: 44.9401 - mape: 15.7437 - val_loss: 706.4432 - val_mape: 20.9810\n",
      "Epoch 41/50\n",
      "134/134 [==============================] - 1s 6ms/step - loss: 48.0785 - mape: 15.7867 - val_loss: 673.4347 - val_mape: 20.8162\n",
      "Epoch 42/50\n",
      "134/134 [==============================] - 1s 7ms/step - loss: 47.6180 - mape: 15.5662 - val_loss: 584.4245 - val_mape: 19.1734\n",
      "Epoch 43/50\n",
      "134/134 [==============================] - 1s 6ms/step - loss: 50.8484 - mape: 15.5966 - val_loss: 841.8706 - val_mape: 23.4235\n",
      "Epoch 44/50\n",
      "134/134 [==============================] - 1s 6ms/step - loss: 48.3678 - mape: 15.6752 - val_loss: 585.8699 - val_mape: 19.2952\n",
      "Epoch 45/50\n",
      "134/134 [==============================] - 1s 7ms/step - loss: 47.4371 - mape: 15.9207 - val_loss: 845.9769 - val_mape: 23.3428\n",
      "Epoch 46/50\n",
      "134/134 [==============================] - 1s 7ms/step - loss: 45.6879 - mape: 15.4675 - val_loss: 650.1078 - val_mape: 20.2955\n",
      "Epoch 47/50\n",
      "132/134 [============================>.] - ETA: 0s - loss: 42.7276 - mape: 15.4316INFO:tensorflow:Assets written to: ./models\\28.58_47men_5_lstm_1_dense_3_unit_16\\assets\n"
     ]
    },
    {
     "name": "stderr",
     "output_type": "stream",
     "text": [
      "INFO:tensorflow:Assets written to: ./models\\28.58_47men_5_lstm_1_dense_3_unit_16\\assets\n"
     ]
    },
    {
     "name": "stdout",
     "output_type": "stream",
     "text": [
      "134/134 [==============================] - 4s 26ms/step - loss: 43.0564 - mape: 15.4537 - val_loss: 1219.6321 - val_mape: 28.5781\n",
      "Epoch 48/50\n",
      "134/134 [==============================] - 1s 6ms/step - loss: 44.0060 - mape: 15.0777 - val_loss: 463.6453 - val_mape: 17.3395\n",
      "Epoch 49/50\n",
      "134/134 [==============================] - 1s 6ms/step - loss: 45.1503 - mape: 15.6314 - val_loss: 823.8894 - val_mape: 23.2149\n",
      "Epoch 50/50\n",
      "134/134 [==============================] - 1s 6ms/step - loss: 44.9516 - mape: 14.9655 - val_loss: 1047.9152 - val_mape: 26.3501\n",
      "Epoch 1/50\n",
      "129/134 [===========================>..] - ETA: 0s - loss: 699.2925 - mape: 61.0256INFO:tensorflow:Assets written to: ./models\\19.98_01men_5_lstm_1_dense_3_unit_32\\assets\n"
     ]
    },
    {
     "name": "stderr",
     "output_type": "stream",
     "text": [
      "INFO:tensorflow:Assets written to: ./models\\19.98_01men_5_lstm_1_dense_3_unit_32\\assets\n"
     ]
    },
    {
     "name": "stdout",
     "output_type": "stream",
     "text": [
      "134/134 [==============================] - 7s 28ms/step - loss: 677.3522 - mape: 59.7846 - val_loss: 693.0173 - val_mape: 19.9826\n",
      "Epoch 2/50\n",
      "134/134 [==============================] - 1s 7ms/step - loss: 88.9301 - mape: 25.2558 - val_loss: 443.7321 - val_mape: 16.6912\n",
      "Epoch 3/50\n",
      "134/134 [==============================] - 1s 7ms/step - loss: 64.7418 - mape: 21.6669 - val_loss: 247.7847 - val_mape: 11.9438\n",
      "Epoch 4/50\n",
      "134/134 [==============================] - 1s 8ms/step - loss: 50.5898 - mape: 18.8274 - val_loss: 308.8219 - val_mape: 13.4000\n",
      "Epoch 5/50\n",
      "133/134 [============================>.] - ETA: 0s - loss: 46.7479 - mape: 17.6742INFO:tensorflow:Assets written to: ./models\\21.80_05men_5_lstm_1_dense_3_unit_32\\assets\n"
     ]
    },
    {
     "name": "stderr",
     "output_type": "stream",
     "text": [
      "INFO:tensorflow:Assets written to: ./models\\21.80_05men_5_lstm_1_dense_3_unit_32\\assets\n"
     ]
    },
    {
     "name": "stdout",
     "output_type": "stream",
     "text": [
      "134/134 [==============================] - 4s 27ms/step - loss: 46.7704 - mape: 17.7571 - val_loss: 753.6870 - val_mape: 21.8029\n",
      "Epoch 6/50\n",
      "134/134 [==============================] - 1s 7ms/step - loss: 48.9841 - mape: 17.5426 - val_loss: 157.1795 - val_mape: 9.0854\n",
      "Epoch 7/50\n",
      "134/134 [==============================] - 1s 7ms/step - loss: 44.5228 - mape: 15.9013 - val_loss: 625.8271 - val_mape: 20.2547\n",
      "Epoch 8/50\n",
      "134/134 [==============================] - 1s 7ms/step - loss: 44.1289 - mape: 16.0609 - val_loss: 183.8363 - val_mape: 9.6726\n",
      "Epoch 9/50\n",
      "134/134 [==============================] - 1s 7ms/step - loss: 44.7513 - mape: 15.6231 - val_loss: 241.5885 - val_mape: 11.8219\n",
      "Epoch 10/50\n",
      "134/134 [==============================] - 1s 7ms/step - loss: 34.5570 - mape: 14.7370 - val_loss: 563.4737 - val_mape: 19.2221\n",
      "Epoch 11/50\n",
      "128/134 [===========================>..] - ETA: 0s - loss: 40.2440 - mape: 15.2979INFO:tensorflow:Assets written to: ./models\\21.86_11men_5_lstm_1_dense_3_unit_32\\assets\n"
     ]
    },
    {
     "name": "stderr",
     "output_type": "stream",
     "text": [
      "INFO:tensorflow:Assets written to: ./models\\21.86_11men_5_lstm_1_dense_3_unit_32\\assets\n"
     ]
    },
    {
     "name": "stdout",
     "output_type": "stream",
     "text": [
      "134/134 [==============================] - 4s 32ms/step - loss: 39.8036 - mape: 15.2787 - val_loss: 725.0743 - val_mape: 21.8557\n",
      "Epoch 12/50\n",
      "134/134 [==============================] - 1s 8ms/step - loss: 39.3925 - mape: 14.9080 - val_loss: 98.7339 - val_mape: 7.0559\n",
      "Epoch 13/50\n",
      "134/134 [==============================] - 1s 8ms/step - loss: 33.8562 - mape: 13.4513 - val_loss: 476.6874 - val_mape: 17.4713\n",
      "Epoch 14/50\n",
      "134/134 [==============================] - 1s 7ms/step - loss: 34.1586 - mape: 13.1845 - val_loss: 356.8628 - val_mape: 14.9755\n",
      "Epoch 15/50\n",
      "134/134 [==============================] - 1s 7ms/step - loss: 34.7489 - mape: 13.2012 - val_loss: 354.1117 - val_mape: 14.8510\n",
      "Epoch 16/50\n",
      "134/134 [==============================] - 1s 7ms/step - loss: 33.1117 - mape: 13.9136 - val_loss: 286.8872 - val_mape: 12.9382\n",
      "Epoch 17/50\n",
      "134/134 [==============================] - 1s 8ms/step - loss: 33.8666 - mape: 13.5287 - val_loss: 176.2914 - val_mape: 9.7518\n",
      "Epoch 18/50\n",
      "134/134 [==============================] - 1s 8ms/step - loss: 30.3432 - mape: 12.3751 - val_loss: 521.2088 - val_mape: 18.0206\n",
      "Epoch 19/50\n",
      "134/134 [==============================] - 1s 8ms/step - loss: 30.6473 - mape: 12.1871 - val_loss: 390.9588 - val_mape: 15.5369\n",
      "Epoch 20/50\n",
      "134/134 [==============================] - 1s 7ms/step - loss: 30.6109 - mape: 12.5502 - val_loss: 510.2468 - val_mape: 17.6462\n",
      "Epoch 21/50\n",
      "134/134 [==============================] - 1s 7ms/step - loss: 29.9837 - mape: 12.5236 - val_loss: 320.3915 - val_mape: 13.7502\n",
      "Epoch 22/50\n",
      "127/134 [===========================>..] - ETA: 0s - loss: 27.7129 - mape: 11.9521INFO:tensorflow:Assets written to: ./models\\25.99_22men_5_lstm_1_dense_3_unit_32\\assets\n"
     ]
    },
    {
     "name": "stderr",
     "output_type": "stream",
     "text": [
      "INFO:tensorflow:Assets written to: ./models\\25.99_22men_5_lstm_1_dense_3_unit_32\\assets\n"
     ]
    },
    {
     "name": "stdout",
     "output_type": "stream",
     "text": [
      "134/134 [==============================] - 3s 26ms/step - loss: 27.8091 - mape: 11.9106 - val_loss: 1003.8200 - val_mape: 25.9914\n",
      "Epoch 23/50\n",
      "134/134 [==============================] - 1s 8ms/step - loss: 29.2362 - mape: 11.8743 - val_loss: 371.5857 - val_mape: 15.3569\n",
      "Epoch 24/50\n",
      "134/134 [==============================] - 1s 7ms/step - loss: 31.6323 - mape: 12.7370 - val_loss: 557.4883 - val_mape: 18.7222\n",
      "Epoch 25/50\n",
      "131/134 [============================>.] - ETA: 0s - loss: 26.3379 - mape: 11.8867INFO:tensorflow:Assets written to: ./models\\26.91_25men_5_lstm_1_dense_3_unit_32\\assets\n"
     ]
    },
    {
     "name": "stderr",
     "output_type": "stream",
     "text": [
      "INFO:tensorflow:Assets written to: ./models\\26.91_25men_5_lstm_1_dense_3_unit_32\\assets\n"
     ]
    },
    {
     "name": "stdout",
     "output_type": "stream",
     "text": [
      "134/134 [==============================] - 4s 32ms/step - loss: 26.7484 - mape: 11.8900 - val_loss: 1080.7408 - val_mape: 26.9111\n",
      "Epoch 26/50\n",
      "134/134 [==============================] - 1s 8ms/step - loss: 27.4391 - mape: 11.8015 - val_loss: 183.6222 - val_mape: 9.9761\n",
      "Epoch 27/50\n",
      "134/134 [==============================] - 1s 7ms/step - loss: 26.7703 - mape: 11.3552 - val_loss: 431.5386 - val_mape: 16.5288\n",
      "Epoch 28/50\n",
      "134/134 [==============================] - 1s 7ms/step - loss: 27.5653 - mape: 11.6783 - val_loss: 116.5858 - val_mape: 7.6050\n",
      "Epoch 29/50\n",
      "134/134 [==============================] - 1s 8ms/step - loss: 27.1353 - mape: 11.6160 - val_loss: 725.5961 - val_mape: 21.8178\n",
      "Epoch 30/50\n",
      "134/134 [==============================] - 1s 7ms/step - loss: 29.0872 - mape: 11.3827 - val_loss: 787.9465 - val_mape: 22.7952\n",
      "Epoch 31/50\n",
      "134/134 [==============================] - 1s 8ms/step - loss: 24.5255 - mape: 11.5325 - val_loss: 396.4757 - val_mape: 15.8012\n",
      "Epoch 32/50\n",
      "134/134 [==============================] - 1s 8ms/step - loss: 24.4331 - mape: 10.9195 - val_loss: 238.4266 - val_mape: 11.7812\n",
      "Epoch 33/50\n",
      "134/134 [==============================] - 1s 8ms/step - loss: 26.6010 - mape: 11.6246 - val_loss: 684.3289 - val_mape: 21.2966\n",
      "Epoch 34/50\n",
      "134/134 [==============================] - 1s 8ms/step - loss: 29.1667 - mape: 11.2517 - val_loss: 527.5502 - val_mape: 18.1872\n",
      "Epoch 35/50\n",
      "134/134 [==============================] - 1s 8ms/step - loss: 25.0944 - mape: 10.8056 - val_loss: 555.7833 - val_mape: 19.0493\n",
      "Epoch 36/50\n",
      "134/134 [==============================] - 1s 8ms/step - loss: 23.6246 - mape: 10.3496 - val_loss: 483.3448 - val_mape: 17.6465\n",
      "Epoch 37/50\n",
      "134/134 [==============================] - 1s 8ms/step - loss: 24.6347 - mape: 10.7762 - val_loss: 871.3943 - val_mape: 23.8983\n",
      "Epoch 38/50\n",
      "134/134 [==============================] - 1s 8ms/step - loss: 23.2343 - mape: 10.5008 - val_loss: 802.7922 - val_mape: 23.1306\n",
      "Epoch 39/50\n",
      "134/134 [==============================] - 1s 8ms/step - loss: 24.2139 - mape: 10.7052 - val_loss: 386.5889 - val_mape: 15.5411\n",
      "Epoch 40/50\n",
      "134/134 [==============================] - 1s 8ms/step - loss: 21.8183 - mape: 10.2710 - val_loss: 447.6423 - val_mape: 16.5326\n",
      "Epoch 41/50\n",
      "134/134 [==============================] - 1s 8ms/step - loss: 21.9989 - mape: 9.9861 - val_loss: 519.5167 - val_mape: 18.4831\n",
      "Epoch 42/50\n",
      "134/134 [==============================] - 1s 7ms/step - loss: 23.8920 - mape: 10.3805 - val_loss: 626.5224 - val_mape: 20.1133\n",
      "Epoch 43/50\n",
      "134/134 [==============================] - 1s 8ms/step - loss: 26.3018 - mape: 10.5453 - val_loss: 661.5660 - val_mape: 20.7235\n",
      "Epoch 44/50\n",
      "134/134 [==============================] - 1s 8ms/step - loss: 25.9505 - mape: 10.8114 - val_loss: 361.7809 - val_mape: 15.1281\n",
      "Epoch 45/50\n",
      "134/134 [==============================] - 1s 8ms/step - loss: 23.8840 - mape: 9.9250 - val_loss: 537.1605 - val_mape: 18.7011\n",
      "Epoch 46/50\n",
      "134/134 [==============================] - 1s 8ms/step - loss: 23.5374 - mape: 10.3937 - val_loss: 575.6586 - val_mape: 19.2289\n",
      "Epoch 47/50\n",
      "134/134 [==============================] - 1s 8ms/step - loss: 24.4817 - mape: 10.1708 - val_loss: 639.4754 - val_mape: 20.3545\n",
      "Epoch 48/50\n",
      "134/134 [==============================] - 1s 8ms/step - loss: 26.1623 - mape: 10.5308 - val_loss: 720.8001 - val_mape: 21.4533\n",
      "Epoch 49/50\n",
      "134/134 [==============================] - 1s 8ms/step - loss: 22.7435 - mape: 10.3766 - val_loss: 418.6523 - val_mape: 16.2767\n",
      "Epoch 50/50\n",
      "134/134 [==============================] - 1s 8ms/step - loss: 24.5711 - mape: 10.0363 - val_loss: 710.1794 - val_mape: 21.5544\n",
      "Epoch 1/50\n",
      "130/134 [============================>.] - ETA: 0s - loss: 1340.9855 - mape: 91.6864INFO:tensorflow:Assets written to: ./models\\7.60_01men_5_lstm_2_dense_1_unit_8\\assets\n"
     ]
    },
    {
     "name": "stderr",
     "output_type": "stream",
     "text": [
      "INFO:tensorflow:Assets written to: ./models\\7.60_01men_5_lstm_2_dense_1_unit_8\\assets\n"
     ]
    },
    {
     "name": "stdout",
     "output_type": "stream",
     "text": [
      "134/134 [==============================] - 8s 34ms/step - loss: 1319.1281 - mape: 91.1922 - val_loss: 114.4225 - val_mape: 7.6030\n",
      "Epoch 2/50\n",
      "134/134 [==============================] - ETA: 0s - loss: 249.1722 - mape: 37.7709INFO:tensorflow:Assets written to: ./models\\7.66_02men_5_lstm_2_dense_1_unit_8\\assets\n"
     ]
    },
    {
     "name": "stderr",
     "output_type": "stream",
     "text": [
      "INFO:tensorflow:Assets written to: ./models\\7.66_02men_5_lstm_2_dense_1_unit_8\\assets\n"
     ]
    },
    {
     "name": "stdout",
     "output_type": "stream",
     "text": [
      "134/134 [==============================] - 5s 38ms/step - loss: 249.1722 - mape: 37.7709 - val_loss: 117.6961 - val_mape: 7.6567\n",
      "Epoch 3/50\n",
      "134/134 [==============================] - 1s 7ms/step - loss: 171.8554 - mape: 27.7876 - val_loss: 101.8239 - val_mape: 7.0897\n",
      "Epoch 4/50\n",
      "130/134 [============================>.] - ETA: 0s - loss: 160.3866 - mape: 26.3411INFO:tensorflow:Assets written to: ./models\\20.57_04men_5_lstm_2_dense_1_unit_8\\assets\n"
     ]
    },
    {
     "name": "stderr",
     "output_type": "stream",
     "text": [
      "INFO:tensorflow:Assets written to: ./models\\20.57_04men_5_lstm_2_dense_1_unit_8\\assets\n"
     ]
    },
    {
     "name": "stdout",
     "output_type": "stream",
     "text": [
      "134/134 [==============================] - 4s 32ms/step - loss: 160.0217 - mape: 26.3185 - val_loss: 647.1651 - val_mape: 20.5743\n",
      "Epoch 5/50\n",
      "134/134 [==============================] - 1s 7ms/step - loss: 140.7688 - mape: 24.5535 - val_loss: 408.2299 - val_mape: 15.0070\n",
      "Epoch 6/50\n",
      "130/134 [============================>.] - ETA: 0s - loss: 110.4186 - mape: 23.2244INFO:tensorflow:Assets written to: ./models\\22.52_06men_5_lstm_2_dense_1_unit_8\\assets\n"
     ]
    },
    {
     "name": "stderr",
     "output_type": "stream",
     "text": [
      "INFO:tensorflow:Assets written to: ./models\\22.52_06men_5_lstm_2_dense_1_unit_8\\assets\n"
     ]
    },
    {
     "name": "stdout",
     "output_type": "stream",
     "text": [
      "134/134 [==============================] - 5s 36ms/step - loss: 110.0966 - mape: 23.1909 - val_loss: 825.0400 - val_mape: 22.5209\n",
      "Epoch 7/50\n",
      "134/134 [==============================] - 1s 7ms/step - loss: 106.2091 - mape: 21.6998 - val_loss: 88.7699 - val_mape: 6.5706\n",
      "Epoch 8/50\n",
      "134/134 [==============================] - 1s 7ms/step - loss: 110.2732 - mape: 22.5036 - val_loss: 641.5048 - val_mape: 19.9756\n",
      "Epoch 9/50\n",
      "134/134 [==============================] - 1s 7ms/step - loss: 91.0960 - mape: 20.7738 - val_loss: 435.2087 - val_mape: 15.9067\n",
      "Epoch 10/50\n",
      "134/134 [==============================] - 1s 7ms/step - loss: 91.6805 - mape: 19.9314 - val_loss: 530.6755 - val_mape: 17.6738\n",
      "Epoch 11/50\n",
      "134/134 [==============================] - 1s 7ms/step - loss: 91.1385 - mape: 20.2491 - val_loss: 549.7559 - val_mape: 17.9692\n",
      "Epoch 12/50\n",
      "134/134 [==============================] - 1s 7ms/step - loss: 82.6512 - mape: 18.7504 - val_loss: 695.6235 - val_mape: 20.9006\n",
      "Epoch 13/50\n",
      "134/134 [==============================] - 1s 7ms/step - loss: 93.1118 - mape: 18.9446 - val_loss: 392.3021 - val_mape: 15.0216\n",
      "Epoch 14/50\n",
      "134/134 [==============================] - 1s 7ms/step - loss: 89.0701 - mape: 19.1460 - val_loss: 390.6010 - val_mape: 14.4916\n",
      "Epoch 15/50\n",
      "134/134 [==============================] - 1s 7ms/step - loss: 85.1505 - mape: 18.8732 - val_loss: 429.3550 - val_mape: 16.0293\n",
      "Epoch 16/50\n",
      "128/134 [===========================>..] - ETA: 0s - loss: 94.0114 - mape: 19.1369INFO:tensorflow:Assets written to: ./models\\24.50_16men_5_lstm_2_dense_1_unit_8\\assets\n"
     ]
    },
    {
     "name": "stderr",
     "output_type": "stream",
     "text": [
      "INFO:tensorflow:Assets written to: ./models\\24.50_16men_5_lstm_2_dense_1_unit_8\\assets\n"
     ]
    },
    {
     "name": "stdout",
     "output_type": "stream",
     "text": [
      "134/134 [==============================] - 4s 30ms/step - loss: 93.3577 - mape: 19.1093 - val_loss: 909.1283 - val_mape: 24.4988\n",
      "Epoch 17/50\n",
      "134/134 [==============================] - 1s 7ms/step - loss: 76.7685 - mape: 18.4519 - val_loss: 593.3270 - val_mape: 19.3116\n",
      "Epoch 18/50\n",
      "134/134 [==============================] - 1s 8ms/step - loss: 87.5599 - mape: 18.5383 - val_loss: 378.0400 - val_mape: 15.0152\n",
      "Epoch 19/50\n",
      "134/134 [==============================] - 1s 8ms/step - loss: 82.4171 - mape: 17.4396 - val_loss: 630.0950 - val_mape: 19.8374\n",
      "Epoch 20/50\n",
      "134/134 [==============================] - 1s 7ms/step - loss: 81.0012 - mape: 17.3318 - val_loss: 456.1587 - val_mape: 16.9867\n",
      "Epoch 21/50\n",
      "134/134 [==============================] - 1s 7ms/step - loss: 87.5948 - mape: 17.9788 - val_loss: 157.0793 - val_mape: 9.1218\n",
      "Epoch 22/50\n",
      "134/134 [==============================] - 1s 7ms/step - loss: 84.7992 - mape: 17.6452 - val_loss: 328.2695 - val_mape: 13.7742\n",
      "Epoch 23/50\n",
      "134/134 [==============================] - 1s 7ms/step - loss: 81.7503 - mape: 17.3772 - val_loss: 157.6582 - val_mape: 9.1114\n",
      "Epoch 24/50\n",
      "134/134 [==============================] - 1s 7ms/step - loss: 88.1225 - mape: 17.7237 - val_loss: 269.3539 - val_mape: 12.3182\n",
      "Epoch 25/50\n",
      "134/134 [==============================] - 1s 7ms/step - loss: 70.5206 - mape: 17.3248 - val_loss: 596.9780 - val_mape: 19.4394\n",
      "Epoch 26/50\n",
      "134/134 [==============================] - 1s 7ms/step - loss: 74.4788 - mape: 17.1225 - val_loss: 526.9924 - val_mape: 18.1356\n",
      "Epoch 27/50\n",
      "134/134 [==============================] - 1s 7ms/step - loss: 86.8856 - mape: 17.3003 - val_loss: 452.8956 - val_mape: 16.6297\n",
      "Epoch 28/50\n",
      "134/134 [==============================] - 1s 7ms/step - loss: 69.1722 - mape: 16.7921 - val_loss: 198.2635 - val_mape: 10.4122\n",
      "Epoch 29/50\n",
      "134/134 [==============================] - 1s 7ms/step - loss: 74.9521 - mape: 16.7027 - val_loss: 318.3997 - val_mape: 13.6252\n",
      "Epoch 30/50\n",
      "134/134 [==============================] - 1s 7ms/step - loss: 74.5957 - mape: 16.3533 - val_loss: 517.2380 - val_mape: 17.9364\n",
      "Epoch 31/50\n",
      "134/134 [==============================] - 1s 7ms/step - loss: 71.8904 - mape: 16.1796 - val_loss: 397.0829 - val_mape: 15.1312\n",
      "Epoch 32/50\n",
      "134/134 [==============================] - 1s 7ms/step - loss: 83.1888 - mape: 16.7988 - val_loss: 765.1124 - val_mape: 21.9683\n",
      "Epoch 33/50\n",
      "134/134 [==============================] - 1s 7ms/step - loss: 71.2563 - mape: 16.3718 - val_loss: 345.8701 - val_mape: 13.9037\n",
      "Epoch 34/50\n",
      "134/134 [==============================] - 1s 7ms/step - loss: 73.5386 - mape: 16.6114 - val_loss: 327.2698 - val_mape: 13.5187\n",
      "Epoch 35/50\n",
      "134/134 [==============================] - 1s 7ms/step - loss: 76.9463 - mape: 16.6211 - val_loss: 230.3441 - val_mape: 11.2216\n",
      "Epoch 36/50\n",
      "134/134 [==============================] - 1s 7ms/step - loss: 64.1129 - mape: 15.4365 - val_loss: 409.6502 - val_mape: 15.4850\n",
      "Epoch 37/50\n",
      "134/134 [==============================] - 1s 7ms/step - loss: 64.8727 - mape: 15.6041 - val_loss: 321.7158 - val_mape: 13.3577\n",
      "Epoch 38/50\n",
      "134/134 [==============================] - 1s 7ms/step - loss: 62.8134 - mape: 15.5717 - val_loss: 438.5888 - val_mape: 15.9284\n",
      "Epoch 39/50\n",
      "134/134 [==============================] - 1s 7ms/step - loss: 67.4959 - mape: 15.6329 - val_loss: 131.7570 - val_mape: 8.0335\n",
      "Epoch 40/50\n",
      "134/134 [==============================] - 1s 7ms/step - loss: 64.8512 - mape: 15.7854 - val_loss: 602.4560 - val_mape: 19.0831\n",
      "Epoch 41/50\n",
      "134/134 [==============================] - 1s 7ms/step - loss: 63.7593 - mape: 15.3309 - val_loss: 766.8812 - val_mape: 21.8685\n",
      "Epoch 42/50\n",
      "134/134 [==============================] - 1s 7ms/step - loss: 61.0536 - mape: 16.0513 - val_loss: 653.3675 - val_mape: 19.9650\n",
      "Epoch 43/50\n",
      "134/134 [==============================] - 1s 7ms/step - loss: 74.6296 - mape: 16.2540 - val_loss: 268.3709 - val_mape: 12.3504\n",
      "Epoch 44/50\n",
      "134/134 [==============================] - 1s 7ms/step - loss: 64.9499 - mape: 15.6912 - val_loss: 491.1149 - val_mape: 17.2362\n",
      "Epoch 45/50\n",
      "134/134 [==============================] - 1s 7ms/step - loss: 56.6809 - mape: 15.2208 - val_loss: 292.1957 - val_mape: 12.4926\n",
      "Epoch 46/50\n",
      "134/134 [==============================] - 1s 7ms/step - loss: 54.9022 - mape: 14.8503 - val_loss: 848.4360 - val_mape: 23.1627\n",
      "Epoch 47/50\n",
      "134/134 [==============================] - 1s 7ms/step - loss: 64.4836 - mape: 15.2957 - val_loss: 321.7521 - val_mape: 13.6089\n",
      "Epoch 48/50\n",
      "134/134 [==============================] - 1s 7ms/step - loss: 61.5682 - mape: 15.3022 - val_loss: 674.3342 - val_mape: 20.3263\n",
      "Epoch 49/50\n",
      "134/134 [==============================] - 1s 7ms/step - loss: 57.2373 - mape: 15.0037 - val_loss: 372.9413 - val_mape: 14.8149\n",
      "Epoch 50/50\n",
      "134/134 [==============================] - 1s 7ms/step - loss: 52.3400 - mape: 15.1529 - val_loss: 616.5980 - val_mape: 19.4473\n",
      "Epoch 1/50\n",
      "128/134 [===========================>..] - ETA: 0s - loss: 1012.2648 - mape: 68.6014INFO:tensorflow:Assets written to: ./models\\18.48_01men_5_lstm_2_dense_1_unit_16\\assets\n"
     ]
    },
    {
     "name": "stderr",
     "output_type": "stream",
     "text": [
      "INFO:tensorflow:Assets written to: ./models\\18.48_01men_5_lstm_2_dense_1_unit_16\\assets\n"
     ]
    },
    {
     "name": "stdout",
     "output_type": "stream",
     "text": [
      "134/134 [==============================] - 8s 34ms/step - loss: 977.0160 - mape: 66.7294 - val_loss: 547.0458 - val_mape: 18.4811\n",
      "Epoch 2/50\n",
      "134/134 [==============================] - ETA: 0s - loss: 131.9294 - mape: 23.9575INFO:tensorflow:Assets written to: ./models\\21.00_02men_5_lstm_2_dense_1_unit_16\\assets\n"
     ]
    },
    {
     "name": "stderr",
     "output_type": "stream",
     "text": [
      "INFO:tensorflow:Assets written to: ./models\\21.00_02men_5_lstm_2_dense_1_unit_16\\assets\n"
     ]
    },
    {
     "name": "stdout",
     "output_type": "stream",
     "text": [
      "134/134 [==============================] - 4s 32ms/step - loss: 131.9294 - mape: 23.9575 - val_loss: 691.7313 - val_mape: 20.9956\n",
      "Epoch 3/50\n",
      "134/134 [==============================] - 1s 8ms/step - loss: 125.4380 - mape: 22.5886 - val_loss: 164.9606 - val_mape: 9.0767\n",
      "Epoch 4/50\n",
      "134/134 [==============================] - 1s 8ms/step - loss: 107.2786 - mape: 20.9132 - val_loss: 208.2314 - val_mape: 10.4792\n",
      "Epoch 5/50\n",
      "134/134 [==============================] - 1s 8ms/step - loss: 83.4298 - mape: 18.6474 - val_loss: 235.0857 - val_mape: 10.9227\n",
      "Epoch 6/50\n",
      "134/134 [==============================] - 1s 8ms/step - loss: 76.0222 - mape: 18.6915 - val_loss: 231.3887 - val_mape: 10.2197\n",
      "Epoch 7/50\n",
      "134/134 [==============================] - 1s 8ms/step - loss: 68.7920 - mape: 18.1577 - val_loss: 202.5044 - val_mape: 9.3366\n",
      "Epoch 8/50\n",
      "134/134 [==============================] - 1s 8ms/step - loss: 62.9305 - mape: 17.2494 - val_loss: 56.0021 - val_mape: 5.4220\n",
      "Epoch 9/50\n",
      "134/134 [==============================] - 1s 8ms/step - loss: 59.5041 - mape: 16.6913 - val_loss: 218.2871 - val_mape: 11.0110\n",
      "Epoch 10/50\n",
      "134/134 [==============================] - 1s 9ms/step - loss: 56.4230 - mape: 17.7443 - val_loss: 123.7023 - val_mape: 7.7091\n",
      "Epoch 11/50\n",
      "134/134 [==============================] - 1s 8ms/step - loss: 53.2910 - mape: 16.7761 - val_loss: 56.0527 - val_mape: 5.3529\n",
      "Epoch 12/50\n",
      "134/134 [==============================] - 1s 8ms/step - loss: 54.6249 - mape: 16.0298 - val_loss: 102.7132 - val_mape: 7.1533\n",
      "Epoch 13/50\n",
      "134/134 [==============================] - 1s 9ms/step - loss: 49.3236 - mape: 15.7092 - val_loss: 172.3405 - val_mape: 9.3721\n",
      "Epoch 14/50\n",
      "134/134 [==============================] - 1s 8ms/step - loss: 52.0251 - mape: 17.1506 - val_loss: 100.2106 - val_mape: 6.9326\n",
      "Epoch 15/50\n",
      "134/134 [==============================] - 1s 8ms/step - loss: 47.6638 - mape: 15.5720 - val_loss: 230.9943 - val_mape: 10.5073\n",
      "Epoch 16/50\n",
      "134/134 [==============================] - 1s 9ms/step - loss: 50.6096 - mape: 15.9019 - val_loss: 194.7566 - val_mape: 10.5711\n",
      "Epoch 17/50\n",
      "134/134 [==============================] - 1s 7ms/step - loss: 44.5539 - mape: 15.5638 - val_loss: 241.8185 - val_mape: 11.3652\n",
      "Epoch 18/50\n",
      "134/134 [==============================] - 1s 8ms/step - loss: 48.1035 - mape: 15.0293 - val_loss: 129.3721 - val_mape: 8.0290\n",
      "Epoch 19/50\n",
      "134/134 [==============================] - 1s 9ms/step - loss: 48.0936 - mape: 14.9783 - val_loss: 167.0429 - val_mape: 9.1050\n",
      "Epoch 20/50\n",
      "134/134 [==============================] - 1s 8ms/step - loss: 43.4905 - mape: 14.9563 - val_loss: 124.6447 - val_mape: 7.9906\n",
      "Epoch 21/50\n",
      "134/134 [==============================] - 1s 8ms/step - loss: 44.3613 - mape: 14.9062 - val_loss: 197.2025 - val_mape: 10.1595\n",
      "Epoch 22/50\n",
      "134/134 [==============================] - 1s 8ms/step - loss: 40.7928 - mape: 14.3550 - val_loss: 120.9948 - val_mape: 7.7102\n",
      "Epoch 23/50\n",
      "134/134 [==============================] - 1s 8ms/step - loss: 42.4391 - mape: 14.3263 - val_loss: 86.9548 - val_mape: 6.6217\n",
      "Epoch 24/50\n",
      "134/134 [==============================] - 1s 7ms/step - loss: 40.9650 - mape: 13.7653 - val_loss: 197.7983 - val_mape: 10.0533\n",
      "Epoch 25/50\n",
      "134/134 [==============================] - 1s 8ms/step - loss: 38.4865 - mape: 13.7656 - val_loss: 78.0294 - val_mape: 6.1795\n",
      "Epoch 26/50\n",
      "134/134 [==============================] - 1s 8ms/step - loss: 41.0165 - mape: 13.7820 - val_loss: 168.6140 - val_mape: 9.3414\n",
      "Epoch 27/50\n",
      "134/134 [==============================] - 1s 8ms/step - loss: 43.2207 - mape: 14.5275 - val_loss: 62.8466 - val_mape: 5.5489\n",
      "Epoch 28/50\n",
      "134/134 [==============================] - 1s 8ms/step - loss: 41.9440 - mape: 14.1603 - val_loss: 107.9119 - val_mape: 7.1805\n",
      "Epoch 29/50\n",
      "134/134 [==============================] - 1s 8ms/step - loss: 38.0507 - mape: 13.6878 - val_loss: 58.6086 - val_mape: 5.4303\n",
      "Epoch 30/50\n",
      "134/134 [==============================] - 1s 8ms/step - loss: 40.5644 - mape: 13.6233 - val_loss: 312.9655 - val_mape: 13.1390\n",
      "Epoch 31/50\n",
      "134/134 [==============================] - 1s 7ms/step - loss: 37.2392 - mape: 13.1661 - val_loss: 388.1387 - val_mape: 14.9338\n",
      "Epoch 32/50\n",
      "134/134 [==============================] - 1s 7ms/step - loss: 42.5253 - mape: 13.6326 - val_loss: 175.7906 - val_mape: 9.4117\n",
      "Epoch 33/50\n",
      "134/134 [==============================] - 1s 7ms/step - loss: 37.2424 - mape: 13.2593 - val_loss: 248.7519 - val_mape: 11.5601\n",
      "Epoch 34/50\n",
      "134/134 [==============================] - 1s 7ms/step - loss: 40.1975 - mape: 13.4980 - val_loss: 181.0806 - val_mape: 9.7231\n",
      "Epoch 35/50\n",
      "134/134 [==============================] - 1s 7ms/step - loss: 37.6493 - mape: 12.8236 - val_loss: 152.7484 - val_mape: 8.9412\n",
      "Epoch 36/50\n",
      "134/134 [==============================] - 1s 8ms/step - loss: 37.9242 - mape: 12.7016 - val_loss: 97.8448 - val_mape: 7.0152\n",
      "Epoch 37/50\n",
      "134/134 [==============================] - 1s 8ms/step - loss: 40.5153 - mape: 13.0727 - val_loss: 284.7270 - val_mape: 12.7107\n",
      "Epoch 38/50\n",
      "134/134 [==============================] - 1s 8ms/step - loss: 40.6538 - mape: 13.2593 - val_loss: 226.9094 - val_mape: 11.0423\n",
      "Epoch 39/50\n",
      "134/134 [==============================] - 1s 8ms/step - loss: 37.4227 - mape: 13.0197 - val_loss: 191.7796 - val_mape: 9.9654\n",
      "Epoch 40/50\n",
      "134/134 [==============================] - 1s 8ms/step - loss: 36.4942 - mape: 12.8730 - val_loss: 351.0814 - val_mape: 14.2851\n",
      "Epoch 41/50\n",
      "134/134 [==============================] - 1s 7ms/step - loss: 36.8815 - mape: 12.8029 - val_loss: 196.7726 - val_mape: 10.2730\n",
      "Epoch 42/50\n",
      "134/134 [==============================] - 1s 7ms/step - loss: 34.4104 - mape: 12.5575 - val_loss: 233.7362 - val_mape: 11.2082\n",
      "Epoch 43/50\n",
      "134/134 [==============================] - 1s 7ms/step - loss: 32.2686 - mape: 12.0257 - val_loss: 525.3237 - val_mape: 17.8162\n",
      "Epoch 44/50\n",
      "134/134 [==============================] - 1s 8ms/step - loss: 36.1995 - mape: 13.0730 - val_loss: 285.8480 - val_mape: 12.6495\n",
      "Epoch 45/50\n",
      "134/134 [==============================] - 1s 8ms/step - loss: 36.7333 - mape: 12.5759 - val_loss: 55.7985 - val_mape: 5.2555\n",
      "Epoch 46/50\n",
      "134/134 [==============================] - 1s 8ms/step - loss: 35.2233 - mape: 12.8281 - val_loss: 202.6399 - val_mape: 10.2989\n",
      "Epoch 47/50\n",
      "134/134 [==============================] - 1s 7ms/step - loss: 34.4765 - mape: 12.3600 - val_loss: 158.3487 - val_mape: 9.0141\n",
      "Epoch 48/50\n",
      "134/134 [==============================] - 1s 7ms/step - loss: 30.5516 - mape: 11.8524 - val_loss: 289.8972 - val_mape: 13.0145\n",
      "Epoch 49/50\n",
      "134/134 [==============================] - 1s 7ms/step - loss: 36.4443 - mape: 12.4354 - val_loss: 469.5437 - val_mape: 17.0982\n",
      "Epoch 50/50\n",
      "134/134 [==============================] - 1s 7ms/step - loss: 32.3078 - mape: 12.8372 - val_loss: 265.2381 - val_mape: 12.1167\n",
      "Epoch 1/50\n",
      "134/134 [==============================] - ETA: 0s - loss: 526.0914 - mape: 48.7924INFO:tensorflow:Assets written to: ./models\\7.41_01men_5_lstm_2_dense_1_unit_32\\assets\n"
     ]
    },
    {
     "name": "stderr",
     "output_type": "stream",
     "text": [
      "INFO:tensorflow:Assets written to: ./models\\7.41_01men_5_lstm_2_dense_1_unit_32\\assets\n"
     ]
    },
    {
     "name": "stdout",
     "output_type": "stream",
     "text": [
      "134/134 [==============================] - 8s 34ms/step - loss: 526.0914 - mape: 48.7924 - val_loss: 125.3020 - val_mape: 7.4058\n",
      "Epoch 2/50\n",
      "134/134 [==============================] - 1s 9ms/step - loss: 46.8729 - mape: 19.7018 - val_loss: 91.0800 - val_mape: 6.5643\n",
      "Epoch 3/50\n",
      "134/134 [==============================] - 1s 9ms/step - loss: 39.8003 - mape: 17.1737 - val_loss: 64.0163 - val_mape: 5.5801\n",
      "Epoch 4/50\n",
      "134/134 [==============================] - 1s 10ms/step - loss: 35.5630 - mape: 15.1344 - val_loss: 72.5158 - val_mape: 5.8761\n",
      "Epoch 5/50\n",
      "134/134 [==============================] - 1s 9ms/step - loss: 30.8487 - mape: 14.3578 - val_loss: 69.1901 - val_mape: 5.8114\n",
      "Epoch 6/50\n",
      "134/134 [==============================] - 1s 9ms/step - loss: 29.2104 - mape: 13.9016 - val_loss: 98.9679 - val_mape: 6.9157\n",
      "Epoch 7/50\n",
      "134/134 [==============================] - 1s 9ms/step - loss: 28.3574 - mape: 13.4012 - val_loss: 70.3367 - val_mape: 5.8886\n",
      "Epoch 8/50\n",
      "134/134 [==============================] - 1s 9ms/step - loss: 29.3981 - mape: 13.3036 - val_loss: 54.2045 - val_mape: 5.1545\n",
      "Epoch 9/50\n",
      "134/134 [==============================] - 1s 9ms/step - loss: 28.7778 - mape: 12.6294 - val_loss: 66.8298 - val_mape: 5.6802\n",
      "Epoch 10/50\n",
      "133/134 [============================>.] - ETA: 0s - loss: 27.9750 - mape: 12.5684INFO:tensorflow:Assets written to: ./models\\10.50_10men_5_lstm_2_dense_1_unit_32\\assets\n"
     ]
    },
    {
     "name": "stderr",
     "output_type": "stream",
     "text": [
      "INFO:tensorflow:Assets written to: ./models\\10.50_10men_5_lstm_2_dense_1_unit_32\\assets\n"
     ]
    },
    {
     "name": "stdout",
     "output_type": "stream",
     "text": [
      "134/134 [==============================] - 5s 38ms/step - loss: 28.0785 - mape: 12.5650 - val_loss: 223.2513 - val_mape: 10.5020\n",
      "Epoch 11/50\n",
      "134/134 [==============================] - 1s 10ms/step - loss: 27.3567 - mape: 12.5162 - val_loss: 153.8846 - val_mape: 8.6306\n",
      "Epoch 12/50\n",
      "134/134 [==============================] - 1s 10ms/step - loss: 25.4330 - mape: 11.5709 - val_loss: 48.2576 - val_mape: 4.9915\n",
      "Epoch 13/50\n",
      "134/134 [==============================] - 1s 10ms/step - loss: 24.3056 - mape: 11.4958 - val_loss: 126.4996 - val_mape: 8.1129\n",
      "Epoch 14/50\n",
      "134/134 [==============================] - 1s 9ms/step - loss: 25.2204 - mape: 11.8537 - val_loss: 118.6600 - val_mape: 7.5039\n",
      "Epoch 15/50\n",
      "132/134 [============================>.] - ETA: 0s - loss: 23.6485 - mape: 11.2821INFO:tensorflow:Assets written to: ./models\\12.87_15men_5_lstm_2_dense_1_unit_32\\assets\n"
     ]
    },
    {
     "name": "stderr",
     "output_type": "stream",
     "text": [
      "INFO:tensorflow:Assets written to: ./models\\12.87_15men_5_lstm_2_dense_1_unit_32\\assets\n"
     ]
    },
    {
     "name": "stdout",
     "output_type": "stream",
     "text": [
      "134/134 [==============================] - 4s 32ms/step - loss: 23.7405 - mape: 11.2759 - val_loss: 297.4825 - val_mape: 12.8679\n",
      "Epoch 16/50\n",
      "134/134 [==============================] - 1s 9ms/step - loss: 26.8691 - mape: 11.7791 - val_loss: 73.2030 - val_mape: 6.2379\n",
      "Epoch 17/50\n",
      "134/134 [==============================] - 1s 9ms/step - loss: 22.5652 - mape: 10.8320 - val_loss: 112.4929 - val_mape: 7.3211\n",
      "Epoch 18/50\n",
      "134/134 [==============================] - 1s 9ms/step - loss: 25.4162 - mape: 12.2343 - val_loss: 144.8795 - val_mape: 8.3528\n",
      "Epoch 19/50\n",
      "134/134 [==============================] - 1s 9ms/step - loss: 24.8720 - mape: 10.9282 - val_loss: 223.6586 - val_mape: 10.9114\n",
      "Epoch 20/50\n",
      "134/134 [==============================] - ETA: 0s - loss: 25.2648 - mape: 11.9572INFO:tensorflow:Assets written to: ./models\\14.38_20men_5_lstm_2_dense_1_unit_32\\assets\n"
     ]
    },
    {
     "name": "stderr",
     "output_type": "stream",
     "text": [
      "INFO:tensorflow:Assets written to: ./models\\14.38_20men_5_lstm_2_dense_1_unit_32\\assets\n"
     ]
    },
    {
     "name": "stdout",
     "output_type": "stream",
     "text": [
      "134/134 [==============================] - 4s 32ms/step - loss: 25.2648 - mape: 11.9572 - val_loss: 352.4838 - val_mape: 14.3830\n",
      "Epoch 21/50\n",
      "134/134 [==============================] - 1s 9ms/step - loss: 23.8888 - mape: 11.5646 - val_loss: 168.1188 - val_mape: 9.1445\n",
      "Epoch 22/50\n",
      "134/134 [==============================] - 1s 9ms/step - loss: 23.9770 - mape: 11.0183 - val_loss: 186.6135 - val_mape: 9.7876\n",
      "Epoch 23/50\n",
      "134/134 [==============================] - 1s 10ms/step - loss: 23.6143 - mape: 11.1628 - val_loss: 51.6427 - val_mape: 5.0242\n",
      "Epoch 24/50\n",
      "134/134 [==============================] - 1s 10ms/step - loss: 27.9217 - mape: 12.1073 - val_loss: 138.5611 - val_mape: 7.7510\n",
      "Epoch 25/50\n",
      "134/134 [==============================] - 1s 10ms/step - loss: 22.1462 - mape: 10.6771 - val_loss: 156.8604 - val_mape: 8.5626\n",
      "Epoch 26/50\n",
      "134/134 [==============================] - 1s 9ms/step - loss: 21.2798 - mape: 10.7420 - val_loss: 102.6721 - val_mape: 7.0498\n",
      "Epoch 27/50\n",
      "134/134 [==============================] - 1s 9ms/step - loss: 21.6003 - mape: 10.6470 - val_loss: 77.8995 - val_mape: 6.0061\n",
      "Epoch 28/50\n",
      "134/134 [==============================] - 1s 9ms/step - loss: 21.3906 - mape: 10.8432 - val_loss: 97.8475 - val_mape: 6.9494\n",
      "Epoch 29/50\n",
      "134/134 [==============================] - 1s 9ms/step - loss: 25.9721 - mape: 11.7352 - val_loss: 93.1836 - val_mape: 6.6621\n",
      "Epoch 30/50\n",
      "134/134 [==============================] - 1s 9ms/step - loss: 20.7677 - mape: 10.7847 - val_loss: 135.1562 - val_mape: 8.0522\n",
      "Epoch 31/50\n",
      "129/134 [===========================>..] - ETA: 0s - loss: 19.3239 - mape: 10.0304INFO:tensorflow:Assets written to: ./models\\16.82_31men_5_lstm_2_dense_1_unit_32\\assets\n"
     ]
    },
    {
     "name": "stderr",
     "output_type": "stream",
     "text": [
      "INFO:tensorflow:Assets written to: ./models\\16.82_31men_5_lstm_2_dense_1_unit_32\\assets\n"
     ]
    },
    {
     "name": "stdout",
     "output_type": "stream",
     "text": [
      "134/134 [==============================] - 5s 37ms/step - loss: 19.2946 - mape: 10.0860 - val_loss: 472.6111 - val_mape: 16.8176\n",
      "Epoch 32/50\n",
      "134/134 [==============================] - 1s 9ms/step - loss: 26.6492 - mape: 11.4458 - val_loss: 106.6589 - val_mape: 7.2036\n",
      "Epoch 33/50\n",
      "134/134 [==============================] - 1s 10ms/step - loss: 19.7095 - mape: 10.1508 - val_loss: 303.2672 - val_mape: 13.1238\n",
      "Epoch 34/50\n",
      "134/134 [==============================] - 1s 10ms/step - loss: 20.9535 - mape: 10.2550 - val_loss: 52.7954 - val_mape: 5.1251\n",
      "Epoch 35/50\n",
      "134/134 [==============================] - 1s 9ms/step - loss: 24.1617 - mape: 10.7483 - val_loss: 274.9679 - val_mape: 12.4939\n",
      "Epoch 36/50\n",
      "134/134 [==============================] - 1s 9ms/step - loss: 18.4508 - mape: 10.0021 - val_loss: 209.5859 - val_mape: 10.5562\n",
      "Epoch 37/50\n",
      "134/134 [==============================] - 1s 9ms/step - loss: 19.6247 - mape: 9.7393 - val_loss: 182.8502 - val_mape: 9.3261\n",
      "Epoch 38/50\n",
      "134/134 [==============================] - 1s 9ms/step - loss: 19.4538 - mape: 10.2164 - val_loss: 191.1233 - val_mape: 9.9614\n",
      "Epoch 39/50\n",
      "134/134 [==============================] - 1s 9ms/step - loss: 20.2506 - mape: 9.5165 - val_loss: 49.4276 - val_mape: 4.9353\n",
      "Epoch 40/50\n",
      "134/134 [==============================] - 1s 9ms/step - loss: 20.3782 - mape: 9.9174 - val_loss: 45.2239 - val_mape: 4.7693\n",
      "Epoch 41/50\n",
      "134/134 [==============================] - 1s 9ms/step - loss: 20.4117 - mape: 10.5618 - val_loss: 199.2314 - val_mape: 10.1610\n",
      "Epoch 42/50\n",
      "134/134 [==============================] - 1s 9ms/step - loss: 17.1163 - mape: 9.0798 - val_loss: 173.8174 - val_mape: 9.4137\n",
      "Epoch 43/50\n",
      "134/134 [==============================] - 1s 9ms/step - loss: 19.0584 - mape: 9.7196 - val_loss: 63.9723 - val_mape: 5.5390\n",
      "Epoch 44/50\n",
      "134/134 [==============================] - 1s 9ms/step - loss: 19.4916 - mape: 9.4751 - val_loss: 113.9976 - val_mape: 7.4746\n",
      "Epoch 45/50\n",
      "133/134 [============================>.] - ETA: 0s - loss: 17.8221 - mape: 9.0676INFO:tensorflow:Assets written to: ./models\\17.41_45men_5_lstm_2_dense_1_unit_32\\assets\n"
     ]
    },
    {
     "name": "stderr",
     "output_type": "stream",
     "text": [
      "INFO:tensorflow:Assets written to: ./models\\17.41_45men_5_lstm_2_dense_1_unit_32\\assets\n"
     ]
    },
    {
     "name": "stdout",
     "output_type": "stream",
     "text": [
      "134/134 [==============================] - 4s 31ms/step - loss: 17.7886 - mape: 9.0695 - val_loss: 501.9119 - val_mape: 17.4134\n",
      "Epoch 46/50\n",
      "134/134 [==============================] - 1s 10ms/step - loss: 18.1162 - mape: 9.3337 - val_loss: 307.0638 - val_mape: 12.9478\n",
      "Epoch 47/50\n",
      "134/134 [==============================] - 1s 10ms/step - loss: 17.6904 - mape: 8.9623 - val_loss: 132.8775 - val_mape: 7.9985\n",
      "Epoch 48/50\n",
      "134/134 [==============================] - 1s 11ms/step - loss: 18.8313 - mape: 9.9103 - val_loss: 215.1156 - val_mape: 10.7022\n",
      "Epoch 49/50\n",
      "134/134 [==============================] - 1s 9ms/step - loss: 17.7683 - mape: 9.4318 - val_loss: 326.6475 - val_mape: 13.5528\n",
      "Epoch 50/50\n",
      "134/134 [==============================] - 1s 9ms/step - loss: 19.6741 - mape: 10.3171 - val_loss: 200.2769 - val_mape: 10.1608\n",
      "Epoch 1/50\n",
      "129/134 [===========================>..] - ETA: 0s - loss: 951.5098 - mape: 75.9019INFO:tensorflow:Assets written to: ./models\\17.18_01men_5_lstm_2_dense_2_unit_8\\assets\n"
     ]
    },
    {
     "name": "stderr",
     "output_type": "stream",
     "text": [
      "INFO:tensorflow:Assets written to: ./models\\17.18_01men_5_lstm_2_dense_2_unit_8\\assets\n"
     ]
    },
    {
     "name": "stdout",
     "output_type": "stream",
     "text": [
      "134/134 [==============================] - 8s 39ms/step - loss: 928.1729 - mape: 74.6972 - val_loss: 470.5684 - val_mape: 17.1842\n",
      "Epoch 2/50\n",
      "128/134 [===========================>..] - ETA: 0s - loss: 158.1044 - mape: 32.8831INFO:tensorflow:Assets written to: ./models\\24.24_02men_5_lstm_2_dense_2_unit_8\\assets\n"
     ]
    },
    {
     "name": "stderr",
     "output_type": "stream",
     "text": [
      "INFO:tensorflow:Assets written to: ./models\\24.24_02men_5_lstm_2_dense_2_unit_8\\assets\n"
     ]
    },
    {
     "name": "stdout",
     "output_type": "stream",
     "text": [
      "134/134 [==============================] - 4s 33ms/step - loss: 158.1122 - mape: 32.7347 - val_loss: 900.9905 - val_mape: 24.2385\n",
      "Epoch 3/50\n",
      "134/134 [==============================] - 1s 7ms/step - loss: 130.5650 - mape: 29.5198 - val_loss: 596.7023 - val_mape: 19.4152\n",
      "Epoch 4/50\n",
      "134/134 [==============================] - 1s 8ms/step - loss: 127.5400 - mape: 28.3167 - val_loss: 904.4652 - val_mape: 24.1003\n",
      "Epoch 5/50\n",
      "134/134 [==============================] - 1s 8ms/step - loss: 115.4679 - mape: 26.5339 - val_loss: 279.8632 - val_mape: 12.6950\n",
      "Epoch 6/50\n",
      "134/134 [==============================] - 1s 8ms/step - loss: 129.6531 - mape: 26.5062 - val_loss: 622.5395 - val_mape: 20.2250\n",
      "Epoch 7/50\n",
      "134/134 [==============================] - 1s 7ms/step - loss: 98.2757 - mape: 23.6576 - val_loss: 348.1114 - val_mape: 14.3473\n",
      "Epoch 8/50\n",
      "134/134 [==============================] - 1s 7ms/step - loss: 89.7238 - mape: 22.9309 - val_loss: 168.2127 - val_mape: 9.4903\n",
      "Epoch 9/50\n",
      "134/134 [==============================] - 1s 7ms/step - loss: 90.7270 - mape: 23.0839 - val_loss: 423.9236 - val_mape: 15.6914\n",
      "Epoch 10/50\n",
      "134/134 [==============================] - 1s 8ms/step - loss: 92.9854 - mape: 22.2797 - val_loss: 567.0616 - val_mape: 18.2393\n",
      "Epoch 11/50\n",
      "134/134 [==============================] - 1s 7ms/step - loss: 84.0093 - mape: 21.5517 - val_loss: 822.7342 - val_mape: 22.5113\n",
      "Epoch 12/50\n",
      "134/134 [==============================] - 1s 8ms/step - loss: 79.7203 - mape: 21.5033 - val_loss: 850.6594 - val_mape: 23.0543\n",
      "Epoch 13/50\n",
      "134/134 [==============================] - 1s 7ms/step - loss: 81.7224 - mape: 20.6778 - val_loss: 742.5065 - val_mape: 21.5436\n",
      "Epoch 14/50\n",
      "134/134 [==============================] - 1s 7ms/step - loss: 87.1540 - mape: 20.4331 - val_loss: 803.6711 - val_mape: 23.1930\n",
      "Epoch 15/50\n",
      "128/134 [===========================>..] - ETA: 0s - loss: 70.8679 - mape: 19.1640INFO:tensorflow:Assets written to: ./models\\28.31_15men_5_lstm_2_dense_2_unit_8\\assets\n"
     ]
    },
    {
     "name": "stderr",
     "output_type": "stream",
     "text": [
      "INFO:tensorflow:Assets written to: ./models\\28.31_15men_5_lstm_2_dense_2_unit_8\\assets\n"
     ]
    },
    {
     "name": "stdout",
     "output_type": "stream",
     "text": [
      "134/134 [==============================] - 4s 30ms/step - loss: 70.7428 - mape: 19.1721 - val_loss: 1246.9736 - val_mape: 28.3094\n",
      "Epoch 16/50\n",
      "134/134 [==============================] - 1s 7ms/step - loss: 75.4676 - mape: 19.6872 - val_loss: 699.7666 - val_mape: 21.1973\n",
      "Epoch 17/50\n",
      "134/134 [==============================] - 1s 8ms/step - loss: 70.9223 - mape: 19.1841 - val_loss: 926.3141 - val_mape: 24.1929\n",
      "Epoch 18/50\n",
      "131/134 [============================>.] - ETA: 0s - loss: 81.6455 - mape: 19.9673INFO:tensorflow:Assets written to: ./models\\29.46_18men_5_lstm_2_dense_2_unit_8\\assets\n"
     ]
    },
    {
     "name": "stderr",
     "output_type": "stream",
     "text": [
      "INFO:tensorflow:Assets written to: ./models\\29.46_18men_5_lstm_2_dense_2_unit_8\\assets\n"
     ]
    },
    {
     "name": "stdout",
     "output_type": "stream",
     "text": [
      "134/134 [==============================] - 5s 38ms/step - loss: 81.7991 - mape: 19.9711 - val_loss: 1378.1970 - val_mape: 29.4592\n",
      "Epoch 19/50\n",
      "129/134 [===========================>..] - ETA: 0s - loss: 71.8905 - mape: 19.5302INFO:tensorflow:Assets written to: ./models\\33.88_19men_5_lstm_2_dense_2_unit_8\\assets\n"
     ]
    },
    {
     "name": "stderr",
     "output_type": "stream",
     "text": [
      "INFO:tensorflow:Assets written to: ./models\\33.88_19men_5_lstm_2_dense_2_unit_8\\assets\n"
     ]
    },
    {
     "name": "stdout",
     "output_type": "stream",
     "text": [
      "134/134 [==============================] - 4s 32ms/step - loss: 70.9325 - mape: 19.4685 - val_loss: 1793.5846 - val_mape: 33.8844\n",
      "Epoch 20/50\n",
      "134/134 [==============================] - 1s 8ms/step - loss: 70.6650 - mape: 19.0911 - val_loss: 1442.0739 - val_mape: 30.1395\n",
      "Epoch 21/50\n",
      "134/134 [==============================] - 1s 8ms/step - loss: 68.6764 - mape: 19.0555 - val_loss: 914.9072 - val_mape: 24.0008\n",
      "Epoch 22/50\n",
      "134/134 [==============================] - 1s 8ms/step - loss: 66.2854 - mape: 18.7478 - val_loss: 894.8988 - val_mape: 23.7279\n",
      "Epoch 23/50\n",
      "134/134 [==============================] - 1s 7ms/step - loss: 62.5263 - mape: 18.6237 - val_loss: 1134.7010 - val_mape: 26.6679\n",
      "Epoch 24/50\n",
      "134/134 [==============================] - 1s 8ms/step - loss: 61.8287 - mape: 18.4821 - val_loss: 1153.1151 - val_mape: 27.2214\n",
      "Epoch 25/50\n",
      "134/134 [==============================] - 1s 8ms/step - loss: 60.7141 - mape: 18.3629 - val_loss: 1242.3878 - val_mape: 28.4614\n",
      "Epoch 26/50\n",
      "134/134 [==============================] - 1s 7ms/step - loss: 62.2079 - mape: 18.4853 - val_loss: 968.5829 - val_mape: 25.0711\n",
      "Epoch 27/50\n",
      "132/134 [============================>.] - ETA: 0s - loss: 60.6798 - mape: 18.2481INFO:tensorflow:Assets written to: ./models\\33.96_27men_5_lstm_2_dense_2_unit_8\\assets\n"
     ]
    },
    {
     "name": "stderr",
     "output_type": "stream",
     "text": [
      "INFO:tensorflow:Assets written to: ./models\\33.96_27men_5_lstm_2_dense_2_unit_8\\assets\n"
     ]
    },
    {
     "name": "stdout",
     "output_type": "stream",
     "text": [
      "134/134 [==============================] - 4s 31ms/step - loss: 60.5530 - mape: 18.2367 - val_loss: 1766.3832 - val_mape: 33.9637\n",
      "Epoch 28/50\n",
      "134/134 [==============================] - 1s 7ms/step - loss: 64.3363 - mape: 18.5722 - val_loss: 596.7469 - val_mape: 18.3953\n",
      "Epoch 29/50\n",
      "134/134 [==============================] - 1s 8ms/step - loss: 70.1329 - mape: 18.6403 - val_loss: 1019.2775 - val_mape: 25.2613\n",
      "Epoch 30/50\n",
      "134/134 [==============================] - 1s 8ms/step - loss: 64.3376 - mape: 18.2463 - val_loss: 970.9337 - val_mape: 24.5912\n",
      "Epoch 31/50\n",
      "134/134 [==============================] - 1s 8ms/step - loss: 61.7339 - mape: 18.2699 - val_loss: 1007.3517 - val_mape: 25.1808\n",
      "Epoch 32/50\n",
      "134/134 [==============================] - 1s 7ms/step - loss: 55.7973 - mape: 17.4964 - val_loss: 891.6727 - val_mape: 23.4551\n",
      "Epoch 33/50\n",
      "134/134 [==============================] - 1s 7ms/step - loss: 60.1736 - mape: 17.8116 - val_loss: 1334.5426 - val_mape: 29.2589\n",
      "Epoch 34/50\n",
      "134/134 [==============================] - 1s 7ms/step - loss: 57.8339 - mape: 17.9262 - val_loss: 1363.2808 - val_mape: 29.4020\n",
      "Epoch 35/50\n",
      "134/134 [==============================] - 1s 7ms/step - loss: 54.3581 - mape: 17.8142 - val_loss: 1042.7661 - val_mape: 25.4651\n",
      "Epoch 36/50\n",
      "134/134 [==============================] - 1s 7ms/step - loss: 55.0126 - mape: 18.1264 - val_loss: 1296.0789 - val_mape: 28.7984\n",
      "Epoch 37/50\n",
      "134/134 [==============================] - 1s 7ms/step - loss: 52.7602 - mape: 17.9418 - val_loss: 899.9352 - val_mape: 23.8290\n",
      "Epoch 38/50\n",
      "134/134 [==============================] - 1s 7ms/step - loss: 54.4178 - mape: 17.4767 - val_loss: 1172.2767 - val_mape: 27.5055\n",
      "Epoch 39/50\n",
      "134/134 [==============================] - 1s 7ms/step - loss: 54.6882 - mape: 18.0969 - val_loss: 842.7526 - val_mape: 22.7576\n",
      "Epoch 40/50\n",
      "134/134 [==============================] - 1s 7ms/step - loss: 54.3249 - mape: 17.3306 - val_loss: 303.7256 - val_mape: 12.8276\n",
      "Epoch 41/50\n",
      "134/134 [==============================] - 1s 7ms/step - loss: 53.0971 - mape: 17.4294 - val_loss: 873.3078 - val_mape: 23.2963\n",
      "Epoch 42/50\n",
      "134/134 [==============================] - 1s 7ms/step - loss: 52.1995 - mape: 17.0450 - val_loss: 1241.0054 - val_mape: 28.4053\n",
      "Epoch 43/50\n",
      "134/134 [==============================] - 1s 7ms/step - loss: 56.6356 - mape: 17.8651 - val_loss: 861.5723 - val_mape: 23.2280\n",
      "Epoch 44/50\n",
      "134/134 [==============================] - 1s 7ms/step - loss: 51.1297 - mape: 16.9461 - val_loss: 568.6949 - val_mape: 18.7928\n",
      "Epoch 45/50\n",
      "134/134 [==============================] - 1s 7ms/step - loss: 49.1887 - mape: 17.2666 - val_loss: 1202.4701 - val_mape: 27.9336\n",
      "Epoch 46/50\n",
      "134/134 [==============================] - 1s 7ms/step - loss: 51.6495 - mape: 17.1733 - val_loss: 897.9433 - val_mape: 24.1503\n",
      "Epoch 47/50\n",
      "134/134 [==============================] - 1s 7ms/step - loss: 50.2893 - mape: 17.0785 - val_loss: 878.7229 - val_mape: 23.8527\n",
      "Epoch 48/50\n",
      "134/134 [==============================] - 1s 8ms/step - loss: 49.6218 - mape: 17.1516 - val_loss: 833.7690 - val_mape: 22.8887\n",
      "Epoch 49/50\n",
      "134/134 [==============================] - 1s 8ms/step - loss: 53.0841 - mape: 17.0116 - val_loss: 791.2587 - val_mape: 22.3262\n",
      "Epoch 50/50\n",
      "134/134 [==============================] - 1s 7ms/step - loss: 49.6868 - mape: 16.4490 - val_loss: 1164.4641 - val_mape: 27.4241\n",
      "Epoch 1/50\n",
      "130/134 [============================>.] - ETA: 0s - loss: 910.4395 - mape: 71.0511INFO:tensorflow:Assets written to: ./models\\12.77_01men_5_lstm_2_dense_2_unit_16\\assets\n"
     ]
    },
    {
     "name": "stderr",
     "output_type": "stream",
     "text": [
      "INFO:tensorflow:Assets written to: ./models\\12.77_01men_5_lstm_2_dense_2_unit_16\\assets\n"
     ]
    },
    {
     "name": "stdout",
     "output_type": "stream",
     "text": [
      "134/134 [==============================] - 9s 36ms/step - loss: 892.2828 - mape: 70.1505 - val_loss: 352.2822 - val_mape: 12.7734\n",
      "Epoch 2/50\n",
      "134/134 [==============================] - 1s 7ms/step - loss: 158.8486 - mape: 32.1139 - val_loss: 234.2254 - val_mape: 10.6052\n",
      "Epoch 3/50\n",
      "134/134 [==============================] - 1s 7ms/step - loss: 123.5637 - mape: 27.6277 - val_loss: 164.5314 - val_mape: 9.0848\n",
      "Epoch 4/50\n",
      "134/134 [==============================] - 1s 8ms/step - loss: 110.2167 - mape: 25.4502 - val_loss: 299.7778 - val_mape: 12.3604\n",
      "Epoch 5/50\n",
      "134/134 [==============================] - 1s 7ms/step - loss: 97.1735 - mape: 23.7217 - val_loss: 97.4574 - val_mape: 6.9337\n",
      "Epoch 6/50\n",
      "133/134 [============================>.] - ETA: 0s - loss: 88.2285 - mape: 23.2574INFO:tensorflow:Assets written to: ./models\\20.44_06men_5_lstm_2_dense_2_unit_16\\assets\n"
     ]
    },
    {
     "name": "stderr",
     "output_type": "stream",
     "text": [
      "INFO:tensorflow:Assets written to: ./models\\20.44_06men_5_lstm_2_dense_2_unit_16\\assets\n"
     ]
    },
    {
     "name": "stdout",
     "output_type": "stream",
     "text": [
      "134/134 [==============================] - 4s 33ms/step - loss: 88.1903 - mape: 23.2571 - val_loss: 717.5382 - val_mape: 20.4353\n",
      "Epoch 7/50\n",
      "134/134 [==============================] - 1s 8ms/step - loss: 92.0933 - mape: 22.2127 - val_loss: 184.6924 - val_mape: 9.6838\n",
      "Epoch 8/50\n",
      "134/134 [==============================] - 1s 9ms/step - loss: 87.6240 - mape: 21.6745 - val_loss: 178.3046 - val_mape: 9.1094\n",
      "Epoch 9/50\n",
      "134/134 [==============================] - 1s 9ms/step - loss: 84.1947 - mape: 21.8894 - val_loss: 218.0835 - val_mape: 10.3226\n",
      "Epoch 10/50\n",
      "134/134 [==============================] - 1s 9ms/step - loss: 83.9291 - mape: 21.5470 - val_loss: 181.3932 - val_mape: 9.6786\n",
      "Epoch 11/50\n",
      "134/134 [==============================] - 2s 15ms/step - loss: 71.0209 - mape: 20.2235 - val_loss: 408.2975 - val_mape: 15.5946\n",
      "Epoch 12/50\n",
      "134/134 [==============================] - 1s 9ms/step - loss: 65.3443 - mape: 18.6510 - val_loss: 195.1109 - val_mape: 9.9613\n",
      "Epoch 13/50\n",
      "134/134 [==============================] - 1s 8ms/step - loss: 66.0993 - mape: 18.7210 - val_loss: 75.6430 - val_mape: 6.1192\n",
      "Epoch 14/50\n",
      "134/134 [==============================] - 1s 8ms/step - loss: 69.6794 - mape: 18.1026 - val_loss: 143.6054 - val_mape: 8.5747\n",
      "Epoch 15/50\n",
      "134/134 [==============================] - 1s 8ms/step - loss: 68.3504 - mape: 17.8601 - val_loss: 171.5266 - val_mape: 9.2554\n",
      "Epoch 16/50\n",
      "134/134 [==============================] - 1s 8ms/step - loss: 67.6952 - mape: 18.0140 - val_loss: 286.6942 - val_mape: 13.0091\n",
      "Epoch 17/50\n",
      "134/134 [==============================] - 1s 8ms/step - loss: 65.3201 - mape: 17.2941 - val_loss: 103.3390 - val_mape: 7.0864\n",
      "Epoch 18/50\n",
      "134/134 [==============================] - 1s 9ms/step - loss: 61.6616 - mape: 17.8622 - val_loss: 145.1057 - val_mape: 8.6606\n",
      "Epoch 19/50\n",
      "134/134 [==============================] - 1s 9ms/step - loss: 64.9027 - mape: 17.2352 - val_loss: 374.8021 - val_mape: 15.0612\n",
      "Epoch 20/50\n",
      "134/134 [==============================] - 1s 8ms/step - loss: 63.6835 - mape: 17.2406 - val_loss: 384.0816 - val_mape: 15.0722\n",
      "Epoch 21/50\n",
      "134/134 [==============================] - 1s 9ms/step - loss: 58.2382 - mape: 16.4810 - val_loss: 80.4441 - val_mape: 6.2633\n",
      "Epoch 22/50\n",
      "134/134 [==============================] - 1s 9ms/step - loss: 64.4340 - mape: 17.3639 - val_loss: 105.8620 - val_mape: 7.3025\n",
      "Epoch 23/50\n",
      "134/134 [==============================] - 1s 8ms/step - loss: 59.0764 - mape: 17.0238 - val_loss: 58.6422 - val_mape: 5.4036\n",
      "Epoch 24/50\n",
      "134/134 [==============================] - 1s 8ms/step - loss: 55.6628 - mape: 16.2243 - val_loss: 207.9771 - val_mape: 10.6372\n",
      "Epoch 25/50\n",
      "134/134 [==============================] - 1s 8ms/step - loss: 57.2719 - mape: 16.1071 - val_loss: 246.3615 - val_mape: 11.7644\n",
      "Epoch 26/50\n",
      "134/134 [==============================] - 1s 9ms/step - loss: 56.0634 - mape: 16.1029 - val_loss: 377.2161 - val_mape: 14.9124\n",
      "Epoch 27/50\n",
      "134/134 [==============================] - 1s 10ms/step - loss: 52.3245 - mape: 15.3653 - val_loss: 383.3720 - val_mape: 15.1339\n",
      "Epoch 28/50\n",
      "134/134 [==============================] - 1s 8ms/step - loss: 57.2497 - mape: 15.4394 - val_loss: 303.1450 - val_mape: 13.1122\n",
      "Epoch 29/50\n",
      "134/134 [==============================] - 1s 8ms/step - loss: 53.8499 - mape: 15.4542 - val_loss: 150.0800 - val_mape: 8.7339\n",
      "Epoch 30/50\n",
      "134/134 [==============================] - 1s 8ms/step - loss: 50.9964 - mape: 14.9295 - val_loss: 56.6806 - val_mape: 5.3611\n",
      "Epoch 31/50\n",
      "134/134 [==============================] - 1s 8ms/step - loss: 71.2899 - mape: 17.3049 - val_loss: 250.8372 - val_mape: 12.0143\n",
      "Epoch 32/50\n",
      "134/134 [==============================] - 1s 9ms/step - loss: 52.9708 - mape: 15.1354 - val_loss: 142.2972 - val_mape: 8.5271\n",
      "Epoch 33/50\n",
      "134/134 [==============================] - 1s 9ms/step - loss: 53.8213 - mape: 15.4596 - val_loss: 297.2798 - val_mape: 12.9486\n",
      "Epoch 34/50\n",
      "134/134 [==============================] - 1s 9ms/step - loss: 59.7564 - mape: 15.1461 - val_loss: 638.3928 - val_mape: 19.9460\n",
      "Epoch 35/50\n",
      "134/134 [==============================] - 1s 9ms/step - loss: 57.5526 - mape: 14.9479 - val_loss: 466.8295 - val_mape: 16.8467\n",
      "Epoch 36/50\n",
      "134/134 [==============================] - 1s 9ms/step - loss: 59.5507 - mape: 15.2558 - val_loss: 522.1630 - val_mape: 17.7733\n",
      "Epoch 37/50\n",
      "134/134 [==============================] - 2s 12ms/step - loss: 51.8605 - mape: 14.6322 - val_loss: 150.3185 - val_mape: 8.6174\n",
      "Epoch 38/50\n",
      "134/134 [==============================] - 1s 10ms/step - loss: 52.5146 - mape: 15.0049 - val_loss: 647.2749 - val_mape: 19.9688\n",
      "Epoch 39/50\n",
      "134/134 [==============================] - 1s 11ms/step - loss: 50.7706 - mape: 14.8927 - val_loss: 564.0393 - val_mape: 18.2507\n",
      "Epoch 40/50\n",
      "134/134 [==============================] - 1s 8ms/step - loss: 53.4832 - mape: 14.4905 - val_loss: 366.6988 - val_mape: 14.2052\n",
      "Epoch 41/50\n",
      "131/134 [============================>.] - ETA: 0s - loss: 48.1164 - mape: 13.9166INFO:tensorflow:Assets written to: ./models\\21.68_41men_5_lstm_2_dense_2_unit_16\\assets\n"
     ]
    },
    {
     "name": "stderr",
     "output_type": "stream",
     "text": [
      "INFO:tensorflow:Assets written to: ./models\\21.68_41men_5_lstm_2_dense_2_unit_16\\assets\n"
     ]
    },
    {
     "name": "stdout",
     "output_type": "stream",
     "text": [
      "134/134 [==============================] - 5s 38ms/step - loss: 48.1218 - mape: 13.8978 - val_loss: 776.9736 - val_mape: 21.6756\n",
      "Epoch 42/50\n",
      "134/134 [==============================] - 1s 9ms/step - loss: 50.1098 - mape: 14.0576 - val_loss: 557.2996 - val_mape: 18.5004\n",
      "Epoch 43/50\n",
      "134/134 [==============================] - 1s 9ms/step - loss: 49.8041 - mape: 14.5498 - val_loss: 306.1456 - val_mape: 12.9717\n",
      "Epoch 44/50\n",
      "134/134 [==============================] - 1s 10ms/step - loss: 51.4532 - mape: 14.6715 - val_loss: 414.9392 - val_mape: 15.5917\n",
      "Epoch 45/50\n",
      "134/134 [==============================] - 1s 9ms/step - loss: 54.7314 - mape: 14.3154 - val_loss: 153.8510 - val_mape: 8.8493\n",
      "Epoch 46/50\n",
      "134/134 [==============================] - 1s 10ms/step - loss: 51.7835 - mape: 14.5685 - val_loss: 287.2731 - val_mape: 12.5562\n",
      "Epoch 47/50\n",
      "134/134 [==============================] - 1s 9ms/step - loss: 51.9011 - mape: 14.0077 - val_loss: 549.8577 - val_mape: 18.3359\n",
      "Epoch 48/50\n",
      "134/134 [==============================] - 1s 9ms/step - loss: 50.5921 - mape: 14.1084 - val_loss: 302.3307 - val_mape: 13.1618\n",
      "Epoch 49/50\n",
      "134/134 [==============================] - 1s 9ms/step - loss: 50.0992 - mape: 14.2433 - val_loss: 612.4803 - val_mape: 19.2925\n",
      "Epoch 50/50\n",
      "128/134 [===========================>..] - ETA: 0s - loss: 50.4494 - mape: 13.9619INFO:tensorflow:Assets written to: ./models\\24.13_50men_5_lstm_2_dense_2_unit_16\\assets\n"
     ]
    },
    {
     "name": "stderr",
     "output_type": "stream",
     "text": [
      "INFO:tensorflow:Assets written to: ./models\\24.13_50men_5_lstm_2_dense_2_unit_16\\assets\n"
     ]
    },
    {
     "name": "stdout",
     "output_type": "stream",
     "text": [
      "134/134 [==============================] - 5s 39ms/step - loss: 50.0351 - mape: 13.9456 - val_loss: 922.6281 - val_mape: 24.1341\n",
      "Epoch 1/50\n",
      "131/133 [============================>.] - ETA: 0s - loss: 486.6045 - mape: 50.6096INFO:tensorflow:Assets written to: ./models\\11.51_01men_5_lstm_2_dense_2_unit_32\\assets\n"
     ]
    },
    {
     "name": "stderr",
     "output_type": "stream",
     "text": [
      "INFO:tensorflow:Assets written to: ./models\\11.51_01men_5_lstm_2_dense_2_unit_32\\assets\n"
     ]
    },
    {
     "name": "stdout",
     "output_type": "stream",
     "text": [
      "133/133 [==============================] - 12s 59ms/step - loss: 480.3448 - mape: 50.3666 - val_loss: 255.0359 - val_mape: 11.5086\n",
      "Epoch 2/50\n",
      "129/133 [============================>.] - ETA: 0s - loss: 69.2320 - mape: 22.4382INFO:tensorflow:Assets written to: ./models\\20.50_02men_5_lstm_2_dense_2_unit_32\\assets\n"
     ]
    },
    {
     "name": "stderr",
     "output_type": "stream",
     "text": [
      "INFO:tensorflow:Assets written to: ./models\\20.50_02men_5_lstm_2_dense_2_unit_32\\assets\n"
     ]
    },
    {
     "name": "stdout",
     "output_type": "stream",
     "text": [
      "133/133 [==============================] - 6s 42ms/step - loss: 68.1420 - mape: 22.2708 - val_loss: 769.6577 - val_mape: 20.4987\n",
      "Epoch 3/50\n",
      "133/133 [==============================] - 1s 10ms/step - loss: 59.9227 - mape: 20.2849 - val_loss: 148.8282 - val_mape: 8.5084\n",
      "Epoch 4/50\n",
      "133/133 [==============================] - 1s 9ms/step - loss: 49.8106 - mape: 17.6872 - val_loss: 482.9201 - val_mape: 15.2578\n",
      "Epoch 5/50\n",
      "133/133 [==============================] - 1s 10ms/step - loss: 38.3825 - mape: 14.9285 - val_loss: 64.8219 - val_mape: 5.8280\n",
      "Epoch 6/50\n",
      "133/133 [==============================] - 1s 9ms/step - loss: 38.5404 - mape: 15.0753 - val_loss: 105.0641 - val_mape: 7.3086\n",
      "Epoch 7/50\n",
      "133/133 [==============================] - 1s 10ms/step - loss: 36.4876 - mape: 14.9097 - val_loss: 670.8274 - val_mape: 20.3465\n",
      "Epoch 8/50\n",
      "133/133 [==============================] - 1s 10ms/step - loss: 34.0057 - mape: 14.1291 - val_loss: 417.5816 - val_mape: 15.0999\n",
      "Epoch 9/50\n",
      "133/133 [==============================] - 1s 10ms/step - loss: 29.7349 - mape: 12.3279 - val_loss: 183.8353 - val_mape: 9.5973\n",
      "Epoch 10/50\n",
      "133/133 [==============================] - 1s 9ms/step - loss: 33.9098 - mape: 13.1224 - val_loss: 112.7809 - val_mape: 7.2716\n",
      "Epoch 11/50\n",
      "133/133 [==============================] - 1s 10ms/step - loss: 32.8542 - mape: 12.5314 - val_loss: 268.1660 - val_mape: 12.2943\n",
      "Epoch 12/50\n",
      "133/133 [==============================] - 1s 9ms/step - loss: 30.2186 - mape: 12.5727 - val_loss: 334.6442 - val_mape: 13.8572\n",
      "Epoch 13/50\n",
      "133/133 [==============================] - 1s 9ms/step - loss: 27.9485 - mape: 11.9006 - val_loss: 197.1755 - val_mape: 9.8940\n",
      "Epoch 14/50\n",
      "133/133 [==============================] - 1s 10ms/step - loss: 33.5581 - mape: 12.4201 - val_loss: 390.5273 - val_mape: 15.3933\n",
      "Epoch 15/50\n",
      "133/133 [==============================] - 2s 12ms/step - loss: 33.8213 - mape: 12.7922 - val_loss: 393.1215 - val_mape: 14.9922\n",
      "Epoch 16/50\n",
      "133/133 [==============================] - 1s 11ms/step - loss: 25.5292 - mape: 11.0393 - val_loss: 378.6782 - val_mape: 14.7158\n",
      "Epoch 17/50\n",
      "133/133 [==============================] - 1s 10ms/step - loss: 27.3808 - mape: 10.6009 - val_loss: 69.7507 - val_mape: 5.8202\n",
      "Epoch 18/50\n",
      "133/133 [==============================] - 1s 10ms/step - loss: 26.1741 - mape: 11.0263 - val_loss: 512.2115 - val_mape: 17.1653\n",
      "Epoch 19/50\n",
      "133/133 [==============================] - 1s 10ms/step - loss: 27.2617 - mape: 10.8600 - val_loss: 326.3651 - val_mape: 13.0908\n",
      "Epoch 20/50\n",
      "133/133 [==============================] - 1s 11ms/step - loss: 27.5628 - mape: 10.8265 - val_loss: 300.0104 - val_mape: 12.8438\n",
      "Epoch 21/50\n",
      "133/133 [==============================] - 1s 10ms/step - loss: 23.2607 - mape: 10.6982 - val_loss: 156.9016 - val_mape: 8.9468\n",
      "Epoch 22/50\n",
      "133/133 [==============================] - 1s 10ms/step - loss: 26.2324 - mape: 10.6503 - val_loss: 111.5001 - val_mape: 7.4350\n",
      "Epoch 23/50\n",
      "133/133 [==============================] - 1s 10ms/step - loss: 25.5509 - mape: 10.1811 - val_loss: 195.3897 - val_mape: 9.5773\n",
      "Epoch 24/50\n",
      "133/133 [==============================] - 1s 11ms/step - loss: 27.1078 - mape: 10.6532 - val_loss: 258.7619 - val_mape: 11.5521\n",
      "Epoch 25/50\n",
      "133/133 [==============================] - 1s 11ms/step - loss: 25.8531 - mape: 10.6271 - val_loss: 175.5429 - val_mape: 9.4622\n",
      "Epoch 26/50\n",
      "133/133 [==============================] - 2s 14ms/step - loss: 23.9928 - mape: 10.2801 - val_loss: 198.1960 - val_mape: 9.7338\n",
      "Epoch 27/50\n",
      "133/133 [==============================] - 2s 13ms/step - loss: 21.9767 - mape: 9.9214 - val_loss: 80.9342 - val_mape: 6.3218\n",
      "Epoch 28/50\n",
      "133/133 [==============================] - 1s 11ms/step - loss: 26.9380 - mape: 10.6814 - val_loss: 276.4589 - val_mape: 12.1354\n",
      "Epoch 29/50\n",
      "133/133 [==============================] - 1s 11ms/step - loss: 24.8175 - mape: 10.4135 - val_loss: 193.1084 - val_mape: 9.5697\n",
      "Epoch 30/50\n",
      "133/133 [==============================] - 1s 10ms/step - loss: 25.1182 - mape: 10.3492 - val_loss: 249.3630 - val_mape: 11.3791\n",
      "Epoch 31/50\n",
      "133/133 [==============================] - 1s 10ms/step - loss: 25.6889 - mape: 10.4316 - val_loss: 328.5978 - val_mape: 13.1366\n",
      "Epoch 32/50\n",
      "133/133 [==============================] - 1s 10ms/step - loss: 25.9487 - mape: 10.4556 - val_loss: 428.1444 - val_mape: 14.8151\n",
      "Epoch 33/50\n",
      "133/133 [==============================] - 1s 10ms/step - loss: 25.0221 - mape: 10.5988 - val_loss: 207.4929 - val_mape: 9.6528\n",
      "Epoch 34/50\n",
      "133/133 [==============================] - 1s 10ms/step - loss: 27.0052 - mape: 10.4296 - val_loss: 175.7919 - val_mape: 9.0093\n",
      "Epoch 35/50\n",
      "133/133 [==============================] - 1s 10ms/step - loss: 24.1697 - mape: 10.3178 - val_loss: 451.1222 - val_mape: 15.7912\n",
      "Epoch 36/50\n",
      "133/133 [==============================] - 1s 10ms/step - loss: 26.4747 - mape: 10.7297 - val_loss: 244.5854 - val_mape: 10.8886\n",
      "Epoch 37/50\n",
      "133/133 [==============================] - 1s 10ms/step - loss: 22.6419 - mape: 9.7141 - val_loss: 176.4191 - val_mape: 9.1518\n",
      "Epoch 38/50\n",
      "133/133 [==============================] - 1s 9ms/step - loss: 25.7817 - mape: 10.1440 - val_loss: 254.5571 - val_mape: 11.1126\n",
      "Epoch 39/50\n",
      "133/133 [==============================] - 1s 10ms/step - loss: 22.3478 - mape: 9.7035 - val_loss: 193.1324 - val_mape: 9.4524\n",
      "Epoch 40/50\n",
      "133/133 [==============================] - 1s 10ms/step - loss: 24.7519 - mape: 10.3737 - val_loss: 216.0333 - val_mape: 10.3699\n",
      "Epoch 41/50\n",
      "133/133 [==============================] - 1s 9ms/step - loss: 21.4111 - mape: 9.8189 - val_loss: 177.8367 - val_mape: 9.1273\n",
      "Epoch 42/50\n",
      "133/133 [==============================] - 1s 10ms/step - loss: 24.0993 - mape: 9.7777 - val_loss: 187.4223 - val_mape: 9.2486\n",
      "Epoch 43/50\n",
      "133/133 [==============================] - 1s 10ms/step - loss: 22.9488 - mape: 10.1309 - val_loss: 316.9751 - val_mape: 12.5967\n",
      "Epoch 44/50\n",
      "133/133 [==============================] - 1s 10ms/step - loss: 22.0969 - mape: 9.9226 - val_loss: 252.0149 - val_mape: 11.0784\n",
      "Epoch 45/50\n",
      "133/133 [==============================] - 1s 10ms/step - loss: 21.3579 - mape: 9.7679 - val_loss: 178.7103 - val_mape: 9.1529\n",
      "Epoch 46/50\n",
      "133/133 [==============================] - 1s 9ms/step - loss: 22.7938 - mape: 10.1806 - val_loss: 229.7916 - val_mape: 10.1060\n",
      "Epoch 47/50\n",
      "133/133 [==============================] - 1s 10ms/step - loss: 23.4943 - mape: 9.9492 - val_loss: 145.0005 - val_mape: 8.1687\n",
      "Epoch 48/50\n",
      "133/133 [==============================] - 1s 10ms/step - loss: 22.2100 - mape: 9.6340 - val_loss: 160.4035 - val_mape: 8.8774\n",
      "Epoch 49/50\n",
      "133/133 [==============================] - 1s 10ms/step - loss: 21.3037 - mape: 9.4962 - val_loss: 633.7333 - val_mape: 19.6010\n",
      "Epoch 50/50\n",
      "133/133 [==============================] - 1s 10ms/step - loss: 23.3311 - mape: 10.2658 - val_loss: 421.6398 - val_mape: 14.5961\n",
      "Epoch 1/50\n",
      "127/133 [===========================>..] - ETA: 0s - loss: 1016.7339 - mape: 79.3849INFO:tensorflow:Assets written to: ./models\\27.60_01men_5_lstm_2_dense_3_unit_8\\assets\n"
     ]
    },
    {
     "name": "stderr",
     "output_type": "stream",
     "text": [
      "INFO:tensorflow:Assets written to: ./models\\27.60_01men_5_lstm_2_dense_3_unit_8\\assets\n"
     ]
    },
    {
     "name": "stdout",
     "output_type": "stream",
     "text": [
      "133/133 [==============================] - 10s 46ms/step - loss: 979.4152 - mape: 77.7195 - val_loss: 1115.4590 - val_mape: 27.5979\n",
      "Epoch 2/50\n",
      "133/133 [==============================] - 1s 8ms/step - loss: 189.9106 - mape: 33.3671 - val_loss: 1040.9995 - val_mape: 26.0148\n",
      "Epoch 3/50\n",
      "133/133 [==============================] - 1s 9ms/step - loss: 138.8035 - mape: 27.2625 - val_loss: 862.5637 - val_mape: 23.6218\n",
      "Epoch 4/50\n",
      "133/133 [==============================] - 1s 8ms/step - loss: 127.6993 - mape: 25.5233 - val_loss: 904.2372 - val_mape: 24.2303\n",
      "Epoch 5/50\n",
      "133/133 [==============================] - ETA: 0s - loss: 117.7661 - mape: 24.1528INFO:tensorflow:Assets written to: ./models\\28.63_05men_5_lstm_2_dense_3_unit_8\\assets\n"
     ]
    },
    {
     "name": "stderr",
     "output_type": "stream",
     "text": [
      "INFO:tensorflow:Assets written to: ./models\\28.63_05men_5_lstm_2_dense_3_unit_8\\assets\n"
     ]
    },
    {
     "name": "stdout",
     "output_type": "stream",
     "text": [
      "133/133 [==============================] - 5s 37ms/step - loss: 117.7661 - mape: 24.1528 - val_loss: 1274.5237 - val_mape: 28.6260\n",
      "Epoch 6/50\n",
      "127/133 [===========================>..] - ETA: 0s - loss: 102.7554 - mape: 22.7752INFO:tensorflow:Assets written to: ./models\\31.48_06men_5_lstm_2_dense_3_unit_8\\assets\n"
     ]
    },
    {
     "name": "stderr",
     "output_type": "stream",
     "text": [
      "INFO:tensorflow:Assets written to: ./models\\31.48_06men_5_lstm_2_dense_3_unit_8\\assets\n"
     ]
    },
    {
     "name": "stdout",
     "output_type": "stream",
     "text": [
      "133/133 [==============================] - 6s 47ms/step - loss: 102.7722 - mape: 22.7118 - val_loss: 1527.0565 - val_mape: 31.4782\n",
      "Epoch 7/50\n",
      "133/133 [==============================] - 1s 9ms/step - loss: 87.6446 - mape: 21.4752 - val_loss: 1260.5396 - val_mape: 28.6380\n",
      "Epoch 8/50\n",
      "133/133 [==============================] - 1s 8ms/step - loss: 86.9467 - mape: 20.1826 - val_loss: 1238.5941 - val_mape: 28.2317\n",
      "Epoch 9/50\n",
      "128/133 [===========================>..] - ETA: 0s - loss: 81.1119 - mape: 19.3758INFO:tensorflow:Assets written to: ./models\\32.49_09men_5_lstm_2_dense_3_unit_8\\assets\n"
     ]
    },
    {
     "name": "stderr",
     "output_type": "stream",
     "text": [
      "INFO:tensorflow:Assets written to: ./models\\32.49_09men_5_lstm_2_dense_3_unit_8\\assets\n"
     ]
    },
    {
     "name": "stdout",
     "output_type": "stream",
     "text": [
      "133/133 [==============================] - 5s 37ms/step - loss: 81.0394 - mape: 19.4493 - val_loss: 1625.2031 - val_mape: 32.4889\n",
      "Epoch 10/50\n",
      "133/133 [==============================] - 1s 8ms/step - loss: 77.7506 - mape: 18.5206 - val_loss: 858.2110 - val_mape: 23.3643\n",
      "Epoch 11/50\n",
      "133/133 [==============================] - 1s 8ms/step - loss: 81.1915 - mape: 18.8212 - val_loss: 724.6974 - val_mape: 20.7537\n",
      "Epoch 12/50\n",
      "133/133 [==============================] - 1s 8ms/step - loss: 80.4271 - mape: 18.7017 - val_loss: 923.2482 - val_mape: 24.3815\n",
      "Epoch 13/50\n",
      "133/133 [==============================] - 1s 8ms/step - loss: 84.2111 - mape: 19.5158 - val_loss: 1308.1758 - val_mape: 29.1560\n",
      "Epoch 14/50\n",
      "133/133 [==============================] - 1s 8ms/step - loss: 69.8129 - mape: 18.7585 - val_loss: 1264.7666 - val_mape: 28.7734\n",
      "Epoch 15/50\n",
      "133/133 [==============================] - 1s 8ms/step - loss: 77.9816 - mape: 18.5703 - val_loss: 819.7701 - val_mape: 22.9013\n",
      "Epoch 16/50\n",
      "133/133 [==============================] - 1s 9ms/step - loss: 73.8313 - mape: 19.0011 - val_loss: 1145.1680 - val_mape: 27.0035\n",
      "Epoch 17/50\n",
      "133/133 [==============================] - 1s 8ms/step - loss: 67.1876 - mape: 19.2057 - val_loss: 824.1133 - val_mape: 23.0599\n",
      "Epoch 18/50\n",
      "131/133 [============================>.] - ETA: 0s - loss: 67.5463 - mape: 19.2009INFO:tensorflow:Assets written to: ./models\\32.81_18men_5_lstm_2_dense_3_unit_8\\assets\n"
     ]
    },
    {
     "name": "stderr",
     "output_type": "stream",
     "text": [
      "INFO:tensorflow:Assets written to: ./models\\32.81_18men_5_lstm_2_dense_3_unit_8\\assets\n"
     ]
    },
    {
     "name": "stdout",
     "output_type": "stream",
     "text": [
      "133/133 [==============================] - 5s 39ms/step - loss: 67.1726 - mape: 19.1803 - val_loss: 1625.1887 - val_mape: 32.8104\n",
      "Epoch 19/50\n",
      "133/133 [==============================] - 1s 9ms/step - loss: 63.1280 - mape: 18.3988 - val_loss: 1553.2015 - val_mape: 32.0429\n",
      "Epoch 20/50\n",
      "133/133 [==============================] - 1s 8ms/step - loss: 65.4284 - mape: 18.6912 - val_loss: 1147.8315 - val_mape: 26.8054\n",
      "Epoch 21/50\n",
      "133/133 [==============================] - 1s 8ms/step - loss: 65.0799 - mape: 18.4177 - val_loss: 1420.4983 - val_mape: 30.2334\n",
      "Epoch 22/50\n",
      "133/133 [==============================] - 1s 8ms/step - loss: 64.5101 - mape: 19.0574 - val_loss: 1364.4728 - val_mape: 29.8149\n",
      "Epoch 23/50\n",
      "133/133 [==============================] - 1s 8ms/step - loss: 65.4485 - mape: 18.5532 - val_loss: 887.7853 - val_mape: 23.7074\n",
      "Epoch 24/50\n",
      "133/133 [==============================] - 1s 8ms/step - loss: 61.1640 - mape: 18.5926 - val_loss: 1272.6772 - val_mape: 28.9835\n",
      "Epoch 25/50\n",
      "127/133 [===========================>..] - ETA: 0s - loss: 56.8357 - mape: 17.9771INFO:tensorflow:Assets written to: ./models\\33.02_25men_5_lstm_2_dense_3_unit_8\\assets\n"
     ]
    },
    {
     "name": "stderr",
     "output_type": "stream",
     "text": [
      "INFO:tensorflow:Assets written to: ./models\\33.02_25men_5_lstm_2_dense_3_unit_8\\assets\n"
     ]
    },
    {
     "name": "stdout",
     "output_type": "stream",
     "text": [
      "133/133 [==============================] - 5s 37ms/step - loss: 57.1706 - mape: 18.0120 - val_loss: 1680.4032 - val_mape: 33.0232\n",
      "Epoch 26/50\n",
      "133/133 [==============================] - 1s 9ms/step - loss: 61.2164 - mape: 18.0162 - val_loss: 1436.5044 - val_mape: 30.7950\n",
      "Epoch 27/50\n",
      "133/133 [==============================] - 1s 9ms/step - loss: 59.2953 - mape: 17.9241 - val_loss: 1203.0547 - val_mape: 27.7595\n",
      "Epoch 28/50\n",
      "133/133 [==============================] - 1s 9ms/step - loss: 58.1548 - mape: 18.0949 - val_loss: 1471.7500 - val_mape: 31.1726\n",
      "Epoch 29/50\n",
      "133/133 [==============================] - 1s 9ms/step - loss: 56.0176 - mape: 17.4292 - val_loss: 1221.5552 - val_mape: 28.4409\n",
      "Epoch 30/50\n",
      "130/133 [============================>.] - ETA: 0s - loss: 55.6602 - mape: 17.3618INFO:tensorflow:Assets written to: ./models\\33.25_30men_5_lstm_2_dense_3_unit_8\\assets\n"
     ]
    },
    {
     "name": "stderr",
     "output_type": "stream",
     "text": [
      "INFO:tensorflow:Assets written to: ./models\\33.25_30men_5_lstm_2_dense_3_unit_8\\assets\n"
     ]
    },
    {
     "name": "stdout",
     "output_type": "stream",
     "text": [
      "133/133 [==============================] - 6s 47ms/step - loss: 56.0671 - mape: 17.3972 - val_loss: 1677.2627 - val_mape: 33.2493\n",
      "Epoch 31/50\n",
      "133/133 [==============================] - 1s 9ms/step - loss: 53.5059 - mape: 16.8975 - val_loss: 1533.4971 - val_mape: 31.4277\n",
      "Epoch 32/50\n",
      "133/133 [==============================] - 1s 9ms/step - loss: 50.6798 - mape: 17.4639 - val_loss: 1094.4454 - val_mape: 26.1194\n",
      "Epoch 33/50\n",
      "133/133 [==============================] - 1s 9ms/step - loss: 52.9381 - mape: 17.1557 - val_loss: 1305.5179 - val_mape: 28.7560\n",
      "Epoch 34/50\n",
      "129/133 [============================>.] - ETA: 0s - loss: 54.0920 - mape: 17.0661INFO:tensorflow:Assets written to: ./models\\33.31_34men_5_lstm_2_dense_3_unit_8\\assets\n"
     ]
    },
    {
     "name": "stderr",
     "output_type": "stream",
     "text": [
      "INFO:tensorflow:Assets written to: ./models\\33.31_34men_5_lstm_2_dense_3_unit_8\\assets\n"
     ]
    },
    {
     "name": "stdout",
     "output_type": "stream",
     "text": [
      "133/133 [==============================] - 5s 38ms/step - loss: 54.1184 - mape: 17.0314 - val_loss: 1746.9774 - val_mape: 33.3091\n",
      "Epoch 35/50\n",
      "133/133 [==============================] - 1s 9ms/step - loss: 54.2967 - mape: 17.1805 - val_loss: 1377.1779 - val_mape: 29.7690\n",
      "Epoch 36/50\n",
      "133/133 [==============================] - 1s 8ms/step - loss: 57.6875 - mape: 17.4388 - val_loss: 1484.3992 - val_mape: 31.0359\n",
      "Epoch 37/50\n",
      "133/133 [==============================] - 1s 9ms/step - loss: 48.1384 - mape: 16.9249 - val_loss: 1229.2063 - val_mape: 28.4511\n",
      "Epoch 38/50\n",
      "133/133 [==============================] - 1s 8ms/step - loss: 55.8011 - mape: 17.1926 - val_loss: 1482.7538 - val_mape: 31.1853\n",
      "Epoch 39/50\n",
      "133/133 [==============================] - 1s 9ms/step - loss: 53.7661 - mape: 17.3514 - val_loss: 1020.5153 - val_mape: 25.5140\n",
      "Epoch 40/50\n",
      "133/133 [==============================] - 1s 9ms/step - loss: 55.4125 - mape: 17.5164 - val_loss: 1430.3480 - val_mape: 30.1470\n",
      "Epoch 41/50\n",
      "133/133 [==============================] - 1s 9ms/step - loss: 53.1263 - mape: 17.5033 - val_loss: 1154.5951 - val_mape: 26.9929\n",
      "Epoch 42/50\n",
      "133/133 [==============================] - 1s 9ms/step - loss: 48.1238 - mape: 17.1285 - val_loss: 1414.9410 - val_mape: 30.0226\n",
      "Epoch 43/50\n",
      "133/133 [==============================] - ETA: 0s - loss: 50.3312 - mape: 16.7061INFO:tensorflow:Assets written to: ./models\\34.61_43men_5_lstm_2_dense_3_unit_8\\assets\n"
     ]
    },
    {
     "name": "stderr",
     "output_type": "stream",
     "text": [
      "INFO:tensorflow:Assets written to: ./models\\34.61_43men_5_lstm_2_dense_3_unit_8\\assets\n"
     ]
    },
    {
     "name": "stdout",
     "output_type": "stream",
     "text": [
      "133/133 [==============================] - 6s 45ms/step - loss: 50.3312 - mape: 16.7061 - val_loss: 1831.4236 - val_mape: 34.6104\n",
      "Epoch 44/50\n",
      "133/133 [==============================] - 1s 9ms/step - loss: 45.4687 - mape: 17.0266 - val_loss: 913.3621 - val_mape: 23.9863\n",
      "Epoch 45/50\n",
      "133/133 [==============================] - 1s 9ms/step - loss: 47.4536 - mape: 17.1700 - val_loss: 1529.6763 - val_mape: 31.7235\n",
      "Epoch 46/50\n",
      "133/133 [==============================] - 1s 9ms/step - loss: 52.4708 - mape: 17.1573 - val_loss: 1676.5549 - val_mape: 33.1598\n",
      "Epoch 47/50\n",
      "133/133 [==============================] - ETA: 0s - loss: 49.1368 - mape: 17.0162INFO:tensorflow:Assets written to: ./models\\35.18_47men_5_lstm_2_dense_3_unit_8\\assets\n"
     ]
    },
    {
     "name": "stderr",
     "output_type": "stream",
     "text": [
      "INFO:tensorflow:Assets written to: ./models\\35.18_47men_5_lstm_2_dense_3_unit_8\\assets\n"
     ]
    },
    {
     "name": "stdout",
     "output_type": "stream",
     "text": [
      "133/133 [==============================] - 5s 37ms/step - loss: 49.1368 - mape: 17.0162 - val_loss: 1876.1637 - val_mape: 35.1803\n",
      "Epoch 48/50\n",
      "133/133 [==============================] - 1s 9ms/step - loss: 52.1804 - mape: 17.2665 - val_loss: 1889.6101 - val_mape: 35.1724\n",
      "Epoch 49/50\n",
      "133/133 [==============================] - 1s 9ms/step - loss: 51.3440 - mape: 16.9716 - val_loss: 1823.7153 - val_mape: 34.5483\n",
      "Epoch 50/50\n",
      "133/133 [==============================] - 1s 9ms/step - loss: 51.6741 - mape: 17.1133 - val_loss: 1433.0974 - val_mape: 30.7629\n",
      "Epoch 1/50\n",
      "130/133 [============================>.] - ETA: 0s - loss: 830.8226 - mape: 63.7450INFO:tensorflow:Assets written to: ./models\\8.60_01men_5_lstm_2_dense_3_unit_16\\assets\n"
     ]
    },
    {
     "name": "stderr",
     "output_type": "stream",
     "text": [
      "INFO:tensorflow:Assets written to: ./models\\8.60_01men_5_lstm_2_dense_3_unit_16\\assets\n"
     ]
    },
    {
     "name": "stdout",
     "output_type": "stream",
     "text": [
      "133/133 [==============================] - 10s 42ms/step - loss: 818.7283 - mape: 63.1154 - val_loss: 148.7506 - val_mape: 8.5994\n",
      "Epoch 2/50\n",
      "133/133 [==============================] - 1s 9ms/step - loss: 117.0422 - mape: 26.8050 - val_loss: 114.9383 - val_mape: 7.4770\n",
      "Epoch 3/50\n",
      "133/133 [==============================] - ETA: 0s - loss: 93.7737 - mape: 23.4618INFO:tensorflow:Assets written to: ./models\\11.12_03men_5_lstm_2_dense_3_unit_16\\assets\n"
     ]
    },
    {
     "name": "stderr",
     "output_type": "stream",
     "text": [
      "INFO:tensorflow:Assets written to: ./models\\11.12_03men_5_lstm_2_dense_3_unit_16\\assets\n"
     ]
    },
    {
     "name": "stdout",
     "output_type": "stream",
     "text": [
      "133/133 [==============================] - 6s 48ms/step - loss: 93.7737 - mape: 23.4618 - val_loss: 231.1656 - val_mape: 11.1155\n",
      "Epoch 4/50\n",
      "133/133 [==============================] - 1s 9ms/step - loss: 82.9540 - mape: 22.2615 - val_loss: 142.8074 - val_mape: 8.7085\n",
      "Epoch 5/50\n",
      "132/133 [============================>.] - ETA: 0s - loss: 72.0556 - mape: 21.3556INFO:tensorflow:Assets written to: ./models\\18.32_05men_5_lstm_2_dense_3_unit_16\\assets\n"
     ]
    },
    {
     "name": "stderr",
     "output_type": "stream",
     "text": [
      "INFO:tensorflow:Assets written to: ./models\\18.32_05men_5_lstm_2_dense_3_unit_16\\assets\n"
     ]
    },
    {
     "name": "stdout",
     "output_type": "stream",
     "text": [
      "133/133 [==============================] - 5s 40ms/step - loss: 71.7654 - mape: 21.3334 - val_loss: 577.6430 - val_mape: 18.3222\n",
      "Epoch 6/50\n",
      "133/133 [==============================] - 1s 9ms/step - loss: 69.2433 - mape: 20.5787 - val_loss: 395.4740 - val_mape: 15.5086\n",
      "Epoch 7/50\n",
      "133/133 [==============================] - 1s 9ms/step - loss: 60.9082 - mape: 19.2430 - val_loss: 445.1773 - val_mape: 16.5185\n",
      "Epoch 8/50\n",
      "132/133 [============================>.] - ETA: 0s - loss: 60.4562 - mape: 19.0369INFO:tensorflow:Assets written to: ./models\\19.95_08men_5_lstm_2_dense_3_unit_16\\assets\n"
     ]
    },
    {
     "name": "stderr",
     "output_type": "stream",
     "text": [
      "INFO:tensorflow:Assets written to: ./models\\19.95_08men_5_lstm_2_dense_3_unit_16\\assets\n"
     ]
    },
    {
     "name": "stdout",
     "output_type": "stream",
     "text": [
      "133/133 [==============================] - 5s 39ms/step - loss: 60.5415 - mape: 19.0590 - val_loss: 646.1755 - val_mape: 19.9459\n",
      "Epoch 9/50\n",
      "133/133 [==============================] - 1s 10ms/step - loss: 54.6981 - mape: 18.7988 - val_loss: 478.8024 - val_mape: 17.3126\n",
      "Epoch 10/50\n",
      "133/133 [==============================] - ETA: 0s - loss: 58.9865 - mape: 18.2958INFO:tensorflow:Assets written to: ./models\\21.41_10men_5_lstm_2_dense_3_unit_16\\assets\n"
     ]
    },
    {
     "name": "stderr",
     "output_type": "stream",
     "text": [
      "INFO:tensorflow:Assets written to: ./models\\21.41_10men_5_lstm_2_dense_3_unit_16\\assets\n"
     ]
    },
    {
     "name": "stdout",
     "output_type": "stream",
     "text": [
      "133/133 [==============================] - 6s 48ms/step - loss: 58.9865 - mape: 18.2958 - val_loss: 721.2919 - val_mape: 21.4129\n",
      "Epoch 11/50\n",
      "133/133 [==============================] - 1s 9ms/step - loss: 57.4584 - mape: 17.5103 - val_loss: 258.5293 - val_mape: 12.2858\n",
      "Epoch 12/50\n",
      "133/133 [==============================] - 1s 9ms/step - loss: 54.5816 - mape: 17.5809 - val_loss: 391.7188 - val_mape: 15.6234\n",
      "Epoch 13/50\n",
      "131/133 [============================>.] - ETA: 0s - loss: 49.6557 - mape: 17.0037INFO:tensorflow:Assets written to: ./models\\23.87_13men_5_lstm_2_dense_3_unit_16\\assets\n"
     ]
    },
    {
     "name": "stderr",
     "output_type": "stream",
     "text": [
      "INFO:tensorflow:Assets written to: ./models\\23.87_13men_5_lstm_2_dense_3_unit_16\\assets\n"
     ]
    },
    {
     "name": "stdout",
     "output_type": "stream",
     "text": [
      "133/133 [==============================] - 5s 40ms/step - loss: 49.4461 - mape: 16.9808 - val_loss: 920.7932 - val_mape: 23.8665\n",
      "Epoch 14/50\n",
      "133/133 [==============================] - 1s 9ms/step - loss: 54.9614 - mape: 16.8428 - val_loss: 712.8542 - val_mape: 21.0081\n",
      "Epoch 15/50\n",
      "133/133 [==============================] - 1s 9ms/step - loss: 48.6037 - mape: 16.6695 - val_loss: 286.6547 - val_mape: 12.3934\n",
      "Epoch 16/50\n",
      "133/133 [==============================] - 1s 9ms/step - loss: 46.3282 - mape: 16.2176 - val_loss: 564.0780 - val_mape: 17.4541\n",
      "Epoch 17/50\n",
      "133/133 [==============================] - 1s 9ms/step - loss: 45.9925 - mape: 16.2107 - val_loss: 535.9788 - val_mape: 17.7720\n",
      "Epoch 18/50\n",
      "133/133 [==============================] - ETA: 0s - loss: 50.8372 - mape: 16.1787INFO:tensorflow:Assets written to: ./models\\25.87_18men_5_lstm_2_dense_3_unit_16\\assets\n"
     ]
    },
    {
     "name": "stderr",
     "output_type": "stream",
     "text": [
      "INFO:tensorflow:Assets written to: ./models\\25.87_18men_5_lstm_2_dense_3_unit_16\\assets\n"
     ]
    },
    {
     "name": "stdout",
     "output_type": "stream",
     "text": [
      "133/133 [==============================] - 5s 39ms/step - loss: 50.8372 - mape: 16.1787 - val_loss: 1024.1885 - val_mape: 25.8690\n",
      "Epoch 19/50\n",
      "133/133 [==============================] - 1s 9ms/step - loss: 48.5004 - mape: 17.0419 - val_loss: 611.3124 - val_mape: 19.3990\n",
      "Epoch 20/50\n",
      "133/133 [==============================] - 1s 9ms/step - loss: 42.9903 - mape: 15.9199 - val_loss: 840.3826 - val_mape: 22.4468\n",
      "Epoch 21/50\n",
      "133/133 [==============================] - 1s 9ms/step - loss: 45.3598 - mape: 15.8259 - val_loss: 1063.4342 - val_mape: 25.8652\n",
      "Epoch 22/50\n",
      "133/133 [==============================] - 1s 9ms/step - loss: 40.0796 - mape: 15.7675 - val_loss: 610.8580 - val_mape: 19.2658\n",
      "Epoch 23/50\n",
      "133/133 [==============================] - 1s 9ms/step - loss: 47.1432 - mape: 16.2884 - val_loss: 329.1805 - val_mape: 13.4789\n",
      "Epoch 24/50\n",
      "133/133 [==============================] - 1s 9ms/step - loss: 42.1064 - mape: 15.9003 - val_loss: 422.7322 - val_mape: 15.5978\n",
      "Epoch 25/50\n",
      "133/133 [==============================] - 1s 9ms/step - loss: 43.0044 - mape: 15.4603 - val_loss: 877.3373 - val_mape: 23.1192\n",
      "Epoch 26/50\n",
      "133/133 [==============================] - 1s 9ms/step - loss: 42.0788 - mape: 15.2957 - val_loss: 234.5226 - val_mape: 11.6781\n",
      "Epoch 27/50\n",
      "131/133 [============================>.] - ETA: 0s - loss: 40.9783 - mape: 15.3875INFO:tensorflow:Assets written to: ./models\\27.25_27men_5_lstm_2_dense_3_unit_16\\assets\n"
     ]
    },
    {
     "name": "stderr",
     "output_type": "stream",
     "text": [
      "INFO:tensorflow:Assets written to: ./models\\27.25_27men_5_lstm_2_dense_3_unit_16\\assets\n"
     ]
    },
    {
     "name": "stdout",
     "output_type": "stream",
     "text": [
      "133/133 [==============================] - 6s 48ms/step - loss: 40.6527 - mape: 15.3435 - val_loss: 1170.6698 - val_mape: 27.2541\n",
      "Epoch 28/50\n",
      "133/133 [==============================] - 1s 9ms/step - loss: 40.5219 - mape: 14.8211 - val_loss: 1026.9567 - val_mape: 25.3457\n",
      "Epoch 29/50\n",
      "133/133 [==============================] - 1s 9ms/step - loss: 35.8079 - mape: 14.7211 - val_loss: 1131.5969 - val_mape: 26.5619\n",
      "Epoch 30/50\n",
      "133/133 [==============================] - 1s 9ms/step - loss: 38.4656 - mape: 14.8993 - val_loss: 975.7587 - val_mape: 25.2409\n",
      "Epoch 31/50\n",
      "133/133 [==============================] - 1s 9ms/step - loss: 37.4797 - mape: 14.2409 - val_loss: 1149.4332 - val_mape: 26.7711\n",
      "Epoch 32/50\n",
      "133/133 [==============================] - 1s 10ms/step - loss: 36.6227 - mape: 14.4330 - val_loss: 1062.7871 - val_mape: 25.7700\n",
      "Epoch 33/50\n",
      "131/133 [============================>.] - ETA: 0s - loss: 33.6845 - mape: 14.1305INFO:tensorflow:Assets written to: ./models\\27.77_33men_5_lstm_2_dense_3_unit_16\\assets\n"
     ]
    },
    {
     "name": "stderr",
     "output_type": "stream",
     "text": [
      "INFO:tensorflow:Assets written to: ./models\\27.77_33men_5_lstm_2_dense_3_unit_16\\assets\n"
     ]
    },
    {
     "name": "stdout",
     "output_type": "stream",
     "text": [
      "133/133 [==============================] - 5s 40ms/step - loss: 33.4855 - mape: 14.1473 - val_loss: 1195.5549 - val_mape: 27.7685\n",
      "Epoch 34/50\n",
      "133/133 [==============================] - 1s 9ms/step - loss: 33.5220 - mape: 14.3489 - val_loss: 875.4795 - val_mape: 22.9881\n",
      "Epoch 35/50\n",
      "133/133 [==============================] - 1s 10ms/step - loss: 35.7213 - mape: 14.4236 - val_loss: 643.3508 - val_mape: 20.1774\n",
      "Epoch 36/50\n",
      "133/133 [==============================] - 1s 9ms/step - loss: 38.1571 - mape: 14.1262 - val_loss: 1206.5011 - val_mape: 27.6226\n",
      "Epoch 37/50\n",
      "133/133 [==============================] - ETA: 0s - loss: 32.3774 - mape: 14.0295INFO:tensorflow:Assets written to: ./models\\29.34_37men_5_lstm_2_dense_3_unit_16\\assets\n"
     ]
    },
    {
     "name": "stderr",
     "output_type": "stream",
     "text": [
      "INFO:tensorflow:Assets written to: ./models\\29.34_37men_5_lstm_2_dense_3_unit_16\\assets\n"
     ]
    },
    {
     "name": "stdout",
     "output_type": "stream",
     "text": [
      "133/133 [==============================] - 5s 39ms/step - loss: 32.3774 - mape: 14.0295 - val_loss: 1314.7800 - val_mape: 29.3430\n",
      "Epoch 38/50\n",
      "133/133 [==============================] - ETA: 0s - loss: 32.2665 - mape: 14.3906INFO:tensorflow:Assets written to: ./models\\30.21_38men_5_lstm_2_dense_3_unit_16\\assets\n"
     ]
    },
    {
     "name": "stderr",
     "output_type": "stream",
     "text": [
      "INFO:tensorflow:Assets written to: ./models\\30.21_38men_5_lstm_2_dense_3_unit_16\\assets\n"
     ]
    },
    {
     "name": "stdout",
     "output_type": "stream",
     "text": [
      "133/133 [==============================] - 6s 48ms/step - loss: 32.2665 - mape: 14.3906 - val_loss: 1434.9277 - val_mape: 30.2137\n",
      "Epoch 39/50\n",
      "133/133 [==============================] - 1s 9ms/step - loss: 35.7332 - mape: 14.4066 - val_loss: 1019.5120 - val_mape: 25.6690\n",
      "Epoch 40/50\n",
      "133/133 [==============================] - 1s 9ms/step - loss: 34.3261 - mape: 13.8286 - val_loss: 1014.5349 - val_mape: 25.3997\n",
      "Epoch 41/50\n",
      "133/133 [==============================] - 1s 9ms/step - loss: 33.2488 - mape: 13.8150 - val_loss: 1239.9052 - val_mape: 27.8803\n",
      "Epoch 42/50\n",
      "133/133 [==============================] - 1s 9ms/step - loss: 32.9778 - mape: 13.7674 - val_loss: 992.8177 - val_mape: 25.2336\n",
      "Epoch 43/50\n",
      "133/133 [==============================] - 1s 9ms/step - loss: 29.9704 - mape: 13.7351 - val_loss: 536.1295 - val_mape: 18.0048\n",
      "Epoch 44/50\n",
      "133/133 [==============================] - 1s 9ms/step - loss: 33.9335 - mape: 13.8963 - val_loss: 1173.2131 - val_mape: 27.4851\n",
      "Epoch 45/50\n",
      "133/133 [==============================] - 1s 9ms/step - loss: 31.9939 - mape: 13.4789 - val_loss: 1324.2551 - val_mape: 28.8643\n",
      "Epoch 46/50\n",
      "133/133 [==============================] - 1s 9ms/step - loss: 37.3721 - mape: 14.3914 - val_loss: 1354.1797 - val_mape: 29.8434\n",
      "Epoch 47/50\n",
      "133/133 [==============================] - 1s 9ms/step - loss: 32.4137 - mape: 14.3173 - val_loss: 1307.5406 - val_mape: 28.9010\n",
      "Epoch 48/50\n",
      "133/133 [==============================] - 1s 10ms/step - loss: 36.9646 - mape: 14.0414 - val_loss: 1222.1924 - val_mape: 28.1834\n",
      "Epoch 49/50\n",
      "133/133 [==============================] - 1s 9ms/step - loss: 33.7539 - mape: 13.9214 - val_loss: 1141.5496 - val_mape: 27.2164\n",
      "Epoch 50/50\n",
      "132/133 [============================>.] - ETA: 0s - loss: 30.2373 - mape: 13.6812INFO:tensorflow:Assets written to: ./models\\31.83_50men_5_lstm_2_dense_3_unit_16\\assets\n"
     ]
    },
    {
     "name": "stderr",
     "output_type": "stream",
     "text": [
      "INFO:tensorflow:Assets written to: ./models\\31.83_50men_5_lstm_2_dense_3_unit_16\\assets\n"
     ]
    },
    {
     "name": "stdout",
     "output_type": "stream",
     "text": [
      "133/133 [==============================] - 5s 39ms/step - loss: 30.5678 - mape: 13.7239 - val_loss: 1583.0693 - val_mape: 31.8254\n",
      "Epoch 1/50\n",
      "129/133 [============================>.] - ETA: 0s - loss: 645.5352 - mape: 58.2425INFO:tensorflow:Assets written to: ./models\\17.56_01men_5_lstm_2_dense_3_unit_32\\assets\n"
     ]
    },
    {
     "name": "stderr",
     "output_type": "stream",
     "text": [
      "INFO:tensorflow:Assets written to: ./models\\17.56_01men_5_lstm_2_dense_3_unit_32\\assets\n"
     ]
    },
    {
     "name": "stdout",
     "output_type": "stream",
     "text": [
      "133/133 [==============================] - 11s 51ms/step - loss: 632.3466 - mape: 57.6365 - val_loss: 484.9739 - val_mape: 17.5589\n",
      "Epoch 2/50\n",
      "133/133 [==============================] - 1s 11ms/step - loss: 97.4541 - mape: 26.2921 - val_loss: 426.8931 - val_mape: 16.2396\n",
      "Epoch 3/50\n",
      "133/133 [==============================] - 1s 11ms/step - loss: 77.2139 - mape: 22.2507 - val_loss: 204.2158 - val_mape: 10.6611\n",
      "Epoch 4/50\n",
      "133/133 [==============================] - ETA: 0s - loss: 60.9440 - mape: 20.7600INFO:tensorflow:Assets written to: ./models\\17.83_04men_5_lstm_2_dense_3_unit_32\\assets\n"
     ]
    },
    {
     "name": "stderr",
     "output_type": "stream",
     "text": [
      "INFO:tensorflow:Assets written to: ./models\\17.83_04men_5_lstm_2_dense_3_unit_32\\assets\n"
     ]
    },
    {
     "name": "stdout",
     "output_type": "stream",
     "text": [
      "133/133 [==============================] - 5s 40ms/step - loss: 60.9440 - mape: 20.7600 - val_loss: 523.6010 - val_mape: 17.8344\n",
      "Epoch 5/50\n",
      "133/133 [==============================] - 1s 11ms/step - loss: 56.9711 - mape: 19.5646 - val_loss: 123.3480 - val_mape: 7.9749\n",
      "Epoch 6/50\n",
      "133/133 [==============================] - 1s 10ms/step - loss: 52.1664 - mape: 18.7099 - val_loss: 283.0948 - val_mape: 12.2047\n",
      "Epoch 7/50\n",
      "133/133 [==============================] - 1s 11ms/step - loss: 51.7083 - mape: 17.7884 - val_loss: 512.6427 - val_mape: 17.1170\n",
      "Epoch 8/50\n",
      "129/133 [============================>.] - ETA: 0s - loss: 49.7533 - mape: 17.6306INFO:tensorflow:Assets written to: ./models\\18.12_08men_5_lstm_2_dense_3_unit_32\\assets\n"
     ]
    },
    {
     "name": "stderr",
     "output_type": "stream",
     "text": [
      "INFO:tensorflow:Assets written to: ./models\\18.12_08men_5_lstm_2_dense_3_unit_32\\assets\n"
     ]
    },
    {
     "name": "stdout",
     "output_type": "stream",
     "text": [
      "133/133 [==============================] - 5s 40ms/step - loss: 49.3080 - mape: 17.5745 - val_loss: 554.9666 - val_mape: 18.1244\n",
      "Epoch 9/50\n",
      "133/133 [==============================] - 1s 11ms/step - loss: 42.4215 - mape: 16.1455 - val_loss: 327.8110 - val_mape: 13.5172\n",
      "Epoch 10/50\n",
      "131/133 [============================>.] - ETA: 0s - loss: 40.8013 - mape: 15.0168INFO:tensorflow:Assets written to: ./models\\20.45_10men_5_lstm_2_dense_3_unit_32\\assets\n"
     ]
    },
    {
     "name": "stderr",
     "output_type": "stream",
     "text": [
      "INFO:tensorflow:Assets written to: ./models\\20.45_10men_5_lstm_2_dense_3_unit_32\\assets\n"
     ]
    },
    {
     "name": "stdout",
     "output_type": "stream",
     "text": [
      "133/133 [==============================] - 5s 40ms/step - loss: 40.6551 - mape: 15.0224 - val_loss: 663.5212 - val_mape: 20.4507\n",
      "Epoch 11/50\n",
      "128/133 [===========================>..] - ETA: 0s - loss: 44.1468 - mape: 15.4106INFO:tensorflow:Assets written to: ./models\\21.59_11men_5_lstm_2_dense_3_unit_32\\assets\n"
     ]
    },
    {
     "name": "stderr",
     "output_type": "stream",
     "text": [
      "INFO:tensorflow:Assets written to: ./models\\21.59_11men_5_lstm_2_dense_3_unit_32\\assets\n"
     ]
    },
    {
     "name": "stdout",
     "output_type": "stream",
     "text": [
      "133/133 [==============================] - 7s 51ms/step - loss: 43.6101 - mape: 15.3926 - val_loss: 730.0458 - val_mape: 21.5857\n",
      "Epoch 12/50\n",
      "133/133 [==============================] - 1s 11ms/step - loss: 36.4183 - mape: 13.9522 - val_loss: 340.1548 - val_mape: 14.1091\n",
      "Epoch 13/50\n",
      "131/133 [============================>.] - ETA: 0s - loss: 39.1499 - mape: 14.3830INFO:tensorflow:Assets written to: ./models\\25.28_13men_5_lstm_2_dense_3_unit_32\\assets\n"
     ]
    },
    {
     "name": "stderr",
     "output_type": "stream",
     "text": [
      "INFO:tensorflow:Assets written to: ./models\\25.28_13men_5_lstm_2_dense_3_unit_32\\assets\n"
     ]
    },
    {
     "name": "stdout",
     "output_type": "stream",
     "text": [
      "133/133 [==============================] - 6s 42ms/step - loss: 39.0171 - mape: 14.3736 - val_loss: 1016.7668 - val_mape: 25.2757\n",
      "Epoch 14/50\n",
      "133/133 [==============================] - 1s 11ms/step - loss: 38.7142 - mape: 13.9573 - val_loss: 415.8343 - val_mape: 15.6323\n",
      "Epoch 15/50\n",
      "133/133 [==============================] - 1s 11ms/step - loss: 34.9032 - mape: 13.2543 - val_loss: 843.1651 - val_mape: 23.1204\n",
      "Epoch 16/50\n",
      "133/133 [==============================] - 1s 11ms/step - loss: 35.1636 - mape: 13.3389 - val_loss: 539.3621 - val_mape: 17.9897\n",
      "Epoch 17/50\n",
      "133/133 [==============================] - 1s 11ms/step - loss: 32.8558 - mape: 12.8982 - val_loss: 812.6099 - val_mape: 22.4770\n",
      "Epoch 18/50\n",
      "133/133 [==============================] - 1s 11ms/step - loss: 34.3082 - mape: 12.8562 - val_loss: 915.9810 - val_mape: 24.6168\n",
      "Epoch 19/50\n",
      "133/133 [==============================] - 1s 11ms/step - loss: 32.0390 - mape: 12.7424 - val_loss: 228.1101 - val_mape: 11.2697\n",
      "Epoch 20/50\n",
      "133/133 [==============================] - 1s 11ms/step - loss: 32.3198 - mape: 12.5952 - val_loss: 546.9267 - val_mape: 18.5935\n",
      "Epoch 21/50\n",
      "133/133 [==============================] - 1s 11ms/step - loss: 36.4388 - mape: 12.7950 - val_loss: 596.6548 - val_mape: 19.3574\n",
      "Epoch 22/50\n",
      "133/133 [==============================] - 1s 11ms/step - loss: 32.4292 - mape: 12.3036 - val_loss: 586.3391 - val_mape: 18.9469\n",
      "Epoch 23/50\n",
      "133/133 [==============================] - 1s 11ms/step - loss: 30.3121 - mape: 12.4509 - val_loss: 703.5282 - val_mape: 20.8372\n",
      "Epoch 24/50\n",
      "133/133 [==============================] - 1s 11ms/step - loss: 31.0463 - mape: 12.0056 - val_loss: 654.3400 - val_mape: 19.8496\n",
      "Epoch 25/50\n",
      "133/133 [==============================] - 1s 11ms/step - loss: 27.5284 - mape: 11.9006 - val_loss: 622.4609 - val_mape: 19.5338\n",
      "Epoch 26/50\n",
      "133/133 [==============================] - 1s 11ms/step - loss: 31.4300 - mape: 11.5581 - val_loss: 725.2858 - val_mape: 20.6762\n",
      "Epoch 27/50\n",
      "133/133 [==============================] - 2s 11ms/step - loss: 30.2791 - mape: 12.4703 - val_loss: 199.3294 - val_mape: 10.3439\n",
      "Epoch 28/50\n",
      "133/133 [==============================] - 1s 11ms/step - loss: 28.1102 - mape: 11.8059 - val_loss: 824.2377 - val_mape: 22.0545\n",
      "Epoch 29/50\n",
      "133/133 [==============================] - 1s 11ms/step - loss: 30.7981 - mape: 12.2567 - val_loss: 785.0495 - val_mape: 22.2776\n",
      "Epoch 30/50\n",
      "133/133 [==============================] - 1s 11ms/step - loss: 33.5727 - mape: 12.6036 - val_loss: 817.9453 - val_mape: 22.4217\n",
      "Epoch 31/50\n",
      "133/133 [==============================] - ETA: 0s - loss: 31.4292 - mape: 11.8762INFO:tensorflow:Assets written to: ./models\\25.46_31men_5_lstm_2_dense_3_unit_32\\assets\n"
     ]
    },
    {
     "name": "stderr",
     "output_type": "stream",
     "text": [
      "INFO:tensorflow:Assets written to: ./models\\25.46_31men_5_lstm_2_dense_3_unit_32\\assets\n"
     ]
    },
    {
     "name": "stdout",
     "output_type": "stream",
     "text": [
      "133/133 [==============================] - 5s 41ms/step - loss: 31.4292 - mape: 11.8762 - val_loss: 1031.9210 - val_mape: 25.4635\n",
      "Epoch 32/50\n",
      "133/133 [==============================] - 1s 11ms/step - loss: 28.9548 - mape: 11.5892 - val_loss: 531.7355 - val_mape: 17.5911\n",
      "Epoch 33/50\n",
      "133/133 [==============================] - 1s 11ms/step - loss: 28.9024 - mape: 11.6240 - val_loss: 372.2661 - val_mape: 14.2530\n",
      "Epoch 34/50\n",
      "133/133 [==============================] - 1s 11ms/step - loss: 29.0542 - mape: 11.4198 - val_loss: 466.6051 - val_mape: 16.0693\n",
      "Epoch 35/50\n",
      "133/133 [==============================] - 1s 11ms/step - loss: 28.4876 - mape: 12.0223 - val_loss: 495.3463 - val_mape: 17.0838\n",
      "Epoch 36/50\n",
      "133/133 [==============================] - 1s 11ms/step - loss: 29.5524 - mape: 12.0135 - val_loss: 439.0110 - val_mape: 15.7505\n",
      "Epoch 37/50\n",
      "133/133 [==============================] - 1s 11ms/step - loss: 25.7109 - mape: 11.8432 - val_loss: 471.9166 - val_mape: 16.6585\n",
      "Epoch 38/50\n",
      "133/133 [==============================] - 1s 11ms/step - loss: 26.7233 - mape: 11.7267 - val_loss: 621.3542 - val_mape: 19.3913\n",
      "Epoch 39/50\n",
      "133/133 [==============================] - 1s 11ms/step - loss: 31.7639 - mape: 11.8206 - val_loss: 570.0760 - val_mape: 18.0579\n",
      "Epoch 40/50\n",
      "133/133 [==============================] - 1s 11ms/step - loss: 28.6226 - mape: 11.5762 - val_loss: 323.2491 - val_mape: 13.0947\n",
      "Epoch 41/50\n",
      "133/133 [==============================] - 1s 11ms/step - loss: 27.1258 - mape: 11.1379 - val_loss: 421.8664 - val_mape: 15.5816\n",
      "Epoch 42/50\n",
      "133/133 [==============================] - 1s 11ms/step - loss: 27.4204 - mape: 11.2061 - val_loss: 349.3327 - val_mape: 14.0300\n",
      "Epoch 43/50\n",
      "133/133 [==============================] - 2s 12ms/step - loss: 28.7162 - mape: 11.4312 - val_loss: 953.1186 - val_mape: 24.4800\n",
      "Epoch 44/50\n",
      "133/133 [==============================] - 2s 14ms/step - loss: 28.3615 - mape: 11.2967 - val_loss: 161.3932 - val_mape: 8.7810\n",
      "Epoch 45/50\n",
      "133/133 [==============================] - 2s 13ms/step - loss: 25.6921 - mape: 10.9141 - val_loss: 681.6005 - val_mape: 19.9962\n",
      "Epoch 46/50\n",
      "133/133 [==============================] - 2s 13ms/step - loss: 29.2234 - mape: 11.5789 - val_loss: 611.6838 - val_mape: 19.1485\n",
      "Epoch 47/50\n",
      "133/133 [==============================] - 2s 13ms/step - loss: 27.6513 - mape: 11.0446 - val_loss: 326.1021 - val_mape: 13.0308\n",
      "Epoch 48/50\n",
      "131/133 [============================>.] - ETA: 0s - loss: 28.3232 - mape: 11.2456INFO:tensorflow:Assets written to: ./models\\25.47_48men_5_lstm_2_dense_3_unit_32\\assets\n"
     ]
    },
    {
     "name": "stderr",
     "output_type": "stream",
     "text": [
      "INFO:tensorflow:Assets written to: ./models\\25.47_48men_5_lstm_2_dense_3_unit_32\\assets\n"
     ]
    },
    {
     "name": "stdout",
     "output_type": "stream",
     "text": [
      "133/133 [==============================] - 6s 49ms/step - loss: 28.2438 - mape: 11.2308 - val_loss: 1026.7373 - val_mape: 25.4704\n",
      "Epoch 49/50\n",
      "133/133 [==============================] - 1s 11ms/step - loss: 25.6264 - mape: 10.9137 - val_loss: 984.2602 - val_mape: 24.6204\n",
      "Epoch 50/50\n",
      "133/133 [==============================] - 1s 11ms/step - loss: 26.1860 - mape: 11.3949 - val_loss: 591.3382 - val_mape: 19.0046\n",
      "Epoch 1/50\n",
      "132/133 [============================>.] - ETA: 0s - loss: 1010.9331 - mape: 80.6176INFO:tensorflow:Assets written to: ./models\\9.32_01men_5_lstm_3_dense_1_unit_8\\assets\n"
     ]
    },
    {
     "name": "stderr",
     "output_type": "stream",
     "text": [
      "INFO:tensorflow:Assets written to: ./models\\9.32_01men_5_lstm_3_dense_1_unit_8\\assets\n"
     ]
    },
    {
     "name": "stdout",
     "output_type": "stream",
     "text": [
      "133/133 [==============================] - 11s 48ms/step - loss: 1009.4874 - mape: 80.5293 - val_loss: 166.1708 - val_mape: 9.3183\n",
      "Epoch 2/50\n",
      "130/133 [============================>.] - ETA: 0s - loss: 189.1915 - mape: 41.0708INFO:tensorflow:Assets written to: ./models\\11.67_02men_5_lstm_3_dense_1_unit_8\\assets\n"
     ]
    },
    {
     "name": "stderr",
     "output_type": "stream",
     "text": [
      "INFO:tensorflow:Assets written to: ./models\\11.67_02men_5_lstm_3_dense_1_unit_8\\assets\n"
     ]
    },
    {
     "name": "stdout",
     "output_type": "stream",
     "text": [
      "133/133 [==============================] - 7s 53ms/step - loss: 188.2867 - mape: 41.2412 - val_loss: 328.6871 - val_mape: 11.6728\n",
      "Epoch 3/50\n",
      "132/133 [============================>.] - ETA: 0s - loss: 145.1575 - mape: 33.5049INFO:tensorflow:Assets written to: ./models\\16.52_03men_5_lstm_3_dense_1_unit_8\\assets\n"
     ]
    },
    {
     "name": "stderr",
     "output_type": "stream",
     "text": [
      "INFO:tensorflow:Assets written to: ./models\\16.52_03men_5_lstm_3_dense_1_unit_8\\assets\n"
     ]
    },
    {
     "name": "stdout",
     "output_type": "stream",
     "text": [
      "133/133 [==============================] - 6s 44ms/step - loss: 144.8967 - mape: 33.4711 - val_loss: 589.7455 - val_mape: 16.5224\n",
      "Epoch 4/50\n",
      "133/133 [==============================] - 1s 11ms/step - loss: 121.6244 - mape: 30.5307 - val_loss: 391.2994 - val_mape: 13.5726\n",
      "Epoch 5/50\n",
      "133/133 [==============================] - 1s 10ms/step - loss: 110.8105 - mape: 27.5092 - val_loss: 192.9833 - val_mape: 9.1495\n",
      "Epoch 6/50\n",
      "133/133 [==============================] - 1s 10ms/step - loss: 109.2019 - mape: 26.2044 - val_loss: 164.3029 - val_mape: 9.0285\n",
      "Epoch 7/50\n",
      "133/133 [==============================] - 1s 10ms/step - loss: 93.8599 - mape: 24.6221 - val_loss: 365.9548 - val_mape: 13.7214\n",
      "Epoch 8/50\n",
      "129/133 [============================>.] - ETA: 0s - loss: 85.9498 - mape: 23.4465INFO:tensorflow:Assets written to: ./models\\18.56_08men_5_lstm_3_dense_1_unit_8\\assets\n"
     ]
    },
    {
     "name": "stderr",
     "output_type": "stream",
     "text": [
      "INFO:tensorflow:Assets written to: ./models\\18.56_08men_5_lstm_3_dense_1_unit_8\\assets\n"
     ]
    },
    {
     "name": "stdout",
     "output_type": "stream",
     "text": [
      "133/133 [==============================] - 6s 44ms/step - loss: 86.1023 - mape: 23.3649 - val_loss: 620.7280 - val_mape: 18.5577\n",
      "Epoch 9/50\n",
      "133/133 [==============================] - 1s 10ms/step - loss: 79.7750 - mape: 22.7293 - val_loss: 249.9712 - val_mape: 11.1642\n",
      "Epoch 10/50\n",
      "133/133 [==============================] - 1s 10ms/step - loss: 74.2442 - mape: 21.8960 - val_loss: 304.6866 - val_mape: 12.3835\n",
      "Epoch 11/50\n",
      "133/133 [==============================] - 1s 10ms/step - loss: 66.6461 - mape: 21.9311 - val_loss: 267.9056 - val_mape: 11.2460\n",
      "Epoch 12/50\n",
      "133/133 [==============================] - 1s 11ms/step - loss: 73.7400 - mape: 21.3155 - val_loss: 96.5532 - val_mape: 6.6059\n",
      "Epoch 13/50\n",
      "133/133 [==============================] - 1s 10ms/step - loss: 63.9484 - mape: 20.7669 - val_loss: 408.1288 - val_mape: 15.2231\n",
      "Epoch 14/50\n",
      "133/133 [==============================] - 1s 10ms/step - loss: 73.1716 - mape: 21.0476 - val_loss: 157.3841 - val_mape: 8.6706\n",
      "Epoch 15/50\n",
      "132/133 [============================>.] - ETA: 0s - loss: 65.6342 - mape: 21.0224INFO:tensorflow:Assets written to: ./models\\19.08_15men_5_lstm_3_dense_1_unit_8\\assets\n"
     ]
    },
    {
     "name": "stderr",
     "output_type": "stream",
     "text": [
      "INFO:tensorflow:Assets written to: ./models\\19.08_15men_5_lstm_3_dense_1_unit_8\\assets\n"
     ]
    },
    {
     "name": "stdout",
     "output_type": "stream",
     "text": [
      "133/133 [==============================] - 7s 56ms/step - loss: 65.4705 - mape: 21.0215 - val_loss: 633.7957 - val_mape: 19.0786\n",
      "Epoch 16/50\n",
      "129/133 [============================>.] - ETA: 0s - loss: 67.3881 - mape: 20.2070INFO:tensorflow:Assets written to: ./models\\20.79_16men_5_lstm_3_dense_1_unit_8\\assets\n"
     ]
    },
    {
     "name": "stderr",
     "output_type": "stream",
     "text": [
      "INFO:tensorflow:Assets written to: ./models\\20.79_16men_5_lstm_3_dense_1_unit_8\\assets\n"
     ]
    },
    {
     "name": "stdout",
     "output_type": "stream",
     "text": [
      "133/133 [==============================] - 6s 45ms/step - loss: 67.2941 - mape: 20.1706 - val_loss: 714.9583 - val_mape: 20.7906\n",
      "Epoch 17/50\n",
      "133/133 [==============================] - 1s 10ms/step - loss: 65.0064 - mape: 20.5250 - val_loss: 346.3362 - val_mape: 13.6510\n",
      "Epoch 18/50\n",
      "133/133 [==============================] - 1s 10ms/step - loss: 61.5911 - mape: 20.0332 - val_loss: 469.3528 - val_mape: 15.9697\n",
      "Epoch 19/50\n",
      "128/133 [===========================>..] - ETA: 0s - loss: 59.8288 - mape: 19.6384INFO:tensorflow:Assets written to: ./models\\23.60_19men_5_lstm_3_dense_1_unit_8\\assets\n"
     ]
    },
    {
     "name": "stderr",
     "output_type": "stream",
     "text": [
      "INFO:tensorflow:Assets written to: ./models\\23.60_19men_5_lstm_3_dense_1_unit_8\\assets\n"
     ]
    },
    {
     "name": "stdout",
     "output_type": "stream",
     "text": [
      "133/133 [==============================] - 6s 44ms/step - loss: 59.4254 - mape: 19.6142 - val_loss: 942.1215 - val_mape: 23.6031\n",
      "Epoch 20/50\n",
      "133/133 [==============================] - 1s 10ms/step - loss: 59.4751 - mape: 19.6912 - val_loss: 636.2577 - val_mape: 20.2573\n",
      "Epoch 21/50\n",
      "133/133 [==============================] - 1s 10ms/step - loss: 55.6079 - mape: 19.3641 - val_loss: 485.7733 - val_mape: 16.7872\n",
      "Epoch 22/50\n",
      "133/133 [==============================] - 1s 10ms/step - loss: 55.9729 - mape: 19.5540 - val_loss: 719.5961 - val_mape: 20.3621\n",
      "Epoch 23/50\n",
      "133/133 [==============================] - 1s 11ms/step - loss: 56.4575 - mape: 19.7165 - val_loss: 712.4026 - val_mape: 20.4574\n",
      "Epoch 24/50\n",
      "133/133 [==============================] - 1s 10ms/step - loss: 55.6860 - mape: 19.4477 - val_loss: 687.4386 - val_mape: 20.2825\n",
      "Epoch 25/50\n",
      "133/133 [==============================] - 1s 10ms/step - loss: 55.0957 - mape: 19.7651 - val_loss: 443.8146 - val_mape: 15.7443\n",
      "Epoch 26/50\n",
      "133/133 [==============================] - 1s 10ms/step - loss: 55.2660 - mape: 19.3108 - val_loss: 892.3293 - val_mape: 23.1886\n",
      "Epoch 27/50\n",
      "133/133 [==============================] - 1s 10ms/step - loss: 50.7332 - mape: 18.8642 - val_loss: 928.4471 - val_mape: 23.5785\n",
      "Epoch 28/50\n",
      "133/133 [==============================] - 1s 10ms/step - loss: 58.3783 - mape: 19.4552 - val_loss: 879.0646 - val_mape: 22.5132\n",
      "Epoch 29/50\n",
      "133/133 [==============================] - 1s 10ms/step - loss: 46.4471 - mape: 18.6964 - val_loss: 640.4756 - val_mape: 19.4457\n",
      "Epoch 30/50\n",
      "133/133 [==============================] - 1s 10ms/step - loss: 51.1176 - mape: 19.0468 - val_loss: 849.9647 - val_mape: 22.2781\n",
      "Epoch 31/50\n",
      "133/133 [==============================] - 1s 10ms/step - loss: 55.9532 - mape: 18.9124 - val_loss: 710.9087 - val_mape: 20.4205\n",
      "Epoch 32/50\n",
      "133/133 [==============================] - 1s 10ms/step - loss: 53.3028 - mape: 18.5647 - val_loss: 763.0891 - val_mape: 21.4511\n",
      "Epoch 33/50\n",
      "133/133 [==============================] - 1s 10ms/step - loss: 54.0536 - mape: 18.3351 - val_loss: 579.9762 - val_mape: 18.1684\n",
      "Epoch 34/50\n",
      "133/133 [==============================] - 1s 10ms/step - loss: 59.8251 - mape: 19.1359 - val_loss: 891.1382 - val_mape: 22.9646\n",
      "Epoch 35/50\n",
      "133/133 [==============================] - 1s 10ms/step - loss: 52.6241 - mape: 18.1704 - val_loss: 889.5948 - val_mape: 22.7822\n",
      "Epoch 36/50\n",
      "132/133 [============================>.] - ETA: 0s - loss: 53.1774 - mape: 17.9599INFO:tensorflow:Assets written to: ./models\\27.58_36men_5_lstm_3_dense_1_unit_8\\assets\n"
     ]
    },
    {
     "name": "stderr",
     "output_type": "stream",
     "text": [
      "INFO:tensorflow:Assets written to: ./models\\27.58_36men_5_lstm_3_dense_1_unit_8\\assets\n"
     ]
    },
    {
     "name": "stdout",
     "output_type": "stream",
     "text": [
      "133/133 [==============================] - 6s 44ms/step - loss: 53.1495 - mape: 17.9622 - val_loss: 1233.4641 - val_mape: 27.5777\n",
      "Epoch 37/50\n",
      "133/133 [==============================] - 1s 10ms/step - loss: 53.3935 - mape: 18.2762 - val_loss: 694.0571 - val_mape: 19.9768\n",
      "Epoch 38/50\n",
      "133/133 [==============================] - 1s 11ms/step - loss: 55.5163 - mape: 17.7664 - val_loss: 609.2812 - val_mape: 18.3949\n",
      "Epoch 39/50\n",
      "133/133 [==============================] - 1s 10ms/step - loss: 50.4043 - mape: 17.9067 - val_loss: 657.0184 - val_mape: 19.4108\n",
      "Epoch 40/50\n",
      "133/133 [==============================] - 1s 10ms/step - loss: 49.7858 - mape: 17.8519 - val_loss: 864.4057 - val_mape: 22.9202\n",
      "Epoch 41/50\n",
      "133/133 [==============================] - 1s 10ms/step - loss: 54.4846 - mape: 17.3397 - val_loss: 411.5989 - val_mape: 14.3820\n",
      "Epoch 42/50\n",
      "133/133 [==============================] - 1s 10ms/step - loss: 49.3519 - mape: 16.9964 - val_loss: 929.3268 - val_mape: 23.8593\n",
      "Epoch 43/50\n",
      "133/133 [==============================] - 1s 10ms/step - loss: 46.4607 - mape: 17.0177 - val_loss: 970.2753 - val_mape: 24.0685\n",
      "Epoch 44/50\n",
      "133/133 [==============================] - 1s 10ms/step - loss: 43.4240 - mape: 16.8161 - val_loss: 836.5471 - val_mape: 21.8634\n",
      "Epoch 45/50\n",
      "133/133 [==============================] - 1s 10ms/step - loss: 52.3501 - mape: 17.1662 - val_loss: 1044.8566 - val_mape: 25.6513\n",
      "Epoch 46/50\n",
      "133/133 [==============================] - 1s 10ms/step - loss: 50.5251 - mape: 17.1353 - val_loss: 686.2631 - val_mape: 19.7440\n",
      "Epoch 47/50\n",
      "133/133 [==============================] - 1s 10ms/step - loss: 45.7495 - mape: 16.7991 - val_loss: 880.3214 - val_mape: 23.0490\n",
      "Epoch 48/50\n",
      "133/133 [==============================] - 1s 10ms/step - loss: 49.0118 - mape: 17.0309 - val_loss: 755.2313 - val_mape: 21.1377\n",
      "Epoch 49/50\n",
      "133/133 [==============================] - 1s 10ms/step - loss: 48.4248 - mape: 16.3923 - val_loss: 640.5626 - val_mape: 19.5057\n",
      "Epoch 50/50\n",
      "133/133 [==============================] - 1s 10ms/step - loss: 51.1884 - mape: 17.1916 - val_loss: 690.3057 - val_mape: 19.6567\n",
      "Epoch 1/50\n",
      "132/133 [============================>.] - ETA: 0s - loss: 831.2877 - mape: 72.5153INFO:tensorflow:Assets written to: ./models\\18.43_01men_5_lstm_3_dense_1_unit_16\\assets\n"
     ]
    },
    {
     "name": "stderr",
     "output_type": "stream",
     "text": [
      "INFO:tensorflow:Assets written to: ./models\\18.43_01men_5_lstm_3_dense_1_unit_16\\assets\n"
     ]
    },
    {
     "name": "stdout",
     "output_type": "stream",
     "text": [
      "133/133 [==============================] - 13s 49ms/step - loss: 830.1423 - mape: 72.4404 - val_loss: 690.1890 - val_mape: 18.4295\n",
      "Epoch 2/50\n",
      "133/133 [==============================] - 1s 11ms/step - loss: 109.8831 - mape: 26.0038 - val_loss: 275.4350 - val_mape: 11.1519\n",
      "Epoch 3/50\n",
      "133/133 [==============================] - 1s 11ms/step - loss: 88.0462 - mape: 23.6274 - val_loss: 274.3231 - val_mape: 10.8248\n",
      "Epoch 4/50\n",
      "133/133 [==============================] - 1s 11ms/step - loss: 79.0777 - mape: 20.8642 - val_loss: 318.6296 - val_mape: 12.0697\n",
      "Epoch 5/50\n",
      "133/133 [==============================] - 1s 11ms/step - loss: 64.9288 - mape: 19.5065 - val_loss: 174.8298 - val_mape: 8.7820\n",
      "Epoch 6/50\n",
      "133/133 [==============================] - 1s 11ms/step - loss: 60.3207 - mape: 19.7928 - val_loss: 244.8094 - val_mape: 10.3067\n",
      "Epoch 7/50\n",
      "133/133 [==============================] - 1s 11ms/step - loss: 60.6311 - mape: 18.5860 - val_loss: 225.3731 - val_mape: 10.0224\n",
      "Epoch 8/50\n",
      "133/133 [==============================] - 1s 11ms/step - loss: 62.8641 - mape: 18.8563 - val_loss: 209.6848 - val_mape: 9.9154\n",
      "Epoch 9/50\n",
      "133/133 [==============================] - 1s 11ms/step - loss: 56.6063 - mape: 17.9531 - val_loss: 313.3601 - val_mape: 11.8231\n",
      "Epoch 10/50\n",
      "133/133 [==============================] - 2s 11ms/step - loss: 48.9670 - mape: 17.4306 - val_loss: 193.9459 - val_mape: 9.3250\n",
      "Epoch 11/50\n",
      "133/133 [==============================] - 1s 11ms/step - loss: 50.7283 - mape: 17.5479 - val_loss: 123.9635 - val_mape: 7.4849\n",
      "Epoch 12/50\n",
      "133/133 [==============================] - 1s 11ms/step - loss: 58.3143 - mape: 17.1733 - val_loss: 275.8307 - val_mape: 11.3448\n",
      "Epoch 13/50\n",
      "133/133 [==============================] - 1s 11ms/step - loss: 46.3973 - mape: 16.8147 - val_loss: 323.3853 - val_mape: 12.4202\n",
      "Epoch 14/50\n",
      "133/133 [==============================] - 1s 11ms/step - loss: 53.5389 - mape: 17.1764 - val_loss: 234.8909 - val_mape: 10.2654\n",
      "Epoch 15/50\n",
      "130/133 [============================>.] - ETA: 0s - loss: 49.0728 - mape: 16.5446INFO:tensorflow:Assets written to: ./models\\19.20_15men_5_lstm_3_dense_1_unit_16\\assets\n"
     ]
    },
    {
     "name": "stderr",
     "output_type": "stream",
     "text": [
      "INFO:tensorflow:Assets written to: ./models\\19.20_15men_5_lstm_3_dense_1_unit_16\\assets\n"
     ]
    },
    {
     "name": "stdout",
     "output_type": "stream",
     "text": [
      "133/133 [==============================] - 6s 46ms/step - loss: 48.6922 - mape: 16.5054 - val_loss: 649.5532 - val_mape: 19.2039\n",
      "Epoch 16/50\n",
      "133/133 [==============================] - 1s 11ms/step - loss: 45.8242 - mape: 15.8801 - val_loss: 602.6047 - val_mape: 17.9079\n",
      "Epoch 17/50\n",
      "131/133 [============================>.] - ETA: 0s - loss: 48.4616 - mape: 15.9369INFO:tensorflow:Assets written to: ./models\\21.62_17men_5_lstm_3_dense_1_unit_16\\assets\n"
     ]
    },
    {
     "name": "stderr",
     "output_type": "stream",
     "text": [
      "INFO:tensorflow:Assets written to: ./models\\21.62_17men_5_lstm_3_dense_1_unit_16\\assets\n"
     ]
    },
    {
     "name": "stdout",
     "output_type": "stream",
     "text": [
      "133/133 [==============================] - 7s 55ms/step - loss: 48.2742 - mape: 15.9002 - val_loss: 799.4694 - val_mape: 21.6221\n",
      "Epoch 18/50\n",
      "133/133 [==============================] - 1s 11ms/step - loss: 43.4386 - mape: 15.7105 - val_loss: 141.6219 - val_mape: 8.4386\n",
      "Epoch 19/50\n",
      "133/133 [==============================] - 1s 11ms/step - loss: 46.0976 - mape: 16.1443 - val_loss: 250.1818 - val_mape: 11.2400\n",
      "Epoch 20/50\n",
      "133/133 [==============================] - 1s 11ms/step - loss: 39.5200 - mape: 15.4050 - val_loss: 387.3260 - val_mape: 14.3385\n",
      "Epoch 21/50\n",
      "133/133 [==============================] - 1s 11ms/step - loss: 42.6572 - mape: 15.6842 - val_loss: 336.2148 - val_mape: 13.0509\n",
      "Epoch 22/50\n",
      "133/133 [==============================] - 1s 11ms/step - loss: 41.7054 - mape: 15.4230 - val_loss: 422.8930 - val_mape: 15.0340\n",
      "Epoch 23/50\n",
      "133/133 [==============================] - 1s 11ms/step - loss: 41.8909 - mape: 15.0319 - val_loss: 479.2545 - val_mape: 16.1151\n",
      "Epoch 24/50\n",
      "133/133 [==============================] - 1s 11ms/step - loss: 40.9208 - mape: 14.6678 - val_loss: 496.1577 - val_mape: 16.4837\n",
      "Epoch 25/50\n",
      "133/133 [==============================] - 1s 11ms/step - loss: 36.4000 - mape: 15.0008 - val_loss: 564.4321 - val_mape: 17.8892\n",
      "Epoch 26/50\n",
      "133/133 [==============================] - 1s 11ms/step - loss: 43.6651 - mape: 14.9925 - val_loss: 478.2447 - val_mape: 16.0351\n",
      "Epoch 27/50\n",
      "133/133 [==============================] - 1s 11ms/step - loss: 39.6136 - mape: 14.1744 - val_loss: 409.3285 - val_mape: 14.9424\n",
      "Epoch 28/50\n",
      "133/133 [==============================] - 1s 11ms/step - loss: 39.0960 - mape: 14.4044 - val_loss: 748.4178 - val_mape: 20.9058\n",
      "Epoch 29/50\n",
      "133/133 [==============================] - 1s 11ms/step - loss: 41.4320 - mape: 15.0791 - val_loss: 320.1114 - val_mape: 12.2836\n",
      "Epoch 30/50\n",
      "133/133 [==============================] - 1s 11ms/step - loss: 37.5696 - mape: 15.0143 - val_loss: 311.0644 - val_mape: 12.3800\n",
      "Epoch 31/50\n",
      "133/133 [==============================] - 1s 11ms/step - loss: 37.5840 - mape: 14.2015 - val_loss: 571.0225 - val_mape: 17.6342\n",
      "Epoch 32/50\n",
      "133/133 [==============================] - 1s 11ms/step - loss: 35.3441 - mape: 13.7104 - val_loss: 535.0563 - val_mape: 17.4198\n",
      "Epoch 33/50\n",
      "133/133 [==============================] - 1s 11ms/step - loss: 36.0719 - mape: 13.6979 - val_loss: 525.0201 - val_mape: 17.4437\n",
      "Epoch 34/50\n",
      "133/133 [==============================] - 1s 11ms/step - loss: 36.2759 - mape: 13.5211 - val_loss: 586.3368 - val_mape: 18.2516\n",
      "Epoch 35/50\n",
      "132/133 [============================>.] - ETA: 0s - loss: 39.7453 - mape: 13.7273INFO:tensorflow:Assets written to: ./models\\21.81_35men_5_lstm_3_dense_1_unit_16\\assets\n"
     ]
    },
    {
     "name": "stderr",
     "output_type": "stream",
     "text": [
      "INFO:tensorflow:Assets written to: ./models\\21.81_35men_5_lstm_3_dense_1_unit_16\\assets\n"
     ]
    },
    {
     "name": "stdout",
     "output_type": "stream",
     "text": [
      "133/133 [==============================] - 6s 45ms/step - loss: 39.7042 - mape: 13.7211 - val_loss: 784.8041 - val_mape: 21.8068\n",
      "Epoch 36/50\n",
      "133/133 [==============================] - 2s 11ms/step - loss: 38.4468 - mape: 14.5520 - val_loss: 431.7697 - val_mape: 15.9104\n",
      "Epoch 37/50\n",
      "133/133 [==============================] - 1s 11ms/step - loss: 36.7271 - mape: 13.6939 - val_loss: 422.9496 - val_mape: 15.4741\n",
      "Epoch 38/50\n",
      "133/133 [==============================] - 2s 11ms/step - loss: 35.8698 - mape: 13.5143 - val_loss: 421.7108 - val_mape: 14.8451\n",
      "Epoch 39/50\n",
      "133/133 [==============================] - 1s 11ms/step - loss: 32.9611 - mape: 13.1634 - val_loss: 776.6855 - val_mape: 21.4209\n",
      "Epoch 40/50\n",
      "133/133 [==============================] - 1s 11ms/step - loss: 35.9184 - mape: 13.6170 - val_loss: 687.6346 - val_mape: 19.9863\n",
      "Epoch 41/50\n",
      "133/133 [==============================] - 1s 11ms/step - loss: 36.2994 - mape: 13.2724 - val_loss: 494.5613 - val_mape: 16.6227\n",
      "Epoch 42/50\n",
      "133/133 [==============================] - 1s 11ms/step - loss: 32.3323 - mape: 12.9826 - val_loss: 673.7366 - val_mape: 19.9262\n",
      "Epoch 43/50\n",
      "133/133 [==============================] - 1s 11ms/step - loss: 35.6167 - mape: 13.4203 - val_loss: 252.2734 - val_mape: 11.5993\n",
      "Epoch 44/50\n",
      "133/133 [==============================] - 1s 11ms/step - loss: 34.0837 - mape: 13.1528 - val_loss: 242.3106 - val_mape: 10.8120\n",
      "Epoch 45/50\n",
      "133/133 [==============================] - 1s 11ms/step - loss: 32.5084 - mape: 13.4073 - val_loss: 532.0811 - val_mape: 17.3994\n",
      "Epoch 46/50\n",
      "133/133 [==============================] - 1s 11ms/step - loss: 31.0346 - mape: 12.8413 - val_loss: 681.1083 - val_mape: 19.6665\n",
      "Epoch 47/50\n",
      "133/133 [==============================] - 1s 11ms/step - loss: 35.0431 - mape: 12.9942 - val_loss: 237.7753 - val_mape: 10.9010\n",
      "Epoch 48/50\n",
      "133/133 [==============================] - 1s 11ms/step - loss: 32.5903 - mape: 13.0216 - val_loss: 351.2636 - val_mape: 13.6293\n",
      "Epoch 49/50\n",
      "133/133 [==============================] - 2s 11ms/step - loss: 32.5288 - mape: 12.8467 - val_loss: 626.7881 - val_mape: 18.9776\n",
      "Epoch 50/50\n",
      "133/133 [==============================] - 2s 11ms/step - loss: 33.7343 - mape: 13.4442 - val_loss: 695.7117 - val_mape: 20.3000\n",
      "Epoch 1/50\n",
      "133/133 [==============================] - ETA: 0s - loss: 790.7075 - mape: 61.5467INFO:tensorflow:Assets written to: ./models\\10.75_01men_5_lstm_3_dense_1_unit_32\\assets\n"
     ]
    },
    {
     "name": "stderr",
     "output_type": "stream",
     "text": [
      "INFO:tensorflow:Assets written to: ./models\\10.75_01men_5_lstm_3_dense_1_unit_32\\assets\n"
     ]
    },
    {
     "name": "stdout",
     "output_type": "stream",
     "text": [
      "133/133 [==============================] - 14s 66ms/step - loss: 790.7075 - mape: 61.5467 - val_loss: 211.2425 - val_mape: 10.7516\n",
      "Epoch 2/50\n",
      "133/133 [==============================] - 2s 12ms/step - loss: 45.7693 - mape: 19.1845 - val_loss: 57.4320 - val_mape: 5.3856\n",
      "Epoch 3/50\n",
      "133/133 [==============================] - 2s 13ms/step - loss: 39.0062 - mape: 17.1744 - val_loss: 53.9138 - val_mape: 5.1899\n",
      "Epoch 4/50\n",
      "133/133 [==============================] - 2s 13ms/step - loss: 39.2500 - mape: 16.3009 - val_loss: 89.2604 - val_mape: 6.6977\n",
      "Epoch 5/50\n",
      "133/133 [==============================] - 2s 13ms/step - loss: 34.9407 - mape: 15.3977 - val_loss: 75.8250 - val_mape: 5.9603\n",
      "Epoch 6/50\n",
      "133/133 [==============================] - 2s 13ms/step - loss: 31.2033 - mape: 14.9992 - val_loss: 95.1465 - val_mape: 7.0035\n",
      "Epoch 7/50\n",
      "133/133 [==============================] - 2s 14ms/step - loss: 31.2040 - mape: 14.9688 - val_loss: 49.1148 - val_mape: 5.0421\n",
      "Epoch 8/50\n",
      "133/133 [==============================] - 2s 13ms/step - loss: 29.9525 - mape: 14.2512 - val_loss: 91.1310 - val_mape: 6.5696\n",
      "Epoch 9/50\n",
      "133/133 [==============================] - 2s 13ms/step - loss: 32.1492 - mape: 14.8651 - val_loss: 112.4013 - val_mape: 7.2067\n",
      "Epoch 10/50\n",
      "133/133 [==============================] - 2s 13ms/step - loss: 27.6296 - mape: 14.2350 - val_loss: 185.8082 - val_mape: 9.6296\n",
      "Epoch 11/50\n",
      "133/133 [==============================] - 2s 13ms/step - loss: 25.8181 - mape: 13.3179 - val_loss: 134.0229 - val_mape: 8.4517\n",
      "Epoch 12/50\n",
      "133/133 [==============================] - ETA: 0s - loss: 24.6280 - mape: 12.9918INFO:tensorflow:Assets written to: ./models\\20.34_12men_5_lstm_3_dense_1_unit_32\\assets\n"
     ]
    },
    {
     "name": "stderr",
     "output_type": "stream",
     "text": [
      "INFO:tensorflow:Assets written to: ./models\\20.34_12men_5_lstm_3_dense_1_unit_32\\assets\n"
     ]
    },
    {
     "name": "stdout",
     "output_type": "stream",
     "text": [
      "133/133 [==============================] - 6s 47ms/step - loss: 24.6280 - mape: 12.9918 - val_loss: 634.2018 - val_mape: 20.3376\n",
      "Epoch 13/50\n",
      "133/133 [==============================] - 2s 13ms/step - loss: 41.0408 - mape: 16.4516 - val_loss: 104.8136 - val_mape: 6.9009\n",
      "Epoch 14/50\n",
      "133/133 [==============================] - 2s 13ms/step - loss: 24.5350 - mape: 12.6701 - val_loss: 67.5293 - val_mape: 5.7647\n",
      "Epoch 15/50\n",
      "133/133 [==============================] - 2s 13ms/step - loss: 24.6343 - mape: 12.6738 - val_loss: 271.7090 - val_mape: 11.6905\n",
      "Epoch 16/50\n",
      "133/133 [==============================] - 2s 13ms/step - loss: 27.4676 - mape: 14.0333 - val_loss: 84.1032 - val_mape: 6.2945\n",
      "Epoch 17/50\n",
      "133/133 [==============================] - 2s 12ms/step - loss: 22.4742 - mape: 12.1537 - val_loss: 429.5622 - val_mape: 14.4508\n",
      "Epoch 18/50\n",
      "133/133 [==============================] - 2s 13ms/step - loss: 23.5181 - mape: 12.5665 - val_loss: 57.9832 - val_mape: 5.4100\n",
      "Epoch 19/50\n",
      "133/133 [==============================] - 2s 13ms/step - loss: 23.0896 - mape: 12.5926 - val_loss: 45.6249 - val_mape: 4.8720\n",
      "Epoch 20/50\n",
      "133/133 [==============================] - 2s 12ms/step - loss: 23.5274 - mape: 12.2887 - val_loss: 48.8053 - val_mape: 4.9602\n",
      "Epoch 21/50\n",
      "133/133 [==============================] - 2s 13ms/step - loss: 25.5787 - mape: 12.5138 - val_loss: 227.0574 - val_mape: 10.8178\n",
      "Epoch 22/50\n",
      "133/133 [==============================] - 2s 13ms/step - loss: 20.1067 - mape: 11.9094 - val_loss: 87.7382 - val_mape: 6.4171\n",
      "Epoch 23/50\n",
      "133/133 [==============================] - 2s 13ms/step - loss: 22.3706 - mape: 12.0642 - val_loss: 73.7816 - val_mape: 6.0715\n",
      "Epoch 24/50\n",
      "133/133 [==============================] - 2s 13ms/step - loss: 22.9462 - mape: 11.9347 - val_loss: 151.4653 - val_mape: 8.3797\n",
      "Epoch 25/50\n",
      "133/133 [==============================] - 2s 13ms/step - loss: 20.1819 - mape: 11.6672 - val_loss: 485.6674 - val_mape: 16.9213\n",
      "Epoch 26/50\n",
      "133/133 [==============================] - 2s 13ms/step - loss: 23.2481 - mape: 12.2970 - val_loss: 80.1612 - val_mape: 6.2435\n",
      "Epoch 27/50\n",
      "133/133 [==============================] - 2s 13ms/step - loss: 19.5442 - mape: 11.3726 - val_loss: 129.9414 - val_mape: 8.0822\n",
      "Epoch 28/50\n",
      "133/133 [==============================] - 2s 13ms/step - loss: 22.0811 - mape: 11.9790 - val_loss: 147.6458 - val_mape: 8.5292\n",
      "Epoch 29/50\n",
      "133/133 [==============================] - 2s 12ms/step - loss: 20.3040 - mape: 10.8771 - val_loss: 65.1209 - val_mape: 5.6869\n",
      "Epoch 30/50\n",
      "133/133 [==============================] - 2s 13ms/step - loss: 23.2507 - mape: 12.5076 - val_loss: 85.6955 - val_mape: 6.3559\n",
      "Epoch 31/50\n",
      "133/133 [==============================] - 2s 13ms/step - loss: 18.8017 - mape: 10.6000 - val_loss: 246.2251 - val_mape: 11.2254\n",
      "Epoch 32/50\n",
      "133/133 [==============================] - 2s 12ms/step - loss: 19.9303 - mape: 11.3037 - val_loss: 176.4085 - val_mape: 9.1831\n",
      "Epoch 33/50\n",
      "133/133 [==============================] - ETA: 0s - loss: 19.9244 - mape: 11.1738INFO:tensorflow:Assets written to: ./models\\21.41_33men_5_lstm_3_dense_1_unit_32\\assets\n"
     ]
    },
    {
     "name": "stderr",
     "output_type": "stream",
     "text": [
      "INFO:tensorflow:Assets written to: ./models\\21.41_33men_5_lstm_3_dense_1_unit_32\\assets\n"
     ]
    },
    {
     "name": "stdout",
     "output_type": "stream",
     "text": [
      "133/133 [==============================] - 6s 46ms/step - loss: 19.9244 - mape: 11.1738 - val_loss: 840.8111 - val_mape: 21.4124\n",
      "Epoch 34/50\n",
      "133/133 [==============================] - 2s 13ms/step - loss: 19.0414 - mape: 10.7896 - val_loss: 278.5051 - val_mape: 11.7515\n",
      "Epoch 35/50\n",
      "133/133 [==============================] - 2s 13ms/step - loss: 21.3673 - mape: 11.7744 - val_loss: 434.3351 - val_mape: 15.4873\n",
      "Epoch 36/50\n",
      "133/133 [==============================] - 2s 13ms/step - loss: 19.3342 - mape: 10.6522 - val_loss: 328.1089 - val_mape: 12.9400\n",
      "Epoch 37/50\n",
      "133/133 [==============================] - 2s 13ms/step - loss: 19.7756 - mape: 10.7570 - val_loss: 317.3087 - val_mape: 13.1631\n",
      "Epoch 38/50\n",
      "133/133 [==============================] - 2s 12ms/step - loss: 18.6458 - mape: 10.2922 - val_loss: 345.2623 - val_mape: 13.6009\n",
      "Epoch 39/50\n",
      "133/133 [==============================] - 2s 13ms/step - loss: 19.7145 - mape: 11.3873 - val_loss: 143.3469 - val_mape: 8.1144\n",
      "Epoch 40/50\n",
      "133/133 [==============================] - 2s 13ms/step - loss: 17.6746 - mape: 10.4542 - val_loss: 293.0823 - val_mape: 11.9496\n",
      "Epoch 41/50\n",
      "133/133 [==============================] - 2s 13ms/step - loss: 18.6632 - mape: 10.5576 - val_loss: 746.4026 - val_mape: 21.2462\n",
      "Epoch 42/50\n",
      "133/133 [==============================] - 2s 13ms/step - loss: 24.6313 - mape: 12.5219 - val_loss: 113.4159 - val_mape: 7.0920\n",
      "Epoch 43/50\n",
      "133/133 [==============================] - 2s 13ms/step - loss: 20.2829 - mape: 10.8859 - val_loss: 93.8151 - val_mape: 6.4907\n",
      "Epoch 44/50\n",
      "133/133 [==============================] - 2s 12ms/step - loss: 23.8793 - mape: 11.7515 - val_loss: 288.8584 - val_mape: 11.6430\n",
      "Epoch 45/50\n",
      "133/133 [==============================] - 2s 13ms/step - loss: 16.3357 - mape: 9.6249 - val_loss: 115.3831 - val_mape: 7.2492\n",
      "Epoch 46/50\n",
      "133/133 [==============================] - 2s 13ms/step - loss: 23.3937 - mape: 11.5821 - val_loss: 146.6098 - val_mape: 8.2821\n",
      "Epoch 47/50\n",
      "133/133 [==============================] - 2s 13ms/step - loss: 17.9863 - mape: 10.0630 - val_loss: 321.1467 - val_mape: 12.9974\n",
      "Epoch 48/50\n",
      "133/133 [==============================] - 2s 13ms/step - loss: 19.4015 - mape: 10.1527 - val_loss: 156.9989 - val_mape: 8.7375\n",
      "Epoch 49/50\n",
      "133/133 [==============================] - 2s 13ms/step - loss: 17.8746 - mape: 9.9303 - val_loss: 106.7037 - val_mape: 7.0805\n",
      "Epoch 50/50\n",
      "133/133 [==============================] - 2s 12ms/step - loss: 16.2677 - mape: 9.5409 - val_loss: 360.3550 - val_mape: 13.3963\n",
      "Epoch 1/50\n",
      "132/132 [==============================] - ETA: 0s - loss: 1295.4860 - mape: 82.0370INFO:tensorflow:Assets written to: ./models\\15.54_01men_5_lstm_3_dense_2_unit_8\\assets\n"
     ]
    },
    {
     "name": "stderr",
     "output_type": "stream",
     "text": [
      "INFO:tensorflow:Assets written to: ./models\\15.54_01men_5_lstm_3_dense_2_unit_8\\assets\n"
     ]
    },
    {
     "name": "stdout",
     "output_type": "stream",
     "text": [
      "132/132 [==============================] - 13s 60ms/step - loss: 1295.4860 - mape: 82.0370 - val_loss: 525.6395 - val_mape: 15.5372\n",
      "Epoch 2/50\n",
      "132/132 [==============================] - 1s 10ms/step - loss: 246.4888 - mape: 42.6214 - val_loss: 359.0763 - val_mape: 13.8422\n",
      "Epoch 3/50\n",
      "132/132 [==============================] - 1s 10ms/step - loss: 151.6165 - mape: 34.4356 - val_loss: 200.6627 - val_mape: 10.2506\n",
      "Epoch 4/50\n",
      "132/132 [==============================] - 1s 10ms/step - loss: 122.8710 - mape: 30.9990 - val_loss: 196.9351 - val_mape: 10.1518\n",
      "Epoch 5/50\n",
      "132/132 [==============================] - 1s 10ms/step - loss: 119.7748 - mape: 31.3923 - val_loss: 85.9743 - val_mape: 6.6421\n",
      "Epoch 6/50\n",
      "132/132 [==============================] - 1s 10ms/step - loss: 109.0572 - mape: 28.9931 - val_loss: 100.4815 - val_mape: 7.0961\n",
      "Epoch 7/50\n",
      "127/132 [===========================>..] - ETA: 0s - loss: 114.1315 - mape: 28.4170INFO:tensorflow:Assets written to: ./models\\16.74_07men_5_lstm_3_dense_2_unit_8\\assets\n"
     ]
    },
    {
     "name": "stderr",
     "output_type": "stream",
     "text": [
      "INFO:tensorflow:Assets written to: ./models\\16.74_07men_5_lstm_3_dense_2_unit_8\\assets\n"
     ]
    },
    {
     "name": "stdout",
     "output_type": "stream",
     "text": [
      "132/132 [==============================] - 6s 45ms/step - loss: 113.3427 - mape: 28.5492 - val_loss: 437.2008 - val_mape: 16.7368\n",
      "Epoch 8/50\n",
      "128/132 [============================>.] - ETA: 0s - loss: 112.9194 - mape: 28.4073INFO:tensorflow:Assets written to: ./models\\17.41_08men_5_lstm_3_dense_2_unit_8\\assets\n"
     ]
    },
    {
     "name": "stderr",
     "output_type": "stream",
     "text": [
      "INFO:tensorflow:Assets written to: ./models\\17.41_08men_5_lstm_3_dense_2_unit_8\\assets\n"
     ]
    },
    {
     "name": "stdout",
     "output_type": "stream",
     "text": [
      "132/132 [==============================] - 6s 46ms/step - loss: 112.5599 - mape: 28.4447 - val_loss: 462.1476 - val_mape: 17.4112\n",
      "Epoch 9/50\n",
      "132/132 [==============================] - 1s 10ms/step - loss: 95.9296 - mape: 27.4295 - val_loss: 305.7254 - val_mape: 12.7105\n",
      "Epoch 10/50\n",
      "132/132 [==============================] - 1s 10ms/step - loss: 89.0002 - mape: 25.8171 - val_loss: 170.6964 - val_mape: 9.9020\n",
      "Epoch 11/50\n",
      "128/132 [============================>.] - ETA: 0s - loss: 82.1343 - mape: 25.3907INFO:tensorflow:Assets written to: ./models\\17.81_11men_5_lstm_3_dense_2_unit_8\\assets\n"
     ]
    },
    {
     "name": "stderr",
     "output_type": "stream",
     "text": [
      "INFO:tensorflow:Assets written to: ./models\\17.81_11men_5_lstm_3_dense_2_unit_8\\assets\n"
     ]
    },
    {
     "name": "stdout",
     "output_type": "stream",
     "text": [
      "132/132 [==============================] - 6s 47ms/step - loss: 82.8352 - mape: 25.4324 - val_loss: 477.8536 - val_mape: 17.8111\n",
      "Epoch 12/50\n",
      "132/132 [==============================] - 1s 10ms/step - loss: 83.6066 - mape: 25.2716 - val_loss: 318.6057 - val_mape: 13.8957\n",
      "Epoch 13/50\n",
      "128/132 [============================>.] - ETA: 0s - loss: 79.2946 - mape: 24.3001INFO:tensorflow:Assets written to: ./models\\18.60_13men_5_lstm_3_dense_2_unit_8\\assets\n"
     ]
    },
    {
     "name": "stderr",
     "output_type": "stream",
     "text": [
      "INFO:tensorflow:Assets written to: ./models\\18.60_13men_5_lstm_3_dense_2_unit_8\\assets\n"
     ]
    },
    {
     "name": "stdout",
     "output_type": "stream",
     "text": [
      "132/132 [==============================] - 7s 57ms/step - loss: 79.2035 - mape: 24.3451 - val_loss: 534.7871 - val_mape: 18.5992\n",
      "Epoch 14/50\n",
      "131/132 [============================>.] - ETA: 0s - loss: 80.2868 - mape: 24.2966INFO:tensorflow:Assets written to: ./models\\22.11_14men_5_lstm_3_dense_2_unit_8\\assets\n"
     ]
    },
    {
     "name": "stderr",
     "output_type": "stream",
     "text": [
      "INFO:tensorflow:Assets written to: ./models\\22.11_14men_5_lstm_3_dense_2_unit_8\\assets\n"
     ]
    },
    {
     "name": "stdout",
     "output_type": "stream",
     "text": [
      "132/132 [==============================] - 6s 45ms/step - loss: 80.0081 - mape: 24.3224 - val_loss: 747.1027 - val_mape: 22.1121\n",
      "Epoch 15/50\n",
      "132/132 [==============================] - 1s 11ms/step - loss: 74.2854 - mape: 23.4373 - val_loss: 649.3582 - val_mape: 20.6285\n",
      "Epoch 16/50\n",
      "132/132 [==============================] - 1s 10ms/step - loss: 74.3457 - mape: 23.7237 - val_loss: 197.3804 - val_mape: 10.4286\n",
      "Epoch 17/50\n",
      "132/132 [==============================] - 1s 10ms/step - loss: 68.3498 - mape: 22.6539 - val_loss: 604.2709 - val_mape: 19.8800\n",
      "Epoch 18/50\n",
      "132/132 [==============================] - 1s 10ms/step - loss: 71.4130 - mape: 22.6545 - val_loss: 518.6580 - val_mape: 18.2592\n",
      "Epoch 19/50\n",
      "132/132 [==============================] - 1s 10ms/step - loss: 69.3407 - mape: 22.0366 - val_loss: 499.7892 - val_mape: 17.6951\n",
      "Epoch 20/50\n",
      "132/132 [==============================] - 1s 10ms/step - loss: 72.8462 - mape: 22.5138 - val_loss: 342.2585 - val_mape: 14.3299\n",
      "Epoch 21/50\n",
      "132/132 [==============================] - 1s 10ms/step - loss: 69.0448 - mape: 22.1963 - val_loss: 386.9745 - val_mape: 15.3677\n",
      "Epoch 22/50\n",
      "130/132 [============================>.] - ETA: 0s - loss: 69.8881 - mape: 21.9356INFO:tensorflow:Assets written to: ./models\\26.54_22men_5_lstm_3_dense_2_unit_8\\assets\n"
     ]
    },
    {
     "name": "stderr",
     "output_type": "stream",
     "text": [
      "INFO:tensorflow:Assets written to: ./models\\26.54_22men_5_lstm_3_dense_2_unit_8\\assets\n"
     ]
    },
    {
     "name": "stdout",
     "output_type": "stream",
     "text": [
      "132/132 [==============================] - 6s 45ms/step - loss: 69.3615 - mape: 21.9872 - val_loss: 1060.8109 - val_mape: 26.5425\n",
      "Epoch 23/50\n",
      "132/132 [==============================] - 1s 10ms/step - loss: 64.6975 - mape: 21.2793 - val_loss: 742.0120 - val_mape: 22.2030\n",
      "Epoch 24/50\n",
      "132/132 [==============================] - 1s 10ms/step - loss: 70.5346 - mape: 21.5363 - val_loss: 609.4281 - val_mape: 19.8727\n",
      "Epoch 25/50\n",
      "132/132 [==============================] - 1s 10ms/step - loss: 66.3222 - mape: 21.2991 - val_loss: 777.8986 - val_mape: 22.5766\n",
      "Epoch 26/50\n",
      "132/132 [==============================] - 1s 10ms/step - loss: 61.0775 - mape: 20.9514 - val_loss: 623.8173 - val_mape: 19.9226\n",
      "Epoch 27/50\n",
      "132/132 [==============================] - 1s 10ms/step - loss: 58.8433 - mape: 20.5498 - val_loss: 496.1669 - val_mape: 17.7153\n",
      "Epoch 28/50\n",
      "132/132 [==============================] - 1s 10ms/step - loss: 59.4402 - mape: 20.4855 - val_loss: 820.1237 - val_mape: 23.3169\n",
      "Epoch 29/50\n",
      "132/132 [==============================] - 1s 10ms/step - loss: 65.1568 - mape: 20.5799 - val_loss: 725.9124 - val_mape: 21.7246\n",
      "Epoch 30/50\n",
      "132/132 [==============================] - 1s 10ms/step - loss: 68.4752 - mape: 21.0951 - val_loss: 721.7046 - val_mape: 21.6515\n",
      "Epoch 31/50\n",
      "132/132 [==============================] - 1s 10ms/step - loss: 65.0570 - mape: 20.0742 - val_loss: 950.3484 - val_mape: 24.9402\n",
      "Epoch 32/50\n",
      "132/132 [==============================] - 1s 10ms/step - loss: 66.3833 - mape: 20.1617 - val_loss: 497.1425 - val_mape: 17.8550\n",
      "Epoch 33/50\n",
      "129/132 [============================>.] - ETA: 0s - loss: 59.0614 - mape: 20.1601INFO:tensorflow:Assets written to: ./models\\28.59_33men_5_lstm_3_dense_2_unit_8\\assets\n"
     ]
    },
    {
     "name": "stderr",
     "output_type": "stream",
     "text": [
      "INFO:tensorflow:Assets written to: ./models\\28.59_33men_5_lstm_3_dense_2_unit_8\\assets\n"
     ]
    },
    {
     "name": "stdout",
     "output_type": "stream",
     "text": [
      "132/132 [==============================] - 7s 57ms/step - loss: 59.1846 - mape: 20.1435 - val_loss: 1221.6112 - val_mape: 28.5904\n",
      "Epoch 34/50\n",
      "132/132 [==============================] - 1s 10ms/step - loss: 59.7798 - mape: 20.5401 - val_loss: 258.3217 - val_mape: 12.2424\n",
      "Epoch 35/50\n",
      "132/132 [==============================] - 1s 10ms/step - loss: 59.2074 - mape: 20.0927 - val_loss: 605.4572 - val_mape: 19.3897\n",
      "Epoch 36/50\n",
      "132/132 [==============================] - 1s 10ms/step - loss: 56.7646 - mape: 19.7625 - val_loss: 850.8708 - val_mape: 23.1737\n",
      "Epoch 37/50\n",
      "132/132 [==============================] - 1s 11ms/step - loss: 55.3707 - mape: 19.5404 - val_loss: 1022.0303 - val_mape: 25.6709\n",
      "Epoch 38/50\n",
      "132/132 [==============================] - 1s 10ms/step - loss: 62.8484 - mape: 20.0801 - val_loss: 892.2829 - val_mape: 24.0191\n",
      "Epoch 39/50\n",
      "132/132 [==============================] - 1s 10ms/step - loss: 53.6739 - mape: 19.2250 - val_loss: 789.8458 - val_mape: 22.5401\n",
      "Epoch 40/50\n",
      "132/132 [==============================] - 1s 10ms/step - loss: 51.6314 - mape: 19.8079 - val_loss: 1000.8256 - val_mape: 24.8707\n",
      "Epoch 41/50\n",
      "132/132 [==============================] - 1s 10ms/step - loss: 60.5191 - mape: 19.3707 - val_loss: 580.6434 - val_mape: 19.1331\n",
      "Epoch 42/50\n",
      "132/132 [==============================] - 1s 11ms/step - loss: 53.2508 - mape: 19.2266 - val_loss: 445.2461 - val_mape: 15.8638\n",
      "Epoch 43/50\n",
      "132/132 [==============================] - 1s 10ms/step - loss: 54.2282 - mape: 19.5118 - val_loss: 832.5313 - val_mape: 23.0121\n",
      "Epoch 44/50\n",
      "132/132 [==============================] - 1s 10ms/step - loss: 54.1670 - mape: 18.9271 - val_loss: 1163.3844 - val_mape: 27.3654\n",
      "Epoch 45/50\n",
      "132/132 [==============================] - 1s 11ms/step - loss: 52.3095 - mape: 18.8259 - val_loss: 755.9108 - val_mape: 21.6974\n",
      "Epoch 46/50\n",
      "132/132 [==============================] - 1s 11ms/step - loss: 53.8492 - mape: 18.9676 - val_loss: 586.4011 - val_mape: 18.8813\n",
      "Epoch 47/50\n",
      "132/132 [==============================] - 1s 10ms/step - loss: 57.1434 - mape: 18.9533 - val_loss: 508.4621 - val_mape: 17.4034\n",
      "Epoch 48/50\n",
      "132/132 [==============================] - 1s 11ms/step - loss: 54.7341 - mape: 19.2126 - val_loss: 480.9210 - val_mape: 16.8873\n",
      "Epoch 49/50\n",
      "132/132 [==============================] - 1s 10ms/step - loss: 51.1739 - mape: 18.6679 - val_loss: 917.1602 - val_mape: 24.1994\n",
      "Epoch 50/50\n",
      "132/132 [==============================] - 1s 10ms/step - loss: 49.3580 - mape: 18.4264 - val_loss: 939.9288 - val_mape: 24.4352\n",
      "Epoch 1/50\n",
      "132/132 [==============================] - ETA: 0s - loss: 652.7235 - mape: 65.3443INFO:tensorflow:Assets written to: ./models\\8.07_01men_5_lstm_3_dense_2_unit_16\\assets\n"
     ]
    },
    {
     "name": "stderr",
     "output_type": "stream",
     "text": [
      "INFO:tensorflow:Assets written to: ./models\\8.07_01men_5_lstm_3_dense_2_unit_16\\assets\n"
     ]
    },
    {
     "name": "stdout",
     "output_type": "stream",
     "text": [
      "132/132 [==============================] - 12s 51ms/step - loss: 652.7235 - mape: 65.3443 - val_loss: 125.4946 - val_mape: 8.0707\n",
      "Epoch 2/50\n",
      "132/132 [==============================] - 1s 11ms/step - loss: 106.2528 - mape: 25.4328 - val_loss: 92.1374 - val_mape: 6.4474\n",
      "Epoch 3/50\n",
      "132/132 [==============================] - 1s 11ms/step - loss: 78.7413 - mape: 22.1271 - val_loss: 98.3539 - val_mape: 6.7157\n",
      "Epoch 4/50\n",
      "131/132 [============================>.] - ETA: 0s - loss: 63.7847 - mape: 20.6420INFO:tensorflow:Assets written to: ./models\\9.36_04men_5_lstm_3_dense_2_unit_16\\assets\n"
     ]
    },
    {
     "name": "stderr",
     "output_type": "stream",
     "text": [
      "INFO:tensorflow:Assets written to: ./models\\9.36_04men_5_lstm_3_dense_2_unit_16\\assets\n"
     ]
    },
    {
     "name": "stdout",
     "output_type": "stream",
     "text": [
      "132/132 [==============================] - 7s 57ms/step - loss: 63.5447 - mape: 20.6183 - val_loss: 161.8225 - val_mape: 9.3595\n",
      "Epoch 5/50\n",
      "132/132 [==============================] - ETA: 0s - loss: 55.9062 - mape: 18.0005INFO:tensorflow:Assets written to: ./models\\13.74_05men_5_lstm_3_dense_2_unit_16\\assets\n"
     ]
    },
    {
     "name": "stderr",
     "output_type": "stream",
     "text": [
      "INFO:tensorflow:Assets written to: ./models\\13.74_05men_5_lstm_3_dense_2_unit_16\\assets\n"
     ]
    },
    {
     "name": "stdout",
     "output_type": "stream",
     "text": [
      "132/132 [==============================] - 6s 46ms/step - loss: 55.9062 - mape: 18.0005 - val_loss: 433.4164 - val_mape: 13.7374\n",
      "Epoch 6/50\n",
      "132/132 [==============================] - 1s 11ms/step - loss: 56.7359 - mape: 17.8110 - val_loss: 65.0142 - val_mape: 5.7201\n",
      "Epoch 7/50\n",
      "132/132 [==============================] - 1s 11ms/step - loss: 47.1554 - mape: 17.2155 - val_loss: 115.1485 - val_mape: 7.7880\n",
      "Epoch 8/50\n",
      "132/132 [==============================] - ETA: 0s - loss: 46.0232 - mape: 16.8178INFO:tensorflow:Assets written to: ./models\\15.07_08men_5_lstm_3_dense_2_unit_16\\assets\n"
     ]
    },
    {
     "name": "stderr",
     "output_type": "stream",
     "text": [
      "INFO:tensorflow:Assets written to: ./models\\15.07_08men_5_lstm_3_dense_2_unit_16\\assets\n"
     ]
    },
    {
     "name": "stdout",
     "output_type": "stream",
     "text": [
      "132/132 [==============================] - 6s 46ms/step - loss: 46.0232 - mape: 16.8178 - val_loss: 377.5627 - val_mape: 15.0713\n",
      "Epoch 9/50\n",
      "132/132 [==============================] - ETA: 0s - loss: 42.4254 - mape: 16.0703INFO:tensorflow:Assets written to: ./models\\24.58_09men_5_lstm_3_dense_2_unit_16\\assets\n"
     ]
    },
    {
     "name": "stderr",
     "output_type": "stream",
     "text": [
      "INFO:tensorflow:Assets written to: ./models\\24.58_09men_5_lstm_3_dense_2_unit_16\\assets\n"
     ]
    },
    {
     "name": "stdout",
     "output_type": "stream",
     "text": [
      "132/132 [==============================] - 6s 46ms/step - loss: 42.4254 - mape: 16.0703 - val_loss: 931.7878 - val_mape: 24.5772\n",
      "Epoch 10/50\n",
      "132/132 [==============================] - 1s 11ms/step - loss: 41.0046 - mape: 15.5708 - val_loss: 762.6154 - val_mape: 21.8130\n",
      "Epoch 11/50\n",
      "132/132 [==============================] - 1s 11ms/step - loss: 40.5548 - mape: 15.7476 - val_loss: 403.7101 - val_mape: 15.6344\n",
      "Epoch 12/50\n",
      "132/132 [==============================] - 1s 11ms/step - loss: 37.3171 - mape: 15.1122 - val_loss: 514.0006 - val_mape: 18.0305\n",
      "Epoch 13/50\n",
      "132/132 [==============================] - 1s 11ms/step - loss: 38.1651 - mape: 14.7836 - val_loss: 248.4702 - val_mape: 11.7468\n",
      "Epoch 14/50\n",
      "132/132 [==============================] - 1s 11ms/step - loss: 39.7257 - mape: 14.7312 - val_loss: 283.7815 - val_mape: 13.0398\n",
      "Epoch 15/50\n",
      "132/132 [==============================] - 1s 11ms/step - loss: 37.5344 - mape: 15.3263 - val_loss: 607.2450 - val_mape: 18.8753\n",
      "Epoch 16/50\n",
      "132/132 [==============================] - 1s 11ms/step - loss: 33.8883 - mape: 14.1476 - val_loss: 345.5223 - val_mape: 14.2211\n",
      "Epoch 17/50\n",
      "132/132 [==============================] - 1s 11ms/step - loss: 34.5316 - mape: 13.9763 - val_loss: 725.2521 - val_mape: 21.0717\n",
      "Epoch 18/50\n",
      "132/132 [==============================] - 1s 11ms/step - loss: 32.8989 - mape: 13.7890 - val_loss: 608.2299 - val_mape: 19.3722\n",
      "Epoch 19/50\n",
      "132/132 [==============================] - 1s 11ms/step - loss: 30.5179 - mape: 13.7538 - val_loss: 508.3208 - val_mape: 17.9364\n",
      "Epoch 20/50\n",
      "132/132 [==============================] - 1s 11ms/step - loss: 35.8496 - mape: 14.2652 - val_loss: 234.9452 - val_mape: 11.3369\n",
      "Epoch 21/50\n",
      "132/132 [==============================] - 1s 11ms/step - loss: 31.3281 - mape: 13.2059 - val_loss: 964.1160 - val_mape: 24.2866\n",
      "Epoch 22/50\n",
      "131/132 [============================>.] - ETA: 0s - loss: 32.9535 - mape: 12.9946INFO:tensorflow:Assets written to: ./models\\26.76_22men_5_lstm_3_dense_2_unit_16\\assets\n"
     ]
    },
    {
     "name": "stderr",
     "output_type": "stream",
     "text": [
      "INFO:tensorflow:Assets written to: ./models\\26.76_22men_5_lstm_3_dense_2_unit_16\\assets\n"
     ]
    },
    {
     "name": "stdout",
     "output_type": "stream",
     "text": [
      "132/132 [==============================] - 8s 59ms/step - loss: 32.9367 - mape: 12.9995 - val_loss: 1143.2561 - val_mape: 26.7558\n",
      "Epoch 23/50\n",
      "132/132 [==============================] - 1s 11ms/step - loss: 31.3597 - mape: 13.6229 - val_loss: 622.8298 - val_mape: 19.3702\n",
      "Epoch 24/50\n",
      "132/132 [==============================] - 1s 11ms/step - loss: 30.1009 - mape: 12.6080 - val_loss: 486.5902 - val_mape: 16.4471\n",
      "Epoch 25/50\n",
      "132/132 [==============================] - 1s 11ms/step - loss: 28.5652 - mape: 12.8404 - val_loss: 773.6339 - val_mape: 21.5341\n",
      "Epoch 26/50\n",
      "132/132 [==============================] - 1s 11ms/step - loss: 29.4890 - mape: 12.7194 - val_loss: 771.3956 - val_mape: 21.5523\n",
      "Epoch 27/50\n",
      "132/132 [==============================] - 1s 11ms/step - loss: 32.2266 - mape: 13.2041 - val_loss: 992.6637 - val_mape: 24.5601\n",
      "Epoch 28/50\n",
      "132/132 [==============================] - 1s 11ms/step - loss: 26.6363 - mape: 13.1301 - val_loss: 453.7055 - val_mape: 15.9289\n",
      "Epoch 29/50\n",
      "132/132 [==============================] - 1s 11ms/step - loss: 29.7131 - mape: 12.6907 - val_loss: 301.9093 - val_mape: 12.6705\n",
      "Epoch 30/50\n",
      "132/132 [==============================] - 1s 11ms/step - loss: 27.8898 - mape: 12.6231 - val_loss: 597.9618 - val_mape: 18.3945\n",
      "Epoch 31/50\n",
      "132/132 [==============================] - 1s 11ms/step - loss: 27.1292 - mape: 12.7549 - val_loss: 751.1230 - val_mape: 21.0361\n",
      "Epoch 32/50\n",
      "132/132 [==============================] - 1s 11ms/step - loss: 28.2065 - mape: 12.6861 - val_loss: 1150.5220 - val_mape: 26.7390\n",
      "Epoch 33/50\n",
      "132/132 [==============================] - 1s 11ms/step - loss: 27.2895 - mape: 12.6734 - val_loss: 732.5941 - val_mape: 21.0603\n",
      "Epoch 34/50\n",
      "132/132 [==============================] - 1s 11ms/step - loss: 26.4496 - mape: 12.2375 - val_loss: 596.3915 - val_mape: 18.8397\n",
      "Epoch 35/50\n",
      "132/132 [==============================] - 1s 11ms/step - loss: 29.4405 - mape: 12.6638 - val_loss: 582.1884 - val_mape: 18.6112\n",
      "Epoch 36/50\n",
      "132/132 [==============================] - 1s 11ms/step - loss: 28.6682 - mape: 12.4860 - val_loss: 411.7122 - val_mape: 15.1576\n",
      "Epoch 37/50\n",
      "132/132 [==============================] - 1s 11ms/step - loss: 25.3727 - mape: 12.4357 - val_loss: 1089.0789 - val_mape: 26.2641\n",
      "Epoch 38/50\n",
      "132/132 [==============================] - 1s 11ms/step - loss: 27.6832 - mape: 12.5194 - val_loss: 802.0814 - val_mape: 22.1853\n",
      "Epoch 39/50\n",
      "132/132 [==============================] - 1s 11ms/step - loss: 25.2690 - mape: 11.8981 - val_loss: 805.3253 - val_mape: 22.0720\n",
      "Epoch 40/50\n",
      "132/132 [==============================] - 2s 11ms/step - loss: 25.6261 - mape: 12.3654 - val_loss: 794.9940 - val_mape: 22.1593\n",
      "Epoch 41/50\n",
      "132/132 [==============================] - 1s 11ms/step - loss: 28.4739 - mape: 12.3545 - val_loss: 725.8574 - val_mape: 21.1041\n",
      "Epoch 42/50\n",
      "132/132 [==============================] - 1s 11ms/step - loss: 25.5986 - mape: 12.5316 - val_loss: 627.9127 - val_mape: 19.7048\n",
      "Epoch 43/50\n",
      "132/132 [==============================] - 1s 11ms/step - loss: 26.2450 - mape: 11.8341 - val_loss: 629.9491 - val_mape: 19.0989\n",
      "Epoch 44/50\n",
      "132/132 [==============================] - 1s 11ms/step - loss: 25.2243 - mape: 12.1019 - val_loss: 823.4749 - val_mape: 22.0376\n",
      "Epoch 45/50\n",
      "132/132 [==============================] - 1s 11ms/step - loss: 26.0191 - mape: 12.9138 - val_loss: 537.4946 - val_mape: 17.9336\n",
      "Epoch 46/50\n",
      "132/132 [==============================] - 1s 11ms/step - loss: 24.5948 - mape: 12.5750 - val_loss: 913.4563 - val_mape: 23.6350\n",
      "Epoch 47/50\n",
      "132/132 [==============================] - 2s 12ms/step - loss: 25.7012 - mape: 12.2383 - val_loss: 729.8271 - val_mape: 21.1020\n",
      "Epoch 48/50\n",
      "132/132 [==============================] - 2s 11ms/step - loss: 24.7952 - mape: 12.1902 - val_loss: 945.1425 - val_mape: 23.7308\n",
      "Epoch 49/50\n",
      "132/132 [==============================] - 2s 11ms/step - loss: 23.9679 - mape: 12.0402 - val_loss: 1051.2494 - val_mape: 25.0416\n",
      "Epoch 50/50\n",
      "132/132 [==============================] - 2s 11ms/step - loss: 23.7789 - mape: 12.2438 - val_loss: 750.8789 - val_mape: 20.8460\n",
      "Epoch 1/50\n",
      "131/132 [============================>.] - ETA: 0s - loss: 523.8029 - mape: 54.9864INFO:tensorflow:Assets written to: ./models\\11.35_01men_5_lstm_3_dense_2_unit_32\\assets\n"
     ]
    },
    {
     "name": "stderr",
     "output_type": "stream",
     "text": [
      "INFO:tensorflow:Assets written to: ./models\\11.35_01men_5_lstm_3_dense_2_unit_32\\assets\n"
     ]
    },
    {
     "name": "stdout",
     "output_type": "stream",
     "text": [
      "132/132 [==============================] - 12s 51ms/step - loss: 521.8352 - mape: 54.8929 - val_loss: 224.7081 - val_mape: 11.3456\n",
      "Epoch 2/50\n",
      "129/132 [============================>.] - ETA: 0s - loss: 70.6172 - mape: 24.6812INFO:tensorflow:Assets written to: ./models\\20.00_02men_5_lstm_3_dense_2_unit_32\\assets\n"
     ]
    },
    {
     "name": "stderr",
     "output_type": "stream",
     "text": [
      "INFO:tensorflow:Assets written to: ./models\\20.00_02men_5_lstm_3_dense_2_unit_32\\assets\n"
     ]
    },
    {
     "name": "stdout",
     "output_type": "stream",
     "text": [
      "132/132 [==============================] - 6s 47ms/step - loss: 71.1440 - mape: 24.6254 - val_loss: 653.4001 - val_mape: 20.0020\n",
      "Epoch 3/50\n",
      "132/132 [==============================] - 2s 12ms/step - loss: 53.2466 - mape: 21.1371 - val_loss: 98.7249 - val_mape: 7.0422\n",
      "Epoch 4/50\n",
      "132/132 [==============================] - 2s 12ms/step - loss: 48.1164 - mape: 19.1416 - val_loss: 106.0508 - val_mape: 7.3108\n",
      "Epoch 5/50\n",
      "132/132 [==============================] - 2s 12ms/step - loss: 41.1450 - mape: 18.0126 - val_loss: 64.9090 - val_mape: 5.7002\n",
      "Epoch 6/50\n",
      "132/132 [==============================] - 2s 12ms/step - loss: 42.3603 - mape: 17.1911 - val_loss: 57.5720 - val_mape: 5.3660\n",
      "Epoch 7/50\n",
      "132/132 [==============================] - 2s 13ms/step - loss: 43.3690 - mape: 16.3155 - val_loss: 59.0227 - val_mape: 5.4988\n",
      "Epoch 8/50\n",
      "132/132 [==============================] - 2s 12ms/step - loss: 34.3390 - mape: 14.9584 - val_loss: 84.4633 - val_mape: 6.5218\n",
      "Epoch 9/50\n",
      "132/132 [==============================] - 2s 12ms/step - loss: 36.5921 - mape: 15.1853 - val_loss: 345.5721 - val_mape: 14.0040\n",
      "Epoch 10/50\n",
      "132/132 [==============================] - 2s 12ms/step - loss: 35.4404 - mape: 15.2293 - val_loss: 293.9832 - val_mape: 12.3837\n",
      "Epoch 11/50\n",
      "132/132 [==============================] - 2s 13ms/step - loss: 33.6918 - mape: 13.7075 - val_loss: 224.8792 - val_mape: 10.9472\n",
      "Epoch 12/50\n",
      "132/132 [==============================] - 2s 12ms/step - loss: 29.9749 - mape: 13.1445 - val_loss: 123.6302 - val_mape: 8.0134\n",
      "Epoch 13/50\n",
      "132/132 [==============================] - 2s 13ms/step - loss: 33.2160 - mape: 13.6842 - val_loss: 262.6995 - val_mape: 11.6608\n",
      "Epoch 14/50\n",
      "132/132 [==============================] - 2s 12ms/step - loss: 33.8744 - mape: 13.7955 - val_loss: 165.8145 - val_mape: 8.6787\n",
      "Epoch 15/50\n",
      "132/132 [==============================] - 2s 12ms/step - loss: 32.3732 - mape: 13.6173 - val_loss: 67.6178 - val_mape: 5.8503\n",
      "Epoch 16/50\n",
      "132/132 [==============================] - 2s 13ms/step - loss: 27.9464 - mape: 12.6082 - val_loss: 208.3026 - val_mape: 10.5678\n",
      "Epoch 17/50\n",
      "132/132 [==============================] - 2s 13ms/step - loss: 29.4532 - mape: 12.6110 - val_loss: 149.1443 - val_mape: 8.5849\n",
      "Epoch 18/50\n",
      "132/132 [==============================] - 2s 13ms/step - loss: 31.3565 - mape: 13.1708 - val_loss: 66.9872 - val_mape: 5.8126\n",
      "Epoch 19/50\n",
      "132/132 [==============================] - 2s 13ms/step - loss: 29.8947 - mape: 13.2114 - val_loss: 209.6402 - val_mape: 10.1243\n",
      "Epoch 20/50\n",
      "132/132 [==============================] - 2s 13ms/step - loss: 26.9698 - mape: 12.3357 - val_loss: 163.4497 - val_mape: 8.9799\n",
      "Epoch 21/50\n",
      "132/132 [==============================] - 2s 12ms/step - loss: 29.5045 - mape: 12.3811 - val_loss: 110.4631 - val_mape: 7.1928\n",
      "Epoch 22/50\n",
      "132/132 [==============================] - 2s 13ms/step - loss: 28.8467 - mape: 12.4926 - val_loss: 51.0998 - val_mape: 5.1955\n",
      "Epoch 23/50\n",
      "132/132 [==============================] - 2s 13ms/step - loss: 28.2696 - mape: 12.5311 - val_loss: 265.3802 - val_mape: 11.5925\n",
      "Epoch 24/50\n",
      "132/132 [==============================] - 2s 13ms/step - loss: 27.4432 - mape: 12.2754 - val_loss: 81.0515 - val_mape: 6.3173\n",
      "Epoch 25/50\n",
      "132/132 [==============================] - 2s 13ms/step - loss: 28.2675 - mape: 12.4434 - val_loss: 575.8430 - val_mape: 18.2781\n",
      "Epoch 26/50\n",
      "132/132 [==============================] - 2s 13ms/step - loss: 27.4685 - mape: 12.6706 - val_loss: 644.1982 - val_mape: 19.2358\n",
      "Epoch 27/50\n",
      "132/132 [==============================] - 2s 13ms/step - loss: 25.6180 - mape: 11.3490 - val_loss: 126.1732 - val_mape: 7.5055\n",
      "Epoch 28/50\n",
      "132/132 [==============================] - 2s 13ms/step - loss: 25.8808 - mape: 11.5463 - val_loss: 505.8949 - val_mape: 16.9908\n",
      "Epoch 29/50\n",
      "132/132 [==============================] - 2s 13ms/step - loss: 27.5231 - mape: 11.8627 - val_loss: 247.4801 - val_mape: 11.6765\n",
      "Epoch 30/50\n",
      "132/132 [==============================] - 2s 13ms/step - loss: 24.8064 - mape: 11.6564 - val_loss: 385.8790 - val_mape: 14.0727\n",
      "Epoch 31/50\n",
      "132/132 [==============================] - 2s 14ms/step - loss: 25.8838 - mape: 11.4767 - val_loss: 245.9529 - val_mape: 10.9311\n",
      "Epoch 32/50\n",
      "132/132 [==============================] - 2s 14ms/step - loss: 25.3323 - mape: 11.4565 - val_loss: 114.1793 - val_mape: 7.3104\n",
      "Epoch 33/50\n",
      "132/132 [==============================] - 2s 13ms/step - loss: 25.7081 - mape: 11.1889 - val_loss: 287.5471 - val_mape: 12.2539\n",
      "Epoch 34/50\n",
      "132/132 [==============================] - 2s 13ms/step - loss: 26.2539 - mape: 10.9416 - val_loss: 109.3917 - val_mape: 7.5109\n",
      "Epoch 35/50\n",
      "132/132 [==============================] - 2s 13ms/step - loss: 24.5977 - mape: 11.4396 - val_loss: 257.6098 - val_mape: 11.0991\n",
      "Epoch 36/50\n",
      "132/132 [==============================] - 2s 13ms/step - loss: 22.8719 - mape: 11.0491 - val_loss: 426.0824 - val_mape: 14.8480\n",
      "Epoch 37/50\n",
      "132/132 [==============================] - 2s 12ms/step - loss: 23.8758 - mape: 11.3368 - val_loss: 596.3011 - val_mape: 18.1861\n",
      "Epoch 38/50\n",
      "132/132 [==============================] - 2s 12ms/step - loss: 28.2428 - mape: 12.3398 - val_loss: 253.5044 - val_mape: 10.5766\n",
      "Epoch 39/50\n",
      "129/132 [============================>.] - ETA: 0s - loss: 23.9924 - mape: 11.0513INFO:tensorflow:Assets written to: ./models\\22.59_39men_5_lstm_3_dense_2_unit_32\\assets\n"
     ]
    },
    {
     "name": "stderr",
     "output_type": "stream",
     "text": [
      "INFO:tensorflow:Assets written to: ./models\\22.59_39men_5_lstm_3_dense_2_unit_32\\assets\n"
     ]
    },
    {
     "name": "stdout",
     "output_type": "stream",
     "text": [
      "132/132 [==============================] - 7s 57ms/step - loss: 24.1143 - mape: 11.1007 - val_loss: 872.1135 - val_mape: 22.5925\n",
      "Epoch 40/50\n",
      "132/132 [==============================] - 2s 12ms/step - loss: 22.7037 - mape: 10.9177 - val_loss: 364.8495 - val_mape: 13.6236\n",
      "Epoch 41/50\n",
      "132/132 [==============================] - 2s 12ms/step - loss: 24.0615 - mape: 10.7275 - val_loss: 224.9431 - val_mape: 10.4558\n",
      "Epoch 42/50\n",
      "132/132 [==============================] - 2s 12ms/step - loss: 23.5417 - mape: 11.2287 - val_loss: 476.5304 - val_mape: 16.6582\n",
      "Epoch 43/50\n",
      "132/132 [==============================] - 2s 12ms/step - loss: 25.5291 - mape: 11.6426 - val_loss: 512.6254 - val_mape: 16.7927\n",
      "Epoch 44/50\n",
      "132/132 [==============================] - 2s 12ms/step - loss: 24.5152 - mape: 10.6991 - val_loss: 463.4068 - val_mape: 16.0231\n",
      "Epoch 45/50\n",
      "132/132 [==============================] - 2s 12ms/step - loss: 24.6217 - mape: 10.6910 - val_loss: 281.3608 - val_mape: 11.3388\n",
      "Epoch 46/50\n",
      "132/132 [==============================] - 2s 12ms/step - loss: 21.2070 - mape: 10.5590 - val_loss: 259.0449 - val_mape: 10.9603\n",
      "Epoch 47/50\n",
      "132/132 [==============================] - 2s 12ms/step - loss: 24.6702 - mape: 10.6427 - val_loss: 307.9534 - val_mape: 12.0294\n",
      "Epoch 48/50\n",
      "132/132 [==============================] - 2s 12ms/step - loss: 23.0934 - mape: 10.6723 - val_loss: 138.0460 - val_mape: 7.8192\n",
      "Epoch 49/50\n",
      "132/132 [==============================] - 2s 12ms/step - loss: 25.9236 - mape: 11.3479 - val_loss: 150.6830 - val_mape: 7.9574\n",
      "Epoch 50/50\n",
      "132/132 [==============================] - 2s 12ms/step - loss: 22.3831 - mape: 10.7400 - val_loss: 220.7752 - val_mape: 9.9903\n",
      "Epoch 1/50\n",
      "127/132 [===========================>..] - ETA: 0s - loss: 1132.1742 - mape: 90.4004INFO:tensorflow:Assets written to: ./models\\29.02_01men_5_lstm_3_dense_3_unit_8\\assets\n"
     ]
    },
    {
     "name": "stderr",
     "output_type": "stream",
     "text": [
      "INFO:tensorflow:Assets written to: ./models\\29.02_01men_5_lstm_3_dense_3_unit_8\\assets\n"
     ]
    },
    {
     "name": "stdout",
     "output_type": "stream",
     "text": [
      "132/132 [==============================] - 12s 50ms/step - loss: 1106.9427 - mape: 89.4878 - val_loss: 1446.2504 - val_mape: 29.0200\n",
      "Epoch 2/50\n",
      "132/132 [==============================] - 1s 10ms/step - loss: 292.6444 - mape: 41.8095 - val_loss: 711.3589 - val_mape: 21.1771\n",
      "Epoch 3/50\n",
      "132/132 [==============================] - 1s 10ms/step - loss: 223.3154 - mape: 35.7873 - val_loss: 810.3719 - val_mape: 22.6134\n",
      "Epoch 4/50\n",
      "130/132 [============================>.] - ETA: 0s - loss: 194.9967 - mape: 32.4507INFO:tensorflow:Assets written to: ./models\\29.21_04men_5_lstm_3_dense_3_unit_8\\assets\n"
     ]
    },
    {
     "name": "stderr",
     "output_type": "stream",
     "text": [
      "INFO:tensorflow:Assets written to: ./models\\29.21_04men_5_lstm_3_dense_3_unit_8\\assets\n"
     ]
    },
    {
     "name": "stdout",
     "output_type": "stream",
     "text": [
      "132/132 [==============================] - 6s 46ms/step - loss: 194.0388 - mape: 32.3642 - val_loss: 1309.8373 - val_mape: 29.2116\n",
      "Epoch 5/50\n",
      "132/132 [==============================] - 1s 10ms/step - loss: 167.1383 - mape: 29.8197 - val_loss: 667.7485 - val_mape: 20.3249\n",
      "Epoch 6/50\n",
      "132/132 [==============================] - 1s 10ms/step - loss: 137.3365 - mape: 27.5953 - val_loss: 502.1311 - val_mape: 17.0690\n",
      "Epoch 7/50\n",
      "132/132 [==============================] - 1s 10ms/step - loss: 123.5046 - mape: 26.4908 - val_loss: 1245.2930 - val_mape: 27.4634\n",
      "Epoch 8/50\n",
      "132/132 [==============================] - 1s 10ms/step - loss: 104.6137 - mape: 24.3596 - val_loss: 805.1169 - val_mape: 22.1993\n",
      "Epoch 9/50\n",
      "132/132 [==============================] - 1s 10ms/step - loss: 98.2825 - mape: 24.6963 - val_loss: 704.4042 - val_mape: 20.7251\n",
      "Epoch 10/50\n",
      "132/132 [==============================] - 1s 10ms/step - loss: 90.0856 - mape: 24.7184 - val_loss: 1024.0385 - val_mape: 24.9409\n",
      "Epoch 11/50\n",
      "132/132 [==============================] - 1s 10ms/step - loss: 91.8405 - mape: 24.4923 - val_loss: 882.6070 - val_mape: 23.3404\n",
      "Epoch 12/50\n",
      "128/132 [============================>.] - ETA: 0s - loss: 88.0287 - mape: 23.8295INFO:tensorflow:Assets written to: ./models\\30.34_12men_5_lstm_3_dense_3_unit_8\\assets\n"
     ]
    },
    {
     "name": "stderr",
     "output_type": "stream",
     "text": [
      "INFO:tensorflow:Assets written to: ./models\\30.34_12men_5_lstm_3_dense_3_unit_8\\assets\n"
     ]
    },
    {
     "name": "stdout",
     "output_type": "stream",
     "text": [
      "132/132 [==============================] - 8s 59ms/step - loss: 87.7776 - mape: 23.9113 - val_loss: 1464.6586 - val_mape: 30.3400\n",
      "Epoch 13/50\n",
      "132/132 [==============================] - 1s 10ms/step - loss: 91.4130 - mape: 24.7809 - val_loss: 1151.2079 - val_mape: 26.2911\n",
      "Epoch 14/50\n",
      "132/132 [==============================] - 1s 10ms/step - loss: 87.3259 - mape: 24.4117 - val_loss: 955.2802 - val_mape: 24.3206\n",
      "Epoch 15/50\n",
      "132/132 [==============================] - 1s 10ms/step - loss: 86.0384 - mape: 24.2259 - val_loss: 780.6934 - val_mape: 21.9636\n",
      "Epoch 16/50\n",
      "132/132 [==============================] - 1s 10ms/step - loss: 91.6603 - mape: 23.4202 - val_loss: 1449.9806 - val_mape: 30.1095\n",
      "Epoch 17/50\n",
      "132/132 [==============================] - 1s 10ms/step - loss: 77.2866 - mape: 22.9376 - val_loss: 1041.6010 - val_mape: 25.4674\n",
      "Epoch 18/50\n",
      "132/132 [==============================] - 1s 10ms/step - loss: 78.6095 - mape: 22.7935 - val_loss: 392.2653 - val_mape: 15.0784\n",
      "Epoch 19/50\n",
      "132/132 [==============================] - 1s 10ms/step - loss: 84.7489 - mape: 22.9858 - val_loss: 1251.7490 - val_mape: 27.9176\n",
      "Epoch 20/50\n",
      "132/132 [==============================] - ETA: 0s - loss: 73.6837 - mape: 22.3585INFO:tensorflow:Assets written to: ./models\\31.47_20men_5_lstm_3_dense_3_unit_8\\assets\n"
     ]
    },
    {
     "name": "stderr",
     "output_type": "stream",
     "text": [
      "INFO:tensorflow:Assets written to: ./models\\31.47_20men_5_lstm_3_dense_3_unit_8\\assets\n"
     ]
    },
    {
     "name": "stdout",
     "output_type": "stream",
     "text": [
      "132/132 [==============================] - 6s 47ms/step - loss: 73.6837 - mape: 22.3585 - val_loss: 1570.0801 - val_mape: 31.4715\n",
      "Epoch 21/50\n",
      "132/132 [==============================] - 1s 10ms/step - loss: 79.8016 - mape: 22.8674 - val_loss: 1429.2467 - val_mape: 29.9730\n",
      "Epoch 22/50\n",
      "132/132 [==============================] - 1s 10ms/step - loss: 71.4968 - mape: 22.4287 - val_loss: 955.2839 - val_mape: 24.2287\n",
      "Epoch 23/50\n",
      "132/132 [==============================] - 1s 10ms/step - loss: 74.5990 - mape: 22.6089 - val_loss: 1394.7964 - val_mape: 29.4454\n",
      "Epoch 24/50\n",
      "132/132 [==============================] - 1s 10ms/step - loss: 71.6875 - mape: 21.8201 - val_loss: 1052.8329 - val_mape: 25.2185\n",
      "Epoch 25/50\n",
      "132/132 [==============================] - 1s 10ms/step - loss: 72.9962 - mape: 22.3364 - val_loss: 1257.0613 - val_mape: 28.1624\n",
      "Epoch 26/50\n",
      "127/132 [===========================>..] - ETA: 0s - loss: 71.9075 - mape: 22.1744INFO:tensorflow:Assets written to: ./models\\31.62_26men_5_lstm_3_dense_3_unit_8\\assets\n"
     ]
    },
    {
     "name": "stderr",
     "output_type": "stream",
     "text": [
      "INFO:tensorflow:Assets written to: ./models\\31.62_26men_5_lstm_3_dense_3_unit_8\\assets\n"
     ]
    },
    {
     "name": "stdout",
     "output_type": "stream",
     "text": [
      "132/132 [==============================] - 6s 47ms/step - loss: 73.0923 - mape: 22.3559 - val_loss: 1540.5918 - val_mape: 31.6165\n",
      "Epoch 27/50\n",
      "132/132 [==============================] - 1s 10ms/step - loss: 73.8481 - mape: 22.1017 - val_loss: 1406.4739 - val_mape: 29.5233\n",
      "Epoch 28/50\n",
      "132/132 [==============================] - 1s 10ms/step - loss: 72.2046 - mape: 21.5986 - val_loss: 1410.3762 - val_mape: 29.8920\n",
      "Epoch 29/50\n",
      "132/132 [==============================] - 1s 10ms/step - loss: 70.2621 - mape: 21.2810 - val_loss: 1033.5658 - val_mape: 25.4896\n",
      "Epoch 30/50\n",
      "132/132 [==============================] - 1s 10ms/step - loss: 67.0657 - mape: 21.5215 - val_loss: 1448.1486 - val_mape: 30.1532\n",
      "Epoch 31/50\n",
      "132/132 [==============================] - ETA: 0s - loss: 70.6731 - mape: 20.8674INFO:tensorflow:Assets written to: ./models\\32.84_31men_5_lstm_3_dense_3_unit_8\\assets\n"
     ]
    },
    {
     "name": "stderr",
     "output_type": "stream",
     "text": [
      "INFO:tensorflow:Assets written to: ./models\\32.84_31men_5_lstm_3_dense_3_unit_8\\assets\n"
     ]
    },
    {
     "name": "stdout",
     "output_type": "stream",
     "text": [
      "132/132 [==============================] - 7s 57ms/step - loss: 70.6731 - mape: 20.8674 - val_loss: 1705.8754 - val_mape: 32.8380\n",
      "Epoch 32/50\n",
      "132/132 [==============================] - 1s 10ms/step - loss: 70.7083 - mape: 21.2660 - val_loss: 1348.5906 - val_mape: 29.1187\n",
      "Epoch 33/50\n",
      "132/132 [==============================] - 2s 13ms/step - loss: 63.5859 - mape: 20.6950 - val_loss: 1335.6067 - val_mape: 29.1881\n",
      "Epoch 34/50\n",
      "132/132 [==============================] - 2s 12ms/step - loss: 67.7154 - mape: 20.9459 - val_loss: 1006.5649 - val_mape: 24.7314\n",
      "Epoch 35/50\n",
      "130/132 [============================>.] - ETA: 0s - loss: 69.1719 - mape: 21.4355INFO:tensorflow:Assets written to: ./models\\34.72_35men_5_lstm_3_dense_3_unit_8\\assets\n"
     ]
    },
    {
     "name": "stderr",
     "output_type": "stream",
     "text": [
      "INFO:tensorflow:Assets written to: ./models\\34.72_35men_5_lstm_3_dense_3_unit_8\\assets\n"
     ]
    },
    {
     "name": "stdout",
     "output_type": "stream",
     "text": [
      "132/132 [==============================] - 7s 50ms/step - loss: 68.7588 - mape: 21.3599 - val_loss: 1865.8204 - val_mape: 34.7244\n",
      "Epoch 36/50\n",
      "132/132 [==============================] - 1s 11ms/step - loss: 69.5761 - mape: 20.5869 - val_loss: 1581.4349 - val_mape: 31.4481\n",
      "Epoch 37/50\n",
      "132/132 [==============================] - 1s 10ms/step - loss: 63.8902 - mape: 20.5043 - val_loss: 1259.9281 - val_mape: 27.9748\n",
      "Epoch 38/50\n",
      "132/132 [==============================] - 1s 10ms/step - loss: 67.2816 - mape: 20.5702 - val_loss: 1564.4143 - val_mape: 31.3121\n",
      "Epoch 39/50\n",
      "132/132 [==============================] - 1s 10ms/step - loss: 56.8101 - mape: 20.3455 - val_loss: 1625.6584 - val_mape: 31.9645\n",
      "Epoch 40/50\n",
      "132/132 [==============================] - 1s 10ms/step - loss: 68.0549 - mape: 20.3983 - val_loss: 1723.0203 - val_mape: 32.7362\n",
      "Epoch 41/50\n",
      "132/132 [==============================] - 1s 10ms/step - loss: 62.6390 - mape: 19.5491 - val_loss: 1482.8297 - val_mape: 30.0936\n",
      "Epoch 42/50\n",
      "132/132 [==============================] - 1s 10ms/step - loss: 64.5158 - mape: 19.7897 - val_loss: 1763.2300 - val_mape: 33.2348\n",
      "Epoch 43/50\n",
      "132/132 [==============================] - 1s 10ms/step - loss: 64.2049 - mape: 19.9129 - val_loss: 1760.9268 - val_mape: 33.0253\n",
      "Epoch 44/50\n",
      "132/132 [==============================] - 1s 10ms/step - loss: 62.3611 - mape: 20.1275 - val_loss: 1823.6246 - val_mape: 33.7376\n",
      "Epoch 45/50\n",
      "132/132 [==============================] - 1s 10ms/step - loss: 60.7593 - mape: 19.7227 - val_loss: 1905.7540 - val_mape: 34.5805\n",
      "Epoch 46/50\n",
      "132/132 [==============================] - 1s 10ms/step - loss: 64.8305 - mape: 19.7709 - val_loss: 1301.1691 - val_mape: 27.9326\n",
      "Epoch 47/50\n",
      "132/132 [==============================] - 1s 10ms/step - loss: 65.9652 - mape: 19.7794 - val_loss: 1606.0653 - val_mape: 31.6691\n",
      "Epoch 48/50\n",
      "132/132 [==============================] - 1s 10ms/step - loss: 65.4085 - mape: 19.9297 - val_loss: 1312.2046 - val_mape: 28.4631\n",
      "Epoch 49/50\n",
      "129/132 [============================>.] - ETA: 0s - loss: 59.7992 - mape: 19.8970INFO:tensorflow:Assets written to: ./models\\39.49_49men_5_lstm_3_dense_3_unit_8\\assets\n"
     ]
    },
    {
     "name": "stderr",
     "output_type": "stream",
     "text": [
      "INFO:tensorflow:Assets written to: ./models\\39.49_49men_5_lstm_3_dense_3_unit_8\\assets\n"
     ]
    },
    {
     "name": "stdout",
     "output_type": "stream",
     "text": [
      "132/132 [==============================] - 6s 46ms/step - loss: 60.0124 - mape: 19.9142 - val_loss: 2440.0483 - val_mape: 39.4909\n",
      "Epoch 50/50\n",
      "132/132 [==============================] - 1s 10ms/step - loss: 63.4486 - mape: 20.0248 - val_loss: 1661.2610 - val_mape: 32.5583\n",
      "Epoch 1/50\n",
      "132/132 [==============================] - ETA: 0s - loss: 906.9942 - mape: 80.9448INFO:tensorflow:Assets written to: ./models\\12.47_01men_5_lstm_3_dense_3_unit_16\\assets\n"
     ]
    },
    {
     "name": "stderr",
     "output_type": "stream",
     "text": [
      "INFO:tensorflow:Assets written to: ./models\\12.47_01men_5_lstm_3_dense_3_unit_16\\assets\n"
     ]
    },
    {
     "name": "stdout",
     "output_type": "stream",
     "text": [
      "132/132 [==============================] - 14s 65ms/step - loss: 906.9942 - mape: 80.9448 - val_loss: 269.2189 - val_mape: 12.4729\n",
      "Epoch 2/50\n",
      "132/132 [==============================] - 2s 11ms/step - loss: 160.5473 - mape: 34.4599 - val_loss: 91.9035 - val_mape: 6.3961\n",
      "Epoch 3/50\n",
      "132/132 [==============================] - 2s 11ms/step - loss: 133.1741 - mape: 28.8881 - val_loss: 67.3958 - val_mape: 5.6854\n",
      "Epoch 4/50\n",
      "132/132 [==============================] - 1s 11ms/step - loss: 123.2081 - mape: 27.3160 - val_loss: 174.7551 - val_mape: 9.7806\n",
      "Epoch 5/50\n",
      "131/132 [============================>.] - ETA: 0s - loss: 109.8208 - mape: 25.2848INFO:tensorflow:Assets written to: ./models\\17.97_05men_5_lstm_3_dense_3_unit_16\\assets\n"
     ]
    },
    {
     "name": "stderr",
     "output_type": "stream",
     "text": [
      "INFO:tensorflow:Assets written to: ./models\\17.97_05men_5_lstm_3_dense_3_unit_16\\assets\n"
     ]
    },
    {
     "name": "stdout",
     "output_type": "stream",
     "text": [
      "132/132 [==============================] - 6s 48ms/step - loss: 109.6859 - mape: 25.2755 - val_loss: 514.9044 - val_mape: 17.9717\n",
      "Epoch 6/50\n",
      "132/132 [==============================] - 2s 12ms/step - loss: 88.4816 - mape: 23.5596 - val_loss: 335.7352 - val_mape: 14.1159\n",
      "Epoch 7/50\n",
      "131/132 [============================>.] - ETA: 0s - loss: 77.6467 - mape: 21.4371INFO:tensorflow:Assets written to: ./models\\21.35_07men_5_lstm_3_dense_3_unit_16\\assets\n"
     ]
    },
    {
     "name": "stderr",
     "output_type": "stream",
     "text": [
      "INFO:tensorflow:Assets written to: ./models\\21.35_07men_5_lstm_3_dense_3_unit_16\\assets\n"
     ]
    },
    {
     "name": "stdout",
     "output_type": "stream",
     "text": [
      "132/132 [==============================] - 6s 48ms/step - loss: 77.5189 - mape: 21.4125 - val_loss: 732.1819 - val_mape: 21.3534\n",
      "Epoch 8/50\n",
      "131/132 [============================>.] - ETA: 0s - loss: 71.9940 - mape: 20.2981INFO:tensorflow:Assets written to: ./models\\28.23_08men_5_lstm_3_dense_3_unit_16\\assets\n"
     ]
    },
    {
     "name": "stderr",
     "output_type": "stream",
     "text": [
      "INFO:tensorflow:Assets written to: ./models\\28.23_08men_5_lstm_3_dense_3_unit_16\\assets\n"
     ]
    },
    {
     "name": "stdout",
     "output_type": "stream",
     "text": [
      "132/132 [==============================] - 6s 46ms/step - loss: 71.8443 - mape: 20.2763 - val_loss: 1247.1801 - val_mape: 28.2296\n",
      "Epoch 9/50\n",
      "132/132 [==============================] - 1s 11ms/step - loss: 61.7711 - mape: 19.0479 - val_loss: 1163.9305 - val_mape: 27.1490\n",
      "Epoch 10/50\n",
      "132/132 [==============================] - 1s 11ms/step - loss: 55.1465 - mape: 17.8611 - val_loss: 964.3378 - val_mape: 24.7226\n",
      "Epoch 11/50\n",
      "132/132 [==============================] - 1s 11ms/step - loss: 55.0224 - mape: 17.3974 - val_loss: 838.0331 - val_mape: 23.4261\n",
      "Epoch 12/50\n",
      "132/132 [==============================] - 1s 11ms/step - loss: 57.6248 - mape: 18.3619 - val_loss: 664.8624 - val_mape: 20.3435\n",
      "Epoch 13/50\n",
      "132/132 [==============================] - 1s 11ms/step - loss: 51.8485 - mape: 17.2756 - val_loss: 974.6087 - val_mape: 24.8392\n",
      "Epoch 14/50\n",
      "132/132 [==============================] - ETA: 0s - loss: 49.1302 - mape: 17.2428INFO:tensorflow:Assets written to: ./models\\29.25_14men_5_lstm_3_dense_3_unit_16\\assets\n"
     ]
    },
    {
     "name": "stderr",
     "output_type": "stream",
     "text": [
      "INFO:tensorflow:Assets written to: ./models\\29.25_14men_5_lstm_3_dense_3_unit_16\\assets\n"
     ]
    },
    {
     "name": "stdout",
     "output_type": "stream",
     "text": [
      "132/132 [==============================] - 8s 59ms/step - loss: 49.1302 - mape: 17.2428 - val_loss: 1340.4700 - val_mape: 29.2507\n",
      "Epoch 15/50\n",
      "132/132 [==============================] - 1s 11ms/step - loss: 48.3062 - mape: 16.5393 - val_loss: 599.7089 - val_mape: 19.1558\n",
      "Epoch 16/50\n",
      "132/132 [==============================] - 1s 11ms/step - loss: 49.3418 - mape: 16.8521 - val_loss: 712.4221 - val_mape: 20.6076\n",
      "Epoch 17/50\n",
      "132/132 [==============================] - 1s 11ms/step - loss: 46.3299 - mape: 15.8489 - val_loss: 1231.3748 - val_mape: 27.9507\n",
      "Epoch 18/50\n",
      "132/132 [==============================] - 1s 11ms/step - loss: 42.7652 - mape: 16.8439 - val_loss: 1222.6508 - val_mape: 27.5778\n",
      "Epoch 19/50\n",
      "131/132 [============================>.] - ETA: 0s - loss: 43.7782 - mape: 16.0793INFO:tensorflow:Assets written to: ./models\\35.29_19men_5_lstm_3_dense_3_unit_16\\assets\n"
     ]
    },
    {
     "name": "stderr",
     "output_type": "stream",
     "text": [
      "INFO:tensorflow:Assets written to: ./models\\35.29_19men_5_lstm_3_dense_3_unit_16\\assets\n"
     ]
    },
    {
     "name": "stdout",
     "output_type": "stream",
     "text": [
      "132/132 [==============================] - 6s 49ms/step - loss: 43.6934 - mape: 16.0716 - val_loss: 1968.0488 - val_mape: 35.2888\n",
      "Epoch 20/50\n",
      "132/132 [==============================] - 1s 11ms/step - loss: 45.2620 - mape: 16.1865 - val_loss: 1456.5570 - val_mape: 30.3113\n",
      "Epoch 21/50\n",
      "132/132 [==============================] - 1s 11ms/step - loss: 44.7375 - mape: 16.2303 - val_loss: 1075.7247 - val_mape: 25.6898\n",
      "Epoch 22/50\n",
      "132/132 [==============================] - 1s 11ms/step - loss: 49.5266 - mape: 16.7400 - val_loss: 867.7121 - val_mape: 22.6765\n",
      "Epoch 23/50\n",
      "132/132 [==============================] - 1s 11ms/step - loss: 38.8553 - mape: 15.9336 - val_loss: 1407.6023 - val_mape: 29.6174\n",
      "Epoch 24/50\n",
      "132/132 [==============================] - 2s 11ms/step - loss: 40.6086 - mape: 16.0407 - val_loss: 1369.1813 - val_mape: 29.2676\n",
      "Epoch 25/50\n",
      "132/132 [==============================] - 1s 11ms/step - loss: 39.1331 - mape: 15.4602 - val_loss: 1176.6261 - val_mape: 26.8852\n",
      "Epoch 26/50\n",
      "132/132 [==============================] - 1s 11ms/step - loss: 45.1983 - mape: 16.0659 - val_loss: 1389.7885 - val_mape: 29.7751\n",
      "Epoch 27/50\n",
      "132/132 [==============================] - 1s 11ms/step - loss: 39.7813 - mape: 15.7383 - val_loss: 1068.2688 - val_mape: 25.5794\n",
      "Epoch 28/50\n",
      "132/132 [==============================] - 1s 11ms/step - loss: 39.0329 - mape: 15.8896 - val_loss: 1584.4445 - val_mape: 31.5215\n",
      "Epoch 29/50\n",
      "132/132 [==============================] - 1s 11ms/step - loss: 41.3748 - mape: 15.9117 - val_loss: 1539.0581 - val_mape: 30.8591\n",
      "Epoch 30/50\n",
      "132/132 [==============================] - 1s 11ms/step - loss: 41.6478 - mape: 16.4074 - val_loss: 774.1896 - val_mape: 21.9253\n",
      "Epoch 31/50\n",
      "131/132 [============================>.] - ETA: 0s - loss: 43.4008 - mape: 16.3927INFO:tensorflow:Assets written to: ./models\\36.80_31men_5_lstm_3_dense_3_unit_16\\assets\n"
     ]
    },
    {
     "name": "stderr",
     "output_type": "stream",
     "text": [
      "INFO:tensorflow:Assets written to: ./models\\36.80_31men_5_lstm_3_dense_3_unit_16\\assets\n"
     ]
    },
    {
     "name": "stdout",
     "output_type": "stream",
     "text": [
      "132/132 [==============================] - 6s 46ms/step - loss: 43.3059 - mape: 16.3751 - val_loss: 2117.8005 - val_mape: 36.8021\n",
      "Epoch 32/50\n",
      "132/132 [==============================] - 1s 11ms/step - loss: 40.2392 - mape: 16.3485 - val_loss: 924.9882 - val_mape: 23.9555\n",
      "Epoch 33/50\n",
      "132/132 [==============================] - 1s 11ms/step - loss: 38.3847 - mape: 15.8217 - val_loss: 714.0355 - val_mape: 20.5077\n",
      "Epoch 34/50\n",
      "132/132 [==============================] - 1s 11ms/step - loss: 38.9269 - mape: 15.6424 - val_loss: 991.3012 - val_mape: 24.2646\n",
      "Epoch 35/50\n",
      "132/132 [==============================] - 1s 11ms/step - loss: 36.7678 - mape: 15.5407 - val_loss: 1773.0432 - val_mape: 33.0528\n",
      "Epoch 36/50\n",
      "132/132 [==============================] - 1s 11ms/step - loss: 37.7937 - mape: 15.8331 - val_loss: 1044.7413 - val_mape: 25.1668\n",
      "Epoch 37/50\n",
      "132/132 [==============================] - 1s 11ms/step - loss: 32.4643 - mape: 15.0796 - val_loss: 1052.8730 - val_mape: 25.2392\n",
      "Epoch 38/50\n",
      "132/132 [==============================] - 1s 11ms/step - loss: 38.2146 - mape: 14.9983 - val_loss: 1232.1576 - val_mape: 27.3005\n",
      "Epoch 39/50\n",
      "132/132 [==============================] - 1s 11ms/step - loss: 35.3099 - mape: 14.1922 - val_loss: 1450.0714 - val_mape: 29.9338\n",
      "Epoch 40/50\n",
      "132/132 [==============================] - 1s 11ms/step - loss: 34.8287 - mape: 13.6468 - val_loss: 1398.3259 - val_mape: 29.7520\n",
      "Epoch 41/50\n",
      "132/132 [==============================] - 1s 11ms/step - loss: 34.4291 - mape: 13.4505 - val_loss: 1820.8752 - val_mape: 34.2737\n",
      "Epoch 42/50\n",
      "132/132 [==============================] - 1s 11ms/step - loss: 34.3016 - mape: 13.0931 - val_loss: 1358.4888 - val_mape: 28.4624\n",
      "Epoch 43/50\n",
      "132/132 [==============================] - 1s 11ms/step - loss: 37.9418 - mape: 13.5367 - val_loss: 2065.7092 - val_mape: 35.7819\n",
      "Epoch 44/50\n",
      "132/132 [==============================] - 1s 11ms/step - loss: 36.7055 - mape: 13.8994 - val_loss: 1160.7601 - val_mape: 26.7036\n",
      "Epoch 45/50\n",
      "132/132 [==============================] - 1s 11ms/step - loss: 33.0510 - mape: 13.7998 - val_loss: 1837.9193 - val_mape: 34.2239\n",
      "Epoch 46/50\n",
      "132/132 [==============================] - 1s 11ms/step - loss: 31.3456 - mape: 13.3489 - val_loss: 1672.6576 - val_mape: 32.0233\n",
      "Epoch 47/50\n",
      "132/132 [==============================] - 1s 11ms/step - loss: 31.4413 - mape: 13.0605 - val_loss: 1039.5812 - val_mape: 25.0572\n",
      "Epoch 48/50\n",
      "132/132 [==============================] - 1s 11ms/step - loss: 32.1387 - mape: 13.0371 - val_loss: 1367.3627 - val_mape: 28.9867\n",
      "Epoch 49/50\n",
      "132/132 [==============================] - 1s 11ms/step - loss: 33.0121 - mape: 12.9898 - val_loss: 1420.9092 - val_mape: 29.8489\n",
      "Epoch 50/50\n",
      "132/132 [==============================] - 1s 11ms/step - loss: 34.4877 - mape: 13.1568 - val_loss: 1669.0840 - val_mape: 32.6388\n",
      "Epoch 1/50\n",
      "129/132 [============================>.] - ETA: 0s - loss: 576.9857 - mape: 58.8141INFO:tensorflow:Assets written to: ./models\\12.77_01men_5_lstm_3_dense_3_unit_32\\assets\n"
     ]
    },
    {
     "name": "stderr",
     "output_type": "stream",
     "text": [
      "INFO:tensorflow:Assets written to: ./models\\12.77_01men_5_lstm_3_dense_3_unit_32\\assets\n"
     ]
    },
    {
     "name": "stdout",
     "output_type": "stream",
     "text": [
      "132/132 [==============================] - 13s 65ms/step - loss: 568.2118 - mape: 58.2479 - val_loss: 448.1062 - val_mape: 12.7678\n",
      "Epoch 2/50\n",
      "132/132 [==============================] - 2s 13ms/step - loss: 88.5491 - mape: 26.0872 - val_loss: 118.4240 - val_mape: 7.8022\n",
      "Epoch 3/50\n",
      "132/132 [==============================] - 2s 13ms/step - loss: 64.2634 - mape: 22.2098 - val_loss: 55.7259 - val_mape: 5.2308\n",
      "Epoch 4/50\n",
      "132/132 [==============================] - 2s 13ms/step - loss: 55.7149 - mape: 20.5989 - val_loss: 72.4349 - val_mape: 6.0376\n",
      "Epoch 5/50\n",
      "130/132 [============================>.] - ETA: 0s - loss: 49.4043 - mape: 18.9886INFO:tensorflow:Assets written to: ./models\\13.56_05men_5_lstm_3_dense_3_unit_32\\assets\n"
     ]
    },
    {
     "name": "stderr",
     "output_type": "stream",
     "text": [
      "INFO:tensorflow:Assets written to: ./models\\13.56_05men_5_lstm_3_dense_3_unit_32\\assets\n"
     ]
    },
    {
     "name": "stdout",
     "output_type": "stream",
     "text": [
      "132/132 [==============================] - 7s 50ms/step - loss: 49.3420 - mape: 18.9715 - val_loss: 309.7750 - val_mape: 13.5647\n",
      "Epoch 6/50\n",
      "132/132 [==============================] - 2s 13ms/step - loss: 43.1467 - mape: 16.9776 - val_loss: 172.8319 - val_mape: 9.4407\n",
      "Epoch 7/50\n",
      "130/132 [============================>.] - ETA: 0s - loss: 41.2940 - mape: 16.6156INFO:tensorflow:Assets written to: ./models\\16.28_07men_5_lstm_3_dense_3_unit_32\\assets\n"
     ]
    },
    {
     "name": "stderr",
     "output_type": "stream",
     "text": [
      "INFO:tensorflow:Assets written to: ./models\\16.28_07men_5_lstm_3_dense_3_unit_32\\assets\n"
     ]
    },
    {
     "name": "stdout",
     "output_type": "stream",
     "text": [
      "132/132 [==============================] - 7s 50ms/step - loss: 41.9834 - mape: 16.6931 - val_loss: 431.3820 - val_mape: 16.2811\n",
      "Epoch 8/50\n",
      "132/132 [==============================] - ETA: 0s - loss: 40.5272 - mape: 15.7737INFO:tensorflow:Assets written to: ./models\\19.66_08men_5_lstm_3_dense_3_unit_32\\assets\n"
     ]
    },
    {
     "name": "stderr",
     "output_type": "stream",
     "text": [
      "INFO:tensorflow:Assets written to: ./models\\19.66_08men_5_lstm_3_dense_3_unit_32\\assets\n"
     ]
    },
    {
     "name": "stdout",
     "output_type": "stream",
     "text": [
      "132/132 [==============================] - 7s 50ms/step - loss: 40.5272 - mape: 15.7737 - val_loss: 628.9833 - val_mape: 19.6551\n",
      "Epoch 9/50\n",
      "131/132 [============================>.] - ETA: 0s - loss: 36.0802 - mape: 15.5010INFO:tensorflow:Assets written to: ./models\\24.87_09men_5_lstm_3_dense_3_unit_32\\assets\n"
     ]
    },
    {
     "name": "stderr",
     "output_type": "stream",
     "text": [
      "INFO:tensorflow:Assets written to: ./models\\24.87_09men_5_lstm_3_dense_3_unit_32\\assets\n"
     ]
    },
    {
     "name": "stdout",
     "output_type": "stream",
     "text": [
      "132/132 [==============================] - 8s 64ms/step - loss: 36.0393 - mape: 15.5054 - val_loss: 999.6785 - val_mape: 24.8681\n",
      "Epoch 10/50\n",
      "132/132 [==============================] - 2s 15ms/step - loss: 41.9289 - mape: 15.3663 - val_loss: 476.1024 - val_mape: 16.6340\n",
      "Epoch 11/50\n",
      "132/132 [==============================] - 2s 15ms/step - loss: 37.4340 - mape: 15.1972 - val_loss: 466.6949 - val_mape: 16.6109\n",
      "Epoch 12/50\n",
      "132/132 [==============================] - 2s 15ms/step - loss: 30.6407 - mape: 13.2165 - val_loss: 294.7758 - val_mape: 12.9318\n",
      "Epoch 13/50\n",
      "132/132 [==============================] - 2s 15ms/step - loss: 34.7903 - mape: 13.9229 - val_loss: 154.6876 - val_mape: 8.7697\n",
      "Epoch 14/50\n",
      "132/132 [==============================] - 2s 13ms/step - loss: 34.2691 - mape: 13.5828 - val_loss: 462.2489 - val_mape: 16.6983\n",
      "Epoch 15/50\n",
      "132/132 [==============================] - 2s 16ms/step - loss: 29.9093 - mape: 13.1315 - val_loss: 691.9513 - val_mape: 21.1014\n",
      "Epoch 16/50\n",
      "132/132 [==============================] - 2s 14ms/step - loss: 29.3817 - mape: 12.9763 - val_loss: 924.1953 - val_mape: 23.6849\n",
      "Epoch 17/50\n",
      "132/132 [==============================] - 2s 13ms/step - loss: 29.1928 - mape: 13.0883 - val_loss: 643.7978 - val_mape: 19.7528\n",
      "Epoch 18/50\n",
      "132/132 [==============================] - 2s 13ms/step - loss: 33.0086 - mape: 13.2989 - val_loss: 651.1193 - val_mape: 19.2851\n",
      "Epoch 19/50\n",
      "132/132 [==============================] - 2s 13ms/step - loss: 29.7568 - mape: 12.5960 - val_loss: 659.5473 - val_mape: 19.3707\n",
      "Epoch 20/50\n",
      "132/132 [==============================] - 2s 13ms/step - loss: 26.2004 - mape: 12.2109 - val_loss: 587.3632 - val_mape: 18.4972\n",
      "Epoch 21/50\n",
      "131/132 [============================>.] - ETA: 0s - loss: 30.7297 - mape: 12.9712INFO:tensorflow:Assets written to: ./models\\26.55_21men_5_lstm_3_dense_3_unit_32\\assets\n"
     ]
    },
    {
     "name": "stderr",
     "output_type": "stream",
     "text": [
      "INFO:tensorflow:Assets written to: ./models\\26.55_21men_5_lstm_3_dense_3_unit_32\\assets\n"
     ]
    },
    {
     "name": "stdout",
     "output_type": "stream",
     "text": [
      "132/132 [==============================] - 6s 48ms/step - loss: 30.6801 - mape: 12.9622 - val_loss: 1148.8644 - val_mape: 26.5509\n",
      "Epoch 22/50\n",
      "132/132 [==============================] - 2s 13ms/step - loss: 29.4344 - mape: 13.0300 - val_loss: 728.3312 - val_mape: 21.1243\n",
      "Epoch 23/50\n",
      "132/132 [==============================] - 2s 13ms/step - loss: 27.0778 - mape: 12.1877 - val_loss: 768.5083 - val_mape: 21.4597\n",
      "Epoch 24/50\n",
      "132/132 [==============================] - 2s 14ms/step - loss: 27.4829 - mape: 12.9268 - val_loss: 996.5937 - val_mape: 24.2937\n",
      "Epoch 25/50\n",
      "132/132 [==============================] - 2s 13ms/step - loss: 25.3106 - mape: 12.2023 - val_loss: 604.5035 - val_mape: 19.3031\n",
      "Epoch 26/50\n",
      "132/132 [==============================] - 2s 13ms/step - loss: 26.3100 - mape: 11.5494 - val_loss: 649.5625 - val_mape: 19.8759\n",
      "Epoch 27/50\n",
      "132/132 [==============================] - 2s 15ms/step - loss: 28.2049 - mape: 12.0583 - val_loss: 892.5969 - val_mape: 22.7470\n",
      "Epoch 28/50\n",
      "132/132 [==============================] - 2s 14ms/step - loss: 26.4621 - mape: 11.9044 - val_loss: 768.3119 - val_mape: 21.6350\n",
      "Epoch 29/50\n",
      "132/132 [==============================] - 2s 14ms/step - loss: 23.0259 - mape: 11.5859 - val_loss: 1103.5295 - val_mape: 25.6285\n",
      "Epoch 30/50\n",
      "131/132 [============================>.] - ETA: 0s - loss: 28.2594 - mape: 11.8576INFO:tensorflow:Assets written to: ./models\\27.19_30men_5_lstm_3_dense_3_unit_32\\assets\n"
     ]
    },
    {
     "name": "stderr",
     "output_type": "stream",
     "text": [
      "INFO:tensorflow:Assets written to: ./models\\27.19_30men_5_lstm_3_dense_3_unit_32\\assets\n"
     ]
    },
    {
     "name": "stdout",
     "output_type": "stream",
     "text": [
      "132/132 [==============================] - 7s 51ms/step - loss: 28.2164 - mape: 11.8507 - val_loss: 1213.9679 - val_mape: 27.1927\n",
      "Epoch 31/50\n",
      "132/132 [==============================] - 2s 13ms/step - loss: 22.8383 - mape: 11.8682 - val_loss: 682.5684 - val_mape: 19.9317\n",
      "Epoch 32/50\n",
      "132/132 [==============================] - 2s 13ms/step - loss: 23.2034 - mape: 11.7595 - val_loss: 587.6921 - val_mape: 18.6733\n",
      "Epoch 33/50\n",
      "132/132 [==============================] - 2s 13ms/step - loss: 29.2768 - mape: 12.3412 - val_loss: 1113.5101 - val_mape: 26.1160\n",
      "Epoch 34/50\n",
      "132/132 [==============================] - 2s 13ms/step - loss: 23.7539 - mape: 11.3312 - val_loss: 1336.2524 - val_mape: 26.7571\n",
      "Epoch 35/50\n",
      "129/132 [============================>.] - ETA: 0s - loss: 25.9582 - mape: 12.1519INFO:tensorflow:Assets written to: ./models\\27.98_35men_5_lstm_3_dense_3_unit_32\\assets\n"
     ]
    },
    {
     "name": "stderr",
     "output_type": "stream",
     "text": [
      "INFO:tensorflow:Assets written to: ./models\\27.98_35men_5_lstm_3_dense_3_unit_32\\assets\n"
     ]
    },
    {
     "name": "stdout",
     "output_type": "stream",
     "text": [
      "132/132 [==============================] - 6s 48ms/step - loss: 25.7911 - mape: 12.1610 - val_loss: 1291.5690 - val_mape: 27.9811\n",
      "Epoch 36/50\n",
      "132/132 [==============================] - 2s 13ms/step - loss: 24.5633 - mape: 11.3187 - val_loss: 773.2565 - val_mape: 21.4098\n",
      "Epoch 37/50\n",
      "132/132 [==============================] - 2s 13ms/step - loss: 23.3499 - mape: 11.4610 - val_loss: 789.4946 - val_mape: 21.1341\n",
      "Epoch 38/50\n",
      "132/132 [==============================] - 2s 13ms/step - loss: 21.8748 - mape: 11.0285 - val_loss: 893.1165 - val_mape: 23.4123\n",
      "Epoch 39/50\n",
      "132/132 [==============================] - 2s 13ms/step - loss: 22.9001 - mape: 11.2638 - val_loss: 840.2491 - val_mape: 22.3046\n",
      "Epoch 40/50\n",
      "132/132 [==============================] - 2s 14ms/step - loss: 20.7405 - mape: 11.0205 - val_loss: 1181.7714 - val_mape: 26.9173\n",
      "Epoch 41/50\n",
      "132/132 [==============================] - 2s 14ms/step - loss: 21.9096 - mape: 10.9700 - val_loss: 817.6812 - val_mape: 21.4301\n",
      "Epoch 42/50\n",
      "130/132 [============================>.] - ETA: 0s - loss: 21.5678 - mape: 11.1295INFO:tensorflow:Assets written to: ./models\\29.65_42men_5_lstm_3_dense_3_unit_32\\assets\n"
     ]
    },
    {
     "name": "stderr",
     "output_type": "stream",
     "text": [
      "INFO:tensorflow:Assets written to: ./models\\29.65_42men_5_lstm_3_dense_3_unit_32\\assets\n"
     ]
    },
    {
     "name": "stdout",
     "output_type": "stream",
     "text": [
      "132/132 [==============================] - 7s 50ms/step - loss: 21.7359 - mape: 11.1429 - val_loss: 1589.2227 - val_mape: 29.6460\n",
      "Epoch 43/50\n",
      "132/132 [==============================] - 2s 13ms/step - loss: 21.1989 - mape: 10.9114 - val_loss: 395.8536 - val_mape: 14.5647\n",
      "Epoch 44/50\n",
      "132/132 [==============================] - 2s 14ms/step - loss: 26.8285 - mape: 11.8441 - val_loss: 1010.5173 - val_mape: 23.2966\n",
      "Epoch 45/50\n",
      "132/132 [==============================] - 2s 14ms/step - loss: 21.3335 - mape: 10.8376 - val_loss: 1012.3604 - val_mape: 24.3172\n",
      "Epoch 46/50\n",
      "132/132 [==============================] - 2s 13ms/step - loss: 22.8761 - mape: 11.3722 - val_loss: 1068.6323 - val_mape: 24.3893\n",
      "Epoch 47/50\n",
      "128/132 [============================>.] - ETA: 0s - loss: 19.5861 - mape: 10.7079INFO:tensorflow:Assets written to: ./models\\29.88_47men_5_lstm_3_dense_3_unit_32\\assets\n"
     ]
    },
    {
     "name": "stderr",
     "output_type": "stream",
     "text": [
      "INFO:tensorflow:Assets written to: ./models\\29.88_47men_5_lstm_3_dense_3_unit_32\\assets\n"
     ]
    },
    {
     "name": "stdout",
     "output_type": "stream",
     "text": [
      "132/132 [==============================] - 8s 64ms/step - loss: 19.5049 - mape: 10.7090 - val_loss: 1499.7308 - val_mape: 29.8812\n",
      "Epoch 48/50\n",
      "132/132 [==============================] - 2s 13ms/step - loss: 21.5034 - mape: 10.9583 - val_loss: 579.1364 - val_mape: 17.3855\n",
      "Epoch 49/50\n",
      "132/132 [==============================] - 2s 13ms/step - loss: 23.4003 - mape: 10.8995 - val_loss: 1418.3145 - val_mape: 29.1074\n",
      "Epoch 50/50\n",
      "132/132 [==============================] - 2s 13ms/step - loss: 22.3311 - mape: 10.9838 - val_loss: 768.0685 - val_mape: 20.7637\n",
      "Epoch 1/50\n",
      "123/131 [===========================>..] - ETA: 0s - loss: 890.5809 - mape: 69.3899INFO:tensorflow:Assets written to: ./models\\27.30_01men_10_lstm_1_dense_1_unit_8\\assets\n"
     ]
    },
    {
     "name": "stderr",
     "output_type": "stream",
     "text": [
      "INFO:tensorflow:Assets written to: ./models\\27.30_01men_10_lstm_1_dense_1_unit_8\\assets\n"
     ]
    },
    {
     "name": "stdout",
     "output_type": "stream",
     "text": [
      "131/131 [==============================] - 7s 30ms/step - loss: 849.3625 - mape: 67.3270 - val_loss: 1559.8018 - val_mape: 27.3032\n",
      "Epoch 2/50\n",
      "131/131 [==============================] - 1s 7ms/step - loss: 129.9603 - mape: 29.2480 - val_loss: 1058.0698 - val_mape: 21.5745\n",
      "Epoch 3/50\n",
      "131/131 [==============================] - 1s 7ms/step - loss: 111.4828 - mape: 25.1935 - val_loss: 708.9173 - val_mape: 17.4824\n",
      "Epoch 4/50\n",
      "131/131 [==============================] - 1s 7ms/step - loss: 96.5754 - mape: 24.0926 - val_loss: 348.3912 - val_mape: 11.9950\n",
      "Epoch 5/50\n",
      "131/131 [==============================] - 1s 6ms/step - loss: 85.9856 - mape: 23.0648 - val_loss: 350.6486 - val_mape: 12.3432\n",
      "Epoch 6/50\n",
      "131/131 [==============================] - 1s 6ms/step - loss: 84.3833 - mape: 22.9737 - val_loss: 400.1270 - val_mape: 13.5119\n",
      "Epoch 7/50\n",
      "131/131 [==============================] - 1s 6ms/step - loss: 80.3839 - mape: 22.2360 - val_loss: 552.7938 - val_mape: 16.6795\n",
      "Epoch 8/50\n",
      "131/131 [==============================] - 1s 7ms/step - loss: 82.4298 - mape: 22.1109 - val_loss: 393.7925 - val_mape: 13.5598\n",
      "Epoch 9/50\n",
      "131/131 [==============================] - 1s 7ms/step - loss: 82.3637 - mape: 20.9064 - val_loss: 163.1182 - val_mape: 8.7007\n",
      "Epoch 10/50\n",
      "131/131 [==============================] - 1s 7ms/step - loss: 78.1672 - mape: 20.9153 - val_loss: 580.1720 - val_mape: 17.5023\n",
      "Epoch 11/50\n",
      "131/131 [==============================] - 1s 6ms/step - loss: 72.0680 - mape: 19.4274 - val_loss: 356.5086 - val_mape: 13.0567\n",
      "Epoch 12/50\n",
      "131/131 [==============================] - 1s 6ms/step - loss: 70.8231 - mape: 19.2091 - val_loss: 515.4899 - val_mape: 16.4282\n",
      "Epoch 13/50\n",
      "131/131 [==============================] - 1s 6ms/step - loss: 72.8499 - mape: 18.9376 - val_loss: 276.0911 - val_mape: 11.1220\n",
      "Epoch 14/50\n",
      "131/131 [==============================] - 1s 7ms/step - loss: 63.0049 - mape: 18.1475 - val_loss: 146.7318 - val_mape: 8.1234\n",
      "Epoch 15/50\n",
      "131/131 [==============================] - 1s 6ms/step - loss: 61.2028 - mape: 17.3454 - val_loss: 184.1244 - val_mape: 9.2387\n",
      "Epoch 16/50\n",
      "131/131 [==============================] - 1s 6ms/step - loss: 63.5330 - mape: 18.0215 - val_loss: 210.9555 - val_mape: 9.8376\n",
      "Epoch 17/50\n",
      "131/131 [==============================] - 1s 6ms/step - loss: 67.1865 - mape: 18.0780 - val_loss: 143.0523 - val_mape: 8.2048\n",
      "Epoch 18/50\n",
      "131/131 [==============================] - 1s 6ms/step - loss: 58.7310 - mape: 17.6903 - val_loss: 108.4492 - val_mape: 7.2656\n",
      "Epoch 19/50\n",
      "131/131 [==============================] - 1s 6ms/step - loss: 62.3831 - mape: 17.5452 - val_loss: 298.0326 - val_mape: 12.1555\n",
      "Epoch 20/50\n",
      "131/131 [==============================] - 1s 7ms/step - loss: 62.3013 - mape: 17.2838 - val_loss: 242.2810 - val_mape: 10.6734\n",
      "Epoch 21/50\n",
      "131/131 [==============================] - 1s 7ms/step - loss: 57.2327 - mape: 17.2171 - val_loss: 436.0305 - val_mape: 14.9017\n",
      "Epoch 22/50\n",
      "131/131 [==============================] - 1s 8ms/step - loss: 59.7722 - mape: 17.2191 - val_loss: 305.3439 - val_mape: 12.3247\n",
      "Epoch 23/50\n",
      "131/131 [==============================] - 1s 8ms/step - loss: 63.0643 - mape: 17.2646 - val_loss: 269.8219 - val_mape: 11.3726\n",
      "Epoch 24/50\n",
      "131/131 [==============================] - 1s 7ms/step - loss: 56.5097 - mape: 16.7953 - val_loss: 281.9569 - val_mape: 11.4582\n",
      "Epoch 25/50\n",
      "131/131 [==============================] - 1s 7ms/step - loss: 62.1891 - mape: 16.8173 - val_loss: 118.6856 - val_mape: 7.5147\n",
      "Epoch 26/50\n",
      "131/131 [==============================] - 1s 6ms/step - loss: 59.2302 - mape: 16.5110 - val_loss: 298.3868 - val_mape: 12.4814\n",
      "Epoch 27/50\n",
      "131/131 [==============================] - 1s 6ms/step - loss: 61.4957 - mape: 16.9931 - val_loss: 354.3049 - val_mape: 13.6559\n",
      "Epoch 28/50\n",
      "131/131 [==============================] - 1s 7ms/step - loss: 53.5433 - mape: 16.3332 - val_loss: 195.0706 - val_mape: 9.6975\n",
      "Epoch 29/50\n",
      "131/131 [==============================] - 1s 7ms/step - loss: 57.6816 - mape: 16.9389 - val_loss: 522.6887 - val_mape: 17.0329\n",
      "Epoch 30/50\n",
      "131/131 [==============================] - 1s 7ms/step - loss: 58.2789 - mape: 16.7110 - val_loss: 159.1345 - val_mape: 8.7975\n",
      "Epoch 31/50\n",
      "131/131 [==============================] - 1s 7ms/step - loss: 57.2081 - mape: 16.0764 - val_loss: 495.5600 - val_mape: 16.6811\n",
      "Epoch 32/50\n",
      "131/131 [==============================] - 1s 7ms/step - loss: 57.5707 - mape: 16.2250 - val_loss: 61.2917 - val_mape: 5.6125\n",
      "Epoch 33/50\n",
      "131/131 [==============================] - 1s 8ms/step - loss: 58.1510 - mape: 16.5198 - val_loss: 57.7500 - val_mape: 5.2913\n",
      "Epoch 34/50\n",
      "131/131 [==============================] - 1s 6ms/step - loss: 55.3338 - mape: 16.2583 - val_loss: 243.7030 - val_mape: 11.3990\n",
      "Epoch 35/50\n",
      "131/131 [==============================] - 1s 6ms/step - loss: 55.0128 - mape: 15.7522 - val_loss: 58.9705 - val_mape: 5.4812\n",
      "Epoch 36/50\n",
      "131/131 [==============================] - 1s 6ms/step - loss: 50.1780 - mape: 15.3549 - val_loss: 110.0705 - val_mape: 7.3457\n",
      "Epoch 37/50\n",
      "131/131 [==============================] - 1s 6ms/step - loss: 49.2897 - mape: 15.0418 - val_loss: 279.5837 - val_mape: 12.3897\n",
      "Epoch 38/50\n",
      "131/131 [==============================] - 1s 7ms/step - loss: 50.4060 - mape: 16.0336 - val_loss: 152.7765 - val_mape: 8.5860\n",
      "Epoch 39/50\n",
      "131/131 [==============================] - 1s 6ms/step - loss: 46.8106 - mape: 14.8233 - val_loss: 81.6653 - val_mape: 6.2894\n",
      "Epoch 40/50\n",
      "131/131 [==============================] - 1s 6ms/step - loss: 45.2815 - mape: 15.0772 - val_loss: 101.7934 - val_mape: 7.0394\n",
      "Epoch 41/50\n",
      "131/131 [==============================] - 1s 6ms/step - loss: 46.3335 - mape: 15.2508 - val_loss: 119.0084 - val_mape: 7.5494\n",
      "Epoch 42/50\n",
      "131/131 [==============================] - 1s 6ms/step - loss: 43.9204 - mape: 14.3753 - val_loss: 122.8173 - val_mape: 7.8156\n",
      "Epoch 43/50\n",
      "131/131 [==============================] - 1s 6ms/step - loss: 41.7968 - mape: 14.2608 - val_loss: 113.8892 - val_mape: 7.4961\n",
      "Epoch 44/50\n",
      "131/131 [==============================] - 1s 6ms/step - loss: 51.6228 - mape: 14.9496 - val_loss: 78.5102 - val_mape: 6.2305\n",
      "Epoch 45/50\n",
      "131/131 [==============================] - 1s 6ms/step - loss: 45.4719 - mape: 14.8816 - val_loss: 117.3510 - val_mape: 7.5381\n",
      "Epoch 46/50\n",
      "131/131 [==============================] - 1s 6ms/step - loss: 49.2680 - mape: 15.3843 - val_loss: 81.3369 - val_mape: 6.3274\n",
      "Epoch 47/50\n",
      "131/131 [==============================] - 1s 6ms/step - loss: 41.8824 - mape: 15.0734 - val_loss: 294.5324 - val_mape: 12.2423\n",
      "Epoch 48/50\n",
      "131/131 [==============================] - 1s 6ms/step - loss: 43.7971 - mape: 14.4458 - val_loss: 249.0264 - val_mape: 11.0852\n",
      "Epoch 49/50\n",
      "131/131 [==============================] - 1s 6ms/step - loss: 46.6420 - mape: 14.3547 - val_loss: 205.3208 - val_mape: 10.2019\n",
      "Epoch 50/50\n",
      "131/131 [==============================] - 1s 6ms/step - loss: 40.1395 - mape: 14.0430 - val_loss: 175.1666 - val_mape: 9.2097\n",
      "Epoch 1/50\n",
      "126/131 [===========================>..] - ETA: 0s - loss: 731.5933 - mape: 72.7016INFO:tensorflow:Assets written to: ./models\\12.33_01men_10_lstm_1_dense_1_unit_16\\assets\n"
     ]
    },
    {
     "name": "stderr",
     "output_type": "stream",
     "text": [
      "INFO:tensorflow:Assets written to: ./models\\12.33_01men_10_lstm_1_dense_1_unit_16\\assets\n"
     ]
    },
    {
     "name": "stdout",
     "output_type": "stream",
     "text": [
      "131/131 [==============================] - 6s 28ms/step - loss: 710.5569 - mape: 71.2302 - val_loss: 266.9934 - val_mape: 12.3303\n",
      "Epoch 2/50\n",
      "131/131 [==============================] - 1s 6ms/step - loss: 107.0510 - mape: 29.1219 - val_loss: 129.4901 - val_mape: 7.4195\n",
      "Epoch 3/50\n",
      "127/131 [============================>.] - ETA: 0s - loss: 84.2264 - mape: 25.7898INFO:tensorflow:Assets written to: ./models\\15.12_03men_10_lstm_1_dense_1_unit_16\\assets\n"
     ]
    },
    {
     "name": "stderr",
     "output_type": "stream",
     "text": [
      "INFO:tensorflow:Assets written to: ./models\\15.12_03men_10_lstm_1_dense_1_unit_16\\assets\n"
     ]
    },
    {
     "name": "stdout",
     "output_type": "stream",
     "text": [
      "131/131 [==============================] - 3s 25ms/step - loss: 83.9268 - mape: 25.7232 - val_loss: 400.7694 - val_mape: 15.1223\n",
      "Epoch 4/50\n",
      "131/131 [==============================] - 1s 6ms/step - loss: 68.2402 - mape: 22.3235 - val_loss: 272.5367 - val_mape: 11.7630\n",
      "Epoch 5/50\n",
      "131/131 [==============================] - 1s 6ms/step - loss: 54.2516 - mape: 20.4340 - val_loss: 155.7443 - val_mape: 8.6517\n",
      "Epoch 6/50\n",
      "131/131 [==============================] - 1s 6ms/step - loss: 48.1872 - mape: 17.9733 - val_loss: 68.3838 - val_mape: 5.7931\n",
      "Epoch 7/50\n",
      "131/131 [==============================] - 1s 6ms/step - loss: 44.6941 - mape: 17.0479 - val_loss: 64.2648 - val_mape: 5.7566\n",
      "Epoch 8/50\n",
      "131/131 [==============================] - 1s 6ms/step - loss: 43.7551 - mape: 16.9081 - val_loss: 72.0434 - val_mape: 6.0248\n",
      "Epoch 9/50\n",
      "131/131 [==============================] - 1s 6ms/step - loss: 39.5745 - mape: 15.7031 - val_loss: 201.3116 - val_mape: 9.8720\n",
      "Epoch 10/50\n",
      "131/131 [==============================] - 1s 6ms/step - loss: 39.8198 - mape: 15.4063 - val_loss: 195.1511 - val_mape: 9.7245\n",
      "Epoch 11/50\n",
      "131/131 [==============================] - 1s 6ms/step - loss: 34.2328 - mape: 14.1989 - val_loss: 337.6205 - val_mape: 13.3964\n",
      "Epoch 12/50\n",
      "131/131 [==============================] - 1s 6ms/step - loss: 34.6911 - mape: 14.4088 - val_loss: 263.4446 - val_mape: 11.5843\n",
      "Epoch 13/50\n",
      "131/131 [==============================] - 1s 6ms/step - loss: 33.0390 - mape: 14.0991 - val_loss: 215.2280 - val_mape: 10.5518\n",
      "Epoch 14/50\n",
      "131/131 [==============================] - 1s 6ms/step - loss: 36.6605 - mape: 14.7433 - val_loss: 345.3790 - val_mape: 13.8906\n",
      "Epoch 15/50\n",
      "131/131 [==============================] - 1s 6ms/step - loss: 31.5870 - mape: 13.9371 - val_loss: 275.7176 - val_mape: 12.2356\n",
      "Epoch 16/50\n",
      "127/131 [============================>.] - ETA: 0s - loss: 31.8188 - mape: 13.2599INFO:tensorflow:Assets written to: ./models\\15.66_16men_10_lstm_1_dense_1_unit_16\\assets\n"
     ]
    },
    {
     "name": "stderr",
     "output_type": "stream",
     "text": [
      "INFO:tensorflow:Assets written to: ./models\\15.66_16men_10_lstm_1_dense_1_unit_16\\assets\n"
     ]
    },
    {
     "name": "stdout",
     "output_type": "stream",
     "text": [
      "131/131 [==============================] - 5s 37ms/step - loss: 31.4754 - mape: 13.2415 - val_loss: 429.9900 - val_mape: 15.6632\n",
      "Epoch 17/50\n",
      "131/131 [==============================] - 1s 6ms/step - loss: 30.5737 - mape: 13.3913 - val_loss: 265.0432 - val_mape: 11.7221\n",
      "Epoch 18/50\n",
      "131/131 [==============================] - 1s 6ms/step - loss: 27.3457 - mape: 12.5580 - val_loss: 128.1001 - val_mape: 7.9496\n",
      "Epoch 19/50\n",
      "131/131 [==============================] - 1s 6ms/step - loss: 34.1459 - mape: 12.9372 - val_loss: 395.0006 - val_mape: 14.9212\n",
      "Epoch 20/50\n",
      "131/131 [==============================] - 1s 6ms/step - loss: 29.7366 - mape: 12.8199 - val_loss: 85.1029 - val_mape: 6.4267\n",
      "Epoch 21/50\n",
      "131/131 [==============================] - 1s 6ms/step - loss: 34.2921 - mape: 13.4004 - val_loss: 118.1900 - val_mape: 7.6026\n",
      "Epoch 22/50\n",
      "131/131 [==============================] - 1s 6ms/step - loss: 27.4149 - mape: 12.3561 - val_loss: 85.7985 - val_mape: 6.5245\n",
      "Epoch 23/50\n",
      "131/131 [==============================] - 1s 7ms/step - loss: 28.4640 - mape: 12.6557 - val_loss: 289.4837 - val_mape: 12.6263\n",
      "Epoch 24/50\n",
      "127/131 [============================>.] - ETA: 0s - loss: 31.2571 - mape: 12.7218INFO:tensorflow:Assets written to: ./models\\17.93_24men_10_lstm_1_dense_1_unit_16\\assets\n"
     ]
    },
    {
     "name": "stderr",
     "output_type": "stream",
     "text": [
      "INFO:tensorflow:Assets written to: ./models\\17.93_24men_10_lstm_1_dense_1_unit_16\\assets\n"
     ]
    },
    {
     "name": "stdout",
     "output_type": "stream",
     "text": [
      "131/131 [==============================] - 4s 29ms/step - loss: 31.1573 - mape: 12.6797 - val_loss: 556.4730 - val_mape: 17.9346\n",
      "Epoch 25/50\n",
      "131/131 [==============================] - 1s 8ms/step - loss: 29.9610 - mape: 12.9431 - val_loss: 88.5123 - val_mape: 6.5426\n",
      "Epoch 26/50\n",
      "131/131 [==============================] - 1s 7ms/step - loss: 30.9912 - mape: 12.6093 - val_loss: 66.9539 - val_mape: 5.7672\n",
      "Epoch 27/50\n",
      "131/131 [==============================] - 1s 8ms/step - loss: 31.9153 - mape: 12.7383 - val_loss: 483.0010 - val_mape: 17.0697\n",
      "Epoch 28/50\n",
      "131/131 [==============================] - 1s 8ms/step - loss: 29.5930 - mape: 12.4681 - val_loss: 114.0066 - val_mape: 7.4210\n",
      "Epoch 29/50\n",
      "131/131 [==============================] - 1s 7ms/step - loss: 30.0955 - mape: 12.3884 - val_loss: 200.2882 - val_mape: 10.1285\n",
      "Epoch 30/50\n",
      "131/131 [==============================] - 1s 7ms/step - loss: 26.5351 - mape: 12.0674 - val_loss: 391.4854 - val_mape: 14.9177\n",
      "Epoch 31/50\n",
      "131/131 [==============================] - 1s 7ms/step - loss: 29.6289 - mape: 11.3939 - val_loss: 253.0005 - val_mape: 11.6957\n",
      "Epoch 32/50\n",
      "131/131 [==============================] - 1s 7ms/step - loss: 31.4223 - mape: 12.2765 - val_loss: 100.3533 - val_mape: 6.9601\n",
      "Epoch 33/50\n",
      "131/131 [==============================] - 1s 7ms/step - loss: 29.4342 - mape: 11.9543 - val_loss: 102.0616 - val_mape: 7.0446\n",
      "Epoch 34/50\n",
      "131/131 [==============================] - 1s 7ms/step - loss: 27.0142 - mape: 11.4806 - val_loss: 136.1726 - val_mape: 8.0796\n",
      "Epoch 35/50\n",
      "131/131 [==============================] - 1s 7ms/step - loss: 30.5136 - mape: 11.8514 - val_loss: 150.9109 - val_mape: 8.5091\n",
      "Epoch 36/50\n",
      "131/131 [==============================] - 1s 7ms/step - loss: 27.8361 - mape: 11.8474 - val_loss: 154.5869 - val_mape: 8.8021\n",
      "Epoch 37/50\n",
      "131/131 [==============================] - 1s 7ms/step - loss: 27.3947 - mape: 11.8870 - val_loss: 120.8747 - val_mape: 7.6424\n",
      "Epoch 38/50\n",
      "131/131 [==============================] - 1s 7ms/step - loss: 28.9165 - mape: 11.4498 - val_loss: 76.8024 - val_mape: 6.1688\n",
      "Epoch 39/50\n",
      "131/131 [==============================] - 1s 7ms/step - loss: 26.7209 - mape: 11.8360 - val_loss: 179.3714 - val_mape: 9.5022\n",
      "Epoch 40/50\n",
      "131/131 [==============================] - 1s 7ms/step - loss: 26.7481 - mape: 11.4964 - val_loss: 283.3736 - val_mape: 12.3951\n",
      "Epoch 41/50\n",
      "131/131 [==============================] - 1s 7ms/step - loss: 27.2100 - mape: 11.6209 - val_loss: 70.3793 - val_mape: 5.9189\n",
      "Epoch 42/50\n",
      "131/131 [==============================] - 1s 7ms/step - loss: 28.2007 - mape: 11.8510 - val_loss: 91.5385 - val_mape: 6.5133\n",
      "Epoch 43/50\n",
      "131/131 [==============================] - 1s 7ms/step - loss: 25.5750 - mape: 11.2029 - val_loss: 302.4871 - val_mape: 12.8780\n",
      "Epoch 44/50\n",
      "131/131 [==============================] - 1s 7ms/step - loss: 26.2322 - mape: 11.6586 - val_loss: 155.9214 - val_mape: 8.7050\n",
      "Epoch 45/50\n",
      "131/131 [==============================] - 1s 7ms/step - loss: 26.5792 - mape: 11.6498 - val_loss: 87.5357 - val_mape: 6.5151\n",
      "Epoch 46/50\n",
      "131/131 [==============================] - 1s 7ms/step - loss: 27.9219 - mape: 11.4714 - val_loss: 68.4970 - val_mape: 5.7245\n",
      "Epoch 47/50\n",
      "131/131 [==============================] - 1s 7ms/step - loss: 27.5639 - mape: 11.2892 - val_loss: 96.6621 - val_mape: 6.8340\n",
      "Epoch 48/50\n",
      "131/131 [==============================] - 1s 8ms/step - loss: 25.8619 - mape: 11.4926 - val_loss: 184.8816 - val_mape: 9.6387\n",
      "Epoch 49/50\n",
      "131/131 [==============================] - 1s 7ms/step - loss: 24.3733 - mape: 11.4497 - val_loss: 440.7646 - val_mape: 15.9395\n",
      "Epoch 50/50\n",
      "131/131 [==============================] - 1s 7ms/step - loss: 29.8662 - mape: 11.5803 - val_loss: 121.3219 - val_mape: 7.6758\n",
      "Epoch 1/50\n",
      "128/131 [============================>.] - ETA: 0s - loss: 452.6057 - mape: 49.7421INFO:tensorflow:Assets written to: ./models\\8.90_01men_10_lstm_1_dense_1_unit_32\\assets\n"
     ]
    },
    {
     "name": "stderr",
     "output_type": "stream",
     "text": [
      "INFO:tensorflow:Assets written to: ./models\\8.90_01men_10_lstm_1_dense_1_unit_32\\assets\n"
     ]
    },
    {
     "name": "stdout",
     "output_type": "stream",
     "text": [
      "131/131 [==============================] - 7s 33ms/step - loss: 445.1353 - mape: 49.2209 - val_loss: 205.3961 - val_mape: 8.9037\n",
      "Epoch 2/50\n",
      "131/131 [==============================] - 1s 8ms/step - loss: 41.5107 - mape: 20.8068 - val_loss: 137.2496 - val_mape: 8.3668\n",
      "Epoch 3/50\n",
      "131/131 [==============================] - 1s 8ms/step - loss: 31.0923 - mape: 17.4356 - val_loss: 176.5143 - val_mape: 8.3056\n",
      "Epoch 4/50\n",
      "131/131 [==============================] - 1s 8ms/step - loss: 27.1815 - mape: 15.1952 - val_loss: 71.7394 - val_mape: 5.9656\n",
      "Epoch 5/50\n",
      "131/131 [==============================] - 1s 8ms/step - loss: 25.7258 - mape: 14.5320 - val_loss: 152.3508 - val_mape: 8.7883\n",
      "Epoch 6/50\n",
      "131/131 [==============================] - 1s 8ms/step - loss: 28.2904 - mape: 13.8954 - val_loss: 68.5471 - val_mape: 5.8259\n",
      "Epoch 7/50\n",
      "131/131 [==============================] - 1s 8ms/step - loss: 25.6260 - mape: 14.4611 - val_loss: 88.0981 - val_mape: 6.2866\n",
      "Epoch 8/50\n",
      "131/131 [==============================] - 1s 8ms/step - loss: 23.5782 - mape: 13.6147 - val_loss: 76.2331 - val_mape: 5.9115\n",
      "Epoch 9/50\n",
      "131/131 [==============================] - 1s 8ms/step - loss: 25.9658 - mape: 13.3713 - val_loss: 138.0531 - val_mape: 8.3577\n",
      "Epoch 10/50\n",
      "131/131 [==============================] - 1s 8ms/step - loss: 27.6768 - mape: 15.4431 - val_loss: 117.3432 - val_mape: 7.6375\n",
      "Epoch 11/50\n",
      "131/131 [==============================] - 1s 8ms/step - loss: 23.6853 - mape: 13.3291 - val_loss: 69.1037 - val_mape: 5.7070\n",
      "Epoch 12/50\n",
      "131/131 [==============================] - 1s 9ms/step - loss: 21.9794 - mape: 12.3505 - val_loss: 101.9671 - val_mape: 7.1013\n",
      "Epoch 13/50\n",
      "131/131 [==============================] - 1s 8ms/step - loss: 24.1294 - mape: 13.0348 - val_loss: 114.3140 - val_mape: 7.5141\n",
      "Epoch 14/50\n",
      "131/131 [==============================] - 1s 8ms/step - loss: 22.3189 - mape: 12.3064 - val_loss: 66.9144 - val_mape: 5.6156\n",
      "Epoch 15/50\n",
      "131/131 [==============================] - 1s 8ms/step - loss: 21.6486 - mape: 12.2878 - val_loss: 63.5596 - val_mape: 5.6296\n",
      "Epoch 16/50\n",
      "128/131 [============================>.] - ETA: 0s - loss: 22.5398 - mape: 12.3501INFO:tensorflow:Assets written to: ./models\\10.76_16men_10_lstm_1_dense_1_unit_32\\assets\n"
     ]
    },
    {
     "name": "stderr",
     "output_type": "stream",
     "text": [
      "INFO:tensorflow:Assets written to: ./models\\10.76_16men_10_lstm_1_dense_1_unit_32\\assets\n"
     ]
    },
    {
     "name": "stdout",
     "output_type": "stream",
     "text": [
      "131/131 [==============================] - 4s 31ms/step - loss: 22.6198 - mape: 12.3518 - val_loss: 225.7454 - val_mape: 10.7573\n",
      "Epoch 17/50\n",
      "131/131 [==============================] - 1s 8ms/step - loss: 21.2356 - mape: 11.9942 - val_loss: 128.3159 - val_mape: 7.8787\n",
      "Epoch 18/50\n",
      "131/131 [==============================] - 1s 8ms/step - loss: 19.9155 - mape: 11.7730 - val_loss: 69.6815 - val_mape: 5.9354\n",
      "Epoch 19/50\n",
      "131/131 [==============================] - 1s 8ms/step - loss: 23.2487 - mape: 12.2297 - val_loss: 62.6771 - val_mape: 5.6410\n",
      "Epoch 20/50\n",
      "127/131 [============================>.] - ETA: 0s - loss: 20.3175 - mape: 11.9963INFO:tensorflow:Assets written to: ./models\\15.43_20men_10_lstm_1_dense_1_unit_32\\assets\n"
     ]
    },
    {
     "name": "stderr",
     "output_type": "stream",
     "text": [
      "INFO:tensorflow:Assets written to: ./models\\15.43_20men_10_lstm_1_dense_1_unit_32\\assets\n"
     ]
    },
    {
     "name": "stdout",
     "output_type": "stream",
     "text": [
      "131/131 [==============================] - 4s 30ms/step - loss: 20.2108 - mape: 11.9861 - val_loss: 421.4394 - val_mape: 15.4307\n",
      "Epoch 21/50\n",
      "131/131 [==============================] - 1s 9ms/step - loss: 21.4548 - mape: 11.7266 - val_loss: 122.0780 - val_mape: 7.7132\n",
      "Epoch 22/50\n",
      "131/131 [==============================] - 1s 8ms/step - loss: 20.0372 - mape: 11.1548 - val_loss: 387.5790 - val_mape: 14.4970\n",
      "Epoch 23/50\n",
      "131/131 [==============================] - 1s 9ms/step - loss: 20.5790 - mape: 12.1162 - val_loss: 55.8219 - val_mape: 5.2448\n",
      "Epoch 24/50\n",
      "131/131 [==============================] - 1s 8ms/step - loss: 19.6703 - mape: 11.7563 - val_loss: 182.1632 - val_mape: 9.4145\n",
      "Epoch 25/50\n",
      "131/131 [==============================] - 1s 8ms/step - loss: 20.0082 - mape: 11.3634 - val_loss: 109.5799 - val_mape: 7.2449\n",
      "Epoch 26/50\n",
      "131/131 [==============================] - 1s 8ms/step - loss: 20.4131 - mape: 11.5274 - val_loss: 181.2845 - val_mape: 9.3971\n",
      "Epoch 27/50\n",
      "127/131 [============================>.] - ETA: 0s - loss: 19.3207 - mape: 11.2267INFO:tensorflow:Assets written to: ./models\\19.97_27men_10_lstm_1_dense_1_unit_32\\assets\n"
     ]
    },
    {
     "name": "stderr",
     "output_type": "stream",
     "text": [
      "INFO:tensorflow:Assets written to: ./models\\19.97_27men_10_lstm_1_dense_1_unit_32\\assets\n"
     ]
    },
    {
     "name": "stdout",
     "output_type": "stream",
     "text": [
      "131/131 [==============================] - 4s 31ms/step - loss: 19.7099 - mape: 11.3493 - val_loss: 663.0536 - val_mape: 19.9704\n",
      "Epoch 28/50\n",
      "131/131 [==============================] - 1s 8ms/step - loss: 21.2631 - mape: 12.1039 - val_loss: 121.5609 - val_mape: 7.6081\n",
      "Epoch 29/50\n",
      "131/131 [==============================] - 1s 8ms/step - loss: 18.9254 - mape: 11.2553 - val_loss: 141.1021 - val_mape: 8.1935\n",
      "Epoch 30/50\n",
      "131/131 [==============================] - 1s 8ms/step - loss: 20.9808 - mape: 11.3478 - val_loss: 141.7641 - val_mape: 8.2549\n",
      "Epoch 31/50\n",
      "131/131 [==============================] - 1s 8ms/step - loss: 19.7448 - mape: 10.8629 - val_loss: 81.2572 - val_mape: 6.3117\n",
      "Epoch 32/50\n",
      "131/131 [==============================] - 1s 8ms/step - loss: 19.6734 - mape: 11.0810 - val_loss: 261.3911 - val_mape: 11.7246\n",
      "Epoch 33/50\n",
      "131/131 [==============================] - 1s 8ms/step - loss: 20.2671 - mape: 10.7338 - val_loss: 150.2831 - val_mape: 8.4780\n",
      "Epoch 34/50\n",
      "131/131 [==============================] - 1s 8ms/step - loss: 18.0892 - mape: 10.6468 - val_loss: 306.2470 - val_mape: 12.5357\n",
      "Epoch 35/50\n",
      "131/131 [==============================] - 1s 8ms/step - loss: 16.7396 - mape: 10.1190 - val_loss: 377.6440 - val_mape: 14.1102\n",
      "Epoch 36/50\n",
      "131/131 [==============================] - 1s 9ms/step - loss: 18.6870 - mape: 11.1149 - val_loss: 275.5485 - val_mape: 11.7354\n",
      "Epoch 37/50\n",
      "131/131 [==============================] - 1s 9ms/step - loss: 19.4931 - mape: 10.4238 - val_loss: 100.3413 - val_mape: 6.9646\n",
      "Epoch 38/50\n",
      "131/131 [==============================] - 1s 8ms/step - loss: 19.4977 - mape: 11.0571 - val_loss: 364.4782 - val_mape: 14.0913\n",
      "Epoch 39/50\n",
      "131/131 [==============================] - 1s 8ms/step - loss: 18.0667 - mape: 10.7599 - val_loss: 157.3515 - val_mape: 8.6789\n",
      "Epoch 40/50\n",
      "131/131 [==============================] - 1s 8ms/step - loss: 17.0498 - mape: 10.7385 - val_loss: 70.3168 - val_mape: 5.9012\n",
      "Epoch 41/50\n",
      "131/131 [==============================] - 1s 8ms/step - loss: 19.6078 - mape: 11.4340 - val_loss: 164.2546 - val_mape: 9.0361\n",
      "Epoch 42/50\n",
      "131/131 [==============================] - 1s 8ms/step - loss: 19.1416 - mape: 10.0596 - val_loss: 156.5756 - val_mape: 8.8741\n",
      "Epoch 43/50\n",
      "131/131 [==============================] - 1s 8ms/step - loss: 17.7323 - mape: 10.2061 - val_loss: 103.0623 - val_mape: 7.0260\n",
      "Epoch 44/50\n",
      "131/131 [==============================] - 1s 8ms/step - loss: 17.3952 - mape: 10.7497 - val_loss: 53.8238 - val_mape: 5.2341\n",
      "Epoch 45/50\n",
      "131/131 [==============================] - 1s 8ms/step - loss: 18.1824 - mape: 9.9235 - val_loss: 163.0614 - val_mape: 8.9750\n",
      "Epoch 46/50\n",
      "131/131 [==============================] - 1s 8ms/step - loss: 16.1980 - mape: 9.9274 - val_loss: 105.4205 - val_mape: 7.1510\n",
      "Epoch 47/50\n",
      "131/131 [==============================] - 1s 8ms/step - loss: 17.0619 - mape: 9.9184 - val_loss: 193.4527 - val_mape: 9.8605\n",
      "Epoch 48/50\n",
      "131/131 [==============================] - 1s 8ms/step - loss: 17.4455 - mape: 10.1181 - val_loss: 137.5319 - val_mape: 8.0882\n",
      "Epoch 49/50\n",
      "131/131 [==============================] - 1s 8ms/step - loss: 18.7899 - mape: 10.8208 - val_loss: 226.6940 - val_mape: 10.7638\n",
      "Epoch 50/50\n",
      "131/131 [==============================] - 1s 8ms/step - loss: 18.6698 - mape: 10.1099 - val_loss: 303.3669 - val_mape: 12.7384\n",
      "Epoch 1/50\n",
      "127/131 [============================>.] - ETA: 0s - loss: 957.3361 - mape: 80.8971 INFO:tensorflow:Assets written to: ./models\\7.85_01men_10_lstm_1_dense_2_unit_8\\assets\n"
     ]
    },
    {
     "name": "stderr",
     "output_type": "stream",
     "text": [
      "INFO:tensorflow:Assets written to: ./models\\7.85_01men_10_lstm_1_dense_2_unit_8\\assets\n"
     ]
    },
    {
     "name": "stdout",
     "output_type": "stream",
     "text": [
      "131/131 [==============================] - 9s 33ms/step - loss: 939.0002 - mape: 79.8969 - val_loss: 142.8489 - val_mape: 7.8495\n",
      "Epoch 2/50\n",
      "130/131 [============================>.] - ETA: 0s - loss: 192.6188 - mape: 34.8058INFO:tensorflow:Assets written to: ./models\\16.33_02men_10_lstm_1_dense_2_unit_8\\assets\n"
     ]
    },
    {
     "name": "stderr",
     "output_type": "stream",
     "text": [
      "INFO:tensorflow:Assets written to: ./models\\16.33_02men_10_lstm_1_dense_2_unit_8\\assets\n"
     ]
    },
    {
     "name": "stdout",
     "output_type": "stream",
     "text": [
      "131/131 [==============================] - 4s 30ms/step - loss: 192.9423 - mape: 34.8436 - val_loss: 486.5900 - val_mape: 16.3261\n",
      "Epoch 3/50\n",
      "131/131 [==============================] - 1s 7ms/step - loss: 157.8351 - mape: 31.2831 - val_loss: 100.8133 - val_mape: 7.3033\n",
      "Epoch 4/50\n",
      "131/131 [==============================] - 1s 7ms/step - loss: 138.6571 - mape: 27.8780 - val_loss: 308.5384 - val_mape: 12.5495\n",
      "Epoch 5/50\n",
      "131/131 [==============================] - 1s 7ms/step - loss: 114.6044 - mape: 25.1666 - val_loss: 273.9024 - val_mape: 11.7538\n",
      "Epoch 6/50\n",
      "129/131 [============================>.] - ETA: 0s - loss: 110.3085 - mape: 23.4944INFO:tensorflow:Assets written to: ./models\\18.08_06men_10_lstm_1_dense_2_unit_8\\assets\n"
     ]
    },
    {
     "name": "stderr",
     "output_type": "stream",
     "text": [
      "INFO:tensorflow:Assets written to: ./models\\18.08_06men_10_lstm_1_dense_2_unit_8\\assets\n"
     ]
    },
    {
     "name": "stdout",
     "output_type": "stream",
     "text": [
      "131/131 [==============================] - 4s 30ms/step - loss: 109.7038 - mape: 23.5116 - val_loss: 577.3009 - val_mape: 18.0836\n",
      "Epoch 7/50\n",
      "131/131 [==============================] - 1s 7ms/step - loss: 98.9030 - mape: 21.9801 - val_loss: 529.7928 - val_mape: 17.3027\n",
      "Epoch 8/50\n",
      "131/131 [==============================] - 1s 7ms/step - loss: 90.4054 - mape: 21.8080 - val_loss: 355.0641 - val_mape: 13.6871\n",
      "Epoch 9/50\n",
      "128/131 [============================>.] - ETA: 0s - loss: 95.0393 - mape: 21.1059INFO:tensorflow:Assets written to: ./models\\23.37_09men_10_lstm_1_dense_2_unit_8\\assets\n"
     ]
    },
    {
     "name": "stderr",
     "output_type": "stream",
     "text": [
      "INFO:tensorflow:Assets written to: ./models\\23.37_09men_10_lstm_1_dense_2_unit_8\\assets\n"
     ]
    },
    {
     "name": "stdout",
     "output_type": "stream",
     "text": [
      "131/131 [==============================] - 4s 30ms/step - loss: 95.2704 - mape: 21.0909 - val_loss: 897.7996 - val_mape: 23.3662\n",
      "Epoch 10/50\n",
      "131/131 [==============================] - 1s 7ms/step - loss: 91.5204 - mape: 20.8006 - val_loss: 234.9644 - val_mape: 11.1200\n",
      "Epoch 11/50\n",
      "131/131 [==============================] - 1s 7ms/step - loss: 100.9880 - mape: 20.8468 - val_loss: 516.9799 - val_mape: 17.1056\n",
      "Epoch 12/50\n",
      "131/131 [==============================] - 1s 7ms/step - loss: 88.2917 - mape: 19.5411 - val_loss: 507.7888 - val_mape: 17.3117\n",
      "Epoch 13/50\n",
      "131/131 [==============================] - 1s 7ms/step - loss: 77.1089 - mape: 19.2252 - val_loss: 390.1410 - val_mape: 14.9125\n",
      "Epoch 14/50\n",
      "131/131 [==============================] - 1s 7ms/step - loss: 88.3332 - mape: 19.4063 - val_loss: 311.5877 - val_mape: 13.0878\n",
      "Epoch 15/50\n",
      "131/131 [==============================] - 1s 7ms/step - loss: 82.4069 - mape: 19.2609 - val_loss: 325.1286 - val_mape: 13.4430\n",
      "Epoch 16/50\n",
      "131/131 [==============================] - 1s 7ms/step - loss: 79.3912 - mape: 18.9144 - val_loss: 784.3953 - val_mape: 21.7528\n",
      "Epoch 17/50\n",
      "131/131 [==============================] - 1s 7ms/step - loss: 74.8151 - mape: 18.4634 - val_loss: 374.7128 - val_mape: 14.3414\n",
      "Epoch 18/50\n",
      "131/131 [==============================] - 1s 7ms/step - loss: 82.9291 - mape: 19.9933 - val_loss: 449.8998 - val_mape: 15.9437\n",
      "Epoch 19/50\n",
      "131/131 [==============================] - 1s 7ms/step - loss: 76.7287 - mape: 19.0149 - val_loss: 518.7565 - val_mape: 17.3673\n",
      "Epoch 20/50\n",
      "131/131 [==============================] - 1s 7ms/step - loss: 79.7237 - mape: 18.5601 - val_loss: 156.5349 - val_mape: 8.8449\n",
      "Epoch 21/50\n",
      "131/131 [==============================] - 1s 7ms/step - loss: 82.6575 - mape: 19.3696 - val_loss: 189.8847 - val_mape: 9.7262\n",
      "Epoch 22/50\n",
      "131/131 [==============================] - 1s 7ms/step - loss: 81.5101 - mape: 19.0845 - val_loss: 522.7354 - val_mape: 17.3444\n",
      "Epoch 23/50\n",
      "131/131 [==============================] - 1s 7ms/step - loss: 70.2598 - mape: 18.7338 - val_loss: 559.2712 - val_mape: 18.0143\n",
      "Epoch 24/50\n",
      "131/131 [==============================] - 1s 7ms/step - loss: 61.9983 - mape: 17.3705 - val_loss: 867.8104 - val_mape: 22.7233\n",
      "Epoch 25/50\n",
      "131/131 [==============================] - 1s 7ms/step - loss: 79.7057 - mape: 18.0493 - val_loss: 788.2286 - val_mape: 21.7614\n",
      "Epoch 26/50\n",
      "129/131 [============================>.] - ETA: 0s - loss: 63.3175 - mape: 18.2630INFO:tensorflow:Assets written to: ./models\\23.60_26men_10_lstm_1_dense_2_unit_8\\assets\n"
     ]
    },
    {
     "name": "stderr",
     "output_type": "stream",
     "text": [
      "INFO:tensorflow:Assets written to: ./models\\23.60_26men_10_lstm_1_dense_2_unit_8\\assets\n"
     ]
    },
    {
     "name": "stdout",
     "output_type": "stream",
     "text": [
      "131/131 [==============================] - 4s 30ms/step - loss: 63.1979 - mape: 18.2452 - val_loss: 914.4215 - val_mape: 23.6046\n",
      "Epoch 27/50\n",
      "131/131 [==============================] - 1s 7ms/step - loss: 72.0359 - mape: 17.5396 - val_loss: 559.7847 - val_mape: 18.0335\n",
      "Epoch 28/50\n",
      "131/131 [==============================] - 1s 7ms/step - loss: 69.4377 - mape: 17.3993 - val_loss: 436.9113 - val_mape: 15.6418\n",
      "Epoch 29/50\n",
      "131/131 [==============================] - 1s 7ms/step - loss: 54.9058 - mape: 17.0354 - val_loss: 377.5098 - val_mape: 14.4501\n",
      "Epoch 30/50\n",
      "131/131 [==============================] - 1s 7ms/step - loss: 63.4376 - mape: 17.4940 - val_loss: 600.9592 - val_mape: 18.8715\n",
      "Epoch 31/50\n",
      "131/131 [==============================] - 1s 7ms/step - loss: 60.4473 - mape: 16.7458 - val_loss: 444.2163 - val_mape: 15.9828\n",
      "Epoch 32/50\n",
      "131/131 [==============================] - 1s 7ms/step - loss: 58.2478 - mape: 17.3510 - val_loss: 601.5830 - val_mape: 18.8335\n",
      "Epoch 33/50\n",
      "131/131 [==============================] - 1s 7ms/step - loss: 61.8803 - mape: 16.9485 - val_loss: 551.2106 - val_mape: 17.7263\n",
      "Epoch 34/50\n",
      "131/131 [==============================] - 1s 7ms/step - loss: 61.7295 - mape: 17.3457 - val_loss: 761.7261 - val_mape: 21.4044\n",
      "Epoch 35/50\n",
      "131/131 [==============================] - 1s 7ms/step - loss: 60.7841 - mape: 16.4281 - val_loss: 445.3445 - val_mape: 15.8816\n",
      "Epoch 36/50\n",
      "131/131 [==============================] - 1s 7ms/step - loss: 55.7446 - mape: 17.2645 - val_loss: 669.1018 - val_mape: 19.9376\n",
      "Epoch 37/50\n",
      "131/131 [==============================] - 1s 7ms/step - loss: 57.0707 - mape: 16.1840 - val_loss: 510.5701 - val_mape: 16.9773\n",
      "Epoch 38/50\n",
      "131/131 [==============================] - 1s 7ms/step - loss: 62.4308 - mape: 16.5634 - val_loss: 399.1077 - val_mape: 14.9473\n",
      "Epoch 39/50\n",
      "131/131 [==============================] - 1s 7ms/step - loss: 56.5849 - mape: 15.9299 - val_loss: 874.7337 - val_mape: 22.7822\n",
      "Epoch 40/50\n",
      "131/131 [==============================] - 1s 7ms/step - loss: 54.2911 - mape: 16.8697 - val_loss: 750.3017 - val_mape: 21.1902\n",
      "Epoch 41/50\n",
      "131/131 [==============================] - 1s 7ms/step - loss: 53.6266 - mape: 16.4404 - val_loss: 835.3303 - val_mape: 22.3022\n",
      "Epoch 42/50\n",
      "131/131 [==============================] - 1s 7ms/step - loss: 57.2729 - mape: 17.0222 - val_loss: 646.2996 - val_mape: 19.6134\n",
      "Epoch 43/50\n",
      "131/131 [==============================] - 1s 7ms/step - loss: 55.3063 - mape: 16.1418 - val_loss: 612.9169 - val_mape: 19.0072\n",
      "Epoch 44/50\n",
      "131/131 [==============================] - 1s 7ms/step - loss: 52.6919 - mape: 16.2042 - val_loss: 437.7310 - val_mape: 15.7642\n",
      "Epoch 45/50\n",
      "131/131 [==============================] - 1s 7ms/step - loss: 54.0857 - mape: 15.8819 - val_loss: 813.8894 - val_mape: 22.1630\n",
      "Epoch 46/50\n",
      "126/131 [===========================>..] - ETA: 0s - loss: 53.0006 - mape: 15.8364INFO:tensorflow:Assets written to: ./models\\24.07_46men_10_lstm_1_dense_2_unit_8\\assets\n"
     ]
    },
    {
     "name": "stderr",
     "output_type": "stream",
     "text": [
      "INFO:tensorflow:Assets written to: ./models\\24.07_46men_10_lstm_1_dense_2_unit_8\\assets\n"
     ]
    },
    {
     "name": "stdout",
     "output_type": "stream",
     "text": [
      "131/131 [==============================] - 4s 31ms/step - loss: 53.0513 - mape: 15.8013 - val_loss: 936.7473 - val_mape: 24.0663\n",
      "Epoch 47/50\n",
      "131/131 [==============================] - 1s 7ms/step - loss: 54.5793 - mape: 16.1647 - val_loss: 306.0062 - val_mape: 12.8380\n",
      "Epoch 48/50\n",
      "131/131 [==============================] - 1s 8ms/step - loss: 54.6643 - mape: 16.1067 - val_loss: 296.1303 - val_mape: 12.4480\n",
      "Epoch 49/50\n",
      "131/131 [==============================] - 1s 8ms/step - loss: 55.7990 - mape: 16.0261 - val_loss: 728.2729 - val_mape: 20.9047\n",
      "Epoch 50/50\n",
      "131/131 [==============================] - 1s 7ms/step - loss: 52.0305 - mape: 15.9898 - val_loss: 594.4070 - val_mape: 18.6379\n",
      "Epoch 1/50\n",
      "126/130 [============================>.] - ETA: 0s - loss: 719.2505 - mape: 70.5163INFO:tensorflow:Assets written to: ./models\\12.25_01men_10_lstm_1_dense_2_unit_16\\assets\n"
     ]
    },
    {
     "name": "stderr",
     "output_type": "stream",
     "text": [
      "INFO:tensorflow:Assets written to: ./models\\12.25_01men_10_lstm_1_dense_2_unit_16\\assets\n"
     ]
    },
    {
     "name": "stdout",
     "output_type": "stream",
     "text": [
      "130/130 [==============================] - 10s 35ms/step - loss: 702.0059 - mape: 69.2731 - val_loss: 284.9037 - val_mape: 12.2538\n",
      "Epoch 2/50\n",
      "130/130 [==============================] - 1s 8ms/step - loss: 93.3950 - mape: 26.1996 - val_loss: 150.5668 - val_mape: 8.7072\n",
      "Epoch 3/50\n",
      "130/130 [==============================] - 1s 8ms/step - loss: 82.1906 - mape: 22.9590 - val_loss: 62.1697 - val_mape: 5.5139\n",
      "Epoch 4/50\n",
      "130/130 [==============================] - 1s 8ms/step - loss: 67.4556 - mape: 20.2001 - val_loss: 170.9241 - val_mape: 9.5126\n",
      "Epoch 5/50\n",
      "130/130 [==============================] - 1s 7ms/step - loss: 57.8729 - mape: 19.0099 - val_loss: 140.5874 - val_mape: 8.2701\n",
      "Epoch 6/50\n",
      "130/130 [==============================] - 1s 7ms/step - loss: 56.3269 - mape: 18.8115 - val_loss: 233.8998 - val_mape: 10.2644\n",
      "Epoch 7/50\n",
      "129/130 [============================>.] - ETA: 0s - loss: 47.7514 - mape: 17.3664INFO:tensorflow:Assets written to: ./models\\18.40_07men_10_lstm_1_dense_2_unit_16\\assets\n"
     ]
    },
    {
     "name": "stderr",
     "output_type": "stream",
     "text": [
      "INFO:tensorflow:Assets written to: ./models\\18.40_07men_10_lstm_1_dense_2_unit_16\\assets\n"
     ]
    },
    {
     "name": "stdout",
     "output_type": "stream",
     "text": [
      "130/130 [==============================] - 4s 32ms/step - loss: 47.8452 - mape: 17.3732 - val_loss: 647.7036 - val_mape: 18.4001\n",
      "Epoch 8/50\n",
      "130/130 [==============================] - 1s 8ms/step - loss: 43.7805 - mape: 16.5909 - val_loss: 600.5324 - val_mape: 17.9454\n",
      "Epoch 9/50\n",
      "130/130 [==============================] - 1s 8ms/step - loss: 41.4708 - mape: 16.3429 - val_loss: 231.3883 - val_mape: 10.3642\n",
      "Epoch 10/50\n",
      "130/130 [==============================] - 1s 8ms/step - loss: 40.0553 - mape: 16.3610 - val_loss: 269.9068 - val_mape: 11.2177\n",
      "Epoch 11/50\n",
      "129/130 [============================>.] - ETA: 0s - loss: 42.6626 - mape: 15.8461INFO:tensorflow:Assets written to: ./models\\22.59_11men_10_lstm_1_dense_2_unit_16\\assets\n"
     ]
    },
    {
     "name": "stderr",
     "output_type": "stream",
     "text": [
      "INFO:tensorflow:Assets written to: ./models\\22.59_11men_10_lstm_1_dense_2_unit_16\\assets\n"
     ]
    },
    {
     "name": "stdout",
     "output_type": "stream",
     "text": [
      "130/130 [==============================] - 4s 33ms/step - loss: 42.6471 - mape: 15.8340 - val_loss: 936.9412 - val_mape: 22.5899\n",
      "Epoch 12/50\n",
      "130/130 [==============================] - 1s 9ms/step - loss: 39.2036 - mape: 15.8964 - val_loss: 831.5043 - val_mape: 21.6460\n",
      "Epoch 13/50\n",
      "130/130 [==============================] - 1s 9ms/step - loss: 35.9852 - mape: 14.9206 - val_loss: 635.4902 - val_mape: 18.6783\n",
      "Epoch 14/50\n",
      "130/130 [==============================] - 1s 9ms/step - loss: 34.4771 - mape: 14.2911 - val_loss: 468.6114 - val_mape: 15.8922\n",
      "Epoch 15/50\n",
      "130/130 [==============================] - 1s 8ms/step - loss: 33.1035 - mape: 14.4335 - val_loss: 738.1749 - val_mape: 20.6493\n",
      "Epoch 16/50\n",
      "130/130 [==============================] - 1s 8ms/step - loss: 31.4271 - mape: 14.2107 - val_loss: 383.7096 - val_mape: 14.0364\n",
      "Epoch 17/50\n",
      "130/130 [==============================] - 1s 7ms/step - loss: 32.5247 - mape: 14.1056 - val_loss: 473.0555 - val_mape: 16.2497\n",
      "Epoch 18/50\n",
      "130/130 [==============================] - ETA: 0s - loss: 35.1240 - mape: 14.1897INFO:tensorflow:Assets written to: ./models\\24.15_18men_10_lstm_1_dense_2_unit_16\\assets\n"
     ]
    },
    {
     "name": "stderr",
     "output_type": "stream",
     "text": [
      "INFO:tensorflow:Assets written to: ./models\\24.15_18men_10_lstm_1_dense_2_unit_16\\assets\n"
     ]
    },
    {
     "name": "stdout",
     "output_type": "stream",
     "text": [
      "130/130 [==============================] - 4s 31ms/step - loss: 35.1240 - mape: 14.1897 - val_loss: 994.8544 - val_mape: 24.1525\n",
      "Epoch 19/50\n",
      "130/130 [==============================] - 1s 7ms/step - loss: 34.9404 - mape: 14.1040 - val_loss: 676.7250 - val_mape: 19.4566\n",
      "Epoch 20/50\n",
      "130/130 [==============================] - 1s 7ms/step - loss: 31.5089 - mape: 13.5880 - val_loss: 850.3557 - val_mape: 22.2976\n",
      "Epoch 21/50\n",
      "130/130 [==============================] - 1s 7ms/step - loss: 31.6625 - mape: 13.6134 - val_loss: 957.4440 - val_mape: 23.1984\n",
      "Epoch 22/50\n",
      "128/130 [============================>.] - ETA: 0s - loss: 29.9502 - mape: 13.9816INFO:tensorflow:Assets written to: ./models\\25.65_22men_10_lstm_1_dense_2_unit_16\\assets\n"
     ]
    },
    {
     "name": "stderr",
     "output_type": "stream",
     "text": [
      "INFO:tensorflow:Assets written to: ./models\\25.65_22men_10_lstm_1_dense_2_unit_16\\assets\n"
     ]
    },
    {
     "name": "stdout",
     "output_type": "stream",
     "text": [
      "130/130 [==============================] - 4s 30ms/step - loss: 30.4136 - mape: 13.9649 - val_loss: 1131.0391 - val_mape: 25.6451\n",
      "Epoch 23/50\n",
      "128/130 [============================>.] - ETA: 0s - loss: 32.9973 - mape: 13.6925INFO:tensorflow:Assets written to: ./models\\28.54_23men_10_lstm_1_dense_2_unit_16\\assets\n"
     ]
    },
    {
     "name": "stderr",
     "output_type": "stream",
     "text": [
      "INFO:tensorflow:Assets written to: ./models\\28.54_23men_10_lstm_1_dense_2_unit_16\\assets\n"
     ]
    },
    {
     "name": "stdout",
     "output_type": "stream",
     "text": [
      "130/130 [==============================] - 4s 30ms/step - loss: 33.1259 - mape: 13.6861 - val_loss: 1365.4088 - val_mape: 28.5389\n",
      "Epoch 24/50\n",
      "130/130 [==============================] - 1s 8ms/step - loss: 30.7857 - mape: 13.3552 - val_loss: 954.4097 - val_mape: 23.2202\n",
      "Epoch 25/50\n",
      "130/130 [==============================] - 1s 8ms/step - loss: 30.7772 - mape: 13.3140 - val_loss: 1300.8823 - val_mape: 27.6407\n",
      "Epoch 26/50\n",
      "130/130 [==============================] - 1s 8ms/step - loss: 32.6447 - mape: 13.6372 - val_loss: 890.9470 - val_mape: 22.8870\n",
      "Epoch 27/50\n",
      "130/130 [==============================] - 1s 8ms/step - loss: 29.0792 - mape: 12.8225 - val_loss: 1200.5800 - val_mape: 26.6606\n",
      "Epoch 28/50\n",
      "130/130 [==============================] - 1s 8ms/step - loss: 28.1519 - mape: 13.2774 - val_loss: 712.7465 - val_mape: 20.4609\n",
      "Epoch 29/50\n",
      "130/130 [==============================] - 1s 8ms/step - loss: 27.9280 - mape: 13.2238 - val_loss: 1034.3593 - val_mape: 24.5405\n",
      "Epoch 30/50\n",
      "130/130 [==============================] - 1s 8ms/step - loss: 30.0965 - mape: 13.0966 - val_loss: 959.8904 - val_mape: 23.4851\n",
      "Epoch 31/50\n",
      "130/130 [==============================] - 1s 8ms/step - loss: 30.0162 - mape: 12.7740 - val_loss: 819.6087 - val_mape: 21.7128\n",
      "Epoch 32/50\n",
      "130/130 [==============================] - 1s 8ms/step - loss: 27.6000 - mape: 12.9229 - val_loss: 577.2891 - val_mape: 17.6860\n",
      "Epoch 33/50\n",
      "130/130 [==============================] - 1s 8ms/step - loss: 29.9853 - mape: 13.3143 - val_loss: 588.5175 - val_mape: 17.9741\n",
      "Epoch 34/50\n",
      "130/130 [==============================] - 1s 8ms/step - loss: 25.5699 - mape: 12.2780 - val_loss: 727.3789 - val_mape: 20.5061\n",
      "Epoch 35/50\n",
      "130/130 [==============================] - 1s 8ms/step - loss: 27.0697 - mape: 12.4836 - val_loss: 848.9540 - val_mape: 22.1939\n",
      "Epoch 36/50\n",
      "130/130 [==============================] - 1s 8ms/step - loss: 30.5159 - mape: 13.1908 - val_loss: 985.6786 - val_mape: 23.8579\n",
      "Epoch 37/50\n",
      "130/130 [==============================] - 1s 8ms/step - loss: 28.5169 - mape: 12.4471 - val_loss: 684.1494 - val_mape: 19.8673\n",
      "Epoch 38/50\n",
      "130/130 [==============================] - 1s 8ms/step - loss: 25.4051 - mape: 11.8928 - val_loss: 574.0612 - val_mape: 18.0655\n",
      "Epoch 39/50\n",
      "130/130 [==============================] - 1s 8ms/step - loss: 27.0813 - mape: 12.5122 - val_loss: 1220.5240 - val_mape: 26.9347\n",
      "Epoch 40/50\n",
      "130/130 [==============================] - 1s 8ms/step - loss: 27.6375 - mape: 12.1457 - val_loss: 969.1106 - val_mape: 24.1077\n",
      "Epoch 41/50\n",
      "130/130 [==============================] - 1s 7ms/step - loss: 24.3819 - mape: 11.6826 - val_loss: 419.3350 - val_mape: 15.1520\n",
      "Epoch 42/50\n",
      "130/130 [==============================] - 1s 7ms/step - loss: 28.2934 - mape: 12.1143 - val_loss: 682.5098 - val_mape: 19.7579\n",
      "Epoch 43/50\n",
      "130/130 [==============================] - 1s 7ms/step - loss: 27.2361 - mape: 11.8122 - val_loss: 1331.2670 - val_mape: 28.4401\n",
      "Epoch 44/50\n",
      "130/130 [==============================] - 1s 7ms/step - loss: 25.8137 - mape: 12.1458 - val_loss: 898.6245 - val_mape: 22.3888\n",
      "Epoch 45/50\n",
      "130/130 [==============================] - 1s 7ms/step - loss: 28.1477 - mape: 12.1538 - val_loss: 917.3026 - val_mape: 23.1012\n",
      "Epoch 46/50\n",
      "130/130 [==============================] - 1s 7ms/step - loss: 25.0889 - mape: 11.8431 - val_loss: 716.3427 - val_mape: 19.5985\n",
      "Epoch 47/50\n",
      "130/130 [==============================] - 1s 7ms/step - loss: 26.3591 - mape: 12.2292 - val_loss: 862.2350 - val_mape: 21.9847\n",
      "Epoch 48/50\n",
      "130/130 [==============================] - 1s 7ms/step - loss: 23.9753 - mape: 11.5490 - val_loss: 701.3580 - val_mape: 19.8407\n",
      "Epoch 49/50\n",
      "130/130 [==============================] - 1s 7ms/step - loss: 24.1415 - mape: 11.3663 - val_loss: 1061.0680 - val_mape: 25.0155\n",
      "Epoch 50/50\n",
      "130/130 [==============================] - 1s 7ms/step - loss: 25.4014 - mape: 11.8695 - val_loss: 714.2245 - val_mape: 20.0663\n",
      "Epoch 1/50\n",
      "128/130 [============================>.] - ETA: 0s - loss: 613.9962 - mape: 59.8848INFO:tensorflow:Assets written to: ./models\\28.43_01men_10_lstm_1_dense_2_unit_32\\assets\n"
     ]
    },
    {
     "name": "stderr",
     "output_type": "stream",
     "text": [
      "INFO:tensorflow:Assets written to: ./models\\28.43_01men_10_lstm_1_dense_2_unit_32\\assets\n"
     ]
    },
    {
     "name": "stdout",
     "output_type": "stream",
     "text": [
      "130/130 [==============================] - 9s 35ms/step - loss: 607.1366 - mape: 59.4725 - val_loss: 2192.7214 - val_mape: 28.4306\n",
      "Epoch 2/50\n",
      "130/130 [==============================] - 1s 8ms/step - loss: 54.5663 - mape: 20.7212 - val_loss: 303.4966 - val_mape: 10.3887\n",
      "Epoch 3/50\n",
      "130/130 [==============================] - 1s 8ms/step - loss: 43.2126 - mape: 18.5290 - val_loss: 237.5881 - val_mape: 9.2623\n",
      "Epoch 4/50\n",
      "130/130 [==============================] - 1s 8ms/step - loss: 45.2512 - mape: 18.5845 - val_loss: 247.2862 - val_mape: 9.4274\n",
      "Epoch 5/50\n",
      "130/130 [==============================] - 1s 8ms/step - loss: 32.2777 - mape: 15.6865 - val_loss: 146.7865 - val_mape: 7.3895\n",
      "Epoch 6/50\n",
      "130/130 [==============================] - 1s 8ms/step - loss: 34.3175 - mape: 16.1219 - val_loss: 130.7867 - val_mape: 7.0091\n",
      "Epoch 7/50\n",
      "130/130 [==============================] - 1s 8ms/step - loss: 33.1137 - mape: 15.2582 - val_loss: 107.9056 - val_mape: 7.2138\n",
      "Epoch 8/50\n",
      "130/130 [==============================] - 1s 8ms/step - loss: 31.2938 - mape: 14.9598 - val_loss: 61.5389 - val_mape: 5.5783\n",
      "Epoch 9/50\n",
      "130/130 [==============================] - 1s 8ms/step - loss: 30.6865 - mape: 14.0047 - val_loss: 144.2222 - val_mape: 8.2543\n",
      "Epoch 10/50\n",
      "130/130 [==============================] - 1s 8ms/step - loss: 27.9846 - mape: 13.6543 - val_loss: 79.3216 - val_mape: 6.1215\n",
      "Epoch 11/50\n",
      "130/130 [==============================] - 1s 8ms/step - loss: 28.0649 - mape: 13.5916 - val_loss: 119.3437 - val_mape: 7.4262\n",
      "Epoch 12/50\n",
      "130/130 [==============================] - 1s 8ms/step - loss: 26.9961 - mape: 13.3131 - val_loss: 68.6836 - val_mape: 5.8671\n",
      "Epoch 13/50\n",
      "130/130 [==============================] - 1s 8ms/step - loss: 25.8521 - mape: 12.5956 - val_loss: 69.2845 - val_mape: 5.7778\n",
      "Epoch 14/50\n",
      "130/130 [==============================] - 1s 8ms/step - loss: 26.2882 - mape: 12.9450 - val_loss: 133.2015 - val_mape: 7.9106\n",
      "Epoch 15/50\n",
      "130/130 [==============================] - 1s 8ms/step - loss: 24.3031 - mape: 13.1672 - val_loss: 211.4004 - val_mape: 10.0219\n",
      "Epoch 16/50\n",
      "130/130 [==============================] - 1s 8ms/step - loss: 25.5816 - mape: 13.1066 - val_loss: 97.2013 - val_mape: 6.8045\n",
      "Epoch 17/50\n",
      "130/130 [==============================] - 1s 8ms/step - loss: 23.8491 - mape: 12.6654 - val_loss: 127.7091 - val_mape: 7.7849\n",
      "Epoch 18/50\n",
      "130/130 [==============================] - 1s 8ms/step - loss: 23.1318 - mape: 12.4546 - val_loss: 301.5765 - val_mape: 12.6905\n",
      "Epoch 19/50\n",
      "130/130 [==============================] - 1s 8ms/step - loss: 26.8730 - mape: 12.8488 - val_loss: 129.4405 - val_mape: 7.9777\n",
      "Epoch 20/50\n",
      "130/130 [==============================] - 1s 8ms/step - loss: 23.1924 - mape: 12.2752 - val_loss: 229.9635 - val_mape: 11.1727\n",
      "Epoch 21/50\n",
      "130/130 [==============================] - 1s 8ms/step - loss: 23.2054 - mape: 11.9340 - val_loss: 111.4493 - val_mape: 7.3092\n",
      "Epoch 22/50\n",
      "130/130 [==============================] - 1s 8ms/step - loss: 22.7595 - mape: 11.7848 - val_loss: 232.5106 - val_mape: 9.4128\n",
      "Epoch 23/50\n",
      "130/130 [==============================] - 1s 8ms/step - loss: 22.9565 - mape: 12.0332 - val_loss: 520.5969 - val_mape: 17.4284\n",
      "Epoch 24/50\n",
      "130/130 [==============================] - 1s 8ms/step - loss: 22.4957 - mape: 11.6764 - val_loss: 80.0212 - val_mape: 6.3403\n",
      "Epoch 25/50\n",
      "130/130 [==============================] - 1s 8ms/step - loss: 22.5031 - mape: 11.9067 - val_loss: 261.9347 - val_mape: 11.6717\n",
      "Epoch 26/50\n",
      "130/130 [==============================] - 1s 8ms/step - loss: 20.7447 - mape: 11.1310 - val_loss: 113.9826 - val_mape: 7.4000\n",
      "Epoch 27/50\n",
      "130/130 [==============================] - 1s 8ms/step - loss: 21.1925 - mape: 11.4792 - val_loss: 96.8692 - val_mape: 6.6026\n",
      "Epoch 28/50\n",
      "130/130 [==============================] - 1s 8ms/step - loss: 20.9480 - mape: 10.9242 - val_loss: 148.6659 - val_mape: 8.3294\n",
      "Epoch 29/50\n",
      "130/130 [==============================] - 1s 8ms/step - loss: 22.1635 - mape: 11.5771 - val_loss: 90.0945 - val_mape: 6.5111\n",
      "Epoch 30/50\n",
      "130/130 [==============================] - 1s 8ms/step - loss: 19.9751 - mape: 11.2340 - val_loss: 57.4743 - val_mape: 5.3573\n",
      "Epoch 31/50\n",
      "130/130 [==============================] - 1s 8ms/step - loss: 21.1153 - mape: 11.4896 - val_loss: 520.9638 - val_mape: 17.5268\n",
      "Epoch 32/50\n",
      "130/130 [==============================] - 1s 8ms/step - loss: 19.9650 - mape: 11.3463 - val_loss: 128.0855 - val_mape: 7.8111\n",
      "Epoch 33/50\n",
      "130/130 [==============================] - 1s 8ms/step - loss: 19.7274 - mape: 10.9301 - val_loss: 65.8432 - val_mape: 5.6729\n",
      "Epoch 34/50\n",
      "130/130 [==============================] - 1s 8ms/step - loss: 20.6746 - mape: 11.1951 - val_loss: 425.4346 - val_mape: 15.3732\n",
      "Epoch 35/50\n",
      "130/130 [==============================] - 1s 8ms/step - loss: 19.4300 - mape: 10.6912 - val_loss: 311.1241 - val_mape: 12.3717\n",
      "Epoch 36/50\n",
      "130/130 [==============================] - 1s 8ms/step - loss: 18.8181 - mape: 10.6915 - val_loss: 298.8739 - val_mape: 12.5485\n",
      "Epoch 37/50\n",
      "130/130 [==============================] - 1s 8ms/step - loss: 19.5579 - mape: 10.7954 - val_loss: 660.5066 - val_mape: 18.6152\n",
      "Epoch 38/50\n",
      "130/130 [==============================] - 1s 8ms/step - loss: 20.8610 - mape: 11.0462 - val_loss: 607.5280 - val_mape: 18.5347\n",
      "Epoch 39/50\n",
      "130/130 [==============================] - 1s 8ms/step - loss: 20.3580 - mape: 11.1710 - val_loss: 159.3453 - val_mape: 8.4801\n",
      "Epoch 40/50\n",
      "130/130 [==============================] - 1s 8ms/step - loss: 20.1903 - mape: 10.9149 - val_loss: 255.0955 - val_mape: 11.6172\n",
      "Epoch 41/50\n",
      "130/130 [==============================] - 1s 8ms/step - loss: 20.1291 - mape: 10.5851 - val_loss: 185.0910 - val_mape: 9.5772\n",
      "Epoch 42/50\n",
      "130/130 [==============================] - 1s 8ms/step - loss: 17.2503 - mape: 10.4613 - val_loss: 406.0945 - val_mape: 14.8872\n",
      "Epoch 43/50\n",
      "130/130 [==============================] - 1s 8ms/step - loss: 18.9013 - mape: 10.4793 - val_loss: 718.9593 - val_mape: 20.3311\n",
      "Epoch 44/50\n",
      "130/130 [==============================] - 1s 8ms/step - loss: 18.1433 - mape: 10.5333 - val_loss: 75.5143 - val_mape: 6.0499\n",
      "Epoch 45/50\n",
      "130/130 [==============================] - 1s 8ms/step - loss: 19.7808 - mape: 10.5961 - val_loss: 321.9252 - val_mape: 12.9465\n",
      "Epoch 46/50\n",
      "130/130 [==============================] - 1s 8ms/step - loss: 18.7105 - mape: 10.4005 - val_loss: 504.4587 - val_mape: 16.4660\n",
      "Epoch 47/50\n",
      "130/130 [==============================] - 1s 8ms/step - loss: 18.3117 - mape: 10.3485 - val_loss: 279.3282 - val_mape: 12.2638\n",
      "Epoch 48/50\n",
      "130/130 [==============================] - 1s 8ms/step - loss: 17.6451 - mape: 10.2137 - val_loss: 113.5100 - val_mape: 7.2969\n",
      "Epoch 49/50\n",
      "130/130 [==============================] - 1s 8ms/step - loss: 18.6086 - mape: 9.8844 - val_loss: 173.5331 - val_mape: 9.1315\n",
      "Epoch 50/50\n",
      "130/130 [==============================] - 1s 8ms/step - loss: 17.9850 - mape: 10.3288 - val_loss: 339.8946 - val_mape: 13.3931\n",
      "Epoch 1/50\n",
      "128/130 [============================>.] - ETA: 0s - loss: 911.0131 - mape: 79.4355INFO:tensorflow:Assets written to: ./models\\8.41_01men_10_lstm_1_dense_3_unit_8\\assets\n"
     ]
    },
    {
     "name": "stderr",
     "output_type": "stream",
     "text": [
      "INFO:tensorflow:Assets written to: ./models\\8.41_01men_10_lstm_1_dense_3_unit_8\\assets\n"
     ]
    },
    {
     "name": "stdout",
     "output_type": "stream",
     "text": [
      "130/130 [==============================] - 8s 34ms/step - loss: 905.3691 - mape: 79.1818 - val_loss: 165.1399 - val_mape: 8.4067\n",
      "Epoch 2/50\n",
      "128/130 [============================>.] - ETA: 0s - loss: 202.7857 - mape: 39.1847INFO:tensorflow:Assets written to: ./models\\23.08_02men_10_lstm_1_dense_3_unit_8\\assets\n"
     ]
    },
    {
     "name": "stderr",
     "output_type": "stream",
     "text": [
      "INFO:tensorflow:Assets written to: ./models\\23.08_02men_10_lstm_1_dense_3_unit_8\\assets\n"
     ]
    },
    {
     "name": "stdout",
     "output_type": "stream",
     "text": [
      "130/130 [==============================] - 4s 31ms/step - loss: 202.7003 - mape: 39.1100 - val_loss: 896.0816 - val_mape: 23.0801\n",
      "Epoch 3/50\n",
      "129/130 [============================>.] - ETA: 0s - loss: 169.5056 - mape: 34.4497INFO:tensorflow:Assets written to: ./models\\26.45_03men_10_lstm_1_dense_3_unit_8\\assets\n"
     ]
    },
    {
     "name": "stderr",
     "output_type": "stream",
     "text": [
      "INFO:tensorflow:Assets written to: ./models\\26.45_03men_10_lstm_1_dense_3_unit_8\\assets\n"
     ]
    },
    {
     "name": "stdout",
     "output_type": "stream",
     "text": [
      "130/130 [==============================] - 4s 32ms/step - loss: 169.9436 - mape: 34.4614 - val_loss: 1156.9949 - val_mape: 26.4495\n",
      "Epoch 4/50\n",
      "130/130 [==============================] - 1s 7ms/step - loss: 148.3062 - mape: 32.1135 - val_loss: 924.7693 - val_mape: 23.6466\n",
      "Epoch 5/50\n",
      "130/130 [==============================] - 1s 7ms/step - loss: 134.4258 - mape: 30.0450 - val_loss: 908.6417 - val_mape: 23.5295\n",
      "Epoch 6/50\n",
      "130/130 [==============================] - 1s 7ms/step - loss: 120.3653 - mape: 28.6836 - val_loss: 577.2653 - val_mape: 18.4139\n",
      "Epoch 7/50\n",
      "130/130 [==============================] - 1s 7ms/step - loss: 106.2983 - mape: 27.7057 - val_loss: 846.9254 - val_mape: 22.9834\n",
      "Epoch 8/50\n",
      "130/130 [==============================] - 1s 7ms/step - loss: 97.0595 - mape: 26.2345 - val_loss: 294.8979 - val_mape: 12.7010\n",
      "Epoch 9/50\n",
      "130/130 [==============================] - 1s 7ms/step - loss: 93.6778 - mape: 24.7922 - val_loss: 743.3574 - val_mape: 21.1057\n",
      "Epoch 10/50\n",
      "130/130 [==============================] - 1s 7ms/step - loss: 94.3623 - mape: 24.2357 - val_loss: 468.7834 - val_mape: 16.6495\n",
      "Epoch 11/50\n",
      "130/130 [==============================] - 1s 7ms/step - loss: 84.4256 - mape: 23.1587 - val_loss: 252.6894 - val_mape: 11.8347\n",
      "Epoch 12/50\n",
      "130/130 [==============================] - 1s 7ms/step - loss: 84.7857 - mape: 23.4398 - val_loss: 87.3243 - val_mape: 6.5323\n",
      "Epoch 13/50\n",
      "130/130 [==============================] - 1s 7ms/step - loss: 79.3134 - mape: 22.7237 - val_loss: 733.5212 - val_mape: 21.0119\n",
      "Epoch 14/50\n",
      "130/130 [==============================] - 1s 7ms/step - loss: 68.8409 - mape: 21.4699 - val_loss: 663.1320 - val_mape: 19.6948\n",
      "Epoch 15/50\n",
      "130/130 [==============================] - 1s 7ms/step - loss: 73.4220 - mape: 21.3303 - val_loss: 136.4388 - val_mape: 8.3691\n",
      "Epoch 16/50\n",
      "130/130 [==============================] - 1s 7ms/step - loss: 69.5949 - mape: 20.8363 - val_loss: 152.4472 - val_mape: 7.6553\n",
      "Epoch 17/50\n",
      "130/130 [==============================] - 1s 7ms/step - loss: 69.6525 - mape: 20.2796 - val_loss: 810.6458 - val_mape: 21.8453\n",
      "Epoch 18/50\n",
      "130/130 [==============================] - 1s 7ms/step - loss: 68.3844 - mape: 20.5406 - val_loss: 678.1071 - val_mape: 19.7714\n",
      "Epoch 19/50\n",
      "130/130 [==============================] - 1s 7ms/step - loss: 64.9520 - mape: 19.9335 - val_loss: 991.0815 - val_mape: 24.5056\n",
      "Epoch 20/50\n",
      "130/130 [==============================] - 1s 7ms/step - loss: 69.9551 - mape: 20.0828 - val_loss: 1002.0530 - val_mape: 24.5692\n",
      "Epoch 21/50\n",
      "130/130 [==============================] - 1s 7ms/step - loss: 66.2884 - mape: 19.3252 - val_loss: 1027.4722 - val_mape: 24.9846\n",
      "Epoch 22/50\n",
      "130/130 [==============================] - 1s 7ms/step - loss: 62.5068 - mape: 18.7643 - val_loss: 823.1684 - val_mape: 22.1647\n",
      "Epoch 23/50\n",
      "130/130 [==============================] - 1s 7ms/step - loss: 63.6546 - mape: 18.7865 - val_loss: 847.6973 - val_mape: 22.5292\n",
      "Epoch 24/50\n",
      "130/130 [==============================] - 1s 7ms/step - loss: 57.6157 - mape: 18.1703 - val_loss: 913.6948 - val_mape: 23.5352\n",
      "Epoch 25/50\n",
      "130/130 [==============================] - 1s 7ms/step - loss: 59.0122 - mape: 18.1063 - val_loss: 560.8201 - val_mape: 18.1503\n",
      "Epoch 26/50\n",
      "130/130 [==============================] - 1s 7ms/step - loss: 52.7537 - mape: 18.4096 - val_loss: 819.0955 - val_mape: 22.3465\n",
      "Epoch 27/50\n",
      "128/130 [============================>.] - ETA: 0s - loss: 60.3125 - mape: 18.1224INFO:tensorflow:Assets written to: ./models\\27.31_27men_10_lstm_1_dense_3_unit_8\\assets\n"
     ]
    },
    {
     "name": "stderr",
     "output_type": "stream",
     "text": [
      "INFO:tensorflow:Assets written to: ./models\\27.31_27men_10_lstm_1_dense_3_unit_8\\assets\n"
     ]
    },
    {
     "name": "stdout",
     "output_type": "stream",
     "text": [
      "130/130 [==============================] - 4s 31ms/step - loss: 60.7640 - mape: 18.1063 - val_loss: 1199.2380 - val_mape: 27.3119\n",
      "Epoch 28/50\n",
      "130/130 [==============================] - 1s 7ms/step - loss: 56.8999 - mape: 17.6919 - val_loss: 779.2915 - val_mape: 21.6298\n",
      "Epoch 29/50\n",
      "128/130 [============================>.] - ETA: 0s - loss: 60.2401 - mape: 18.0438INFO:tensorflow:Assets written to: ./models\\28.96_29men_10_lstm_1_dense_3_unit_8\\assets\n"
     ]
    },
    {
     "name": "stderr",
     "output_type": "stream",
     "text": [
      "INFO:tensorflow:Assets written to: ./models\\28.96_29men_10_lstm_1_dense_3_unit_8\\assets\n"
     ]
    },
    {
     "name": "stdout",
     "output_type": "stream",
     "text": [
      "130/130 [==============================] - 6s 45ms/step - loss: 60.0413 - mape: 18.0217 - val_loss: 1343.0153 - val_mape: 28.9612\n",
      "Epoch 30/50\n",
      "130/130 [==============================] - 1s 7ms/step - loss: 59.3687 - mape: 17.8422 - val_loss: 827.6358 - val_mape: 22.2943\n",
      "Epoch 31/50\n",
      "130/130 [==============================] - 1s 7ms/step - loss: 53.6521 - mape: 17.7846 - val_loss: 344.9156 - val_mape: 14.0219\n",
      "Epoch 32/50\n",
      "130/130 [==============================] - 1s 7ms/step - loss: 52.8478 - mape: 17.1404 - val_loss: 555.7265 - val_mape: 18.2553\n",
      "Epoch 33/50\n",
      "130/130 [==============================] - 1s 7ms/step - loss: 55.2005 - mape: 16.9971 - val_loss: 370.6327 - val_mape: 14.6353\n",
      "Epoch 34/50\n",
      "130/130 [==============================] - 1s 7ms/step - loss: 52.2667 - mape: 16.6391 - val_loss: 560.6968 - val_mape: 18.5673\n",
      "Epoch 35/50\n",
      "130/130 [==============================] - 1s 7ms/step - loss: 58.3392 - mape: 17.1559 - val_loss: 549.5646 - val_mape: 18.2486\n",
      "Epoch 36/50\n",
      "130/130 [==============================] - 1s 7ms/step - loss: 49.8866 - mape: 16.8100 - val_loss: 571.4045 - val_mape: 18.6006\n",
      "Epoch 37/50\n",
      "130/130 [==============================] - 1s 7ms/step - loss: 45.7705 - mape: 17.0860 - val_loss: 753.6033 - val_mape: 21.5305\n",
      "Epoch 38/50\n",
      "130/130 [==============================] - 1s 7ms/step - loss: 44.4866 - mape: 16.6669 - val_loss: 288.0932 - val_mape: 12.6619\n",
      "Epoch 39/50\n",
      "130/130 [==============================] - 1s 7ms/step - loss: 53.6351 - mape: 17.0092 - val_loss: 813.7348 - val_mape: 22.3402\n",
      "Epoch 40/50\n",
      "130/130 [==============================] - 1s 7ms/step - loss: 51.2337 - mape: 16.4416 - val_loss: 979.8715 - val_mape: 24.5631\n",
      "Epoch 41/50\n",
      "130/130 [==============================] - 1s 7ms/step - loss: 48.9282 - mape: 16.2381 - val_loss: 963.4751 - val_mape: 24.4079\n",
      "Epoch 42/50\n",
      "130/130 [==============================] - 1s 7ms/step - loss: 50.3517 - mape: 16.6626 - val_loss: 1091.4822 - val_mape: 25.7142\n",
      "Epoch 43/50\n",
      "126/130 [============================>.] - ETA: 0s - loss: 45.1250 - mape: 16.7381INFO:tensorflow:Assets written to: ./models\\30.73_43men_10_lstm_1_dense_3_unit_8\\assets\n"
     ]
    },
    {
     "name": "stderr",
     "output_type": "stream",
     "text": [
      "INFO:tensorflow:Assets written to: ./models\\30.73_43men_10_lstm_1_dense_3_unit_8\\assets\n"
     ]
    },
    {
     "name": "stdout",
     "output_type": "stream",
     "text": [
      "130/130 [==============================] - 4s 32ms/step - loss: 45.2347 - mape: 16.7287 - val_loss: 1524.1771 - val_mape: 30.7309\n",
      "Epoch 44/50\n",
      "130/130 [==============================] - 1s 7ms/step - loss: 50.6578 - mape: 17.3653 - val_loss: 826.3378 - val_mape: 22.4525\n",
      "Epoch 45/50\n",
      "130/130 [==============================] - 1s 7ms/step - loss: 46.4031 - mape: 16.9222 - val_loss: 905.1440 - val_mape: 23.5787\n",
      "Epoch 46/50\n",
      "130/130 [==============================] - 1s 7ms/step - loss: 43.9213 - mape: 16.6982 - val_loss: 864.1876 - val_mape: 23.0115\n",
      "Epoch 47/50\n",
      "130/130 [==============================] - 1s 7ms/step - loss: 41.6037 - mape: 16.1868 - val_loss: 919.2841 - val_mape: 23.8172\n",
      "Epoch 48/50\n",
      "130/130 [==============================] - 1s 7ms/step - loss: 45.0611 - mape: 16.5726 - val_loss: 416.7969 - val_mape: 15.6926\n",
      "Epoch 49/50\n",
      "130/130 [==============================] - 1s 7ms/step - loss: 41.1462 - mape: 16.5727 - val_loss: 616.9498 - val_mape: 19.4635\n",
      "Epoch 50/50\n",
      "130/130 [==============================] - 1s 7ms/step - loss: 46.5213 - mape: 16.9507 - val_loss: 595.5314 - val_mape: 19.1065\n",
      "Epoch 1/50\n",
      "123/129 [===========================>..] - ETA: 0s - loss: 668.2282 - mape: 66.3365INFO:tensorflow:Assets written to: ./models\\20.49_01men_10_lstm_1_dense_3_unit_16\\assets\n"
     ]
    },
    {
     "name": "stderr",
     "output_type": "stream",
     "text": [
      "INFO:tensorflow:Assets written to: ./models\\20.49_01men_10_lstm_1_dense_3_unit_16\\assets\n"
     ]
    },
    {
     "name": "stdout",
     "output_type": "stream",
     "text": [
      "129/129 [==============================] - 7s 33ms/step - loss: 642.4590 - mape: 64.6048 - val_loss: 694.2153 - val_mape: 20.4940\n",
      "Epoch 2/50\n",
      "129/129 [==============================] - 1s 6ms/step - loss: 100.2602 - mape: 26.6913 - val_loss: 105.6475 - val_mape: 7.0876\n",
      "Epoch 3/50\n",
      "129/129 [==============================] - 1s 6ms/step - loss: 61.3939 - mape: 22.0950 - val_loss: 159.6410 - val_mape: 9.0698\n",
      "Epoch 4/50\n",
      "125/129 [============================>.] - ETA: 0s - loss: 52.9409 - mape: 19.5041INFO:tensorflow:Assets written to: ./models\\25.44_04men_10_lstm_1_dense_3_unit_16\\assets\n"
     ]
    },
    {
     "name": "stderr",
     "output_type": "stream",
     "text": [
      "INFO:tensorflow:Assets written to: ./models\\25.44_04men_10_lstm_1_dense_3_unit_16\\assets\n"
     ]
    },
    {
     "name": "stdout",
     "output_type": "stream",
     "text": [
      "129/129 [==============================] - 4s 32ms/step - loss: 52.2285 - mape: 19.4194 - val_loss: 1060.2628 - val_mape: 25.4350\n",
      "Epoch 5/50\n",
      "127/129 [============================>.] - ETA: 0s - loss: 46.7285 - mape: 18.2864INFO:tensorflow:Assets written to: ./models\\29.17_05men_10_lstm_1_dense_3_unit_16\\assets\n"
     ]
    },
    {
     "name": "stderr",
     "output_type": "stream",
     "text": [
      "INFO:tensorflow:Assets written to: ./models\\29.17_05men_10_lstm_1_dense_3_unit_16\\assets\n"
     ]
    },
    {
     "name": "stdout",
     "output_type": "stream",
     "text": [
      "129/129 [==============================] - 4s 31ms/step - loss: 46.5961 - mape: 18.2584 - val_loss: 1391.9364 - val_mape: 29.1669\n",
      "Epoch 6/50\n",
      "129/129 [==============================] - 1s 6ms/step - loss: 39.5826 - mape: 16.5189 - val_loss: 822.1045 - val_mape: 22.2736\n",
      "Epoch 7/50\n",
      "129/129 [==============================] - 1s 6ms/step - loss: 41.9118 - mape: 16.6844 - val_loss: 904.3196 - val_mape: 22.9936\n",
      "Epoch 8/50\n",
      "129/129 [==============================] - 1s 6ms/step - loss: 39.9772 - mape: 16.2111 - val_loss: 1293.8038 - val_mape: 27.9496\n",
      "Epoch 9/50\n",
      "129/129 [==============================] - 1s 6ms/step - loss: 38.4131 - mape: 16.0882 - val_loss: 692.0292 - val_mape: 20.4938\n",
      "Epoch 10/50\n",
      "129/129 [==============================] - 1s 6ms/step - loss: 36.9101 - mape: 16.0127 - val_loss: 901.7423 - val_mape: 23.3878\n",
      "Epoch 11/50\n",
      "129/129 [==============================] - 1s 6ms/step - loss: 35.6203 - mape: 15.1923 - val_loss: 410.8317 - val_mape: 15.4621\n",
      "Epoch 12/50\n",
      "129/129 [==============================] - 1s 6ms/step - loss: 34.9725 - mape: 15.2494 - val_loss: 653.0172 - val_mape: 20.1385\n",
      "Epoch 13/50\n",
      "129/129 [==============================] - 1s 6ms/step - loss: 37.9714 - mape: 15.7935 - val_loss: 389.5205 - val_mape: 15.1185\n",
      "Epoch 14/50\n",
      "129/129 [==============================] - 1s 6ms/step - loss: 31.7931 - mape: 14.3767 - val_loss: 988.7430 - val_mape: 24.7298\n",
      "Epoch 15/50\n",
      "129/129 [==============================] - 1s 6ms/step - loss: 29.9928 - mape: 14.1721 - val_loss: 904.2316 - val_mape: 23.6482\n",
      "Epoch 16/50\n",
      "129/129 [==============================] - 1s 6ms/step - loss: 32.2689 - mape: 14.1000 - val_loss: 470.6925 - val_mape: 16.8281\n",
      "Epoch 17/50\n",
      "129/129 [==============================] - 1s 6ms/step - loss: 28.3170 - mape: 13.5629 - val_loss: 1084.0707 - val_mape: 25.8494\n",
      "Epoch 18/50\n",
      "127/129 [============================>.] - ETA: 0s - loss: 31.1622 - mape: 13.9433INFO:tensorflow:Assets written to: ./models\\29.36_18men_10_lstm_1_dense_3_unit_16\\assets\n"
     ]
    },
    {
     "name": "stderr",
     "output_type": "stream",
     "text": [
      "INFO:tensorflow:Assets written to: ./models\\29.36_18men_10_lstm_1_dense_3_unit_16\\assets\n"
     ]
    },
    {
     "name": "stdout",
     "output_type": "stream",
     "text": [
      "129/129 [==============================] - 4s 31ms/step - loss: 31.1862 - mape: 13.9802 - val_loss: 1368.4980 - val_mape: 29.3644\n",
      "Epoch 19/50\n",
      "129/129 [==============================] - 1s 6ms/step - loss: 31.0120 - mape: 14.2735 - val_loss: 1304.2496 - val_mape: 28.6059\n",
      "Epoch 20/50\n",
      "129/129 [==============================] - 1s 6ms/step - loss: 29.9027 - mape: 13.8085 - val_loss: 656.7917 - val_mape: 19.9432\n",
      "Epoch 21/50\n",
      "129/129 [==============================] - 1s 6ms/step - loss: 28.5377 - mape: 13.6828 - val_loss: 765.9823 - val_mape: 21.8842\n",
      "Epoch 22/50\n",
      "129/129 [==============================] - 1s 6ms/step - loss: 28.3753 - mape: 13.6491 - val_loss: 370.3552 - val_mape: 12.0707\n",
      "Epoch 23/50\n",
      "129/129 [==============================] - 1s 6ms/step - loss: 29.0099 - mape: 13.1702 - val_loss: 289.0533 - val_mape: 12.7260\n",
      "Epoch 24/50\n",
      "129/129 [==============================] - 1s 6ms/step - loss: 31.7704 - mape: 13.4255 - val_loss: 1149.1731 - val_mape: 26.7442\n",
      "Epoch 25/50\n",
      "129/129 [==============================] - 1s 6ms/step - loss: 28.0647 - mape: 12.5233 - val_loss: 752.4086 - val_mape: 21.7351\n",
      "Epoch 26/50\n",
      "129/129 [==============================] - 1s 6ms/step - loss: 25.0432 - mape: 12.3983 - val_loss: 632.4876 - val_mape: 19.5370\n",
      "Epoch 27/50\n",
      "129/129 [==============================] - 1s 6ms/step - loss: 27.7004 - mape: 12.8299 - val_loss: 696.5564 - val_mape: 20.6716\n",
      "Epoch 28/50\n",
      "129/129 [==============================] - 1s 6ms/step - loss: 28.4944 - mape: 12.6840 - val_loss: 996.9420 - val_mape: 25.1524\n",
      "Epoch 29/50\n",
      "129/129 [==============================] - 1s 6ms/step - loss: 27.4886 - mape: 12.9462 - val_loss: 1040.3334 - val_mape: 25.5304\n",
      "Epoch 30/50\n",
      "129/129 [==============================] - 1s 6ms/step - loss: 27.6956 - mape: 12.7272 - val_loss: 411.3510 - val_mape: 15.5958\n",
      "Epoch 31/50\n",
      "129/129 [==============================] - 1s 6ms/step - loss: 25.5224 - mape: 12.0819 - val_loss: 881.8738 - val_mape: 23.3444\n",
      "Epoch 32/50\n",
      "129/129 [==============================] - 1s 6ms/step - loss: 29.2144 - mape: 13.3492 - val_loss: 696.1570 - val_mape: 20.8274\n",
      "Epoch 33/50\n",
      "126/129 [============================>.] - ETA: 0s - loss: 26.7814 - mape: 12.8937INFO:tensorflow:Assets written to: ./models\\31.47_33men_10_lstm_1_dense_3_unit_16\\assets\n"
     ]
    },
    {
     "name": "stderr",
     "output_type": "stream",
     "text": [
      "INFO:tensorflow:Assets written to: ./models\\31.47_33men_10_lstm_1_dense_3_unit_16\\assets\n"
     ]
    },
    {
     "name": "stdout",
     "output_type": "stream",
     "text": [
      "129/129 [==============================] - 6s 47ms/step - loss: 26.7983 - mape: 12.8238 - val_loss: 1567.0717 - val_mape: 31.4708\n",
      "Epoch 34/50\n",
      "129/129 [==============================] - 1s 6ms/step - loss: 24.8742 - mape: 11.9664 - val_loss: 1011.0009 - val_mape: 25.2038\n",
      "Epoch 35/50\n",
      "129/129 [==============================] - 1s 6ms/step - loss: 25.7981 - mape: 12.5686 - val_loss: 807.2300 - val_mape: 22.4142\n",
      "Epoch 36/50\n",
      "129/129 [==============================] - 1s 6ms/step - loss: 24.7285 - mape: 12.4433 - val_loss: 1261.3135 - val_mape: 28.2683\n",
      "Epoch 37/50\n",
      "129/129 [==============================] - 1s 6ms/step - loss: 25.5847 - mape: 12.5737 - val_loss: 567.3596 - val_mape: 18.6604\n",
      "Epoch 38/50\n",
      "129/129 [==============================] - 1s 6ms/step - loss: 24.3697 - mape: 12.3290 - val_loss: 889.5135 - val_mape: 23.7629\n",
      "Epoch 39/50\n",
      "129/129 [==============================] - 1s 6ms/step - loss: 24.8374 - mape: 12.6476 - val_loss: 542.3603 - val_mape: 18.1762\n",
      "Epoch 40/50\n",
      "129/129 [==============================] - 1s 6ms/step - loss: 23.1545 - mape: 12.1822 - val_loss: 1131.3335 - val_mape: 26.7186\n",
      "Epoch 41/50\n",
      "129/129 [==============================] - 1s 6ms/step - loss: 21.9342 - mape: 11.9595 - val_loss: 1354.0018 - val_mape: 29.5287\n",
      "Epoch 42/50\n",
      "129/129 [==============================] - 1s 6ms/step - loss: 25.1091 - mape: 12.7083 - val_loss: 1155.7091 - val_mape: 27.1458\n",
      "Epoch 43/50\n",
      "129/129 [==============================] - 1s 6ms/step - loss: 22.7743 - mape: 12.5328 - val_loss: 754.8086 - val_mape: 21.9488\n",
      "Epoch 44/50\n",
      "129/129 [==============================] - 1s 6ms/step - loss: 22.6745 - mape: 12.3707 - val_loss: 755.5473 - val_mape: 21.7880\n",
      "Epoch 45/50\n",
      "129/129 [==============================] - 1s 6ms/step - loss: 23.6295 - mape: 12.3738 - val_loss: 977.1628 - val_mape: 24.8732\n",
      "Epoch 46/50\n",
      "129/129 [==============================] - 1s 6ms/step - loss: 24.9406 - mape: 12.5255 - val_loss: 896.5879 - val_mape: 23.9870\n",
      "Epoch 47/50\n",
      "129/129 [==============================] - 1s 6ms/step - loss: 23.0769 - mape: 12.4019 - val_loss: 893.0651 - val_mape: 23.8259\n",
      "Epoch 48/50\n",
      "129/129 [==============================] - 1s 6ms/step - loss: 23.6907 - mape: 12.2810 - val_loss: 655.1820 - val_mape: 20.3204\n",
      "Epoch 49/50\n",
      "129/129 [==============================] - 1s 6ms/step - loss: 24.8966 - mape: 12.7485 - val_loss: 753.1840 - val_mape: 21.8069\n",
      "Epoch 50/50\n",
      "129/129 [==============================] - 1s 6ms/step - loss: 21.4464 - mape: 12.2737 - val_loss: 964.1116 - val_mape: 24.3169\n",
      "Epoch 1/50\n",
      "128/129 [============================>.] - ETA: 0s - loss: 517.8062 - mape: 57.7569INFO:tensorflow:Assets written to: ./models\\15.18_01men_10_lstm_1_dense_3_unit_32\\assets\n"
     ]
    },
    {
     "name": "stderr",
     "output_type": "stream",
     "text": [
      "INFO:tensorflow:Assets written to: ./models\\15.18_01men_10_lstm_1_dense_3_unit_32\\assets\n"
     ]
    },
    {
     "name": "stdout",
     "output_type": "stream",
     "text": [
      "129/129 [==============================] - 8s 35ms/step - loss: 515.1996 - mape: 57.5683 - val_loss: 565.8934 - val_mape: 15.1821\n",
      "Epoch 2/50\n",
      "129/129 [==============================] - 1s 8ms/step - loss: 65.0912 - mape: 24.7322 - val_loss: 494.4739 - val_mape: 13.4462\n",
      "Epoch 3/50\n",
      "129/129 [==============================] - 1s 8ms/step - loss: 49.5180 - mape: 20.7816 - val_loss: 179.1514 - val_mape: 9.4965\n",
      "Epoch 4/50\n",
      "129/129 [==============================] - 1s 8ms/step - loss: 39.6757 - mape: 17.3615 - val_loss: 257.8232 - val_mape: 11.7850\n",
      "Epoch 5/50\n",
      "129/129 [==============================] - 1s 8ms/step - loss: 38.1646 - mape: 16.6185 - val_loss: 201.6293 - val_mape: 8.7137\n",
      "Epoch 6/50\n",
      "129/129 [==============================] - 1s 8ms/step - loss: 34.7496 - mape: 15.9558 - val_loss: 251.0085 - val_mape: 11.6054\n",
      "Epoch 7/50\n",
      "129/129 [==============================] - 1s 8ms/step - loss: 31.8763 - mape: 15.4660 - val_loss: 329.9627 - val_mape: 13.6646\n",
      "Epoch 8/50\n",
      "129/129 [==============================] - 1s 8ms/step - loss: 31.6814 - mape: 15.1297 - val_loss: 138.8899 - val_mape: 8.2411\n",
      "Epoch 9/50\n",
      "129/129 [==============================] - 1s 8ms/step - loss: 29.5243 - mape: 14.8670 - val_loss: 223.9262 - val_mape: 10.9009\n",
      "Epoch 10/50\n",
      "126/129 [============================>.] - ETA: 0s - loss: 29.4893 - mape: 14.2513INFO:tensorflow:Assets written to: ./models\\16.93_10men_10_lstm_1_dense_3_unit_32\\assets\n"
     ]
    },
    {
     "name": "stderr",
     "output_type": "stream",
     "text": [
      "INFO:tensorflow:Assets written to: ./models\\16.93_10men_10_lstm_1_dense_3_unit_32\\assets\n"
     ]
    },
    {
     "name": "stdout",
     "output_type": "stream",
     "text": [
      "129/129 [==============================] - 4s 32ms/step - loss: 29.6161 - mape: 14.2800 - val_loss: 480.5356 - val_mape: 16.9323\n",
      "Epoch 11/50\n",
      "129/129 [==============================] - 1s 8ms/step - loss: 29.6249 - mape: 13.8067 - val_loss: 282.3052 - val_mape: 12.5085\n",
      "Epoch 12/50\n",
      "129/129 [==============================] - 1s 8ms/step - loss: 29.3272 - mape: 13.7374 - val_loss: 436.2005 - val_mape: 15.9774\n",
      "Epoch 13/50\n",
      "129/129 [==============================] - 1s 8ms/step - loss: 29.5383 - mape: 13.7201 - val_loss: 310.0719 - val_mape: 13.1874\n",
      "Epoch 14/50\n",
      "129/129 [==============================] - 1s 8ms/step - loss: 26.4146 - mape: 13.1443 - val_loss: 161.4527 - val_mape: 9.0853\n",
      "Epoch 15/50\n",
      "129/129 [==============================] - 1s 8ms/step - loss: 25.7887 - mape: 13.1431 - val_loss: 184.3815 - val_mape: 9.7463\n",
      "Epoch 16/50\n",
      "129/129 [==============================] - 1s 8ms/step - loss: 27.1761 - mape: 12.8976 - val_loss: 335.2346 - val_mape: 13.8548\n",
      "Epoch 17/50\n",
      "129/129 [==============================] - 1s 8ms/step - loss: 27.7327 - mape: 12.8270 - val_loss: 433.9925 - val_mape: 15.9459\n",
      "Epoch 18/50\n",
      "129/129 [==============================] - 1s 8ms/step - loss: 23.8164 - mape: 12.7371 - val_loss: 167.1228 - val_mape: 9.2009\n",
      "Epoch 19/50\n",
      "129/129 [==============================] - 1s 8ms/step - loss: 25.6934 - mape: 12.7552 - val_loss: 407.7845 - val_mape: 15.3625\n",
      "Epoch 20/50\n",
      "125/129 [============================>.] - ETA: 0s - loss: 24.8379 - mape: 12.3736INFO:tensorflow:Assets written to: ./models\\20.76_20men_10_lstm_1_dense_3_unit_32\\assets\n"
     ]
    },
    {
     "name": "stderr",
     "output_type": "stream",
     "text": [
      "INFO:tensorflow:Assets written to: ./models\\20.76_20men_10_lstm_1_dense_3_unit_32\\assets\n"
     ]
    },
    {
     "name": "stdout",
     "output_type": "stream",
     "text": [
      "129/129 [==============================] - 4s 33ms/step - loss: 24.9122 - mape: 12.3823 - val_loss: 712.8086 - val_mape: 20.7622\n",
      "Epoch 21/50\n",
      "129/129 [==============================] - 1s 8ms/step - loss: 24.3019 - mape: 12.3161 - val_loss: 490.8888 - val_mape: 17.1253\n",
      "Epoch 22/50\n",
      "129/129 [==============================] - 1s 8ms/step - loss: 25.9371 - mape: 12.2131 - val_loss: 120.0518 - val_mape: 7.7586\n",
      "Epoch 23/50\n",
      "129/129 [==============================] - 1s 8ms/step - loss: 24.5432 - mape: 11.8620 - val_loss: 389.3865 - val_mape: 14.8886\n",
      "Epoch 24/50\n",
      "129/129 [==============================] - 1s 8ms/step - loss: 25.6232 - mape: 12.1995 - val_loss: 379.7184 - val_mape: 14.8145\n",
      "Epoch 25/50\n",
      "129/129 [==============================] - 1s 8ms/step - loss: 22.2374 - mape: 11.5680 - val_loss: 90.0653 - val_mape: 6.7366\n",
      "Epoch 26/50\n",
      "129/129 [==============================] - 1s 8ms/step - loss: 24.3184 - mape: 12.0426 - val_loss: 639.6272 - val_mape: 19.5945\n",
      "Epoch 27/50\n",
      "129/129 [==============================] - 1s 8ms/step - loss: 23.8315 - mape: 11.5871 - val_loss: 527.1394 - val_mape: 17.7395\n",
      "Epoch 28/50\n",
      "129/129 [==============================] - 1s 8ms/step - loss: 22.4248 - mape: 11.7646 - val_loss: 291.2020 - val_mape: 12.6774\n",
      "Epoch 29/50\n",
      "124/129 [===========================>..] - ETA: 0s - loss: 22.5651 - mape: 11.5141INFO:tensorflow:Assets written to: ./models\\21.77_29men_10_lstm_1_dense_3_unit_32\\assets\n"
     ]
    },
    {
     "name": "stderr",
     "output_type": "stream",
     "text": [
      "INFO:tensorflow:Assets written to: ./models\\21.77_29men_10_lstm_1_dense_3_unit_32\\assets\n"
     ]
    },
    {
     "name": "stdout",
     "output_type": "stream",
     "text": [
      "129/129 [==============================] - 4s 33ms/step - loss: 22.5011 - mape: 11.5608 - val_loss: 780.1501 - val_mape: 21.7730\n",
      "Epoch 30/50\n",
      "129/129 [==============================] - 1s 10ms/step - loss: 21.3873 - mape: 11.4235 - val_loss: 274.8715 - val_mape: 12.3414\n",
      "Epoch 31/50\n",
      "125/129 [============================>.] - ETA: 0s - loss: 20.9733 - mape: 11.5558INFO:tensorflow:Assets written to: ./models\\24.57_31men_10_lstm_1_dense_3_unit_32\\assets\n"
     ]
    },
    {
     "name": "stderr",
     "output_type": "stream",
     "text": [
      "INFO:tensorflow:Assets written to: ./models\\24.57_31men_10_lstm_1_dense_3_unit_32\\assets\n"
     ]
    },
    {
     "name": "stdout",
     "output_type": "stream",
     "text": [
      "129/129 [==============================] - 5s 40ms/step - loss: 21.4577 - mape: 11.5876 - val_loss: 977.0150 - val_mape: 24.5727\n",
      "Epoch 32/50\n",
      "129/129 [==============================] - 1s 9ms/step - loss: 21.9115 - mape: 11.2804 - val_loss: 218.9670 - val_mape: 10.4536\n",
      "Epoch 33/50\n",
      "129/129 [==============================] - 1s 9ms/step - loss: 22.1215 - mape: 11.7077 - val_loss: 442.2523 - val_mape: 16.0692\n",
      "Epoch 34/50\n",
      "129/129 [==============================] - 1s 9ms/step - loss: 20.1585 - mape: 11.3048 - val_loss: 315.9744 - val_mape: 13.4347\n",
      "Epoch 35/50\n",
      "129/129 [==============================] - 1s 9ms/step - loss: 23.5757 - mape: 11.7419 - val_loss: 269.0018 - val_mape: 12.2422\n",
      "Epoch 36/50\n",
      "129/129 [==============================] - 1s 9ms/step - loss: 20.9910 - mape: 10.9686 - val_loss: 564.3372 - val_mape: 18.3174\n",
      "Epoch 37/50\n",
      "129/129 [==============================] - 1s 9ms/step - loss: 20.5918 - mape: 11.2588 - val_loss: 107.2129 - val_mape: 7.2652\n",
      "Epoch 38/50\n",
      "129/129 [==============================] - 1s 9ms/step - loss: 20.1658 - mape: 11.0343 - val_loss: 214.3955 - val_mape: 10.5689\n",
      "Epoch 39/50\n",
      "129/129 [==============================] - 1s 8ms/step - loss: 19.6493 - mape: 10.8073 - val_loss: 259.1047 - val_mape: 11.5415\n",
      "Epoch 40/50\n",
      "129/129 [==============================] - 1s 9ms/step - loss: 20.4468 - mape: 10.8127 - val_loss: 154.8765 - val_mape: 8.8340\n",
      "Epoch 41/50\n",
      "129/129 [==============================] - 1s 9ms/step - loss: 19.4946 - mape: 10.9718 - val_loss: 506.9301 - val_mape: 17.3254\n",
      "Epoch 42/50\n",
      "129/129 [==============================] - 1s 9ms/step - loss: 20.0736 - mape: 10.9933 - val_loss: 255.1209 - val_mape: 11.6738\n",
      "Epoch 43/50\n",
      "129/129 [==============================] - 1s 9ms/step - loss: 19.0134 - mape: 10.9728 - val_loss: 417.2055 - val_mape: 15.2747\n",
      "Epoch 44/50\n",
      "129/129 [==============================] - 1s 10ms/step - loss: 18.7797 - mape: 10.7631 - val_loss: 464.6433 - val_mape: 16.4280\n",
      "Epoch 45/50\n",
      "129/129 [==============================] - 1s 10ms/step - loss: 20.3770 - mape: 11.0410 - val_loss: 383.4005 - val_mape: 14.9339\n",
      "Epoch 46/50\n",
      "129/129 [==============================] - 1s 8ms/step - loss: 19.2323 - mape: 10.8983 - val_loss: 478.8647 - val_mape: 16.8511\n",
      "Epoch 47/50\n",
      "129/129 [==============================] - 1s 9ms/step - loss: 19.6905 - mape: 11.1377 - val_loss: 236.3834 - val_mape: 11.3203\n",
      "Epoch 48/50\n",
      "129/129 [==============================] - 1s 9ms/step - loss: 19.9132 - mape: 11.1677 - val_loss: 305.6484 - val_mape: 12.9631\n",
      "Epoch 49/50\n",
      "129/129 [==============================] - 1s 9ms/step - loss: 19.5205 - mape: 11.0841 - val_loss: 236.3979 - val_mape: 11.2200\n",
      "Epoch 50/50\n",
      "129/129 [==============================] - 1s 9ms/step - loss: 19.2592 - mape: 11.0199 - val_loss: 341.2180 - val_mape: 13.6327\n",
      "Epoch 1/50\n",
      "124/129 [===========================>..] - ETA: 0s - loss: 988.6552 - mape: 87.1107INFO:tensorflow:Assets written to: ./models\\86.16_01men_10_lstm_2_dense_1_unit_8\\assets\n"
     ]
    },
    {
     "name": "stderr",
     "output_type": "stream",
     "text": [
      "INFO:tensorflow:Assets written to: ./models\\86.16_01men_10_lstm_2_dense_1_unit_8\\assets\n"
     ]
    },
    {
     "name": "stdout",
     "output_type": "stream",
     "text": [
      "129/129 [==============================] - 11s 58ms/step - loss: 971.3566 - mape: 86.0863 - val_loss: 11441.5830 - val_mape: 86.1571\n",
      "Epoch 2/50\n",
      "129/129 [==============================] - 1s 9ms/step - loss: 252.4851 - mape: 44.5903 - val_loss: 1556.6875 - val_mape: 29.2221\n",
      "Epoch 3/50\n",
      "129/129 [==============================] - 1s 9ms/step - loss: 153.6756 - mape: 30.8270 - val_loss: 151.3884 - val_mape: 8.4565\n",
      "Epoch 4/50\n",
      "129/129 [==============================] - 1s 9ms/step - loss: 109.0820 - mape: 27.1902 - val_loss: 224.6253 - val_mape: 10.2085\n",
      "Epoch 5/50\n",
      "129/129 [==============================] - 1s 9ms/step - loss: 84.1696 - mape: 24.7698 - val_loss: 428.4549 - val_mape: 14.7954\n",
      "Epoch 6/50\n",
      "129/129 [==============================] - 1s 9ms/step - loss: 78.5041 - mape: 24.1973 - val_loss: 413.3667 - val_mape: 14.7007\n",
      "Epoch 7/50\n",
      "129/129 [==============================] - 1s 9ms/step - loss: 78.0822 - mape: 23.6739 - val_loss: 238.8811 - val_mape: 10.7204\n",
      "Epoch 8/50\n",
      "129/129 [==============================] - 1s 9ms/step - loss: 62.2129 - mape: 21.7517 - val_loss: 694.2819 - val_mape: 19.6898\n",
      "Epoch 9/50\n",
      "129/129 [==============================] - 1s 9ms/step - loss: 53.6799 - mape: 21.0807 - val_loss: 576.3632 - val_mape: 17.7220\n",
      "Epoch 10/50\n",
      "129/129 [==============================] - 1s 9ms/step - loss: 57.6041 - mape: 20.4988 - val_loss: 355.4489 - val_mape: 13.4673\n",
      "Epoch 11/50\n",
      "129/129 [==============================] - 1s 8ms/step - loss: 51.2651 - mape: 20.8327 - val_loss: 426.6835 - val_mape: 14.8566\n",
      "Epoch 12/50\n",
      "129/129 [==============================] - 1s 9ms/step - loss: 52.2352 - mape: 20.8028 - val_loss: 768.8050 - val_mape: 20.8842\n",
      "Epoch 13/50\n",
      "129/129 [==============================] - 1s 9ms/step - loss: 52.8469 - mape: 20.6341 - val_loss: 653.8021 - val_mape: 19.0887\n",
      "Epoch 14/50\n",
      "129/129 [==============================] - 1s 8ms/step - loss: 52.5759 - mape: 20.3535 - val_loss: 838.3655 - val_mape: 22.0277\n",
      "Epoch 15/50\n",
      "129/129 [==============================] - 1s 8ms/step - loss: 55.6882 - mape: 20.2402 - val_loss: 664.5833 - val_mape: 19.0935\n",
      "Epoch 16/50\n",
      "129/129 [==============================] - 1s 9ms/step - loss: 51.6797 - mape: 19.8472 - val_loss: 681.2352 - val_mape: 19.1039\n",
      "Epoch 17/50\n",
      "129/129 [==============================] - 1s 9ms/step - loss: 54.5334 - mape: 20.1723 - val_loss: 633.9432 - val_mape: 18.4939\n",
      "Epoch 18/50\n",
      "129/129 [==============================] - 1s 9ms/step - loss: 54.3061 - mape: 20.1494 - val_loss: 482.6156 - val_mape: 16.0530\n",
      "Epoch 19/50\n",
      "129/129 [==============================] - 1s 9ms/step - loss: 49.9668 - mape: 19.5640 - val_loss: 760.1943 - val_mape: 20.6547\n",
      "Epoch 20/50\n",
      "129/129 [==============================] - 1s 9ms/step - loss: 49.3323 - mape: 19.7969 - val_loss: 521.2364 - val_mape: 16.8300\n",
      "Epoch 21/50\n",
      "129/129 [==============================] - 1s 9ms/step - loss: 52.5823 - mape: 19.6482 - val_loss: 826.9640 - val_mape: 21.8596\n",
      "Epoch 22/50\n",
      "129/129 [==============================] - 1s 9ms/step - loss: 45.5781 - mape: 19.5590 - val_loss: 540.0109 - val_mape: 17.3159\n",
      "Epoch 23/50\n",
      "129/129 [==============================] - 1s 8ms/step - loss: 52.9446 - mape: 19.8360 - val_loss: 686.8957 - val_mape: 19.5129\n",
      "Epoch 24/50\n",
      "129/129 [==============================] - 1s 8ms/step - loss: 43.6808 - mape: 19.1725 - val_loss: 438.5748 - val_mape: 15.2129\n",
      "Epoch 25/50\n",
      "129/129 [==============================] - 1s 9ms/step - loss: 49.1829 - mape: 19.4851 - val_loss: 246.4977 - val_mape: 11.0623\n",
      "Epoch 26/50\n",
      "129/129 [==============================] - 1s 9ms/step - loss: 46.0128 - mape: 18.7131 - val_loss: 616.3094 - val_mape: 18.5019\n",
      "Epoch 27/50\n",
      "129/129 [==============================] - 1s 8ms/step - loss: 46.4144 - mape: 18.8940 - val_loss: 800.7405 - val_mape: 21.2524\n",
      "Epoch 28/50\n",
      "129/129 [==============================] - 1s 8ms/step - loss: 50.2151 - mape: 19.1106 - val_loss: 357.4909 - val_mape: 13.7146\n",
      "Epoch 29/50\n",
      "129/129 [==============================] - 1s 8ms/step - loss: 47.3882 - mape: 18.7150 - val_loss: 389.0960 - val_mape: 14.0741\n",
      "Epoch 30/50\n",
      "129/129 [==============================] - 1s 8ms/step - loss: 49.3906 - mape: 18.9123 - val_loss: 266.3995 - val_mape: 11.6383\n",
      "Epoch 31/50\n",
      "129/129 [==============================] - 1s 8ms/step - loss: 45.2271 - mape: 18.8520 - val_loss: 1007.6594 - val_mape: 24.6882\n",
      "Epoch 32/50\n",
      "129/129 [==============================] - 1s 8ms/step - loss: 45.5627 - mape: 18.6652 - val_loss: 530.4603 - val_mape: 17.5192\n",
      "Epoch 33/50\n",
      "129/129 [==============================] - 1s 8ms/step - loss: 46.0090 - mape: 18.2898 - val_loss: 1364.2736 - val_mape: 28.8635\n",
      "Epoch 34/50\n",
      "129/129 [==============================] - 1s 9ms/step - loss: 46.6939 - mape: 18.7849 - val_loss: 783.8430 - val_mape: 21.5496\n",
      "Epoch 35/50\n",
      "129/129 [==============================] - 1s 9ms/step - loss: 38.4664 - mape: 17.8661 - val_loss: 781.4117 - val_mape: 21.4353\n",
      "Epoch 36/50\n",
      "129/129 [==============================] - 1s 9ms/step - loss: 48.0987 - mape: 18.5412 - val_loss: 782.7199 - val_mape: 21.0788\n",
      "Epoch 37/50\n",
      "129/129 [==============================] - 1s 9ms/step - loss: 45.0712 - mape: 18.3365 - val_loss: 963.3625 - val_mape: 23.5326\n",
      "Epoch 38/50\n",
      "129/129 [==============================] - 1s 9ms/step - loss: 47.1926 - mape: 18.6564 - val_loss: 799.4535 - val_mape: 21.6745\n",
      "Epoch 39/50\n",
      "129/129 [==============================] - 1s 9ms/step - loss: 44.4948 - mape: 18.0185 - val_loss: 902.8860 - val_mape: 23.2147\n",
      "Epoch 40/50\n",
      "129/129 [==============================] - 1s 9ms/step - loss: 43.5388 - mape: 17.9723 - val_loss: 500.0357 - val_mape: 16.9288\n",
      "Epoch 41/50\n",
      "129/129 [==============================] - 1s 8ms/step - loss: 44.9092 - mape: 18.3047 - val_loss: 505.9730 - val_mape: 17.1235\n",
      "Epoch 42/50\n",
      "129/129 [==============================] - 1s 8ms/step - loss: 44.6356 - mape: 17.8747 - val_loss: 548.2755 - val_mape: 18.0688\n",
      "Epoch 43/50\n",
      "129/129 [==============================] - 1s 9ms/step - loss: 44.8941 - mape: 17.2552 - val_loss: 867.8516 - val_mape: 23.1412\n",
      "Epoch 44/50\n",
      "129/129 [==============================] - 1s 9ms/step - loss: 39.9361 - mape: 17.1892 - val_loss: 490.4648 - val_mape: 16.9211\n",
      "Epoch 45/50\n",
      "129/129 [==============================] - 1s 9ms/step - loss: 46.6274 - mape: 17.7307 - val_loss: 187.7636 - val_mape: 9.9305\n",
      "Epoch 46/50\n",
      "129/129 [==============================] - 1s 9ms/step - loss: 44.1471 - mape: 18.0263 - val_loss: 614.4043 - val_mape: 19.2204\n",
      "Epoch 47/50\n",
      "129/129 [==============================] - 1s 9ms/step - loss: 47.2076 - mape: 17.9364 - val_loss: 487.0278 - val_mape: 16.8819\n",
      "Epoch 48/50\n",
      "129/129 [==============================] - 1s 9ms/step - loss: 42.4335 - mape: 17.1633 - val_loss: 698.7834 - val_mape: 20.3834\n",
      "Epoch 49/50\n",
      "129/129 [==============================] - 1s 9ms/step - loss: 41.4718 - mape: 17.1309 - val_loss: 375.4511 - val_mape: 14.5099\n",
      "Epoch 50/50\n",
      "129/129 [==============================] - 1s 9ms/step - loss: 42.5759 - mape: 16.9185 - val_loss: 651.2114 - val_mape: 19.6392\n",
      "Epoch 1/50\n",
      "125/129 [============================>.] - ETA: 0s - loss: 501.3322 - mape: 59.7955INFO:tensorflow:Assets written to: ./models\\25.34_01men_10_lstm_2_dense_1_unit_16\\assets\n"
     ]
    },
    {
     "name": "stderr",
     "output_type": "stream",
     "text": [
      "INFO:tensorflow:Assets written to: ./models\\25.34_01men_10_lstm_2_dense_1_unit_16\\assets\n"
     ]
    },
    {
     "name": "stdout",
     "output_type": "stream",
     "text": [
      "129/129 [==============================] - 9s 42ms/step - loss: 491.6177 - mape: 59.2126 - val_loss: 1642.9589 - val_mape: 25.3444\n",
      "Epoch 2/50\n",
      "129/129 [==============================] - 1s 9ms/step - loss: 72.8146 - mape: 25.7188 - val_loss: 359.4888 - val_mape: 13.5279\n",
      "Epoch 3/50\n",
      "129/129 [==============================] - 1s 9ms/step - loss: 55.3029 - mape: 22.1550 - val_loss: 637.8060 - val_mape: 19.8742\n",
      "Epoch 4/50\n",
      "129/129 [==============================] - 1s 9ms/step - loss: 47.6514 - mape: 20.6539 - val_loss: 1296.3619 - val_mape: 24.8183\n",
      "Epoch 5/50\n",
      "129/129 [==============================] - 1s 9ms/step - loss: 38.7654 - mape: 19.6533 - val_loss: 245.0550 - val_mape: 9.8492\n",
      "Epoch 6/50\n",
      "129/129 [==============================] - 1s 9ms/step - loss: 37.7982 - mape: 18.5813 - val_loss: 399.1100 - val_mape: 12.0928\n",
      "Epoch 7/50\n",
      "129/129 [==============================] - 1s 9ms/step - loss: 38.7295 - mape: 18.1208 - val_loss: 122.3075 - val_mape: 7.0954\n",
      "Epoch 8/50\n",
      "129/129 [==============================] - 1s 9ms/step - loss: 36.7302 - mape: 17.3282 - val_loss: 282.1515 - val_mape: 11.0023\n",
      "Epoch 9/50\n",
      "129/129 [==============================] - 1s 9ms/step - loss: 33.4364 - mape: 16.4909 - val_loss: 237.0806 - val_mape: 9.8320\n",
      "Epoch 10/50\n",
      "129/129 [==============================] - 1s 9ms/step - loss: 33.0556 - mape: 16.1397 - val_loss: 118.3747 - val_mape: 7.1348\n",
      "Epoch 11/50\n",
      "129/129 [==============================] - 1s 9ms/step - loss: 33.7489 - mape: 15.8184 - val_loss: 194.7065 - val_mape: 8.6576\n",
      "Epoch 12/50\n",
      "129/129 [==============================] - 1s 9ms/step - loss: 32.0509 - mape: 15.5257 - val_loss: 310.2264 - val_mape: 11.1567\n",
      "Epoch 13/50\n",
      "129/129 [==============================] - 1s 9ms/step - loss: 31.0600 - mape: 15.2854 - val_loss: 161.7865 - val_mape: 7.8712\n",
      "Epoch 14/50\n",
      "129/129 [==============================] - 1s 9ms/step - loss: 32.0634 - mape: 15.6436 - val_loss: 104.1041 - val_mape: 7.0257\n",
      "Epoch 15/50\n",
      "129/129 [==============================] - 1s 9ms/step - loss: 29.1311 - mape: 15.1561 - val_loss: 381.2207 - val_mape: 12.7096\n",
      "Epoch 16/50\n",
      "129/129 [==============================] - 1s 9ms/step - loss: 29.8150 - mape: 14.7765 - val_loss: 224.9953 - val_mape: 11.1129\n",
      "Epoch 17/50\n",
      "129/129 [==============================] - 1s 9ms/step - loss: 29.1592 - mape: 15.0884 - val_loss: 101.3323 - val_mape: 6.6202\n",
      "Epoch 18/50\n",
      "129/129 [==============================] - 1s 9ms/step - loss: 25.8809 - mape: 13.8104 - val_loss: 141.8221 - val_mape: 8.5926\n",
      "Epoch 19/50\n",
      "129/129 [==============================] - 1s 9ms/step - loss: 28.5477 - mape: 14.1811 - val_loss: 106.4860 - val_mape: 7.4168\n",
      "Epoch 20/50\n",
      "129/129 [==============================] - 1s 9ms/step - loss: 31.2460 - mape: 14.9514 - val_loss: 245.7464 - val_mape: 10.3627\n",
      "Epoch 21/50\n",
      "129/129 [==============================] - 1s 9ms/step - loss: 25.7831 - mape: 13.5961 - val_loss: 91.6384 - val_mape: 6.0378\n",
      "Epoch 22/50\n",
      "129/129 [==============================] - 1s 9ms/step - loss: 25.1853 - mape: 14.2025 - val_loss: 85.1387 - val_mape: 6.5650\n",
      "Epoch 23/50\n",
      "129/129 [==============================] - 1s 9ms/step - loss: 24.0171 - mape: 13.4805 - val_loss: 96.8755 - val_mape: 7.0514\n",
      "Epoch 24/50\n",
      "129/129 [==============================] - 1s 9ms/step - loss: 26.0735 - mape: 13.4128 - val_loss: 149.9538 - val_mape: 8.8681\n",
      "Epoch 25/50\n",
      "129/129 [==============================] - 1s 9ms/step - loss: 24.5293 - mape: 13.4332 - val_loss: 96.8976 - val_mape: 6.9819\n",
      "Epoch 26/50\n",
      "129/129 [==============================] - 1s 9ms/step - loss: 24.3222 - mape: 13.2322 - val_loss: 303.1228 - val_mape: 12.9217\n",
      "Epoch 27/50\n",
      "129/129 [==============================] - 1s 9ms/step - loss: 24.5502 - mape: 13.2918 - val_loss: 105.7971 - val_mape: 7.3299\n",
      "Epoch 28/50\n",
      "129/129 [==============================] - 1s 9ms/step - loss: 26.4270 - mape: 13.0228 - val_loss: 68.3634 - val_mape: 5.7998\n",
      "Epoch 29/50\n",
      "129/129 [==============================] - 1s 9ms/step - loss: 21.4549 - mape: 12.3155 - val_loss: 293.3002 - val_mape: 12.2976\n",
      "Epoch 30/50\n",
      "129/129 [==============================] - 1s 10ms/step - loss: 24.0042 - mape: 13.0825 - val_loss: 650.0406 - val_mape: 19.4047\n",
      "Epoch 31/50\n",
      "129/129 [==============================] - 1s 9ms/step - loss: 22.2847 - mape: 12.2842 - val_loss: 335.0593 - val_mape: 13.2314\n",
      "Epoch 32/50\n",
      "129/129 [==============================] - 1s 9ms/step - loss: 23.7113 - mape: 12.4775 - val_loss: 435.5829 - val_mape: 15.5649\n",
      "Epoch 33/50\n",
      "129/129 [==============================] - 1s 9ms/step - loss: 23.0767 - mape: 12.6028 - val_loss: 286.6470 - val_mape: 12.2226\n",
      "Epoch 34/50\n",
      "129/129 [==============================] - 1s 9ms/step - loss: 23.7665 - mape: 12.2328 - val_loss: 484.6523 - val_mape: 16.7132\n",
      "Epoch 35/50\n",
      "129/129 [==============================] - 1s 9ms/step - loss: 24.5343 - mape: 12.5072 - val_loss: 89.1232 - val_mape: 6.5832\n",
      "Epoch 36/50\n",
      "129/129 [==============================] - 1s 9ms/step - loss: 23.8856 - mape: 12.8557 - val_loss: 343.6090 - val_mape: 13.5248\n",
      "Epoch 37/50\n",
      "129/129 [==============================] - 1s 9ms/step - loss: 21.5340 - mape: 11.9303 - val_loss: 269.1384 - val_mape: 11.8727\n",
      "Epoch 38/50\n",
      "129/129 [==============================] - 1s 9ms/step - loss: 22.4375 - mape: 11.8531 - val_loss: 329.1932 - val_mape: 13.0005\n",
      "Epoch 39/50\n",
      "129/129 [==============================] - 1s 9ms/step - loss: 23.8913 - mape: 12.3165 - val_loss: 333.7465 - val_mape: 13.0834\n",
      "Epoch 40/50\n",
      "129/129 [==============================] - 1s 9ms/step - loss: 20.5476 - mape: 11.6967 - val_loss: 446.1842 - val_mape: 15.6678\n",
      "Epoch 41/50\n",
      "129/129 [==============================] - 1s 9ms/step - loss: 20.0205 - mape: 11.6016 - val_loss: 710.8738 - val_mape: 20.3274\n",
      "Epoch 42/50\n",
      "129/129 [==============================] - 1s 9ms/step - loss: 23.0607 - mape: 12.4578 - val_loss: 427.6324 - val_mape: 15.2238\n",
      "Epoch 43/50\n",
      "129/129 [==============================] - 1s 9ms/step - loss: 22.7964 - mape: 12.4384 - val_loss: 848.5171 - val_mape: 22.4170\n",
      "Epoch 44/50\n",
      "129/129 [==============================] - 1s 9ms/step - loss: 23.1499 - mape: 11.6509 - val_loss: 577.7672 - val_mape: 18.1047\n",
      "Epoch 45/50\n",
      "127/129 [============================>.] - ETA: 0s - loss: 21.8621 - mape: 11.5380INFO:tensorflow:Assets written to: ./models\\26.58_45men_10_lstm_2_dense_1_unit_16\\assets\n"
     ]
    },
    {
     "name": "stderr",
     "output_type": "stream",
     "text": [
      "INFO:tensorflow:Assets written to: ./models\\26.58_45men_10_lstm_2_dense_1_unit_16\\assets\n"
     ]
    },
    {
     "name": "stdout",
     "output_type": "stream",
     "text": [
      "129/129 [==============================] - 5s 38ms/step - loss: 21.8876 - mape: 11.5382 - val_loss: 1178.1206 - val_mape: 26.5768\n",
      "Epoch 46/50\n",
      "129/129 [==============================] - 1s 9ms/step - loss: 23.5136 - mape: 12.0917 - val_loss: 339.0216 - val_mape: 13.0355\n",
      "Epoch 47/50\n",
      "129/129 [==============================] - 1s 9ms/step - loss: 22.6198 - mape: 11.2087 - val_loss: 225.3319 - val_mape: 10.0692\n",
      "Epoch 48/50\n",
      "129/129 [==============================] - 1s 9ms/step - loss: 21.4117 - mape: 11.4930 - val_loss: 261.5934 - val_mape: 11.0059\n",
      "Epoch 49/50\n",
      "129/129 [==============================] - 1s 9ms/step - loss: 21.6416 - mape: 11.9354 - val_loss: 485.9059 - val_mape: 16.5216\n",
      "Epoch 50/50\n",
      "129/129 [==============================] - 1s 9ms/step - loss: 21.1830 - mape: 11.3607 - val_loss: 494.1038 - val_mape: 16.1959\n",
      "Epoch 1/50\n",
      "125/128 [============================>.] - ETA: 0s - loss: 413.5145 - mape: 50.7088INFO:tensorflow:Assets written to: ./models\\11.53_01men_10_lstm_2_dense_1_unit_32\\assets\n"
     ]
    },
    {
     "name": "stderr",
     "output_type": "stream",
     "text": [
      "INFO:tensorflow:Assets written to: ./models\\11.53_01men_10_lstm_2_dense_1_unit_32\\assets\n"
     ]
    },
    {
     "name": "stdout",
     "output_type": "stream",
     "text": [
      "128/128 [==============================] - 9s 43ms/step - loss: 404.8555 - mape: 49.9410 - val_loss: 341.2796 - val_mape: 11.5251\n",
      "Epoch 2/50\n",
      "127/128 [============================>.] - ETA: 0s - loss: 34.0128 - mape: 18.6317INFO:tensorflow:Assets written to: ./models\\15.17_02men_10_lstm_2_dense_1_unit_32\\assets\n"
     ]
    },
    {
     "name": "stderr",
     "output_type": "stream",
     "text": [
      "INFO:tensorflow:Assets written to: ./models\\15.17_02men_10_lstm_2_dense_1_unit_32\\assets\n"
     ]
    },
    {
     "name": "stdout",
     "output_type": "stream",
     "text": [
      "128/128 [==============================] - 7s 55ms/step - loss: 33.9358 - mape: 18.5894 - val_loss: 542.7003 - val_mape: 15.1748\n",
      "Epoch 3/50\n",
      "128/128 [==============================] - 1s 10ms/step - loss: 30.7393 - mape: 16.9861 - val_loss: 291.0541 - val_mape: 10.5824\n",
      "Epoch 4/50\n",
      "127/128 [============================>.] - ETA: 0s - loss: 30.4785 - mape: 15.3908INFO:tensorflow:Assets written to: ./models\\18.79_04men_10_lstm_2_dense_1_unit_32\\assets\n"
     ]
    },
    {
     "name": "stderr",
     "output_type": "stream",
     "text": [
      "INFO:tensorflow:Assets written to: ./models\\18.79_04men_10_lstm_2_dense_1_unit_32\\assets\n"
     ]
    },
    {
     "name": "stdout",
     "output_type": "stream",
     "text": [
      "128/128 [==============================] - 5s 39ms/step - loss: 30.4350 - mape: 15.3609 - val_loss: 768.4696 - val_mape: 18.7907\n",
      "Epoch 5/50\n",
      "128/128 [==============================] - 1s 10ms/step - loss: 24.2243 - mape: 14.0774 - val_loss: 147.6303 - val_mape: 7.5199\n",
      "Epoch 6/50\n",
      "128/128 [==============================] - 1s 10ms/step - loss: 22.7522 - mape: 13.1062 - val_loss: 87.8973 - val_mape: 6.3538\n",
      "Epoch 7/50\n",
      "128/128 [==============================] - 1s 10ms/step - loss: 23.6358 - mape: 13.3105 - val_loss: 81.3824 - val_mape: 6.3206\n",
      "Epoch 8/50\n",
      "128/128 [==============================] - 1s 10ms/step - loss: 22.7926 - mape: 12.9248 - val_loss: 96.0128 - val_mape: 6.9635\n",
      "Epoch 9/50\n",
      "128/128 [==============================] - 1s 10ms/step - loss: 20.4509 - mape: 11.9395 - val_loss: 259.0920 - val_mape: 10.3374\n",
      "Epoch 10/50\n",
      "128/128 [==============================] - 1s 10ms/step - loss: 20.0137 - mape: 12.3502 - val_loss: 118.0925 - val_mape: 7.1735\n",
      "Epoch 11/50\n",
      "128/128 [==============================] - 1s 10ms/step - loss: 21.4395 - mape: 12.4024 - val_loss: 167.4508 - val_mape: 7.9809\n",
      "Epoch 12/50\n",
      "128/128 [==============================] - 1s 10ms/step - loss: 18.8886 - mape: 12.1977 - val_loss: 367.1638 - val_mape: 12.7244\n",
      "Epoch 13/50\n",
      "128/128 [==============================] - 1s 10ms/step - loss: 21.1778 - mape: 11.9406 - val_loss: 95.3251 - val_mape: 6.7912\n",
      "Epoch 14/50\n",
      "128/128 [==============================] - 1s 10ms/step - loss: 19.0421 - mape: 11.4767 - val_loss: 145.4475 - val_mape: 7.5014\n",
      "Epoch 15/50\n",
      "128/128 [==============================] - 1s 10ms/step - loss: 18.2665 - mape: 11.2026 - val_loss: 79.4961 - val_mape: 5.8837\n",
      "Epoch 16/50\n",
      "128/128 [==============================] - 1s 10ms/step - loss: 19.6863 - mape: 11.9376 - val_loss: 230.6826 - val_mape: 11.1105\n",
      "Epoch 17/50\n",
      "128/128 [==============================] - 1s 10ms/step - loss: 16.9227 - mape: 10.9628 - val_loss: 113.0462 - val_mape: 7.6108\n",
      "Epoch 18/50\n",
      "128/128 [==============================] - 1s 10ms/step - loss: 17.0334 - mape: 11.1014 - val_loss: 84.2752 - val_mape: 6.5200\n",
      "Epoch 19/50\n",
      "128/128 [==============================] - 1s 10ms/step - loss: 17.1757 - mape: 11.2079 - val_loss: 341.4319 - val_mape: 13.8904\n",
      "Epoch 20/50\n",
      "128/128 [==============================] - 1s 10ms/step - loss: 16.4893 - mape: 10.8264 - val_loss: 80.0868 - val_mape: 6.3533\n",
      "Epoch 21/50\n",
      "128/128 [==============================] - 1s 10ms/step - loss: 15.2316 - mape: 10.7729 - val_loss: 123.7683 - val_mape: 7.9090\n",
      "Epoch 22/50\n",
      "128/128 [==============================] - 1s 10ms/step - loss: 14.7277 - mape: 10.3836 - val_loss: 286.3764 - val_mape: 12.5020\n",
      "Epoch 23/50\n",
      "128/128 [==============================] - 1s 10ms/step - loss: 15.5193 - mape: 10.2953 - val_loss: 108.2185 - val_mape: 7.4143\n",
      "Epoch 24/50\n",
      "128/128 [==============================] - 1s 10ms/step - loss: 16.5647 - mape: 10.8760 - val_loss: 87.4903 - val_mape: 6.7140\n",
      "Epoch 25/50\n",
      "128/128 [==============================] - 1s 10ms/step - loss: 14.1426 - mape: 9.9251 - val_loss: 222.2767 - val_mape: 10.9521\n",
      "Epoch 26/50\n",
      "128/128 [==============================] - 1s 10ms/step - loss: 14.4762 - mape: 10.3105 - val_loss: 191.0888 - val_mape: 10.0093\n",
      "Epoch 27/50\n",
      "128/128 [==============================] - 1s 10ms/step - loss: 15.1873 - mape: 10.3783 - val_loss: 75.1861 - val_mape: 6.1451\n",
      "Epoch 28/50\n",
      "128/128 [==============================] - 1s 10ms/step - loss: 15.4118 - mape: 9.9260 - val_loss: 70.3357 - val_mape: 5.8904\n",
      "Epoch 29/50\n",
      "128/128 [==============================] - 1s 10ms/step - loss: 13.4857 - mape: 9.8499 - val_loss: 315.5596 - val_mape: 13.2870\n",
      "Epoch 30/50\n",
      "128/128 [==============================] - 1s 10ms/step - loss: 14.2860 - mape: 10.0441 - val_loss: 385.8478 - val_mape: 14.8217\n",
      "Epoch 31/50\n",
      "128/128 [==============================] - 1s 10ms/step - loss: 13.7146 - mape: 9.6873 - val_loss: 73.7354 - val_mape: 5.4598\n",
      "Epoch 32/50\n",
      "128/128 [==============================] - 1s 10ms/step - loss: 14.2125 - mape: 10.0438 - val_loss: 578.5831 - val_mape: 18.3202\n",
      "Epoch 33/50\n",
      "128/128 [==============================] - 1s 10ms/step - loss: 14.0823 - mape: 10.1070 - val_loss: 169.7426 - val_mape: 9.3611\n",
      "Epoch 34/50\n",
      "128/128 [==============================] - 1s 10ms/step - loss: 13.6954 - mape: 9.7405 - val_loss: 190.7265 - val_mape: 9.8325\n",
      "Epoch 35/50\n",
      "128/128 [==============================] - 1s 10ms/step - loss: 15.3540 - mape: 10.6374 - val_loss: 193.3357 - val_mape: 9.9623\n",
      "Epoch 36/50\n",
      "128/128 [==============================] - 1s 10ms/step - loss: 14.7504 - mape: 9.7092 - val_loss: 525.6810 - val_mape: 17.3684\n",
      "Epoch 37/50\n",
      "128/128 [==============================] - 1s 10ms/step - loss: 14.0884 - mape: 9.8978 - val_loss: 169.4816 - val_mape: 9.4346\n",
      "Epoch 38/50\n",
      "128/128 [==============================] - 1s 10ms/step - loss: 13.1860 - mape: 9.8088 - val_loss: 103.9027 - val_mape: 7.2276\n",
      "Epoch 39/50\n",
      "128/128 [==============================] - 1s 10ms/step - loss: 13.5975 - mape: 9.6995 - val_loss: 62.7790 - val_mape: 5.5061\n",
      "Epoch 40/50\n",
      "128/128 [==============================] - 1s 10ms/step - loss: 12.9582 - mape: 9.4502 - val_loss: 346.8760 - val_mape: 13.8899\n",
      "Epoch 41/50\n",
      "128/128 [==============================] - 1s 10ms/step - loss: 13.4910 - mape: 9.4080 - val_loss: 78.6698 - val_mape: 6.2278\n",
      "Epoch 42/50\n",
      "128/128 [==============================] - 1s 10ms/step - loss: 13.2818 - mape: 9.7301 - val_loss: 284.6478 - val_mape: 12.3833\n",
      "Epoch 43/50\n",
      "128/128 [==============================] - 1s 10ms/step - loss: 12.5411 - mape: 9.3443 - val_loss: 326.4232 - val_mape: 13.4862\n",
      "Epoch 44/50\n",
      "128/128 [==============================] - 1s 10ms/step - loss: 14.0005 - mape: 9.4891 - val_loss: 517.2636 - val_mape: 17.3720\n",
      "Epoch 45/50\n",
      "128/128 [==============================] - 1s 10ms/step - loss: 14.4232 - mape: 9.6183 - val_loss: 92.6343 - val_mape: 6.5818\n",
      "Epoch 46/50\n",
      "128/128 [==============================] - 1s 10ms/step - loss: 13.4166 - mape: 9.5710 - val_loss: 95.3521 - val_mape: 6.9501\n",
      "Epoch 47/50\n",
      "128/128 [==============================] - 1s 10ms/step - loss: 14.4018 - mape: 10.2914 - val_loss: 348.0476 - val_mape: 13.8821\n",
      "Epoch 48/50\n",
      "128/128 [==============================] - 1s 10ms/step - loss: 12.1788 - mape: 9.2910 - val_loss: 181.4361 - val_mape: 9.3799\n",
      "Epoch 49/50\n",
      "128/128 [==============================] - 1s 10ms/step - loss: 13.6179 - mape: 9.7123 - val_loss: 137.1326 - val_mape: 8.3240\n",
      "Epoch 50/50\n",
      "128/128 [==============================] - 1s 10ms/step - loss: 12.9768 - mape: 9.6507 - val_loss: 415.8989 - val_mape: 15.6477\n",
      "Epoch 1/50\n",
      "124/128 [============================>.] - ETA: 0s - loss: 606.6895 - mape: 66.8189INFO:tensorflow:Assets written to: ./models\\9.63_01men_10_lstm_2_dense_2_unit_8\\assets\n"
     ]
    },
    {
     "name": "stderr",
     "output_type": "stream",
     "text": [
      "INFO:tensorflow:Assets written to: ./models\\9.63_01men_10_lstm_2_dense_2_unit_8\\assets\n"
     ]
    },
    {
     "name": "stdout",
     "output_type": "stream",
     "text": [
      "128/128 [==============================] - 10s 43ms/step - loss: 595.1802 - mape: 65.9103 - val_loss: 243.7193 - val_mape: 9.6341\n",
      "Epoch 2/50\n",
      "128/128 [==============================] - ETA: 0s - loss: 134.2588 - mape: 32.4662INFO:tensorflow:Assets written to: ./models\\14.97_02men_10_lstm_2_dense_2_unit_8\\assets\n"
     ]
    },
    {
     "name": "stderr",
     "output_type": "stream",
     "text": [
      "INFO:tensorflow:Assets written to: ./models\\14.97_02men_10_lstm_2_dense_2_unit_8\\assets\n"
     ]
    },
    {
     "name": "stdout",
     "output_type": "stream",
     "text": [
      "128/128 [==============================] - 5s 40ms/step - loss: 134.2588 - mape: 32.4662 - val_loss: 382.9935 - val_mape: 14.9704\n",
      "Epoch 3/50\n",
      "123/128 [===========================>..] - ETA: 0s - loss: 105.5384 - mape: 27.4979INFO:tensorflow:Assets written to: ./models\\18.60_03men_10_lstm_2_dense_2_unit_8\\assets\n"
     ]
    },
    {
     "name": "stderr",
     "output_type": "stream",
     "text": [
      "INFO:tensorflow:Assets written to: ./models\\18.60_03men_10_lstm_2_dense_2_unit_8\\assets\n"
     ]
    },
    {
     "name": "stdout",
     "output_type": "stream",
     "text": [
      "128/128 [==============================] - 5s 40ms/step - loss: 104.3650 - mape: 27.3634 - val_loss: 601.5122 - val_mape: 18.5998\n",
      "Epoch 4/50\n",
      "127/128 [============================>.] - ETA: 0s - loss: 95.3533 - mape: 25.0368INFO:tensorflow:Assets written to: ./models\\22.83_04men_10_lstm_2_dense_2_unit_8\\assets\n"
     ]
    },
    {
     "name": "stderr",
     "output_type": "stream",
     "text": [
      "INFO:tensorflow:Assets written to: ./models\\22.83_04men_10_lstm_2_dense_2_unit_8\\assets\n"
     ]
    },
    {
     "name": "stdout",
     "output_type": "stream",
     "text": [
      "128/128 [==============================] - 5s 39ms/step - loss: 95.4703 - mape: 25.0077 - val_loss: 923.4147 - val_mape: 22.8315\n",
      "Epoch 5/50\n",
      "128/128 [==============================] - 1s 9ms/step - loss: 86.4781 - mape: 23.5015 - val_loss: 411.2906 - val_mape: 14.2430\n",
      "Epoch 6/50\n",
      "128/128 [==============================] - 1s 9ms/step - loss: 76.5952 - mape: 22.3220 - val_loss: 237.6687 - val_mape: 10.7960\n",
      "Epoch 7/50\n",
      "128/128 [==============================] - 1s 10ms/step - loss: 68.3300 - mape: 21.7380 - val_loss: 397.0836 - val_mape: 14.6231\n",
      "Epoch 8/50\n",
      "128/128 [==============================] - 1s 11ms/step - loss: 66.1000 - mape: 20.8961 - val_loss: 358.8469 - val_mape: 13.9936\n",
      "Epoch 9/50\n",
      "128/128 [==============================] - 1s 11ms/step - loss: 58.8240 - mape: 20.3822 - val_loss: 405.6731 - val_mape: 14.8517\n",
      "Epoch 10/50\n",
      "128/128 [==============================] - 1s 10ms/step - loss: 60.0996 - mape: 19.7828 - val_loss: 494.5190 - val_mape: 16.7664\n",
      "Epoch 11/50\n",
      "128/128 [==============================] - 1s 9ms/step - loss: 56.9174 - mape: 19.4915 - val_loss: 605.7455 - val_mape: 18.9826\n",
      "Epoch 12/50\n",
      "128/128 [==============================] - 1s 9ms/step - loss: 49.8217 - mape: 18.9467 - val_loss: 616.1852 - val_mape: 19.4240\n",
      "Epoch 13/50\n",
      "126/128 [============================>.] - ETA: 0s - loss: 51.3164 - mape: 18.4330INFO:tensorflow:Assets written to: ./models\\23.04_13men_10_lstm_2_dense_2_unit_8\\assets\n"
     ]
    },
    {
     "name": "stderr",
     "output_type": "stream",
     "text": [
      "INFO:tensorflow:Assets written to: ./models\\23.04_13men_10_lstm_2_dense_2_unit_8\\assets\n"
     ]
    },
    {
     "name": "stdout",
     "output_type": "stream",
     "text": [
      "128/128 [==============================] - 7s 57ms/step - loss: 51.0478 - mape: 18.3910 - val_loss: 857.4733 - val_mape: 23.0372\n",
      "Epoch 14/50\n",
      "128/128 [==============================] - 1s 9ms/step - loss: 46.6022 - mape: 18.1002 - val_loss: 205.5071 - val_mape: 10.7226\n",
      "Epoch 15/50\n",
      "128/128 [==============================] - 1s 9ms/step - loss: 47.4049 - mape: 18.3393 - val_loss: 250.6244 - val_mape: 11.8430\n",
      "Epoch 16/50\n",
      "128/128 [==============================] - 1s 9ms/step - loss: 48.0882 - mape: 18.3084 - val_loss: 205.9112 - val_mape: 10.0412\n",
      "Epoch 17/50\n",
      "128/128 [==============================] - 1s 9ms/step - loss: 47.1615 - mape: 18.2992 - val_loss: 218.9030 - val_mape: 10.5965\n",
      "Epoch 18/50\n",
      "128/128 [==============================] - 1s 9ms/step - loss: 40.8259 - mape: 17.6546 - val_loss: 595.7285 - val_mape: 19.1331\n",
      "Epoch 19/50\n",
      "128/128 [==============================] - 1s 9ms/step - loss: 41.0716 - mape: 17.7797 - val_loss: 368.7852 - val_mape: 14.6485\n",
      "Epoch 20/50\n",
      "128/128 [==============================] - 1s 9ms/step - loss: 41.8643 - mape: 17.9411 - val_loss: 546.4089 - val_mape: 18.2194\n",
      "Epoch 21/50\n",
      "128/128 [==============================] - 1s 9ms/step - loss: 40.8044 - mape: 17.4035 - val_loss: 961.9188 - val_mape: 19.5382\n",
      "Epoch 22/50\n",
      "128/128 [==============================] - 1s 9ms/step - loss: 37.2599 - mape: 17.0195 - val_loss: 598.0858 - val_mape: 19.1919\n",
      "Epoch 23/50\n",
      "128/128 [==============================] - 1s 9ms/step - loss: 42.1148 - mape: 17.7180 - val_loss: 242.6912 - val_mape: 11.5838\n",
      "Epoch 24/50\n",
      "128/128 [==============================] - 1s 9ms/step - loss: 37.5706 - mape: 17.3681 - val_loss: 573.9272 - val_mape: 15.8803\n",
      "Epoch 25/50\n",
      "126/128 [============================>.] - ETA: 0s - loss: 38.7961 - mape: 17.2041INFO:tensorflow:Assets written to: ./models\\26.05_25men_10_lstm_2_dense_2_unit_8\\assets\n"
     ]
    },
    {
     "name": "stderr",
     "output_type": "stream",
     "text": [
      "INFO:tensorflow:Assets written to: ./models\\26.05_25men_10_lstm_2_dense_2_unit_8\\assets\n"
     ]
    },
    {
     "name": "stdout",
     "output_type": "stream",
     "text": [
      "128/128 [==============================] - 5s 39ms/step - loss: 39.1498 - mape: 17.1869 - val_loss: 1073.8706 - val_mape: 26.0522\n",
      "Epoch 26/50\n",
      "128/128 [==============================] - 1s 9ms/step - loss: 37.5274 - mape: 17.0687 - val_loss: 683.1878 - val_mape: 20.6179\n",
      "Epoch 27/50\n",
      "128/128 [==============================] - 1s 9ms/step - loss: 34.3212 - mape: 16.7068 - val_loss: 548.3031 - val_mape: 18.3996\n",
      "Epoch 28/50\n",
      "128/128 [==============================] - ETA: 0s - loss: 37.5019 - mape: 16.9356INFO:tensorflow:Assets written to: ./models\\32.26_28men_10_lstm_2_dense_2_unit_8\\assets\n"
     ]
    },
    {
     "name": "stderr",
     "output_type": "stream",
     "text": [
      "INFO:tensorflow:Assets written to: ./models\\32.26_28men_10_lstm_2_dense_2_unit_8\\assets\n"
     ]
    },
    {
     "name": "stdout",
     "output_type": "stream",
     "text": [
      "128/128 [==============================] - 5s 40ms/step - loss: 37.5019 - mape: 16.9356 - val_loss: 1655.5306 - val_mape: 32.2597\n",
      "Epoch 29/50\n",
      "128/128 [==============================] - 1s 9ms/step - loss: 39.3375 - mape: 16.6295 - val_loss: 1105.2461 - val_mape: 26.3611\n",
      "Epoch 30/50\n",
      "128/128 [==============================] - 1s 9ms/step - loss: 35.0367 - mape: 16.3901 - val_loss: 1305.8593 - val_mape: 28.6976\n",
      "Epoch 31/50\n",
      "128/128 [==============================] - 1s 9ms/step - loss: 35.3377 - mape: 16.9226 - val_loss: 398.8309 - val_mape: 15.4541\n",
      "Epoch 32/50\n",
      "128/128 [==============================] - 1s 9ms/step - loss: 36.6635 - mape: 16.6992 - val_loss: 939.4865 - val_mape: 23.4967\n",
      "Epoch 33/50\n",
      "128/128 [==============================] - 1s 9ms/step - loss: 35.8374 - mape: 16.7206 - val_loss: 1525.9238 - val_mape: 30.4488\n",
      "Epoch 34/50\n",
      "128/128 [==============================] - 1s 9ms/step - loss: 36.9167 - mape: 16.5300 - val_loss: 1486.8914 - val_mape: 29.9882\n",
      "Epoch 35/50\n",
      "125/128 [============================>.] - ETA: 0s - loss: 37.3670 - mape: 16.4137INFO:tensorflow:Assets written to: ./models\\33.73_35men_10_lstm_2_dense_2_unit_8\\assets\n"
     ]
    },
    {
     "name": "stderr",
     "output_type": "stream",
     "text": [
      "INFO:tensorflow:Assets written to: ./models\\33.73_35men_10_lstm_2_dense_2_unit_8\\assets\n"
     ]
    },
    {
     "name": "stdout",
     "output_type": "stream",
     "text": [
      "128/128 [==============================] - 5s 39ms/step - loss: 37.2733 - mape: 16.4055 - val_loss: 1794.7992 - val_mape: 33.7282\n",
      "Epoch 36/50\n",
      "128/128 [==============================] - 1s 9ms/step - loss: 34.9551 - mape: 16.5034 - val_loss: 1509.6901 - val_mape: 30.1568\n",
      "Epoch 37/50\n",
      "128/128 [==============================] - 1s 9ms/step - loss: 33.8878 - mape: 16.3033 - val_loss: 1228.4308 - val_mape: 27.4794\n",
      "Epoch 38/50\n",
      "128/128 [==============================] - 1s 9ms/step - loss: 33.8440 - mape: 16.1378 - val_loss: 1025.3649 - val_mape: 25.5395\n",
      "Epoch 39/50\n",
      "128/128 [==============================] - 1s 9ms/step - loss: 37.3355 - mape: 16.3534 - val_loss: 895.8608 - val_mape: 23.5256\n",
      "Epoch 40/50\n",
      "128/128 [==============================] - 1s 9ms/step - loss: 33.1421 - mape: 16.1575 - val_loss: 1056.7482 - val_mape: 25.8431\n",
      "Epoch 41/50\n",
      "127/128 [============================>.] - ETA: 0s - loss: 31.1445 - mape: 15.8676INFO:tensorflow:Assets written to: ./models\\35.74_41men_10_lstm_2_dense_2_unit_8\\assets\n"
     ]
    },
    {
     "name": "stderr",
     "output_type": "stream",
     "text": [
      "INFO:tensorflow:Assets written to: ./models\\35.74_41men_10_lstm_2_dense_2_unit_8\\assets\n"
     ]
    },
    {
     "name": "stdout",
     "output_type": "stream",
     "text": [
      "128/128 [==============================] - 5s 40ms/step - loss: 31.1488 - mape: 15.8479 - val_loss: 2035.5796 - val_mape: 35.7443\n",
      "Epoch 42/50\n",
      "128/128 [==============================] - 1s 9ms/step - loss: 34.3746 - mape: 16.2645 - val_loss: 1182.8866 - val_mape: 26.7739\n",
      "Epoch 43/50\n",
      "128/128 [==============================] - 1s 9ms/step - loss: 32.1480 - mape: 15.7833 - val_loss: 1610.0208 - val_mape: 31.3542\n",
      "Epoch 44/50\n",
      "128/128 [==============================] - 1s 9ms/step - loss: 33.9225 - mape: 16.0992 - val_loss: 1467.7120 - val_mape: 29.7400\n",
      "Epoch 45/50\n",
      "128/128 [==============================] - 1s 9ms/step - loss: 32.2421 - mape: 15.8125 - val_loss: 1169.7230 - val_mape: 26.7454\n",
      "Epoch 46/50\n",
      "128/128 [==============================] - 1s 9ms/step - loss: 32.2706 - mape: 15.7551 - val_loss: 1329.2478 - val_mape: 28.1403\n",
      "Epoch 47/50\n",
      "128/128 [==============================] - 1s 9ms/step - loss: 33.8692 - mape: 15.9409 - val_loss: 1056.0837 - val_mape: 25.2635\n",
      "Epoch 48/50\n",
      "128/128 [==============================] - 1s 9ms/step - loss: 31.8435 - mape: 15.7183 - val_loss: 1501.3782 - val_mape: 29.7788\n",
      "Epoch 49/50\n",
      "128/128 [==============================] - 1s 9ms/step - loss: 35.3649 - mape: 16.1512 - val_loss: 1415.5906 - val_mape: 29.0177\n",
      "Epoch 50/50\n",
      "128/128 [==============================] - 1s 9ms/step - loss: 32.4360 - mape: 15.8679 - val_loss: 1303.2383 - val_mape: 28.0863\n",
      "Epoch 1/50\n",
      "128/128 [==============================] - ETA: 0s - loss: 681.2396 - mape: 72.1329INFO:tensorflow:Assets written to: ./models\\143.38_01men_10_lstm_2_dense_2_unit_16\\assets\n"
     ]
    },
    {
     "name": "stderr",
     "output_type": "stream",
     "text": [
      "INFO:tensorflow:Assets written to: ./models\\143.38_01men_10_lstm_2_dense_2_unit_16\\assets\n"
     ]
    },
    {
     "name": "stdout",
     "output_type": "stream",
     "text": [
      "128/128 [==============================] - 10s 43ms/step - loss: 681.2396 - mape: 72.1329 - val_loss: 53885.3203 - val_mape: 143.3760\n",
      "Epoch 2/50\n",
      "128/128 [==============================] - 1s 9ms/step - loss: 92.3605 - mape: 29.1893 - val_loss: 24753.8945 - val_mape: 95.9357\n",
      "Epoch 3/50\n",
      "128/128 [==============================] - 1s 9ms/step - loss: 78.1314 - mape: 26.0646 - val_loss: 23275.8535 - val_mape: 96.3739\n",
      "Epoch 4/50\n",
      "128/128 [==============================] - 1s 9ms/step - loss: 68.9873 - mape: 23.8479 - val_loss: 7031.8926 - val_mape: 51.3165\n",
      "Epoch 5/50\n",
      "128/128 [==============================] - 1s 9ms/step - loss: 57.5183 - mape: 22.3388 - val_loss: 7500.7891 - val_mape: 54.5745\n",
      "Epoch 6/50\n",
      "128/128 [==============================] - 1s 10ms/step - loss: 52.9234 - mape: 20.9348 - val_loss: 2451.0232 - val_mape: 30.6954\n",
      "Epoch 7/50\n",
      "128/128 [==============================] - 1s 10ms/step - loss: 51.9699 - mape: 20.4016 - val_loss: 1574.2598 - val_mape: 24.5560\n",
      "Epoch 8/50\n",
      "128/128 [==============================] - 1s 10ms/step - loss: 44.8962 - mape: 19.8782 - val_loss: 3073.2046 - val_mape: 34.9344\n",
      "Epoch 9/50\n",
      "128/128 [==============================] - 1s 10ms/step - loss: 41.8179 - mape: 18.0583 - val_loss: 1569.8302 - val_mape: 24.8902\n",
      "Epoch 10/50\n",
      "128/128 [==============================] - 1s 10ms/step - loss: 44.5831 - mape: 18.3947 - val_loss: 4801.3506 - val_mape: 45.0767\n",
      "Epoch 11/50\n",
      "128/128 [==============================] - 1s 10ms/step - loss: 42.3858 - mape: 17.6390 - val_loss: 1438.3214 - val_mape: 24.3676\n",
      "Epoch 12/50\n",
      "128/128 [==============================] - 1s 9ms/step - loss: 42.9642 - mape: 17.6941 - val_loss: 1180.5464 - val_mape: 22.1407\n",
      "Epoch 13/50\n",
      "128/128 [==============================] - 1s 9ms/step - loss: 41.7521 - mape: 17.1900 - val_loss: 1994.8558 - val_mape: 28.8527\n",
      "Epoch 14/50\n",
      "128/128 [==============================] - 1s 10ms/step - loss: 39.9770 - mape: 16.7071 - val_loss: 1336.9177 - val_mape: 23.3316\n",
      "Epoch 15/50\n",
      "128/128 [==============================] - 1s 9ms/step - loss: 40.5161 - mape: 16.7045 - val_loss: 2092.5298 - val_mape: 29.1750\n",
      "Epoch 16/50\n",
      "128/128 [==============================] - 1s 9ms/step - loss: 40.9882 - mape: 16.2995 - val_loss: 1385.8319 - val_mape: 23.5693\n",
      "Epoch 17/50\n",
      "128/128 [==============================] - 1s 9ms/step - loss: 40.0121 - mape: 16.6716 - val_loss: 541.5508 - val_mape: 14.7912\n",
      "Epoch 18/50\n",
      "128/128 [==============================] - 1s 10ms/step - loss: 41.6132 - mape: 15.7595 - val_loss: 320.7699 - val_mape: 11.8214\n",
      "Epoch 19/50\n",
      "128/128 [==============================] - 1s 9ms/step - loss: 37.7834 - mape: 15.1907 - val_loss: 1383.7245 - val_mape: 23.6060\n",
      "Epoch 20/50\n",
      "128/128 [==============================] - 1s 9ms/step - loss: 36.7077 - mape: 15.6033 - val_loss: 213.3876 - val_mape: 10.9153\n",
      "Epoch 21/50\n",
      "128/128 [==============================] - 1s 9ms/step - loss: 35.6397 - mape: 15.2072 - val_loss: 339.9197 - val_mape: 12.2585\n",
      "Epoch 22/50\n",
      "128/128 [==============================] - 1s 9ms/step - loss: 37.2141 - mape: 15.4698 - val_loss: 988.9763 - val_mape: 20.2833\n",
      "Epoch 23/50\n",
      "128/128 [==============================] - 1s 9ms/step - loss: 40.6545 - mape: 15.8545 - val_loss: 264.0688 - val_mape: 11.1353\n",
      "Epoch 24/50\n",
      "128/128 [==============================] - 1s 10ms/step - loss: 37.4319 - mape: 15.4508 - val_loss: 1694.4503 - val_mape: 26.4024\n",
      "Epoch 25/50\n",
      "128/128 [==============================] - 1s 9ms/step - loss: 38.4182 - mape: 14.9579 - val_loss: 139.7566 - val_mape: 8.8082\n",
      "Epoch 26/50\n",
      "128/128 [==============================] - 1s 10ms/step - loss: 38.8963 - mape: 14.9797 - val_loss: 865.4247 - val_mape: 18.8275\n",
      "Epoch 27/50\n",
      "128/128 [==============================] - 1s 9ms/step - loss: 36.7233 - mape: 14.9840 - val_loss: 1435.7014 - val_mape: 25.0717\n",
      "Epoch 28/50\n",
      "128/128 [==============================] - 1s 9ms/step - loss: 39.9585 - mape: 15.9602 - val_loss: 312.1549 - val_mape: 11.5482\n",
      "Epoch 29/50\n",
      "128/128 [==============================] - 1s 9ms/step - loss: 35.7804 - mape: 14.5212 - val_loss: 79.6701 - val_mape: 6.3403\n",
      "Epoch 30/50\n",
      "128/128 [==============================] - 1s 9ms/step - loss: 34.9407 - mape: 14.8005 - val_loss: 101.5109 - val_mape: 6.6646\n",
      "Epoch 31/50\n",
      "128/128 [==============================] - 1s 9ms/step - loss: 34.0633 - mape: 14.3659 - val_loss: 78.2456 - val_mape: 6.3104\n",
      "Epoch 32/50\n",
      "128/128 [==============================] - 1s 9ms/step - loss: 35.1382 - mape: 14.3086 - val_loss: 84.0421 - val_mape: 6.0544\n",
      "Epoch 33/50\n",
      "128/128 [==============================] - 1s 9ms/step - loss: 36.5147 - mape: 14.7784 - val_loss: 84.6958 - val_mape: 6.6743\n",
      "Epoch 34/50\n",
      "128/128 [==============================] - 1s 9ms/step - loss: 35.3318 - mape: 14.1493 - val_loss: 116.7800 - val_mape: 8.0375\n",
      "Epoch 35/50\n",
      "128/128 [==============================] - 1s 9ms/step - loss: 33.0398 - mape: 14.0029 - val_loss: 282.0023 - val_mape: 10.6411\n",
      "Epoch 36/50\n",
      "128/128 [==============================] - 1s 9ms/step - loss: 35.5261 - mape: 13.9873 - val_loss: 395.9758 - val_mape: 15.5705\n",
      "Epoch 37/50\n",
      "128/128 [==============================] - 1s 9ms/step - loss: 34.9796 - mape: 14.5160 - val_loss: 502.1053 - val_mape: 17.4265\n",
      "Epoch 38/50\n",
      "128/128 [==============================] - 1s 9ms/step - loss: 34.4339 - mape: 13.9661 - val_loss: 126.6555 - val_mape: 8.3626\n",
      "Epoch 39/50\n",
      "128/128 [==============================] - 1s 9ms/step - loss: 33.3919 - mape: 13.9400 - val_loss: 227.4968 - val_mape: 9.4752\n",
      "Epoch 40/50\n",
      "128/128 [==============================] - 1s 9ms/step - loss: 32.6205 - mape: 13.3573 - val_loss: 102.0339 - val_mape: 7.4804\n",
      "Epoch 41/50\n",
      "128/128 [==============================] - 1s 9ms/step - loss: 33.7674 - mape: 13.5349 - val_loss: 93.8227 - val_mape: 6.9573\n",
      "Epoch 42/50\n",
      "128/128 [==============================] - 1s 9ms/step - loss: 32.3866 - mape: 13.5655 - val_loss: 221.1954 - val_mape: 11.2299\n",
      "Epoch 43/50\n",
      "128/128 [==============================] - 1s 9ms/step - loss: 33.1700 - mape: 13.8042 - val_loss: 152.8375 - val_mape: 9.0831\n",
      "Epoch 44/50\n",
      "128/128 [==============================] - 1s 10ms/step - loss: 33.9871 - mape: 13.9375 - val_loss: 424.3878 - val_mape: 15.3690\n",
      "Epoch 45/50\n",
      "128/128 [==============================] - 1s 9ms/step - loss: 32.4343 - mape: 13.4324 - val_loss: 299.8438 - val_mape: 13.1583\n",
      "Epoch 46/50\n",
      "128/128 [==============================] - 1s 9ms/step - loss: 33.5824 - mape: 14.0287 - val_loss: 1064.6121 - val_mape: 25.6744\n",
      "Epoch 47/50\n",
      "128/128 [==============================] - 1s 9ms/step - loss: 33.3753 - mape: 13.3806 - val_loss: 252.0969 - val_mape: 12.0442\n",
      "Epoch 48/50\n",
      "128/128 [==============================] - 1s 9ms/step - loss: 32.6363 - mape: 13.4062 - val_loss: 1048.3070 - val_mape: 24.7826\n",
      "Epoch 49/50\n",
      "128/128 [==============================] - 1s 9ms/step - loss: 33.0029 - mape: 13.7161 - val_loss: 445.1064 - val_mape: 15.4259\n",
      "Epoch 50/50\n",
      "128/128 [==============================] - 1s 10ms/step - loss: 30.9061 - mape: 13.2839 - val_loss: 1378.1853 - val_mape: 28.0612\n",
      "Epoch 1/50\n",
      "125/128 [============================>.] - ETA: 0s - loss: 452.6201 - mape: 57.1039INFO:tensorflow:Assets written to: ./models\\11.09_01men_10_lstm_2_dense_2_unit_32\\assets\n"
     ]
    },
    {
     "name": "stderr",
     "output_type": "stream",
     "text": [
      "INFO:tensorflow:Assets written to: ./models\\11.09_01men_10_lstm_2_dense_2_unit_32\\assets\n"
     ]
    },
    {
     "name": "stdout",
     "output_type": "stream",
     "text": [
      "128/128 [==============================] - 12s 45ms/step - loss: 446.1445 - mape: 56.5512 - val_loss: 261.4666 - val_mape: 11.0943\n",
      "Epoch 2/50\n",
      "127/128 [============================>.] - ETA: 0s - loss: 60.9881 - mape: 23.3763INFO:tensorflow:Assets written to: ./models\\15.14_02men_10_lstm_2_dense_2_unit_32\\assets\n"
     ]
    },
    {
     "name": "stderr",
     "output_type": "stream",
     "text": [
      "INFO:tensorflow:Assets written to: ./models\\15.14_02men_10_lstm_2_dense_2_unit_32\\assets\n"
     ]
    },
    {
     "name": "stdout",
     "output_type": "stream",
     "text": [
      "128/128 [==============================] - 5s 41ms/step - loss: 60.9731 - mape: 23.3706 - val_loss: 613.2203 - val_mape: 15.1422\n",
      "Epoch 3/50\n",
      "128/128 [==============================] - 1s 11ms/step - loss: 46.3340 - mape: 20.2325 - val_loss: 161.1284 - val_mape: 8.7230\n",
      "Epoch 4/50\n",
      "127/128 [============================>.] - ETA: 0s - loss: 39.0649 - mape: 18.0679INFO:tensorflow:Assets written to: ./models\\38.97_04men_10_lstm_2_dense_2_unit_32\\assets\n"
     ]
    },
    {
     "name": "stderr",
     "output_type": "stream",
     "text": [
      "INFO:tensorflow:Assets written to: ./models\\38.97_04men_10_lstm_2_dense_2_unit_32\\assets\n"
     ]
    },
    {
     "name": "stdout",
     "output_type": "stream",
     "text": [
      "128/128 [==============================] - 5s 42ms/step - loss: 39.0588 - mape: 18.0704 - val_loss: 3605.9658 - val_mape: 38.9734\n",
      "Epoch 5/50\n",
      "128/128 [==============================] - 1s 11ms/step - loss: 32.9969 - mape: 16.4030 - val_loss: 300.4204 - val_mape: 12.5714\n",
      "Epoch 6/50\n",
      "128/128 [==============================] - 1s 11ms/step - loss: 31.2930 - mape: 16.4890 - val_loss: 256.4464 - val_mape: 10.2212\n",
      "Epoch 7/50\n",
      "128/128 [==============================] - 1s 11ms/step - loss: 30.1227 - mape: 15.9706 - val_loss: 753.7863 - val_mape: 17.1124\n",
      "Epoch 8/50\n",
      "128/128 [==============================] - 1s 11ms/step - loss: 27.7834 - mape: 15.0719 - val_loss: 208.7875 - val_mape: 11.1306\n",
      "Epoch 9/50\n",
      "128/128 [==============================] - 1s 11ms/step - loss: 26.2032 - mape: 14.5781 - val_loss: 130.1621 - val_mape: 8.0058\n",
      "Epoch 10/50\n",
      "128/128 [==============================] - 1s 11ms/step - loss: 26.6919 - mape: 14.0591 - val_loss: 240.7911 - val_mape: 11.9649\n",
      "Epoch 11/50\n",
      "128/128 [==============================] - 1s 11ms/step - loss: 26.4848 - mape: 14.0009 - val_loss: 1543.7988 - val_mape: 22.3914\n",
      "Epoch 12/50\n",
      "128/128 [==============================] - 1s 11ms/step - loss: 25.3776 - mape: 13.7436 - val_loss: 189.6775 - val_mape: 10.3228\n",
      "Epoch 13/50\n",
      "128/128 [==============================] - 1s 11ms/step - loss: 26.6003 - mape: 13.6087 - val_loss: 413.6237 - val_mape: 14.0632\n",
      "Epoch 14/50\n",
      "128/128 [==============================] - 1s 11ms/step - loss: 23.9480 - mape: 13.2497 - val_loss: 499.7027 - val_mape: 13.6886\n",
      "Epoch 15/50\n",
      "128/128 [==============================] - 1s 11ms/step - loss: 23.2240 - mape: 13.3106 - val_loss: 205.7184 - val_mape: 11.0400\n",
      "Epoch 16/50\n",
      "128/128 [==============================] - 1s 11ms/step - loss: 23.4405 - mape: 13.4764 - val_loss: 372.0821 - val_mape: 15.1042\n",
      "Epoch 17/50\n",
      "128/128 [==============================] - 1s 11ms/step - loss: 21.8010 - mape: 12.5559 - val_loss: 284.7531 - val_mape: 9.9796\n",
      "Epoch 18/50\n",
      "128/128 [==============================] - 1s 11ms/step - loss: 23.2790 - mape: 13.1980 - val_loss: 238.6091 - val_mape: 11.9397\n",
      "Epoch 19/50\n",
      "128/128 [==============================] - 1s 11ms/step - loss: 22.5630 - mape: 12.4694 - val_loss: 1104.1937 - val_mape: 26.8356\n",
      "Epoch 20/50\n",
      "128/128 [==============================] - 1s 11ms/step - loss: 24.7699 - mape: 13.4644 - val_loss: 832.7617 - val_mape: 22.7968\n",
      "Epoch 21/50\n",
      "128/128 [==============================] - 1s 11ms/step - loss: 20.7799 - mape: 12.2085 - val_loss: 211.8836 - val_mape: 11.1760\n",
      "Epoch 22/50\n",
      "128/128 [==============================] - 1s 11ms/step - loss: 20.8393 - mape: 11.9985 - val_loss: 294.3608 - val_mape: 13.1727\n",
      "Epoch 23/50\n",
      "128/128 [==============================] - 1s 11ms/step - loss: 21.1239 - mape: 12.2666 - val_loss: 523.2245 - val_mape: 17.8998\n",
      "Epoch 24/50\n",
      "128/128 [==============================] - 1s 11ms/step - loss: 22.2867 - mape: 12.3334 - val_loss: 426.8412 - val_mape: 16.1258\n",
      "Epoch 25/50\n",
      "128/128 [==============================] - 1s 11ms/step - loss: 20.1317 - mape: 11.8102 - val_loss: 1544.2219 - val_mape: 31.0991\n",
      "Epoch 26/50\n",
      "128/128 [==============================] - 1s 11ms/step - loss: 23.1354 - mape: 12.4920 - val_loss: 1087.0829 - val_mape: 25.7068\n",
      "Epoch 27/50\n",
      "128/128 [==============================] - 1s 10ms/step - loss: 19.9789 - mape: 11.5497 - val_loss: 824.9717 - val_mape: 22.3795\n",
      "Epoch 28/50\n",
      "128/128 [==============================] - 1s 11ms/step - loss: 19.2480 - mape: 11.4586 - val_loss: 295.9473 - val_mape: 12.7668\n",
      "Epoch 29/50\n",
      "128/128 [==============================] - 1s 11ms/step - loss: 19.9455 - mape: 12.1555 - val_loss: 1139.4628 - val_mape: 26.0240\n",
      "Epoch 30/50\n",
      "128/128 [==============================] - 1s 11ms/step - loss: 18.1069 - mape: 11.5890 - val_loss: 829.7803 - val_mape: 22.4909\n",
      "Epoch 31/50\n",
      "128/128 [==============================] - 1s 11ms/step - loss: 18.7627 - mape: 11.3200 - val_loss: 2226.6868 - val_mape: 37.0808\n",
      "Epoch 32/50\n",
      "128/128 [==============================] - 1s 11ms/step - loss: 19.4871 - mape: 11.5180 - val_loss: 1497.4243 - val_mape: 30.0467\n",
      "Epoch 33/50\n",
      "128/128 [==============================] - 1s 11ms/step - loss: 18.5682 - mape: 11.1415 - val_loss: 1404.7760 - val_mape: 29.0269\n",
      "Epoch 34/50\n",
      "128/128 [==============================] - 1s 11ms/step - loss: 17.1974 - mape: 10.6578 - val_loss: 1279.2725 - val_mape: 27.9867\n",
      "Epoch 35/50\n",
      "128/128 [==============================] - 1s 11ms/step - loss: 19.0551 - mape: 11.5061 - val_loss: 1339.4978 - val_mape: 28.5977\n",
      "Epoch 36/50\n",
      "128/128 [==============================] - 1s 11ms/step - loss: 19.5273 - mape: 11.4220 - val_loss: 2316.8555 - val_mape: 36.7376\n",
      "Epoch 37/50\n",
      "128/128 [==============================] - 1s 11ms/step - loss: 19.4362 - mape: 11.2497 - val_loss: 2418.4917 - val_mape: 37.8980\n",
      "Epoch 38/50\n",
      "128/128 [==============================] - 1s 11ms/step - loss: 18.2987 - mape: 10.9050 - val_loss: 1803.3101 - val_mape: 32.3303\n",
      "Epoch 39/50\n",
      "127/128 [============================>.] - ETA: 0s - loss: 18.5465 - mape: 10.6466INFO:tensorflow:Assets written to: ./models\\39.83_39men_10_lstm_2_dense_2_unit_32\\assets\n"
     ]
    },
    {
     "name": "stderr",
     "output_type": "stream",
     "text": [
      "INFO:tensorflow:Assets written to: ./models\\39.83_39men_10_lstm_2_dense_2_unit_32\\assets\n"
     ]
    },
    {
     "name": "stdout",
     "output_type": "stream",
     "text": [
      "128/128 [==============================] - 5s 42ms/step - loss: 18.5419 - mape: 10.6447 - val_loss: 2623.3130 - val_mape: 39.8317\n",
      "Epoch 40/50\n",
      "128/128 [==============================] - 1s 11ms/step - loss: 17.9927 - mape: 10.6210 - val_loss: 1814.6400 - val_mape: 32.7909\n",
      "Epoch 41/50\n",
      "128/128 [==============================] - 1s 11ms/step - loss: 17.8159 - mape: 10.6233 - val_loss: 2100.7930 - val_mape: 35.6769\n",
      "Epoch 42/50\n",
      "128/128 [==============================] - 1s 11ms/step - loss: 18.8356 - mape: 10.8775 - val_loss: 2423.5884 - val_mape: 37.9735\n",
      "Epoch 43/50\n",
      "128/128 [==============================] - 1s 11ms/step - loss: 18.0629 - mape: 10.5009 - val_loss: 1136.0710 - val_mape: 25.6815\n",
      "Epoch 44/50\n",
      "128/128 [==============================] - 1s 11ms/step - loss: 16.8355 - mape: 10.6265 - val_loss: 896.0715 - val_mape: 22.5626\n",
      "Epoch 45/50\n",
      "128/128 [==============================] - 1s 11ms/step - loss: 24.0536 - mape: 12.0711 - val_loss: 1032.6102 - val_mape: 24.6469\n",
      "Epoch 46/50\n",
      "128/128 [==============================] - 1s 11ms/step - loss: 17.4396 - mape: 10.3969 - val_loss: 1030.5916 - val_mape: 24.3897\n",
      "Epoch 47/50\n",
      "128/128 [==============================] - 1s 11ms/step - loss: 15.8940 - mape: 9.9932 - val_loss: 1705.2726 - val_mape: 31.9052\n",
      "Epoch 48/50\n",
      "128/128 [==============================] - 1s 11ms/step - loss: 17.5983 - mape: 10.4365 - val_loss: 1978.5150 - val_mape: 34.1701\n",
      "Epoch 49/50\n",
      "128/128 [==============================] - 1s 11ms/step - loss: 17.7130 - mape: 10.2004 - val_loss: 1673.9888 - val_mape: 30.9120\n",
      "Epoch 50/50\n",
      "128/128 [==============================] - 1s 11ms/step - loss: 16.7603 - mape: 10.2215 - val_loss: 1662.6436 - val_mape: 30.6005\n",
      "Epoch 1/50\n",
      "124/127 [============================>.] - ETA: 0s - loss: 907.7255 - mape: 86.0029INFO:tensorflow:Assets written to: ./models\\10.65_01men_10_lstm_2_dense_3_unit_8\\assets\n"
     ]
    },
    {
     "name": "stderr",
     "output_type": "stream",
     "text": [
      "INFO:tensorflow:Assets written to: ./models\\10.65_01men_10_lstm_2_dense_3_unit_8\\assets\n"
     ]
    },
    {
     "name": "stdout",
     "output_type": "stream",
     "text": [
      "127/127 [==============================] - 10s 43ms/step - loss: 895.8287 - mape: 85.1308 - val_loss: 221.3465 - val_mape: 10.6544\n",
      "Epoch 2/50\n",
      "127/127 [==============================] - ETA: 0s - loss: 220.4243 - mape: 39.2531INFO:tensorflow:Assets written to: ./models\\19.89_02men_10_lstm_2_dense_3_unit_8\\assets\n"
     ]
    },
    {
     "name": "stderr",
     "output_type": "stream",
     "text": [
      "INFO:tensorflow:Assets written to: ./models\\19.89_02men_10_lstm_2_dense_3_unit_8\\assets\n"
     ]
    },
    {
     "name": "stdout",
     "output_type": "stream",
     "text": [
      "127/127 [==============================] - 7s 59ms/step - loss: 220.4243 - mape: 39.2531 - val_loss: 617.4312 - val_mape: 19.8874\n",
      "Epoch 3/50\n",
      "122/127 [===========================>..] - ETA: 0s - loss: 165.0909 - mape: 33.9794INFO:tensorflow:Assets written to: ./models\\21.32_03men_10_lstm_2_dense_3_unit_8\\assets\n"
     ]
    },
    {
     "name": "stderr",
     "output_type": "stream",
     "text": [
      "INFO:tensorflow:Assets written to: ./models\\21.32_03men_10_lstm_2_dense_3_unit_8\\assets\n"
     ]
    },
    {
     "name": "stdout",
     "output_type": "stream",
     "text": [
      "127/127 [==============================] - 5s 40ms/step - loss: 162.6611 - mape: 33.9337 - val_loss: 682.7032 - val_mape: 21.3220\n",
      "Epoch 4/50\n",
      "123/127 [============================>.] - ETA: 0s - loss: 124.5022 - mape: 30.1069INFO:tensorflow:Assets written to: ./models\\22.66_04men_10_lstm_2_dense_3_unit_8\\assets\n"
     ]
    },
    {
     "name": "stderr",
     "output_type": "stream",
     "text": [
      "INFO:tensorflow:Assets written to: ./models\\22.66_04men_10_lstm_2_dense_3_unit_8\\assets\n"
     ]
    },
    {
     "name": "stdout",
     "output_type": "stream",
     "text": [
      "127/127 [==============================] - 5s 43ms/step - loss: 124.3936 - mape: 30.0431 - val_loss: 776.3498 - val_mape: 22.6616\n",
      "Epoch 5/50\n",
      "127/127 [==============================] - 1s 11ms/step - loss: 107.2239 - mape: 27.5764 - val_loss: 241.6425 - val_mape: 12.1491\n",
      "Epoch 6/50\n",
      "126/127 [============================>.] - ETA: 0s - loss: 92.3114 - mape: 25.2564INFO:tensorflow:Assets written to: ./models\\25.29_06men_10_lstm_2_dense_3_unit_8\\assets\n"
     ]
    },
    {
     "name": "stderr",
     "output_type": "stream",
     "text": [
      "INFO:tensorflow:Assets written to: ./models\\25.29_06men_10_lstm_2_dense_3_unit_8\\assets\n"
     ]
    },
    {
     "name": "stdout",
     "output_type": "stream",
     "text": [
      "127/127 [==============================] - 5s 43ms/step - loss: 92.5042 - mape: 25.2660 - val_loss: 1004.7416 - val_mape: 25.2897\n",
      "Epoch 7/50\n",
      "127/127 [==============================] - ETA: 0s - loss: 91.9263 - mape: 24.9375INFO:tensorflow:Assets written to: ./models\\32.89_07men_10_lstm_2_dense_3_unit_8\\assets\n"
     ]
    },
    {
     "name": "stderr",
     "output_type": "stream",
     "text": [
      "INFO:tensorflow:Assets written to: ./models\\32.89_07men_10_lstm_2_dense_3_unit_8\\assets\n"
     ]
    },
    {
     "name": "stdout",
     "output_type": "stream",
     "text": [
      "127/127 [==============================] - 5s 39ms/step - loss: 91.9263 - mape: 24.9375 - val_loss: 1676.7859 - val_mape: 32.8938\n",
      "Epoch 8/50\n",
      "127/127 [==============================] - 1s 9ms/step - loss: 80.8751 - mape: 23.0116 - val_loss: 1186.9222 - val_mape: 27.5905\n",
      "Epoch 9/50\n",
      "122/127 [===========================>..] - ETA: 0s - loss: 78.4322 - mape: 22.7843INFO:tensorflow:Assets written to: ./models\\34.08_09men_10_lstm_2_dense_3_unit_8\\assets\n"
     ]
    },
    {
     "name": "stderr",
     "output_type": "stream",
     "text": [
      "INFO:tensorflow:Assets written to: ./models\\34.08_09men_10_lstm_2_dense_3_unit_8\\assets\n"
     ]
    },
    {
     "name": "stdout",
     "output_type": "stream",
     "text": [
      "127/127 [==============================] - 5s 40ms/step - loss: 78.4888 - mape: 22.7915 - val_loss: 1800.5281 - val_mape: 34.0792\n",
      "Epoch 10/50\n",
      "127/127 [==============================] - 1s 9ms/step - loss: 77.2917 - mape: 22.5023 - val_loss: 1769.5059 - val_mape: 33.4508\n",
      "Epoch 11/50\n",
      "125/127 [============================>.] - ETA: 0s - loss: 72.6249 - mape: 21.8287INFO:tensorflow:Assets written to: ./models\\37.61_11men_10_lstm_2_dense_3_unit_8\\assets\n"
     ]
    },
    {
     "name": "stderr",
     "output_type": "stream",
     "text": [
      "INFO:tensorflow:Assets written to: ./models\\37.61_11men_10_lstm_2_dense_3_unit_8\\assets\n"
     ]
    },
    {
     "name": "stdout",
     "output_type": "stream",
     "text": [
      "127/127 [==============================] - 8s 60ms/step - loss: 72.7943 - mape: 21.8234 - val_loss: 2229.6819 - val_mape: 37.6060\n",
      "Epoch 12/50\n",
      "127/127 [==============================] - 1s 9ms/step - loss: 64.8977 - mape: 20.4184 - val_loss: 2055.5515 - val_mape: 35.8451\n",
      "Epoch 13/50\n",
      "127/127 [==============================] - 1s 9ms/step - loss: 65.1491 - mape: 20.6948 - val_loss: 2102.2788 - val_mape: 36.4468\n",
      "Epoch 14/50\n",
      "123/127 [============================>.] - ETA: 0s - loss: 59.7665 - mape: 19.7683INFO:tensorflow:Assets written to: ./models\\41.68_14men_10_lstm_2_dense_3_unit_8\\assets\n"
     ]
    },
    {
     "name": "stderr",
     "output_type": "stream",
     "text": [
      "INFO:tensorflow:Assets written to: ./models\\41.68_14men_10_lstm_2_dense_3_unit_8\\assets\n"
     ]
    },
    {
     "name": "stdout",
     "output_type": "stream",
     "text": [
      "127/127 [==============================] - 5s 40ms/step - loss: 60.5932 - mape: 19.6924 - val_loss: 2731.8298 - val_mape: 41.6847\n",
      "Epoch 15/50\n",
      "127/127 [==============================] - ETA: 0s - loss: 57.0694 - mape: 19.1838INFO:tensorflow:Assets written to: ./models\\45.13_15men_10_lstm_2_dense_3_unit_8\\assets\n"
     ]
    },
    {
     "name": "stderr",
     "output_type": "stream",
     "text": [
      "INFO:tensorflow:Assets written to: ./models\\45.13_15men_10_lstm_2_dense_3_unit_8\\assets\n"
     ]
    },
    {
     "name": "stdout",
     "output_type": "stream",
     "text": [
      "127/127 [==============================] - 5s 40ms/step - loss: 57.0694 - mape: 19.1838 - val_loss: 3217.3765 - val_mape: 45.1252\n",
      "Epoch 16/50\n",
      "127/127 [==============================] - 1s 9ms/step - loss: 53.3091 - mape: 18.6631 - val_loss: 2556.0022 - val_mape: 39.9839\n",
      "Epoch 17/50\n",
      "124/127 [============================>.] - ETA: 0s - loss: 58.9773 - mape: 18.6489INFO:tensorflow:Assets written to: ./models\\45.45_17men_10_lstm_2_dense_3_unit_8\\assets\n"
     ]
    },
    {
     "name": "stderr",
     "output_type": "stream",
     "text": [
      "INFO:tensorflow:Assets written to: ./models\\45.45_17men_10_lstm_2_dense_3_unit_8\\assets\n"
     ]
    },
    {
     "name": "stdout",
     "output_type": "stream",
     "text": [
      "127/127 [==============================] - 5s 40ms/step - loss: 58.5123 - mape: 18.6029 - val_loss: 3271.2781 - val_mape: 45.4463\n",
      "Epoch 18/50\n",
      "127/127 [==============================] - 1s 9ms/step - loss: 54.1147 - mape: 18.5049 - val_loss: 2911.0205 - val_mape: 42.8568\n",
      "Epoch 19/50\n",
      "127/127 [==============================] - 1s 9ms/step - loss: 52.5052 - mape: 18.5515 - val_loss: 2717.1975 - val_mape: 41.1624\n",
      "Epoch 20/50\n",
      "127/127 [==============================] - 1s 9ms/step - loss: 52.9958 - mape: 18.1644 - val_loss: 2542.6470 - val_mape: 39.8691\n",
      "Epoch 21/50\n",
      "127/127 [==============================] - 1s 9ms/step - loss: 54.2140 - mape: 18.1159 - val_loss: 2829.5505 - val_mape: 42.0514\n",
      "Epoch 22/50\n",
      "127/127 [==============================] - 1s 9ms/step - loss: 54.1491 - mape: 18.6215 - val_loss: 3043.4443 - val_mape: 43.4208\n",
      "Epoch 23/50\n",
      "121/127 [===========================>..] - ETA: 0s - loss: 54.0730 - mape: 18.4738INFO:tensorflow:Assets written to: ./models\\45.83_23men_10_lstm_2_dense_3_unit_8\\assets\n"
     ]
    },
    {
     "name": "stderr",
     "output_type": "stream",
     "text": [
      "INFO:tensorflow:Assets written to: ./models\\45.83_23men_10_lstm_2_dense_3_unit_8\\assets\n"
     ]
    },
    {
     "name": "stdout",
     "output_type": "stream",
     "text": [
      "127/127 [==============================] - 5s 40ms/step - loss: 55.6053 - mape: 18.5986 - val_loss: 3358.0950 - val_mape: 45.8333\n",
      "Epoch 24/50\n",
      "121/127 [===========================>..] - ETA: 0s - loss: 54.5330 - mape: 18.4229INFO:tensorflow:Assets written to: ./models\\48.95_24men_10_lstm_2_dense_3_unit_8\\assets\n"
     ]
    },
    {
     "name": "stderr",
     "output_type": "stream",
     "text": [
      "INFO:tensorflow:Assets written to: ./models\\48.95_24men_10_lstm_2_dense_3_unit_8\\assets\n"
     ]
    },
    {
     "name": "stdout",
     "output_type": "stream",
     "text": [
      "127/127 [==============================] - 5s 39ms/step - loss: 54.7275 - mape: 18.3827 - val_loss: 3807.8572 - val_mape: 48.9451\n",
      "Epoch 25/50\n",
      "127/127 [==============================] - 1s 9ms/step - loss: 50.0170 - mape: 17.8699 - val_loss: 3370.7307 - val_mape: 45.5111\n",
      "Epoch 26/50\n",
      "127/127 [==============================] - 1s 10ms/step - loss: 47.8762 - mape: 18.2777 - val_loss: 3452.5803 - val_mape: 46.3400\n",
      "Epoch 27/50\n",
      "127/127 [==============================] - 1s 9ms/step - loss: 46.8990 - mape: 17.8316 - val_loss: 3390.6296 - val_mape: 45.6140\n",
      "Epoch 28/50\n",
      "124/127 [============================>.] - ETA: 0s - loss: 47.8132 - mape: 18.1659INFO:tensorflow:Assets written to: ./models\\49.46_28men_10_lstm_2_dense_3_unit_8\\assets\n"
     ]
    },
    {
     "name": "stderr",
     "output_type": "stream",
     "text": [
      "INFO:tensorflow:Assets written to: ./models\\49.46_28men_10_lstm_2_dense_3_unit_8\\assets\n"
     ]
    },
    {
     "name": "stdout",
     "output_type": "stream",
     "text": [
      "127/127 [==============================] - 5s 41ms/step - loss: 48.0578 - mape: 18.1047 - val_loss: 3942.9734 - val_mape: 49.4585\n",
      "Epoch 29/50\n",
      "127/127 [==============================] - 1s 9ms/step - loss: 54.2930 - mape: 17.5914 - val_loss: 3209.6111 - val_mape: 44.2247\n",
      "Epoch 30/50\n",
      "127/127 [==============================] - 1s 9ms/step - loss: 46.0048 - mape: 17.5015 - val_loss: 3251.6890 - val_mape: 44.8099\n",
      "Epoch 31/50\n",
      "127/127 [==============================] - 1s 8ms/step - loss: 45.6677 - mape: 17.5170 - val_loss: 3534.7791 - val_mape: 46.7717\n",
      "Epoch 32/50\n",
      "127/127 [==============================] - 1s 8ms/step - loss: 47.4187 - mape: 17.6626 - val_loss: 3660.9988 - val_mape: 47.4419\n",
      "Epoch 33/50\n",
      "127/127 [==============================] - 1s 9ms/step - loss: 49.7460 - mape: 17.5276 - val_loss: 3906.2913 - val_mape: 49.0184\n",
      "Epoch 34/50\n",
      "127/127 [==============================] - 1s 8ms/step - loss: 49.4326 - mape: 17.6739 - val_loss: 3088.6489 - val_mape: 43.8324\n",
      "Epoch 35/50\n",
      "127/127 [==============================] - 1s 8ms/step - loss: 45.9635 - mape: 17.5217 - val_loss: 3366.6873 - val_mape: 45.8280\n",
      "Epoch 36/50\n",
      "127/127 [==============================] - 1s 8ms/step - loss: 51.1814 - mape: 17.5228 - val_loss: 3490.3113 - val_mape: 45.8372\n",
      "Epoch 37/50\n",
      "127/127 [==============================] - 1s 8ms/step - loss: 45.1774 - mape: 17.5391 - val_loss: 3050.6877 - val_mape: 42.6705\n",
      "Epoch 38/50\n",
      "127/127 [==============================] - 1s 8ms/step - loss: 45.1515 - mape: 17.5557 - val_loss: 3500.9353 - val_mape: 46.0402\n",
      "Epoch 39/50\n",
      "124/127 [============================>.] - ETA: 0s - loss: 51.0571 - mape: 18.5383INFO:tensorflow:Assets written to: ./models\\49.87_39men_10_lstm_2_dense_3_unit_8\\assets\n"
     ]
    },
    {
     "name": "stderr",
     "output_type": "stream",
     "text": [
      "INFO:tensorflow:Assets written to: ./models\\49.87_39men_10_lstm_2_dense_3_unit_8\\assets\n"
     ]
    },
    {
     "name": "stdout",
     "output_type": "stream",
     "text": [
      "127/127 [==============================] - 7s 55ms/step - loss: 50.4566 - mape: 18.5261 - val_loss: 4127.2207 - val_mape: 49.8711\n",
      "Epoch 40/50\n",
      "127/127 [==============================] - 1s 8ms/step - loss: 42.3775 - mape: 17.1948 - val_loss: 4121.0596 - val_mape: 49.5507\n",
      "Epoch 41/50\n",
      "123/127 [============================>.] - ETA: 0s - loss: 44.2244 - mape: 17.3556INFO:tensorflow:Assets written to: ./models\\50.37_41men_10_lstm_2_dense_3_unit_8\\assets\n"
     ]
    },
    {
     "name": "stderr",
     "output_type": "stream",
     "text": [
      "INFO:tensorflow:Assets written to: ./models\\50.37_41men_10_lstm_2_dense_3_unit_8\\assets\n"
     ]
    },
    {
     "name": "stdout",
     "output_type": "stream",
     "text": [
      "127/127 [==============================] - 5s 38ms/step - loss: 44.1484 - mape: 17.3715 - val_loss: 4234.6294 - val_mape: 50.3661\n",
      "Epoch 42/50\n",
      "122/127 [===========================>..] - ETA: 0s - loss: 46.2099 - mape: 17.7402INFO:tensorflow:Assets written to: ./models\\55.97_42men_10_lstm_2_dense_3_unit_8\\assets\n"
     ]
    },
    {
     "name": "stderr",
     "output_type": "stream",
     "text": [
      "INFO:tensorflow:Assets written to: ./models\\55.97_42men_10_lstm_2_dense_3_unit_8\\assets\n"
     ]
    },
    {
     "name": "stdout",
     "output_type": "stream",
     "text": [
      "127/127 [==============================] - 5s 41ms/step - loss: 45.4671 - mape: 17.6227 - val_loss: 5250.7710 - val_mape: 55.9713\n",
      "Epoch 43/50\n",
      "127/127 [==============================] - 1s 9ms/step - loss: 45.1583 - mape: 17.4334 - val_loss: 4428.7944 - val_mape: 51.0070\n",
      "Epoch 44/50\n",
      "125/127 [============================>.] - ETA: 0s - loss: 45.3250 - mape: 17.4222INFO:tensorflow:Assets written to: ./models\\59.05_44men_10_lstm_2_dense_3_unit_8\\assets\n"
     ]
    },
    {
     "name": "stderr",
     "output_type": "stream",
     "text": [
      "INFO:tensorflow:Assets written to: ./models\\59.05_44men_10_lstm_2_dense_3_unit_8\\assets\n"
     ]
    },
    {
     "name": "stdout",
     "output_type": "stream",
     "text": [
      "127/127 [==============================] - 5s 36ms/step - loss: 45.6523 - mape: 17.3900 - val_loss: 5899.2329 - val_mape: 59.0477\n",
      "Epoch 45/50\n",
      "127/127 [==============================] - 1s 8ms/step - loss: 44.0789 - mape: 17.2883 - val_loss: 5608.7163 - val_mape: 57.3184\n",
      "Epoch 46/50\n",
      "121/127 [===========================>..] - ETA: 0s - loss: 43.0745 - mape: 17.5536INFO:tensorflow:Assets written to: ./models\\60.17_46men_10_lstm_2_dense_3_unit_8\\assets\n"
     ]
    },
    {
     "name": "stderr",
     "output_type": "stream",
     "text": [
      "INFO:tensorflow:Assets written to: ./models\\60.17_46men_10_lstm_2_dense_3_unit_8\\assets\n"
     ]
    },
    {
     "name": "stdout",
     "output_type": "stream",
     "text": [
      "127/127 [==============================] - 4s 34ms/step - loss: 42.1249 - mape: 17.4556 - val_loss: 6092.2305 - val_mape: 60.1740\n",
      "Epoch 47/50\n",
      "127/127 [==============================] - 1s 7ms/step - loss: 47.1943 - mape: 17.4991 - val_loss: 4562.2383 - val_mape: 50.7344\n",
      "Epoch 48/50\n",
      "127/127 [==============================] - 1s 7ms/step - loss: 45.3788 - mape: 17.4206 - val_loss: 5396.1694 - val_mape: 56.0512\n",
      "Epoch 49/50\n",
      "127/127 [==============================] - 1s 7ms/step - loss: 44.0947 - mape: 17.3315 - val_loss: 5193.9380 - val_mape: 55.0033\n",
      "Epoch 50/50\n",
      "127/127 [==============================] - 1s 7ms/step - loss: 45.4474 - mape: 17.4136 - val_loss: 5842.4893 - val_mape: 58.4608\n",
      "Epoch 1/50\n",
      "125/127 [============================>.] - ETA: 0s - loss: 535.8251 - mape: 66.4340INFO:tensorflow:Assets written to: ./models\\32.39_01men_10_lstm_2_dense_3_unit_16\\assets\n"
     ]
    },
    {
     "name": "stderr",
     "output_type": "stream",
     "text": [
      "INFO:tensorflow:Assets written to: ./models\\32.39_01men_10_lstm_2_dense_3_unit_16\\assets\n"
     ]
    },
    {
     "name": "stdout",
     "output_type": "stream",
     "text": [
      "127/127 [==============================] - 8s 38ms/step - loss: 530.6735 - mape: 66.0645 - val_loss: 1660.4346 - val_mape: 32.3874\n",
      "Epoch 2/50\n",
      "127/127 [==============================] - 1s 8ms/step - loss: 106.9406 - mape: 30.9361 - val_loss: 1388.2268 - val_mape: 25.2487\n",
      "Epoch 3/50\n",
      "127/127 [==============================] - 1s 8ms/step - loss: 82.2766 - mape: 27.6197 - val_loss: 2056.6973 - val_mape: 29.4280\n",
      "Epoch 4/50\n",
      "127/127 [==============================] - 1s 8ms/step - loss: 71.0699 - mape: 25.4652 - val_loss: 1258.7689 - val_mape: 28.1606\n",
      "Epoch 5/50\n",
      "127/127 [==============================] - 1s 8ms/step - loss: 58.2171 - mape: 22.8108 - val_loss: 1549.0065 - val_mape: 26.1483\n",
      "Epoch 6/50\n",
      "126/127 [============================>.] - ETA: 0s - loss: 57.2933 - mape: 21.2525INFO:tensorflow:Assets written to: ./models\\38.17_06men_10_lstm_2_dense_3_unit_16\\assets\n"
     ]
    },
    {
     "name": "stderr",
     "output_type": "stream",
     "text": [
      "INFO:tensorflow:Assets written to: ./models\\38.17_06men_10_lstm_2_dense_3_unit_16\\assets\n"
     ]
    },
    {
     "name": "stdout",
     "output_type": "stream",
     "text": [
      "127/127 [==============================] - 7s 52ms/step - loss: 57.1699 - mape: 21.2445 - val_loss: 3781.7058 - val_mape: 38.1682\n",
      "Epoch 7/50\n",
      "127/127 [==============================] - 1s 10ms/step - loss: 48.6741 - mape: 19.8465 - val_loss: 675.1865 - val_mape: 20.1091\n",
      "Epoch 8/50\n",
      "127/127 [==============================] - 1s 9ms/step - loss: 51.0178 - mape: 20.1778 - val_loss: 906.2303 - val_mape: 23.9019\n",
      "Epoch 9/50\n",
      "127/127 [==============================] - 1s 8ms/step - loss: 44.8191 - mape: 19.4948 - val_loss: 302.8030 - val_mape: 13.9783\n",
      "Epoch 10/50\n",
      "127/127 [==============================] - 1s 8ms/step - loss: 42.1417 - mape: 17.7543 - val_loss: 974.5997 - val_mape: 25.7150\n",
      "Epoch 11/50\n",
      "127/127 [==============================] - 1s 8ms/step - loss: 43.9380 - mape: 18.2861 - val_loss: 1925.5782 - val_mape: 34.7900\n",
      "Epoch 12/50\n",
      "127/127 [==============================] - 1s 8ms/step - loss: 41.4933 - mape: 17.0356 - val_loss: 1017.9332 - val_mape: 25.9274\n",
      "Epoch 13/50\n",
      "127/127 [==============================] - 1s 8ms/step - loss: 40.5174 - mape: 17.2900 - val_loss: 2184.0549 - val_mape: 37.0587\n",
      "Epoch 14/50\n",
      "127/127 [==============================] - 1s 9ms/step - loss: 39.9284 - mape: 17.1404 - val_loss: 1726.0591 - val_mape: 33.6884\n",
      "Epoch 15/50\n",
      "127/127 [==============================] - 1s 9ms/step - loss: 38.1004 - mape: 16.4293 - val_loss: 970.1683 - val_mape: 25.5245\n",
      "Epoch 16/50\n",
      "127/127 [==============================] - 1s 8ms/step - loss: 38.4916 - mape: 16.2242 - val_loss: 2334.9529 - val_mape: 38.1635\n",
      "Epoch 17/50\n",
      "127/127 [==============================] - 1s 9ms/step - loss: 36.6642 - mape: 16.2268 - val_loss: 2008.2937 - val_mape: 35.1430\n",
      "Epoch 18/50\n",
      "127/127 [==============================] - 1s 8ms/step - loss: 38.9829 - mape: 16.2458 - val_loss: 1126.0300 - val_mape: 25.6171\n",
      "Epoch 19/50\n",
      "126/127 [============================>.] - ETA: 0s - loss: 36.6005 - mape: 16.4061INFO:tensorflow:Assets written to: ./models\\38.91_19men_10_lstm_2_dense_3_unit_16\\assets\n"
     ]
    },
    {
     "name": "stderr",
     "output_type": "stream",
     "text": [
      "INFO:tensorflow:Assets written to: ./models\\38.91_19men_10_lstm_2_dense_3_unit_16\\assets\n"
     ]
    },
    {
     "name": "stdout",
     "output_type": "stream",
     "text": [
      "127/127 [==============================] - 4s 34ms/step - loss: 36.6783 - mape: 16.4046 - val_loss: 2486.3501 - val_mape: 38.9093\n",
      "Epoch 20/50\n",
      "124/127 [============================>.] - ETA: 0s - loss: 35.5176 - mape: 15.7863INFO:tensorflow:Assets written to: ./models\\41.55_20men_10_lstm_2_dense_3_unit_16\\assets\n"
     ]
    },
    {
     "name": "stderr",
     "output_type": "stream",
     "text": [
      "INFO:tensorflow:Assets written to: ./models\\41.55_20men_10_lstm_2_dense_3_unit_16\\assets\n"
     ]
    },
    {
     "name": "stdout",
     "output_type": "stream",
     "text": [
      "127/127 [==============================] - 4s 35ms/step - loss: 35.6889 - mape: 15.7948 - val_loss: 2795.7258 - val_mape: 41.5523\n",
      "Epoch 21/50\n",
      "127/127 [==============================] - 1s 9ms/step - loss: 36.7244 - mape: 15.9094 - val_loss: 2286.7280 - val_mape: 36.6609\n",
      "Epoch 22/50\n",
      "127/127 [==============================] - 1s 8ms/step - loss: 35.5723 - mape: 15.6179 - val_loss: 1214.1946 - val_mape: 26.0314\n",
      "Epoch 23/50\n",
      "124/127 [============================>.] - ETA: 0s - loss: 35.1134 - mape: 15.8915INFO:tensorflow:Assets written to: ./models\\43.52_23men_10_lstm_2_dense_3_unit_16\\assets\n"
     ]
    },
    {
     "name": "stderr",
     "output_type": "stream",
     "text": [
      "INFO:tensorflow:Assets written to: ./models\\43.52_23men_10_lstm_2_dense_3_unit_16\\assets\n"
     ]
    },
    {
     "name": "stdout",
     "output_type": "stream",
     "text": [
      "127/127 [==============================] - 5s 37ms/step - loss: 35.4100 - mape: 15.8646 - val_loss: 3140.1921 - val_mape: 43.5181\n",
      "Epoch 24/50\n",
      "127/127 [==============================] - 1s 8ms/step - loss: 34.0971 - mape: 15.1183 - val_loss: 1693.3646 - val_mape: 31.5392\n",
      "Epoch 25/50\n",
      "127/127 [==============================] - 1s 8ms/step - loss: 34.3686 - mape: 15.0354 - val_loss: 1677.9103 - val_mape: 31.8187\n",
      "Epoch 26/50\n",
      "127/127 [==============================] - 1s 8ms/step - loss: 40.2171 - mape: 15.5531 - val_loss: 2585.4797 - val_mape: 39.4947\n",
      "Epoch 27/50\n",
      "127/127 [==============================] - 1s 8ms/step - loss: 32.7254 - mape: 14.6494 - val_loss: 1661.3328 - val_mape: 31.0304\n",
      "Epoch 28/50\n",
      "127/127 [==============================] - 1s 7ms/step - loss: 34.4134 - mape: 15.1164 - val_loss: 2184.5012 - val_mape: 36.7120\n",
      "Epoch 29/50\n",
      "127/127 [==============================] - 1s 7ms/step - loss: 30.7642 - mape: 14.5002 - val_loss: 2801.2759 - val_mape: 41.2551\n",
      "Epoch 30/50\n",
      "127/127 [==============================] - 1s 7ms/step - loss: 32.0994 - mape: 14.7662 - val_loss: 2100.6162 - val_mape: 35.1167\n",
      "Epoch 31/50\n",
      "127/127 [==============================] - 1s 7ms/step - loss: 33.5491 - mape: 14.7347 - val_loss: 1726.9506 - val_mape: 31.6838\n",
      "Epoch 32/50\n",
      "127/127 [==============================] - 1s 8ms/step - loss: 34.9931 - mape: 15.1016 - val_loss: 2402.5398 - val_mape: 37.8177\n",
      "Epoch 33/50\n",
      "127/127 [==============================] - 1s 7ms/step - loss: 32.7738 - mape: 14.5124 - val_loss: 2130.6477 - val_mape: 35.1599\n",
      "Epoch 34/50\n",
      "127/127 [==============================] - 1s 7ms/step - loss: 33.4432 - mape: 14.7310 - val_loss: 2757.3208 - val_mape: 40.4107\n",
      "Epoch 35/50\n",
      "127/127 [==============================] - 1s 7ms/step - loss: 34.2626 - mape: 15.0726 - val_loss: 2351.3137 - val_mape: 37.5052\n",
      "Epoch 36/50\n",
      "127/127 [==============================] - 1s 7ms/step - loss: 30.7003 - mape: 14.6297 - val_loss: 2744.7700 - val_mape: 40.1871\n",
      "Epoch 37/50\n",
      "127/127 [==============================] - 1s 7ms/step - loss: 31.4846 - mape: 14.7943 - val_loss: 2670.8125 - val_mape: 40.1209\n",
      "Epoch 38/50\n",
      "127/127 [==============================] - 1s 7ms/step - loss: 31.2790 - mape: 14.5859 - val_loss: 1921.0518 - val_mape: 33.6179\n",
      "Epoch 39/50\n",
      "127/127 [==============================] - 1s 7ms/step - loss: 31.2870 - mape: 14.1226 - val_loss: 1570.0139 - val_mape: 30.3322\n",
      "Epoch 40/50\n",
      "127/127 [==============================] - 1s 7ms/step - loss: 29.3637 - mape: 13.9308 - val_loss: 2565.9807 - val_mape: 39.1879\n",
      "Epoch 41/50\n",
      "127/127 [==============================] - 1s 7ms/step - loss: 29.2790 - mape: 14.1535 - val_loss: 2285.7681 - val_mape: 37.0537\n",
      "Epoch 42/50\n",
      "127/127 [==============================] - 1s 7ms/step - loss: 28.4552 - mape: 14.2946 - val_loss: 2110.4612 - val_mape: 35.5754\n",
      "Epoch 43/50\n",
      "127/127 [==============================] - 1s 7ms/step - loss: 27.3910 - mape: 13.8614 - val_loss: 2824.7908 - val_mape: 40.8787\n",
      "Epoch 44/50\n",
      "127/127 [==============================] - 1s 7ms/step - loss: 30.8750 - mape: 14.3432 - val_loss: 2579.6731 - val_mape: 39.2058\n",
      "Epoch 45/50\n",
      "123/127 [============================>.] - ETA: 0s - loss: 29.0622 - mape: 14.2301INFO:tensorflow:Assets written to: ./models\\46.54_45men_10_lstm_2_dense_3_unit_16\\assets\n"
     ]
    },
    {
     "name": "stderr",
     "output_type": "stream",
     "text": [
      "INFO:tensorflow:Assets written to: ./models\\46.54_45men_10_lstm_2_dense_3_unit_16\\assets\n"
     ]
    },
    {
     "name": "stdout",
     "output_type": "stream",
     "text": [
      "127/127 [==============================] - 4s 33ms/step - loss: 29.2446 - mape: 14.2512 - val_loss: 3566.4705 - val_mape: 46.5414\n",
      "Epoch 46/50\n",
      "124/127 [============================>.] - ETA: 0s - loss: 32.0942 - mape: 14.7593INFO:tensorflow:Assets written to: ./models\\47.94_46men_10_lstm_2_dense_3_unit_16\\assets\n"
     ]
    },
    {
     "name": "stderr",
     "output_type": "stream",
     "text": [
      "INFO:tensorflow:Assets written to: ./models\\47.94_46men_10_lstm_2_dense_3_unit_16\\assets\n"
     ]
    },
    {
     "name": "stdout",
     "output_type": "stream",
     "text": [
      "127/127 [==============================] - 4s 34ms/step - loss: 31.9201 - mape: 14.7677 - val_loss: 4019.3989 - val_mape: 47.9364\n",
      "Epoch 47/50\n",
      "123/127 [============================>.] - ETA: 0s - loss: 29.7305 - mape: 14.5338INFO:tensorflow:Assets written to: ./models\\48.36_47men_10_lstm_2_dense_3_unit_16\\assets\n"
     ]
    },
    {
     "name": "stderr",
     "output_type": "stream",
     "text": [
      "INFO:tensorflow:Assets written to: ./models\\48.36_47men_10_lstm_2_dense_3_unit_16\\assets\n"
     ]
    },
    {
     "name": "stdout",
     "output_type": "stream",
     "text": [
      "127/127 [==============================] - 6s 49ms/step - loss: 29.6475 - mape: 14.4966 - val_loss: 3913.0176 - val_mape: 48.3594\n",
      "Epoch 48/50\n",
      "127/127 [==============================] - 1s 7ms/step - loss: 28.1073 - mape: 14.1166 - val_loss: 3035.3945 - val_mape: 41.9105\n",
      "Epoch 49/50\n",
      "127/127 [==============================] - 1s 8ms/step - loss: 29.7323 - mape: 13.9542 - val_loss: 2040.6642 - val_mape: 34.9372\n",
      "Epoch 50/50\n",
      "127/127 [==============================] - 1s 8ms/step - loss: 30.3542 - mape: 14.0299 - val_loss: 3227.6470 - val_mape: 43.2534\n",
      "Epoch 1/50\n",
      "127/127 [==============================] - ETA: 0s - loss: 405.1533 - mape: 53.5599INFO:tensorflow:Assets written to: ./models\\23.58_01men_10_lstm_2_dense_3_unit_32\\assets\n"
     ]
    },
    {
     "name": "stderr",
     "output_type": "stream",
     "text": [
      "INFO:tensorflow:Assets written to: ./models\\23.58_01men_10_lstm_2_dense_3_unit_32\\assets\n"
     ]
    },
    {
     "name": "stdout",
     "output_type": "stream",
     "text": [
      "127/127 [==============================] - 8s 36ms/step - loss: 405.1533 - mape: 53.5599 - val_loss: 1421.3529 - val_mape: 23.5758\n",
      "Epoch 2/50\n",
      "127/127 [==============================] - 1s 9ms/step - loss: 64.1264 - mape: 23.8857 - val_loss: 250.2992 - val_mape: 11.5887\n",
      "Epoch 3/50\n",
      "127/127 [==============================] - 1s 9ms/step - loss: 40.6166 - mape: 19.2449 - val_loss: 588.0230 - val_mape: 16.0863\n",
      "Epoch 4/50\n",
      "127/127 [==============================] - 1s 9ms/step - loss: 37.5974 - mape: 17.5970 - val_loss: 387.6009 - val_mape: 12.8984\n",
      "Epoch 5/50\n",
      "127/127 [==============================] - 1s 9ms/step - loss: 33.1372 - mape: 15.6237 - val_loss: 1222.1818 - val_mape: 21.6224\n",
      "Epoch 6/50\n",
      "127/127 [==============================] - 1s 9ms/step - loss: 32.2241 - mape: 15.5839 - val_loss: 170.8769 - val_mape: 10.2295\n",
      "Epoch 7/50\n",
      "127/127 [==============================] - 1s 9ms/step - loss: 28.8623 - mape: 14.4897 - val_loss: 391.0422 - val_mape: 16.1251\n",
      "Epoch 8/50\n",
      "127/127 [==============================] - 1s 9ms/step - loss: 28.4291 - mape: 14.2904 - val_loss: 486.5298 - val_mape: 17.8480\n",
      "Epoch 9/50\n",
      "127/127 [==============================] - 1s 9ms/step - loss: 27.5093 - mape: 13.6112 - val_loss: 664.1343 - val_mape: 20.9261\n",
      "Epoch 10/50\n",
      "127/127 [==============================] - 1s 9ms/step - loss: 24.7633 - mape: 13.5319 - val_loss: 748.7460 - val_mape: 22.0062\n",
      "Epoch 11/50\n",
      "127/127 [==============================] - 1s 9ms/step - loss: 23.9128 - mape: 12.9449 - val_loss: 515.5671 - val_mape: 17.7757\n",
      "Epoch 12/50\n",
      "127/127 [==============================] - 1s 9ms/step - loss: 23.2365 - mape: 12.8286 - val_loss: 898.6908 - val_mape: 23.5686\n",
      "Epoch 13/50\n",
      "127/127 [==============================] - 1s 9ms/step - loss: 23.4509 - mape: 12.3701 - val_loss: 441.8275 - val_mape: 16.9628\n",
      "Epoch 14/50\n",
      "127/127 [==============================] - ETA: 0s - loss: 23.9799 - mape: 12.6992INFO:tensorflow:Assets written to: ./models\\23.77_14men_10_lstm_2_dense_3_unit_32\\assets\n"
     ]
    },
    {
     "name": "stderr",
     "output_type": "stream",
     "text": [
      "INFO:tensorflow:Assets written to: ./models\\23.77_14men_10_lstm_2_dense_3_unit_32\\assets\n"
     ]
    },
    {
     "name": "stdout",
     "output_type": "stream",
     "text": [
      "127/127 [==============================] - 4s 33ms/step - loss: 23.9799 - mape: 12.6992 - val_loss: 892.6887 - val_mape: 23.7741\n",
      "Epoch 15/50\n",
      "127/127 [==============================] - 1s 9ms/step - loss: 25.9417 - mape: 12.7348 - val_loss: 961.1081 - val_mape: 23.7711\n",
      "Epoch 16/50\n",
      "127/127 [==============================] - ETA: 0s - loss: 24.5498 - mape: 12.6423INFO:tensorflow:Assets written to: ./models\\30.88_16men_10_lstm_2_dense_3_unit_32\\assets\n"
     ]
    },
    {
     "name": "stderr",
     "output_type": "stream",
     "text": [
      "INFO:tensorflow:Assets written to: ./models\\30.88_16men_10_lstm_2_dense_3_unit_32\\assets\n"
     ]
    },
    {
     "name": "stdout",
     "output_type": "stream",
     "text": [
      "127/127 [==============================] - 4s 35ms/step - loss: 24.5498 - mape: 12.6423 - val_loss: 1488.4517 - val_mape: 30.8840\n",
      "Epoch 17/50\n",
      "127/127 [==============================] - 1s 9ms/step - loss: 22.9397 - mape: 12.2665 - val_loss: 890.0638 - val_mape: 24.1140\n",
      "Epoch 18/50\n",
      "127/127 [==============================] - 1s 9ms/step - loss: 22.6902 - mape: 12.0061 - val_loss: 1150.1516 - val_mape: 27.7643\n",
      "Epoch 19/50\n",
      "127/127 [==============================] - ETA: 0s - loss: 21.1301 - mape: 11.9509INFO:tensorflow:Assets written to: ./models\\33.51_19men_10_lstm_2_dense_3_unit_32\\assets\n"
     ]
    },
    {
     "name": "stderr",
     "output_type": "stream",
     "text": [
      "INFO:tensorflow:Assets written to: ./models\\33.51_19men_10_lstm_2_dense_3_unit_32\\assets\n"
     ]
    },
    {
     "name": "stdout",
     "output_type": "stream",
     "text": [
      "127/127 [==============================] - 4s 35ms/step - loss: 21.1301 - mape: 11.9509 - val_loss: 1770.0076 - val_mape: 33.5129\n",
      "Epoch 20/50\n",
      "127/127 [==============================] - 1s 9ms/step - loss: 22.3593 - mape: 12.0980 - val_loss: 1506.5922 - val_mape: 30.9351\n",
      "Epoch 21/50\n",
      "127/127 [==============================] - 1s 9ms/step - loss: 22.5128 - mape: 12.3682 - val_loss: 1003.9266 - val_mape: 25.2303\n",
      "Epoch 22/50\n",
      "127/127 [==============================] - 1s 10ms/step - loss: 23.3535 - mape: 12.5865 - val_loss: 1191.3093 - val_mape: 27.8656\n",
      "Epoch 23/50\n",
      "127/127 [==============================] - 1s 10ms/step - loss: 21.5875 - mape: 12.1732 - val_loss: 1423.7589 - val_mape: 29.1382\n",
      "Epoch 24/50\n",
      "121/127 [===========================>..] - ETA: 0s - loss: 20.3122 - mape: 11.7885INFO:tensorflow:Assets written to: ./models\\36.65_24men_10_lstm_2_dense_3_unit_32\\assets\n"
     ]
    },
    {
     "name": "stderr",
     "output_type": "stream",
     "text": [
      "INFO:tensorflow:Assets written to: ./models\\36.65_24men_10_lstm_2_dense_3_unit_32\\assets\n"
     ]
    },
    {
     "name": "stdout",
     "output_type": "stream",
     "text": [
      "127/127 [==============================] - 4s 35ms/step - loss: 20.2594 - mape: 11.8200 - val_loss: 2197.4165 - val_mape: 36.6543\n",
      "Epoch 25/50\n",
      "127/127 [==============================] - 1s 9ms/step - loss: 20.6730 - mape: 11.8478 - val_loss: 1139.4800 - val_mape: 26.3715\n",
      "Epoch 26/50\n",
      "127/127 [==============================] - ETA: 0s - loss: 21.0737 - mape: 11.8376INFO:tensorflow:Assets written to: ./models\\39.61_26men_10_lstm_2_dense_3_unit_32\\assets\n"
     ]
    },
    {
     "name": "stderr",
     "output_type": "stream",
     "text": [
      "INFO:tensorflow:Assets written to: ./models\\39.61_26men_10_lstm_2_dense_3_unit_32\\assets\n"
     ]
    },
    {
     "name": "stdout",
     "output_type": "stream",
     "text": [
      "127/127 [==============================] - 7s 53ms/step - loss: 21.0737 - mape: 11.8376 - val_loss: 2474.1516 - val_mape: 39.6145\n",
      "Epoch 27/50\n",
      "127/127 [==============================] - 1s 10ms/step - loss: 21.7325 - mape: 12.1232 - val_loss: 2153.5288 - val_mape: 36.3193\n",
      "Epoch 28/50\n",
      "127/127 [==============================] - 1s 10ms/step - loss: 20.4255 - mape: 12.2776 - val_loss: 824.7097 - val_mape: 23.0014\n",
      "Epoch 29/50\n",
      "127/127 [==============================] - 1s 10ms/step - loss: 18.6671 - mape: 11.6237 - val_loss: 1117.9733 - val_mape: 26.7829\n",
      "Epoch 30/50\n",
      "127/127 [==============================] - 1s 10ms/step - loss: 20.9278 - mape: 11.8930 - val_loss: 1729.1774 - val_mape: 33.4047\n",
      "Epoch 31/50\n",
      "127/127 [==============================] - 1s 9ms/step - loss: 21.2781 - mape: 12.0352 - val_loss: 811.4410 - val_mape: 22.4207\n",
      "Epoch 32/50\n",
      "127/127 [==============================] - 1s 9ms/step - loss: 19.6193 - mape: 11.8055 - val_loss: 1002.9182 - val_mape: 25.0647\n",
      "Epoch 33/50\n",
      "127/127 [==============================] - 1s 9ms/step - loss: 20.1577 - mape: 11.8873 - val_loss: 1301.5046 - val_mape: 28.8540\n",
      "Epoch 34/50\n",
      "127/127 [==============================] - 1s 9ms/step - loss: 19.0819 - mape: 11.9162 - val_loss: 1044.9609 - val_mape: 25.2520\n",
      "Epoch 35/50\n",
      "127/127 [==============================] - 1s 9ms/step - loss: 21.5583 - mape: 11.8398 - val_loss: 296.9191 - val_mape: 13.4653\n",
      "Epoch 36/50\n",
      "127/127 [==============================] - 1s 9ms/step - loss: 20.5749 - mape: 11.7521 - val_loss: 1559.8390 - val_mape: 31.8786\n",
      "Epoch 37/50\n",
      "127/127 [==============================] - 1s 9ms/step - loss: 20.2040 - mape: 11.8745 - val_loss: 1980.5304 - val_mape: 34.9434\n",
      "Epoch 38/50\n",
      "127/127 [==============================] - 1s 9ms/step - loss: 20.1841 - mape: 11.1277 - val_loss: 829.1264 - val_mape: 23.0224\n",
      "Epoch 39/50\n",
      "127/127 [==============================] - 1s 9ms/step - loss: 17.9307 - mape: 11.0029 - val_loss: 1947.0522 - val_mape: 35.4517\n",
      "Epoch 40/50\n",
      "127/127 [==============================] - 1s 9ms/step - loss: 18.7677 - mape: 11.2164 - val_loss: 2606.7678 - val_mape: 38.4495\n",
      "Epoch 41/50\n",
      "127/127 [==============================] - 1s 9ms/step - loss: 19.3241 - mape: 11.1539 - val_loss: 2677.8428 - val_mape: 38.8771\n",
      "Epoch 42/50\n",
      "127/127 [==============================] - 1s 9ms/step - loss: 18.0172 - mape: 10.8888 - val_loss: 2018.4353 - val_mape: 33.6309\n",
      "Epoch 43/50\n",
      "127/127 [==============================] - 1s 9ms/step - loss: 17.1164 - mape: 10.9462 - val_loss: 1676.3351 - val_mape: 30.4075\n",
      "Epoch 44/50\n",
      "127/127 [==============================] - 1s 9ms/step - loss: 18.5937 - mape: 11.0460 - val_loss: 2051.8203 - val_mape: 33.5007\n",
      "Epoch 45/50\n",
      "127/127 [==============================] - 1s 9ms/step - loss: 19.3423 - mape: 11.5950 - val_loss: 2185.3792 - val_mape: 35.5664\n",
      "Epoch 46/50\n",
      "127/127 [==============================] - 1s 9ms/step - loss: 18.7583 - mape: 11.0510 - val_loss: 1984.0927 - val_mape: 34.6512\n",
      "Epoch 47/50\n",
      "127/127 [==============================] - 1s 9ms/step - loss: 16.8842 - mape: 10.7802 - val_loss: 1611.9535 - val_mape: 31.3513\n",
      "Epoch 48/50\n",
      "127/127 [==============================] - 1s 9ms/step - loss: 19.9503 - mape: 11.2509 - val_loss: 1571.4104 - val_mape: 30.4873\n",
      "Epoch 49/50\n",
      "127/127 [==============================] - 1s 9ms/step - loss: 17.9055 - mape: 10.9594 - val_loss: 1834.0743 - val_mape: 31.4492\n",
      "Epoch 50/50\n",
      "125/127 [============================>.] - ETA: 0s - loss: 18.5552 - mape: 11.1580INFO:tensorflow:Assets written to: ./models\\40.09_50men_10_lstm_2_dense_3_unit_32\\assets\n"
     ]
    },
    {
     "name": "stderr",
     "output_type": "stream",
     "text": [
      "INFO:tensorflow:Assets written to: ./models\\40.09_50men_10_lstm_2_dense_3_unit_32\\assets\n"
     ]
    },
    {
     "name": "stdout",
     "output_type": "stream",
     "text": [
      "127/127 [==============================] - 4s 35ms/step - loss: 18.5627 - mape: 11.1708 - val_loss: 2881.9656 - val_mape: 40.0912\n",
      "Epoch 1/50\n",
      "120/126 [===========================>..] - ETA: 0s - loss: 1051.2782 - mape: 96.8743INFO:tensorflow:Assets written to: ./models\\137.51_01men_10_lstm_3_dense_1_unit_8\\assets\n"
     ]
    },
    {
     "name": "stderr",
     "output_type": "stream",
     "text": [
      "INFO:tensorflow:Assets written to: ./models\\137.51_01men_10_lstm_3_dense_1_unit_8\\assets\n"
     ]
    },
    {
     "name": "stdout",
     "output_type": "stream",
     "text": [
      "126/126 [==============================] - 9s 40ms/step - loss: 1022.9139 - mape: 95.2773 - val_loss: 31619.9980 - val_mape: 137.5064\n",
      "Epoch 2/50\n",
      "126/126 [==============================] - 1s 8ms/step - loss: 254.2409 - mape: 41.2992 - val_loss: 855.3394 - val_mape: 22.8531\n",
      "Epoch 3/50\n",
      "126/126 [==============================] - 1s 9ms/step - loss: 122.7119 - mape: 29.8531 - val_loss: 718.9648 - val_mape: 21.5059\n",
      "Epoch 4/50\n",
      "126/126 [==============================] - 1s 9ms/step - loss: 89.2721 - mape: 26.3058 - val_loss: 671.6151 - val_mape: 20.4017\n",
      "Epoch 5/50\n",
      "126/126 [==============================] - 1s 9ms/step - loss: 69.9536 - mape: 23.8790 - val_loss: 819.1659 - val_mape: 22.3342\n",
      "Epoch 6/50\n",
      "126/126 [==============================] - 1s 8ms/step - loss: 64.3271 - mape: 22.5807 - val_loss: 899.3217 - val_mape: 23.5652\n",
      "Epoch 7/50\n",
      "126/126 [==============================] - 1s 8ms/step - loss: 60.3197 - mape: 21.9891 - val_loss: 1448.8691 - val_mape: 30.3228\n",
      "Epoch 8/50\n",
      "126/126 [==============================] - 1s 8ms/step - loss: 58.6567 - mape: 21.2235 - val_loss: 748.5989 - val_mape: 20.9174\n",
      "Epoch 9/50\n",
      "126/126 [==============================] - 1s 8ms/step - loss: 49.4032 - mape: 20.2405 - val_loss: 860.4442 - val_mape: 23.0267\n",
      "Epoch 10/50\n",
      "126/126 [==============================] - 1s 9ms/step - loss: 49.2339 - mape: 19.7233 - val_loss: 1203.0066 - val_mape: 27.4359\n",
      "Epoch 11/50\n",
      "126/126 [==============================] - 1s 8ms/step - loss: 47.8350 - mape: 19.6156 - val_loss: 815.6985 - val_mape: 22.7793\n",
      "Epoch 12/50\n",
      "126/126 [==============================] - 1s 8ms/step - loss: 45.4726 - mape: 19.3337 - val_loss: 931.8568 - val_mape: 24.4541\n",
      "Epoch 13/50\n",
      "126/126 [==============================] - 1s 8ms/step - loss: 47.2672 - mape: 19.3015 - val_loss: 522.3250 - val_mape: 18.0585\n",
      "Epoch 14/50\n",
      "126/126 [==============================] - 1s 8ms/step - loss: 40.0882 - mape: 18.3683 - val_loss: 316.6326 - val_mape: 14.2251\n",
      "Epoch 15/50\n",
      "126/126 [==============================] - 1s 8ms/step - loss: 44.5164 - mape: 18.1535 - val_loss: 404.0820 - val_mape: 16.0200\n",
      "Epoch 16/50\n",
      "126/126 [==============================] - 1s 8ms/step - loss: 42.4560 - mape: 17.7032 - val_loss: 321.6145 - val_mape: 14.0706\n",
      "Epoch 17/50\n",
      "126/126 [==============================] - 1s 8ms/step - loss: 39.5831 - mape: 17.5607 - val_loss: 1025.5281 - val_mape: 25.8003\n",
      "Epoch 18/50\n",
      "126/126 [==============================] - 1s 8ms/step - loss: 38.4753 - mape: 17.5122 - val_loss: 1054.9291 - val_mape: 26.0497\n",
      "Epoch 19/50\n",
      "126/126 [==============================] - 1s 8ms/step - loss: 43.3182 - mape: 17.8924 - val_loss: 860.7731 - val_mape: 23.5030\n",
      "Epoch 20/50\n",
      "126/126 [==============================] - 1s 8ms/step - loss: 41.2751 - mape: 17.4151 - val_loss: 774.0847 - val_mape: 22.4259\n",
      "Epoch 21/50\n",
      "126/126 [==============================] - 1s 8ms/step - loss: 43.3968 - mape: 17.0503 - val_loss: 938.7621 - val_mape: 24.8116\n",
      "Epoch 22/50\n",
      "126/126 [==============================] - 1s 8ms/step - loss: 41.6658 - mape: 17.3385 - val_loss: 1078.9312 - val_mape: 26.2991\n",
      "Epoch 23/50\n",
      "126/126 [==============================] - 1s 8ms/step - loss: 41.1152 - mape: 17.1681 - val_loss: 934.5953 - val_mape: 24.4958\n",
      "Epoch 24/50\n",
      "126/126 [==============================] - 1s 8ms/step - loss: 41.0630 - mape: 16.9292 - val_loss: 744.1937 - val_mape: 21.6294\n",
      "Epoch 25/50\n",
      "126/126 [==============================] - 1s 8ms/step - loss: 40.1907 - mape: 16.7396 - val_loss: 717.6405 - val_mape: 21.5817\n",
      "Epoch 26/50\n",
      "126/126 [==============================] - 1s 8ms/step - loss: 37.8675 - mape: 16.5770 - val_loss: 744.2056 - val_mape: 21.7357\n",
      "Epoch 27/50\n",
      "126/126 [==============================] - 1s 8ms/step - loss: 39.4405 - mape: 17.2622 - val_loss: 778.8937 - val_mape: 22.5544\n",
      "Epoch 28/50\n",
      "126/126 [==============================] - 1s 8ms/step - loss: 39.3657 - mape: 16.8474 - val_loss: 913.7537 - val_mape: 24.4446\n",
      "Epoch 29/50\n",
      "126/126 [==============================] - 1s 8ms/step - loss: 43.2809 - mape: 16.0524 - val_loss: 692.0954 - val_mape: 21.3131\n",
      "Epoch 30/50\n",
      "126/126 [==============================] - 1s 8ms/step - loss: 42.8443 - mape: 16.4439 - val_loss: 513.5277 - val_mape: 18.1720\n",
      "Epoch 31/50\n",
      "126/126 [==============================] - 1s 8ms/step - loss: 37.7916 - mape: 16.1597 - val_loss: 814.2040 - val_mape: 23.1343\n",
      "Epoch 32/50\n",
      "126/126 [==============================] - 1s 8ms/step - loss: 39.7138 - mape: 16.1049 - val_loss: 447.6235 - val_mape: 17.1177\n",
      "Epoch 33/50\n",
      "126/126 [==============================] - 1s 8ms/step - loss: 36.0456 - mape: 16.2285 - val_loss: 661.7328 - val_mape: 20.8566\n",
      "Epoch 34/50\n",
      "126/126 [==============================] - 1s 8ms/step - loss: 34.4992 - mape: 15.6057 - val_loss: 611.8538 - val_mape: 19.6841\n",
      "Epoch 35/50\n",
      "126/126 [==============================] - 1s 8ms/step - loss: 38.0871 - mape: 15.8920 - val_loss: 575.6671 - val_mape: 19.2894\n",
      "Epoch 36/50\n",
      "126/126 [==============================] - 1s 8ms/step - loss: 34.1039 - mape: 15.2563 - val_loss: 430.0929 - val_mape: 16.4121\n",
      "Epoch 37/50\n",
      "126/126 [==============================] - 1s 8ms/step - loss: 33.2811 - mape: 15.0588 - val_loss: 287.8187 - val_mape: 13.2868\n",
      "Epoch 38/50\n",
      "126/126 [==============================] - 1s 8ms/step - loss: 36.8011 - mape: 14.8151 - val_loss: 325.8121 - val_mape: 14.3083\n",
      "Epoch 39/50\n",
      "126/126 [==============================] - 1s 8ms/step - loss: 33.5866 - mape: 14.9243 - val_loss: 706.5423 - val_mape: 21.3963\n",
      "Epoch 40/50\n",
      "126/126 [==============================] - 1s 8ms/step - loss: 37.2074 - mape: 15.0181 - val_loss: 429.2378 - val_mape: 16.3589\n",
      "Epoch 41/50\n",
      "126/126 [==============================] - 1s 8ms/step - loss: 33.2741 - mape: 15.6174 - val_loss: 429.9509 - val_mape: 16.1801\n",
      "Epoch 42/50\n",
      "126/126 [==============================] - 1s 8ms/step - loss: 32.7220 - mape: 14.4594 - val_loss: 678.0582 - val_mape: 20.8900\n",
      "Epoch 43/50\n",
      "126/126 [==============================] - 1s 8ms/step - loss: 32.8623 - mape: 14.5251 - val_loss: 611.3720 - val_mape: 19.7796\n",
      "Epoch 44/50\n",
      "126/126 [==============================] - 1s 8ms/step - loss: 32.2278 - mape: 14.8377 - val_loss: 864.7307 - val_mape: 23.5674\n",
      "Epoch 45/50\n",
      "126/126 [==============================] - 1s 8ms/step - loss: 32.7020 - mape: 14.4621 - val_loss: 898.7310 - val_mape: 24.0360\n",
      "Epoch 46/50\n",
      "126/126 [==============================] - 1s 8ms/step - loss: 31.9390 - mape: 14.0410 - val_loss: 905.6393 - val_mape: 24.0196\n",
      "Epoch 47/50\n",
      "126/126 [==============================] - 1s 8ms/step - loss: 34.5911 - mape: 14.3704 - val_loss: 506.9204 - val_mape: 17.6044\n",
      "Epoch 48/50\n",
      "126/126 [==============================] - 1s 8ms/step - loss: 31.4524 - mape: 14.3658 - val_loss: 434.5310 - val_mape: 16.4179\n",
      "Epoch 49/50\n",
      "126/126 [==============================] - 1s 8ms/step - loss: 30.9607 - mape: 13.8515 - val_loss: 858.4213 - val_mape: 23.0094\n",
      "Epoch 50/50\n",
      "126/126 [==============================] - 1s 8ms/step - loss: 31.1030 - mape: 14.2552 - val_loss: 899.8242 - val_mape: 23.6126\n",
      "Epoch 1/50\n",
      "123/126 [============================>.] - ETA: 0s - loss: 587.4618 - mape: 72.9205INFO:tensorflow:Assets written to: ./models\\63.60_01men_10_lstm_3_dense_1_unit_16\\assets\n"
     ]
    },
    {
     "name": "stderr",
     "output_type": "stream",
     "text": [
      "INFO:tensorflow:Assets written to: ./models\\63.60_01men_10_lstm_3_dense_1_unit_16\\assets\n"
     ]
    },
    {
     "name": "stdout",
     "output_type": "stream",
     "text": [
      "126/126 [==============================] - 9s 42ms/step - loss: 578.0784 - mape: 72.0408 - val_loss: 9777.2930 - val_mape: 63.5985\n",
      "Epoch 2/50\n",
      "126/126 [==============================] - 1s 9ms/step - loss: 90.0899 - mape: 29.1846 - val_loss: 4527.7041 - val_mape: 40.3992\n",
      "Epoch 3/50\n",
      "126/126 [==============================] - 1s 10ms/step - loss: 68.5324 - mape: 25.1937 - val_loss: 2191.5923 - val_mape: 28.0889\n",
      "Epoch 4/50\n",
      "126/126 [==============================] - 1s 10ms/step - loss: 59.4439 - mape: 23.1361 - val_loss: 997.8672 - val_mape: 19.5924\n",
      "Epoch 5/50\n",
      "126/126 [==============================] - 1s 10ms/step - loss: 54.6984 - mape: 22.4262 - val_loss: 496.3733 - val_mape: 15.2166\n",
      "Epoch 6/50\n",
      "126/126 [==============================] - 1s 9ms/step - loss: 51.4015 - mape: 20.7686 - val_loss: 587.5150 - val_mape: 13.8654\n",
      "Epoch 7/50\n",
      "126/126 [==============================] - 1s 9ms/step - loss: 48.3467 - mape: 19.7738 - val_loss: 411.0989 - val_mape: 13.3160\n",
      "Epoch 8/50\n",
      "126/126 [==============================] - 1s 9ms/step - loss: 44.3777 - mape: 19.0770 - val_loss: 315.7185 - val_mape: 12.8100\n",
      "Epoch 9/50\n",
      "126/126 [==============================] - 1s 9ms/step - loss: 38.4638 - mape: 18.1989 - val_loss: 303.6634 - val_mape: 12.8782\n",
      "Epoch 10/50\n",
      "126/126 [==============================] - 1s 9ms/step - loss: 40.7752 - mape: 18.0265 - val_loss: 454.6113 - val_mape: 14.5485\n",
      "Epoch 11/50\n",
      "126/126 [==============================] - 1s 9ms/step - loss: 38.3039 - mape: 17.1359 - val_loss: 829.0662 - val_mape: 20.9579\n",
      "Epoch 12/50\n",
      "126/126 [==============================] - 1s 9ms/step - loss: 37.4627 - mape: 16.7232 - val_loss: 461.0631 - val_mape: 16.1665\n",
      "Epoch 13/50\n",
      "126/126 [==============================] - 1s 9ms/step - loss: 34.9213 - mape: 16.1441 - val_loss: 643.1135 - val_mape: 18.2117\n",
      "Epoch 14/50\n",
      "126/126 [==============================] - 1s 9ms/step - loss: 35.0271 - mape: 15.9012 - val_loss: 543.4220 - val_mape: 14.8953\n",
      "Epoch 15/50\n",
      "126/126 [==============================] - 1s 9ms/step - loss: 35.8228 - mape: 15.9406 - val_loss: 430.1748 - val_mape: 16.2679\n",
      "Epoch 16/50\n",
      "126/126 [==============================] - 1s 9ms/step - loss: 35.4951 - mape: 15.6136 - val_loss: 522.4133 - val_mape: 18.0443\n",
      "Epoch 17/50\n",
      "126/126 [==============================] - 1s 9ms/step - loss: 31.5889 - mape: 14.5414 - val_loss: 283.7719 - val_mape: 12.9757\n",
      "Epoch 18/50\n",
      "126/126 [==============================] - 1s 9ms/step - loss: 29.1896 - mape: 14.2492 - val_loss: 245.4082 - val_mape: 11.3605\n",
      "Epoch 19/50\n",
      "126/126 [==============================] - 1s 9ms/step - loss: 28.6132 - mape: 13.9334 - val_loss: 435.1637 - val_mape: 16.7723\n",
      "Epoch 20/50\n",
      "126/126 [==============================] - 1s 9ms/step - loss: 29.7750 - mape: 14.2869 - val_loss: 324.0680 - val_mape: 14.4555\n",
      "Epoch 21/50\n",
      "126/126 [==============================] - 1s 10ms/step - loss: 29.4250 - mape: 14.2379 - val_loss: 241.1691 - val_mape: 11.9664\n",
      "Epoch 22/50\n",
      "126/126 [==============================] - 1s 9ms/step - loss: 26.2354 - mape: 13.9898 - val_loss: 155.5716 - val_mape: 9.6076\n",
      "Epoch 23/50\n",
      "126/126 [==============================] - 1s 11ms/step - loss: 25.3164 - mape: 13.3661 - val_loss: 227.4193 - val_mape: 12.1240\n",
      "Epoch 24/50\n",
      "126/126 [==============================] - 1s 10ms/step - loss: 29.4787 - mape: 13.8611 - val_loss: 156.4436 - val_mape: 9.4613\n",
      "Epoch 25/50\n",
      "126/126 [==============================] - 1s 10ms/step - loss: 28.2964 - mape: 13.6128 - val_loss: 561.5273 - val_mape: 18.9539\n",
      "Epoch 26/50\n",
      "126/126 [==============================] - 1s 10ms/step - loss: 25.1855 - mape: 13.2118 - val_loss: 529.9930 - val_mape: 18.5191\n",
      "Epoch 27/50\n",
      "126/126 [==============================] - 1s 10ms/step - loss: 27.1361 - mape: 14.0434 - val_loss: 639.5660 - val_mape: 19.6535\n",
      "Epoch 28/50\n",
      "126/126 [==============================] - 1s 10ms/step - loss: 24.5475 - mape: 13.2924 - val_loss: 725.7100 - val_mape: 21.6226\n",
      "Epoch 29/50\n",
      "126/126 [==============================] - 1s 10ms/step - loss: 23.9810 - mape: 13.1740 - val_loss: 489.5959 - val_mape: 18.0653\n",
      "Epoch 30/50\n",
      "126/126 [==============================] - 1s 11ms/step - loss: 26.0623 - mape: 13.2497 - val_loss: 492.2885 - val_mape: 17.6385\n",
      "Epoch 31/50\n",
      "126/126 [==============================] - 1s 10ms/step - loss: 26.3274 - mape: 13.2438 - val_loss: 323.4509 - val_mape: 14.0799\n",
      "Epoch 32/50\n",
      "126/126 [==============================] - 1s 10ms/step - loss: 23.2709 - mape: 12.6545 - val_loss: 335.1796 - val_mape: 14.5426\n",
      "Epoch 33/50\n",
      "126/126 [==============================] - 1s 10ms/step - loss: 24.3197 - mape: 12.8468 - val_loss: 194.6064 - val_mape: 10.8724\n",
      "Epoch 34/50\n",
      "126/126 [==============================] - 1s 9ms/step - loss: 22.9984 - mape: 12.6385 - val_loss: 405.7716 - val_mape: 16.2301\n",
      "Epoch 35/50\n",
      "126/126 [==============================] - 1s 9ms/step - loss: 23.3206 - mape: 12.6086 - val_loss: 489.2755 - val_mape: 18.0555\n",
      "Epoch 36/50\n",
      "126/126 [==============================] - 1s 10ms/step - loss: 22.1891 - mape: 12.3695 - val_loss: 1612.2260 - val_mape: 21.9263\n",
      "Epoch 37/50\n",
      "126/126 [==============================] - 1s 9ms/step - loss: 23.4013 - mape: 12.6270 - val_loss: 202.8014 - val_mape: 10.4408\n",
      "Epoch 38/50\n",
      "126/126 [==============================] - 1s 9ms/step - loss: 24.4346 - mape: 12.9365 - val_loss: 836.3465 - val_mape: 22.0905\n",
      "Epoch 39/50\n",
      "126/126 [==============================] - 1s 9ms/step - loss: 22.8195 - mape: 12.7398 - val_loss: 640.4672 - val_mape: 19.8655\n",
      "Epoch 40/50\n",
      "126/126 [==============================] - 1s 9ms/step - loss: 24.2213 - mape: 12.7426 - val_loss: 178.6942 - val_mape: 10.1184\n",
      "Epoch 41/50\n",
      "126/126 [==============================] - 1s 9ms/step - loss: 20.4566 - mape: 12.2775 - val_loss: 595.0019 - val_mape: 19.2965\n",
      "Epoch 42/50\n",
      "126/126 [==============================] - 1s 9ms/step - loss: 21.4117 - mape: 12.3004 - val_loss: 824.0539 - val_mape: 22.3177\n",
      "Epoch 43/50\n",
      "126/126 [==============================] - 1s 9ms/step - loss: 24.8601 - mape: 12.4236 - val_loss: 500.4855 - val_mape: 17.7030\n",
      "Epoch 44/50\n",
      "126/126 [==============================] - 1s 10ms/step - loss: 24.2358 - mape: 12.6486 - val_loss: 594.3366 - val_mape: 19.7553\n",
      "Epoch 45/50\n",
      "126/126 [==============================] - 1s 9ms/step - loss: 22.7267 - mape: 11.9629 - val_loss: 414.4534 - val_mape: 16.0145\n",
      "Epoch 46/50\n",
      "126/126 [==============================] - 1s 9ms/step - loss: 22.6441 - mape: 12.5057 - val_loss: 506.7807 - val_mape: 18.5883\n",
      "Epoch 47/50\n",
      "126/126 [==============================] - 1s 9ms/step - loss: 24.5802 - mape: 12.4342 - val_loss: 661.2141 - val_mape: 20.3392\n",
      "Epoch 48/50\n",
      "126/126 [==============================] - 1s 9ms/step - loss: 22.0851 - mape: 11.6784 - val_loss: 456.3067 - val_mape: 16.7728\n",
      "Epoch 49/50\n",
      "126/126 [==============================] - 1s 10ms/step - loss: 21.6312 - mape: 12.1778 - val_loss: 473.9494 - val_mape: 17.7777\n",
      "Epoch 50/50\n",
      "126/126 [==============================] - 1s 9ms/step - loss: 20.5881 - mape: 11.8802 - val_loss: 205.2915 - val_mape: 11.2908\n",
      "Epoch 1/50\n"
     ]
    },
    {
     "name": "stderr",
     "output_type": "stream",
     "text": [
      "\n",
      "KeyboardInterrupt\n",
      "\n"
     ]
    }
   ],
   "source": [
    "mem_days = [5,10,15]\n",
    "lstm_layers = [1,2,3]\n",
    "dense_layers = [1,2,3]\n",
    "units = [8,16,32]\n",
    "\n",
    "# mem_days = [10]\n",
    "# lstm_layers = [2]\n",
    "# dense_layers = [2]\n",
    "# units = [16]\n",
    "\n",
    "from tensorflow.keras.callbacks import ModelCheckpoint\n",
    "\n",
    "for the_mem_days in mem_days:\n",
    "    for the_lstm_layers in lstm_layers:\n",
    "        for the_dense_layers in dense_layers:\n",
    "            for the_units in units:\n",
    "                filepath = './models/{val_mape:.2f}_{epoch:02d}'+f'men_{the_mem_days}_lstm_{the_lstm_layers}_dense_{the_dense_layers}_unit_{the_units}'\n",
    "                checkpoint = ModelCheckpoint(\n",
    "                    filepath=filepath,\n",
    "                    save_weights_only=False,\n",
    "                    monitor='val_mape',\n",
    "                    mode='max',\n",
    "                    save_best_only=True\n",
    "                )\n",
    "                \n",
    "                X,y,X_lately = Stock_Price_LSTM_Data_Precessing(df,the_mem_days,pre_days)\n",
    "                from sklearn.model_selection import train_test_split\n",
    "                X_train, X_test, y_train, y_test = train_test_split(X,y,shuffle=False,test_size=0.1)\n",
    "                \n",
    "                import tensorflow as tf\n",
    "                from tensorflow.keras.models import Sequential\n",
    "                from tensorflow.keras.layers import LSTM, Dense, Dropout\n",
    "\n",
    "                model = Sequential()\n",
    "                model.add(LSTM(the_units,input_shape=X.shape[1:],activation='relu',return_sequences=True))\n",
    "                model.add(Dropout(0.1))\n",
    "                \n",
    "                for i in range(the_lstm_layers):\n",
    "                    model.add(LSTM(the_units,activation='relu',return_sequences=True))\n",
    "                    model.add(Dropout(0.1))\n",
    "\n",
    "                model.add(LSTM(the_units,activation='relu'))\n",
    "                model.add(Dropout(0.1))\n",
    "\n",
    "                for i in range(the_dense_layers):\n",
    "                    model.add(Dense(the_units,activation='relu'))\n",
    "                    model.add(Dropout(0.1))\n",
    "\n",
    "                model.add(Dense(1))\n",
    "\n",
    "                model.compile(optimizer='adam',\n",
    "                             loss='mse',\n",
    "                             metrics=['mape'])\n",
    "\n",
    "                model.fit(X_train,y_train,batch_size=32,epochs=50,validation_data=(X_test,y_test),callbacks=[checkpoint])"
   ]
  },
  {
   "cell_type": "code",
   "execution_count": 5,
   "id": "dcab6567",
   "metadata": {},
   "outputs": [],
   "source": [
    "from tensorflow.keras.models import load_model\n",
    "best_model = load_model('./models/5.48_01men_5_lstm_1_dense_2_unit_32')"
   ]
  },
  {
   "cell_type": "code",
   "execution_count": 6,
   "id": "dee156ef",
   "metadata": {},
   "outputs": [
    {
     "name": "stdout",
     "output_type": "stream",
     "text": [
      "Model: \"sequential_5\"\n",
      "_________________________________________________________________\n",
      " Layer (type)                Output Shape              Param #   \n",
      "=================================================================\n",
      " lstm_15 (LSTM)              (None, 10, 32)            4864      \n",
      "                                                                 \n",
      " dropout_22 (Dropout)        (None, 10, 32)            0         \n",
      "                                                                 \n",
      " lstm_16 (LSTM)              (None, 10, 32)            8320      \n",
      "                                                                 \n",
      " dropout_23 (Dropout)        (None, 10, 32)            0         \n",
      "                                                                 \n",
      " lstm_17 (LSTM)              (None, 32)                8320      \n",
      "                                                                 \n",
      " dropout_24 (Dropout)        (None, 32)                0         \n",
      "                                                                 \n",
      " dense_12 (Dense)            (None, 32)                1056      \n",
      "                                                                 \n",
      " dropout_25 (Dropout)        (None, 32)                0         \n",
      "                                                                 \n",
      " dense_13 (Dense)            (None, 32)                1056      \n",
      "                                                                 \n",
      " dropout_26 (Dropout)        (None, 32)                0         \n",
      "                                                                 \n",
      " dense_14 (Dense)            (None, 1)                 33        \n",
      "                                                                 \n",
      "=================================================================\n",
      "Total params: 23649 (92.38 KB)\n",
      "Trainable params: 23649 (92.38 KB)\n",
      "Non-trainable params: 0 (0.00 Byte)\n",
      "_________________________________________________________________\n"
     ]
    }
   ],
   "source": [
    "best_model.summary()"
   ]
  },
  {
   "cell_type": "code",
   "execution_count": 7,
   "id": "4d73c5ee",
   "metadata": {},
   "outputs": [
    {
     "name": "stdout",
     "output_type": "stream",
     "text": [
      "14/14 [==============================] - 0s 2ms/step - loss: 153.3844 - mape: 9.2580\n",
      "14/14 [==============================] - 0s 2ms/step\n"
     ]
    }
   ],
   "source": [
    "best_model.evaluate(X_test,y_test)\n",
    "pre = best_model.predict(X_test)"
   ]
  },
  {
   "cell_type": "code",
   "execution_count": 8,
   "id": "a10ea2a9",
   "metadata": {},
   "outputs": [
    {
     "name": "stdout",
     "output_type": "stream",
     "text": [
      "14/14 [==============================] - 2s 3ms/step - loss: 14197.0684 - mape: 99.9993\n"
     ]
    },
    {
     "data": {
      "text/plain": [
       "[14197.068359375, 99.99930572509766]"
      ]
     },
     "execution_count": 8,
     "metadata": {},
     "output_type": "execute_result"
    }
   ],
   "source": [
    "model.evaluate(X_test,y_test)"
   ]
  },
  {
   "cell_type": "code",
   "execution_count": 9,
   "id": "1ead85df",
   "metadata": {},
   "outputs": [],
   "source": [
    "import matplotlib.pyplot as plt"
   ]
  },
  {
   "cell_type": "code",
   "execution_count": 10,
   "id": "b9798796",
   "metadata": {},
   "outputs": [
    {
     "data": {
      "image/png": "[encoded data removed]",
      "text/plain": [
       "<Figure size 432x288 with 1 Axes>"
      ]
     },
     "metadata": {
      "needs_background": "light"
     },
     "output_type": "display_data"
    }
   ],
   "source": [
    "df_time = df.index[-len(y_test):]\n",
    "\n",
    "plt.plot(df_time,y_test,color='red',label='price')\n",
    "plt.plot(df_time,pre,color='blue',label='predict')\n",
    "plt.show()"
   ]
  },
  {
   "cell_type": "code",
   "execution_count": null,
   "id": "61a5ed09",
   "metadata": {},
   "outputs": [],
   "source": []
  }
 ],
 "metadata": {
  "kernelspec": {
   "display_name": "Python 3 (ipykernel)",
   "language": "python",
   "name": "python3"
  },
  "language_info": {
   "codemirror_mode": {
    "name": "ipython",
    "version": 3
   },
   "file_extension": ".py",
   "mimetype": "text/x-python",
   "name": "python",
   "nbconvert_exporter": "python",
   "pygments_lexer": "ipython3",
   "version": "3.9.12"
  }
 },
 "nbformat": 4,
 "nbformat_minor": 5
}
